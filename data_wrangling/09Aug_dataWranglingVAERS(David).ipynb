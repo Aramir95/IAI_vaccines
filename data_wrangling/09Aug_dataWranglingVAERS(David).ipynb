{
  "nbformat": 4,
  "nbformat_minor": 0,
  "metadata": {
    "colab": {
      "name": "09Aug-dataWranglingVAERS(David).ipynb",
      "provenance": [],
      "collapsed_sections": [
        "j7Bl0bgahnL_",
        "dS2qMbvcg8XH",
        "j_WxrLR_kXaj"
      ],
      "include_colab_link": true
    },
    "kernelspec": {
      "name": "python3",
      "display_name": "Python 3"
    },
    "language_info": {
      "name": "python"
    }
  },
  "cells": [
    {
      "cell_type": "markdown",
      "metadata": {
        "id": "view-in-github",
        "colab_type": "text"
      },
      "source": [
        "<a href=\"https://colab.research.google.com/github/yodavo/IAI_vaccines/blob/main/data_wrangling/09Aug_dataWranglingVAERS(David).ipynb\" target=\"_parent\"><img src=\"https://colab.research.google.com/assets/colab-badge.svg\" alt=\"Open In Colab\"/></a>"
      ]
    },
    {
      "cell_type": "code",
      "metadata": {
        "colab": {
          "base_uri": "https://localhost:8080/"
        },
        "id": "U6nGVtNAHfvK",
        "outputId": "d24bba3a-48c5-4457-a0fb-6950c074e871"
      },
      "source": [
        "# Instalar paquetes no disponibles\n",
        "!pip install squarify\n",
        "\n",
        "# Para importar la data\n",
        "import os\n",
        "\n",
        "# Importar para manipulacion de datos\n",
        "import numpy as np\n",
        "import pandas as pd\n",
        "from statistics import *\n",
        "\n",
        "# Importar para Visualizacion \n",
        "import matplotlib.pyplot as plt\n",
        "import missingno as msno\n",
        "import seaborn as sns\n",
        "plt.style.use('seaborn-whitegrid')\n",
        "import warnings # para evitar warnings\n",
        "warnings.filterwarnings('ignore')\n",
        "import textwrap\n",
        "from textwrap import wrap\n",
        "import squarify\n",
        "import matplotlib.dates as mdates\n",
        "from matplotlib.dates import DateFormatter\n",
        "\n",
        "# Importar Dependencias\n",
        "%matplotlib inline\n",
        "%load_ext google.colab.data_table"
      ],
      "execution_count": null,
      "outputs": [
        {
          "output_type": "stream",
          "text": [
            "Collecting squarify\n",
            "  Downloading squarify-0.4.3-py3-none-any.whl (4.3 kB)\n",
            "Installing collected packages: squarify\n",
            "Successfully installed squarify-0.4.3\n"
          ],
          "name": "stdout"
        }
      ]
    },
    {
      "cell_type": "markdown",
      "metadata": {
        "id": "j7Bl0bgahnL_"
      },
      "source": [
        "# Carga de datos y merge de datasets"
      ]
    },
    {
      "cell_type": "code",
      "metadata": {
        "colab": {
          "base_uri": "https://localhost:8080/"
        },
        "id": "vSb_YWYDv1Mq",
        "outputId": "5eb6e7a2-c8db-4628-a10b-197aedd479d3"
      },
      "source": [
        "from google.colab import drive\n",
        "drive.mount('/content/drive')"
      ],
      "execution_count": null,
      "outputs": [
        {
          "output_type": "stream",
          "text": [
            "Mounted at /content/drive\n"
          ],
          "name": "stdout"
        }
      ]
    },
    {
      "cell_type": "code",
      "metadata": {
        "colab": {
          "base_uri": "https://localhost:8080/"
        },
        "id": "9HA2VhLAIC9w",
        "outputId": "c852aa09-c2dc-4f2a-a220-7b92fbe179bb"
      },
      "source": [
        "# Carga de datos\n",
        "%cd '/content/drive/MyDrive/Colab Notebooks/Diplomado-UTEC/Modulo5/dataset'\n",
        "\n",
        "data = pd.read_csv('2021VAERSData.csv', index_col=0, encoding='latin-1')\n",
        "symptom = pd.read_csv('2021VAERSSYMPTOMS.csv', index_col=0, encoding='latin-1')\n",
        "vax = pd.read_csv('2021VAERSVAX.csv', index_col=0, encoding='latin-1')\n",
        "\n",
        "print(data.shape)\n",
        "print(symptom.shape)\n",
        "print(vax.shape)"
      ],
      "execution_count": null,
      "outputs": [
        {
          "output_type": "stream",
          "text": [
            "/content/drive/MyDrive/Colab Notebooks/Diplomado-UTEC/Modulo5/dataset\n",
            "(428486, 34)\n",
            "(575022, 10)\n",
            "(445358, 7)\n"
          ],
          "name": "stdout"
        }
      ]
    },
    {
      "cell_type": "code",
      "metadata": {
        "colab": {
          "base_uri": "https://localhost:8080/"
        },
        "id": "CrNsSfNQMOsV",
        "outputId": "aea5b6c0-a450-47d5-e293-dbc9052d688a"
      },
      "source": [
        "# combinando datasets en un solo dataframe\n",
        "df = pd.merge(data, symptom, on='VAERS_ID')\n",
        "df = pd.merge(df, vax, on='VAERS_ID')\n",
        "df.shape"
      ],
      "execution_count": null,
      "outputs": [
        {
          "output_type": "execute_result",
          "data": {
            "text/plain": [
              "(600588, 51)"
            ]
          },
          "metadata": {
            "tags": []
          },
          "execution_count": 6
        }
      ]
    },
    {
      "cell_type": "code",
      "metadata": {
        "id": "feZvzvDyM0GB",
        "colab": {
          "base_uri": "https://localhost:8080/"
        },
        "outputId": "50e25dfb-093e-4853-980b-cf2ab90bd081"
      },
      "source": [
        "# haciendo una copia por si hay errores\n",
        "dataset = df.copy()\n",
        "dataset.VAX_TYPE.unique() # revisando el tipo de vacunas disponibles en el dataset"
      ],
      "execution_count": null,
      "outputs": [
        {
          "output_type": "execute_result",
          "data": {
            "text/plain": [
              "array(['COVID19', 'FLUC4', 'UNK', 'FLU4', 'FLUA3', 'VARZOS', 'DTAPHEPBIP',\n",
              "       'HIBV', 'RV1', 'HPV9', 'DTAP', 'MMRV', 'TDAP', 'FLUR4', 'PNC13',\n",
              "       'FLUX', 'HEP', 'PPV', 'FLUA4', 'FLUC3', 'HEPA', 'HPV4', 'MMR',\n",
              "       'FLUN4', 'MENB', 'DTAPIPV', 'CHOL', 'DT', 'TTOX', 'FLU3', 'VARCEL',\n",
              "       'MNQ', 'RV5', 'ANTH', 'IPV', 'TYP', 'EBZR', 'TD', 'HPVX',\n",
              "       'FLUX(H1N1)', 'RVX', 'DTAPIPVHIB', 'HEPAB', 'MENHIB', 'DTP',\n",
              "       'ADEN_4_7', 'FLU(H1N1)', 'RAB', 'YF', 'DF', 'PNC', 'JEV1', 'MEN',\n",
              "       'MNQHIB', 'OPV', 'SMALL', 'FLUN3'], dtype=object)"
            ]
          },
          "metadata": {
            "tags": []
          },
          "execution_count": 7
        }
      ]
    },
    {
      "cell_type": "code",
      "metadata": {
        "id": "ycjpexz0VCJv",
        "colab": {
          "base_uri": "https://localhost:8080/"
        },
        "outputId": "f89da10a-7673-49a2-f561-303b73540aa1"
      },
      "source": [
        "# separando el dataset de vacunas de covid19\n",
        "dataset_covid = dataset[(dataset['VAX_TYPE'] == 'COVID19')]\n",
        "print(f\"Tamaño dataset original: {dataset.shape[0]} observaciones y {dataset.shape[1]} variables)\")\n",
        "print(f\"Tamaño dataset COVID19: {dataset_covid.shape[0]} observaciones y {dataset_covid.shape[1]} variables\")"
      ],
      "execution_count": null,
      "outputs": [
        {
          "output_type": "stream",
          "text": [
            "Tamaño dataset original: 600588 observaciones y 51 variables)\n",
            "Tamaño dataset COVID19: 591241 observaciones y 51 variables\n"
          ],
          "name": "stdout"
        }
      ]
    },
    {
      "cell_type": "markdown",
      "metadata": {
        "id": "dS2qMbvcg8XH"
      },
      "source": [
        "# Tratamiento de Variables"
      ]
    },
    {
      "cell_type": "code",
      "metadata": {
        "colab": {
          "base_uri": "https://localhost:8080/"
        },
        "id": "RjB3g_mQcEPW",
        "outputId": "23607fc6-9d0f-49fd-b468-525a97409a6d"
      },
      "source": [
        "## Variables no necesarias en base a la guia\n",
        "rejected_col = ['RPT_DATE', 'SPLTTYPE', 'TODAYS_DATE', 'VAX_LOT', 'VAX_NAME']\n",
        "print(f\"Antes: {dataset_covid.shape[0]} observaciones y {dataset_covid.shape[1]} variables\")\n",
        "dataset_covid.drop(rejected_col, axis=1, inplace=True)\n",
        "print(f\"Despues: {dataset_covid.shape[0]} observaciones y {dataset_covid.shape[1]} variables\")"
      ],
      "execution_count": null,
      "outputs": [
        {
          "output_type": "stream",
          "text": [
            "Antes: 591241 observaciones y 51 variables\n",
            "Despues: 591241 observaciones y 46 variables\n"
          ],
          "name": "stdout"
        }
      ]
    },
    {
      "cell_type": "code",
      "metadata": {
        "id": "rdb8UyClinhs"
      },
      "source": [
        "# Actualizando datetime\n",
        "dtime = ['RECVDATE', 'DATEDIED', 'VAX_DATE', 'ONSET_DATE']\n",
        "dataset_covid[dtime] =  dataset_covid[dtime].apply(pd.to_datetime, format='%m/%d/%Y')"
      ],
      "execution_count": null,
      "outputs": []
    },
    {
      "cell_type": "code",
      "metadata": {
        "colab": {
          "base_uri": "https://localhost:8080/"
        },
        "id": "PU5OjpR3wlWa",
        "outputId": "ae965a8c-cabe-4931-cf49-e9ef2acd7c4f"
      },
      "source": [
        "# revisando la naturaleza de los datos\n",
        "dataset_covid.info()"
      ],
      "execution_count": null,
      "outputs": [
        {
          "output_type": "stream",
          "text": [
            "<class 'pandas.core.frame.DataFrame'>\n",
            "Int64Index: 591241 entries, 916600 to 1497727\n",
            "Data columns (total 46 columns):\n",
            " #   Column           Non-Null Count   Dtype         \n",
            "---  ------           --------------   -----         \n",
            " 0   RECVDATE         591241 non-null  datetime64[ns]\n",
            " 1   STATE            535248 non-null  object        \n",
            " 2   AGE_YRS          558307 non-null  float64       \n",
            " 3   CAGE_YR          510323 non-null  float64       \n",
            " 4   CAGE_MO          936 non-null     float64       \n",
            " 5   SEX              591241 non-null  object        \n",
            " 6   SYMPTOM_TEXT     591181 non-null  object        \n",
            " 7   DIED             9434 non-null    object        \n",
            " 8   DATEDIED         8835 non-null    datetime64[ns]\n",
            " 9   L_THREAT         16254 non-null   object        \n",
            " 10  ER_VISIT         50 non-null      object        \n",
            " 11  HOSPITAL         53726 non-null   object        \n",
            " 12  HOSPDAYS         39773 non-null   float64       \n",
            " 13  X_STAY           418 non-null     object        \n",
            " 14  DISABLE          13438 non-null   object        \n",
            " 15  RECOVD           541552 non-null  object        \n",
            " 16  VAX_DATE         564641 non-null  datetime64[ns]\n",
            " 17  ONSET_DATE       570860 non-null  datetime64[ns]\n",
            " 18  NUMDAYS          548731 non-null  float64       \n",
            " 19  LAB_DATA         293299 non-null  object        \n",
            " 20  V_ADMINBY        591241 non-null  object        \n",
            " 21  V_FUNDBY         365 non-null     object        \n",
            " 22  OTHER_MEDS       407792 non-null  object        \n",
            " 23  CUR_ILL          328851 non-null  object        \n",
            " 24  HISTORY          422557 non-null  object        \n",
            " 25  PRIOR_VAX        36239 non-null   object        \n",
            " 26  FORM_VERS        591241 non-null  int64         \n",
            " 27  BIRTH_DEFECT     406 non-null     object        \n",
            " 28  OFC_VISIT        136672 non-null  object        \n",
            " 29  ER_ED_VISIT      103144 non-null  object        \n",
            " 30  ALLERGIES        381752 non-null  object        \n",
            " 31  SYMPTOM1         591241 non-null  object        \n",
            " 32  SYMPTOMVERSION1  591241 non-null  float64       \n",
            " 33  SYMPTOM2         470315 non-null  object        \n",
            " 34  SYMPTOMVERSION2  470315 non-null  float64       \n",
            " 35  SYMPTOM3         367938 non-null  object        \n",
            " 36  SYMPTOMVERSION3  367938 non-null  float64       \n",
            " 37  SYMPTOM4         279936 non-null  object        \n",
            " 38  SYMPTOMVERSION4  279936 non-null  float64       \n",
            " 39  SYMPTOM5         207749 non-null  object        \n",
            " 40  SYMPTOMVERSION5  207749 non-null  float64       \n",
            " 41  VAX_TYPE         591241 non-null  object        \n",
            " 42  VAX_MANU         591241 non-null  object        \n",
            " 43  VAX_DOSE_SERIES  588217 non-null  object        \n",
            " 44  VAX_ROUTE        464076 non-null  object        \n",
            " 45  VAX_SITE         476756 non-null  object        \n",
            "dtypes: datetime64[ns](4), float64(10), int64(1), object(31)\n",
            "memory usage: 212.0+ MB\n"
          ],
          "name": "stdout"
        }
      ]
    },
    {
      "cell_type": "code",
      "metadata": {
        "colab": {
          "base_uri": "https://localhost:8080/"
        },
        "id": "pWVJOEy1dFbH",
        "outputId": "54ecb216-14fc-4bfe-a42b-1fab630537a5"
      },
      "source": [
        "# Revision de duplicados\n",
        "obs_real = dataset_covid.index.drop_duplicates().shape[0]\n",
        "obs_colectada = dataset_covid.index.shape[0]\n",
        "print(f\"Observaciones unicas: {obs_real}\")\n",
        "print(f\"Los valores unicos son {(obs_real/obs_colectada*100):.2f} % de la data colectada,\\ncon {obs_colectada - obs_real} datos que pueden ser diferentes dosis.\")"
      ],
      "execution_count": null,
      "outputs": [
        {
          "output_type": "stream",
          "text": [
            "Observaciones unicas: 424214\n",
            "Los valores unicos son 71.75 % de la data colectada,\n",
            "con 167027 datos que pueden ser diferentes dosis.\n"
          ],
          "name": "stdout"
        }
      ]
    },
    {
      "cell_type": "code",
      "metadata": {
        "colab": {
          "base_uri": "https://localhost:8080/",
          "height": 440
        },
        "id": "CMZogB6ioLNd",
        "outputId": "079bf70c-43a9-4a17-cc30-40bdf9c512ba"
      },
      "source": [
        "# Dia del reporte.... para rechazar\n",
        "vacunados = dataset_covid.RECVDATE.value_counts()\n",
        "# grafico de personas fallecidas\n",
        "plt.figure(figsize=(20,7))\n",
        "sns.lineplot(data = vacunados)\n",
        "plt.title('Cantidad de vacunados en el 2021')\n",
        "plt.show()"
      ],
      "execution_count": null,
      "outputs": [
        {
          "output_type": "display_data",
          "data": {
            "image/png": "[encoded data removed]",
            "text/plain": [
              "<Figure size 1440x504 with 1 Axes>"
            ]
          },
          "metadata": {
            "tags": [],
            "needs_background": "light"
          }
        }
      ]
    },
    {
      "cell_type": "code",
      "metadata": {
        "colab": {
          "base_uri": "https://localhost:8080/"
        },
        "id": "l7rgljpgllc9",
        "outputId": "9a7112c4-b8aa-4af3-8f37-4bd05ae3cb9b"
      },
      "source": [
        "# Observando algunas variables\n",
        "dataset_covid['STATE'] = dataset_covid['STATE'].str.upper()\n",
        "print(dataset_covid['STATE'].value_counts()) # raro, solo hay 50 estados\n",
        "print(dataset_covid['STATE'].sort_values().unique()) # revisar"
      ],
      "execution_count": null,
      "outputs": [
        {
          "output_type": "stream",
          "text": [
            "CA    60086\n",
            "NY    32565\n",
            "FL    32093\n",
            "TX    31625\n",
            "IN    26200\n",
            "      ...  \n",
            "XB        9\n",
            "XL        6\n",
            "FM        6\n",
            "XV        4\n",
            "QM        2\n",
            "Name: STATE, Length: 62, dtype: int64\n",
            "['AK' 'AL' 'AR' 'AS' 'AZ' 'CA' 'CO' 'CT' 'DC' 'DE' 'FL' 'FM' 'GA' 'GU'\n",
            " 'HI' 'IA' 'ID' 'IL' 'IN' 'KS' 'KY' 'LA' 'MA' 'MD' 'ME' 'MH' 'MI' 'MN'\n",
            " 'MO' 'MP' 'MS' 'MT' 'NC' 'ND' 'NE' 'NH' 'NJ' 'NM' 'NV' 'NY' 'OH' 'OK'\n",
            " 'OR' 'PA' 'PR' 'QM' 'RI' 'SC' 'SD' 'TN' 'TX' 'UT' 'VA' 'VI' 'VT' 'WA'\n",
            " 'WI' 'WV' 'WY' 'XB' 'XL' 'XV' nan]\n"
          ],
          "name": "stdout"
        }
      ]
    },
    {
      "cell_type": "code",
      "metadata": {
        "colab": {
          "base_uri": "https://localhost:8080/"
        },
        "id": "OcPBw-MNlSr8",
        "outputId": "e743cf5c-2d59-4c58-8fe9-b0565dc00ed9"
      },
      "source": [
        "# Analisis por edad\n",
        "dataset_covid.AGE_YRS.fillna(0).astype(int).value_counts().sort_index(ascending=False)"
      ],
      "execution_count": null,
      "outputs": [
        {
          "output_type": "execute_result",
          "data": {
            "text/plain": [
              "119        2\n",
              "115        5\n",
              "113        1\n",
              "106        1\n",
              "105        7\n",
              "       ...  \n",
              "4          9\n",
              "3          9\n",
              "2          6\n",
              "1         50\n",
              "0      33018\n",
              "Name: AGE_YRS, Length: 110, dtype: int64"
            ]
          },
          "metadata": {
            "tags": []
          },
          "execution_count": 111
        }
      ]
    },
    {
      "cell_type": "code",
      "metadata": {
        "colab": {
          "base_uri": "https://localhost:8080/"
        },
        "id": "SGsPKbensXbz",
        "outputId": "41f735db-57a5-499d-816a-9ecd176d0002"
      },
      "source": [
        "# Analisis por edad aparente\n",
        "dataset_covid.CAGE_YR.fillna(0).astype(int).value_counts().sort_index(ascending=False) # no son valores similares..."
      ],
      "execution_count": null,
      "outputs": [
        {
          "output_type": "execute_result",
          "data": {
            "text/plain": [
              "120        7\n",
              "119        4\n",
              "118        2\n",
              "113        1\n",
              "106        1\n",
              "       ...  \n",
              "4          1\n",
              "3          1\n",
              "2          1\n",
              "1         17\n",
              "0      81836\n",
              "Name: CAGE_YR, Length: 110, dtype: int64"
            ]
          },
          "metadata": {
            "tags": []
          },
          "execution_count": 114
        }
      ]
    },
    {
      "cell_type": "code",
      "metadata": {
        "colab": {
          "base_uri": "https://localhost:8080/"
        },
        "id": "Ghb-SEGJsyWQ",
        "outputId": "ec8af582-5b21-4328-88f1-9ffabcc2131a"
      },
      "source": [
        "# Analisis por mes aparente, esto necesita un suma no es muy clara...\n",
        "dataset_covid.CAGE_MO.dropna().shape # Posiblemente desestimada..-"
      ],
      "execution_count": null,
      "outputs": [
        {
          "output_type": "execute_result",
          "data": {
            "text/plain": [
              "(936,)"
            ]
          },
          "metadata": {
            "tags": []
          },
          "execution_count": 121
        }
      ]
    },
    {
      "cell_type": "code",
      "metadata": {
        "colab": {
          "base_uri": "https://localhost:8080/"
        },
        "id": "Q9p23id0tVcV",
        "outputId": "8d915585-609a-40bf-f33a-6a85ed9b53fc"
      },
      "source": [
        "# Analisis por sexo\n",
        "dataset_covid.SEX.value_counts()"
      ],
      "execution_count": null,
      "outputs": [
        {
          "output_type": "execute_result",
          "data": {
            "text/plain": [
              "F    418524\n",
              "M    161053\n",
              "U     11664\n",
              "Name: SEX, dtype: int64"
            ]
          },
          "metadata": {
            "tags": []
          },
          "execution_count": 124
        }
      ]
    },
    {
      "cell_type": "code",
      "metadata": {
        "colab": {
          "base_uri": "https://localhost:8080/"
        },
        "id": "qTPaRggLtiPR",
        "outputId": "e31ef399-14df-4708-f6ab-461f2f88a17f"
      },
      "source": [
        "# Analisis textual de los sintomas, considerable numero...\n",
        "dataset_covid.SYMPTOM_TEXT.unique().shape"
      ],
      "execution_count": null,
      "outputs": [
        {
          "output_type": "execute_result",
          "data": {
            "text/plain": [
              "(404024,)"
            ]
          },
          "metadata": {
            "tags": []
          },
          "execution_count": 128
        }
      ]
    },
    {
      "cell_type": "code",
      "metadata": {
        "colab": {
          "base_uri": "https://localhost:8080/"
        },
        "id": "y2GCwiLlzKBf",
        "outputId": "c274a8c6-a38f-47a4-b9c8-e236092aab7e"
      },
      "source": [
        "# Data de Personas fallecidas = 9434 ..... FECHAS ERRADAS!\n",
        "dataset_covid.DATEDIED.value_counts().sort_index()"
      ],
      "execution_count": null,
      "outputs": [
        {
          "output_type": "execute_result",
          "data": {
            "text/plain": [
              "2001-01-08     1\n",
              "2010-03-14     1\n",
              "2014-02-14     2\n",
              "2020-05-31     2\n",
              "2020-12-01     1\n",
              "              ..\n",
              "2021-07-17     7\n",
              "2021-07-18     3\n",
              "2021-07-19    13\n",
              "2021-07-20     1\n",
              "2021-07-21     6\n",
              "Name: DATEDIED, Length: 218, dtype: int64"
            ]
          },
          "metadata": {
            "tags": []
          },
          "execution_count": 151
        }
      ]
    },
    {
      "cell_type": "code",
      "metadata": {
        "colab": {
          "base_uri": "https://localhost:8080/",
          "height": 440
        },
        "id": "yUkDKr2enE3C",
        "outputId": "68e94d6f-eccd-4bcb-cebd-4af8f47c79f0"
      },
      "source": [
        "died = dataset_covid.DATEDIED.value_counts()\n",
        "died\n",
        "# grafico de personas fallecidas\n",
        "plt.figure(figsize=(20,7))\n",
        "sns.lineplot(data = died)\n",
        "plt.title('Cantidad de personas fallecidas en el 2021')\n",
        "plt.show()"
      ],
      "execution_count": null,
      "outputs": [
        {
          "output_type": "display_data",
          "data": {
            "image/png": "[encoded data removed]",
            "text/plain": [
              "<Figure size 1440x504 with 1 Axes>"
            ]
          },
          "metadata": {
            "tags": [],
            "needs_background": "light"
          }
        }
      ]
    },
    {
      "cell_type": "code",
      "metadata": {
        "colab": {
          "base_uri": "https://localhost:8080/"
        },
        "id": "CegTl3vCt66C",
        "outputId": "10152aef-c523-40d2-f437-2e96b0a01490"
      },
      "source": [
        "# revission de categoricas\n",
        "# enfermedad terminal\n",
        "dataset_covid.L_THREAT.value_counts()"
      ],
      "execution_count": null,
      "outputs": [
        {
          "output_type": "execute_result",
          "data": {
            "text/plain": [
              "Y    16254\n",
              "Name: L_THREAT, dtype: int64"
            ]
          },
          "metadata": {
            "tags": []
          },
          "execution_count": 133
        }
      ]
    },
    {
      "cell_type": "code",
      "metadata": {
        "colab": {
          "base_uri": "https://localhost:8080/"
        },
        "id": "3ZfigCy8uXu5",
        "outputId": "84052af9-6392-4085-a064-48f5851f5839"
      },
      "source": [
        "# hospitalizacion = 53726\n",
        "dataset_covid.HOSPDAYS = dataset_covid.HOSPDAYS.replace([99999,999], np.nan) # incorrect values\n",
        "dataset_covid.HOSPDAYS.dropna().astype(int).value_counts().sort_index(ascending=False)"
      ],
      "execution_count": null,
      "outputs": [
        {
          "output_type": "execute_result",
          "data": {
            "text/plain": [
              "120       6\n",
              "117       1\n",
              "104       3\n",
              "97        2\n",
              "95        2\n",
              "       ... \n",
              "5      3173\n",
              "4      4394\n",
              "3      6736\n",
              "2      8407\n",
              "1      6889\n",
              "Name: HOSPDAYS, Length: 76, dtype: int64"
            ]
          },
          "metadata": {
            "tags": []
          },
          "execution_count": 142
        }
      ]
    },
    {
      "cell_type": "code",
      "metadata": {
        "colab": {
          "base_uri": "https://localhost:8080/"
        },
        "id": "sdmJIUssv0KT",
        "outputId": "24c96652-143e-48e9-ef56-69fa07697069"
      },
      "source": [
        "# recuperados?\n",
        "dataset_covid.RECOVD.value_counts()"
      ],
      "execution_count": null,
      "outputs": [
        {
          "output_type": "execute_result",
          "data": {
            "text/plain": [
              "N    238666\n",
              "Y    205958\n",
              "U     96928\n",
              "Name: RECOVD, dtype: int64"
            ]
          },
          "metadata": {
            "tags": []
          },
          "execution_count": 144
        }
      ]
    },
    {
      "cell_type": "code",
      "metadata": {
        "colab": {
          "base_uri": "https://localhost:8080/"
        },
        "id": "xUYBfE_NwxNW",
        "outputId": "f939c06c-4a29-47a3-97f5-0dc5cf543519"
      },
      "source": [
        "# Dia del vacuna.... FECHAS ERRADAS!\n",
        "dataset_covid.VAX_DATE.value_counts().sort_index()"
      ],
      "execution_count": null,
      "outputs": [
        {
          "output_type": "execute_result",
          "data": {
            "text/plain": [
              "1920-01-18      1\n",
              "1921-01-01      1\n",
              "1921-01-06      2\n",
              "1921-01-07      2\n",
              "1921-01-09      1\n",
              "             ... \n",
              "2021-07-18    107\n",
              "2021-07-19    244\n",
              "2021-07-20    256\n",
              "2021-07-21    183\n",
              "2021-07-22    122\n",
              "Name: VAX_DATE, Length: 861, dtype: int64"
            ]
          },
          "metadata": {
            "tags": []
          },
          "execution_count": 150
        }
      ]
    },
    {
      "cell_type": "code",
      "metadata": {
        "colab": {
          "base_uri": "https://localhost:8080/",
          "height": 440
        },
        "id": "onS7wFtMeiK3",
        "outputId": "9f3d947b-29e7-4650-9800-45b4bb925d2f"
      },
      "source": [
        "vacunados = dataset_covid.VAX_DATE.value_counts()\n",
        "# grafico de personas fallecidas\n",
        "plt.figure(figsize=(20,7))\n",
        "sns.lineplot(data = vacunados)\n",
        "plt.title('Cantidad de vacunados en el 2021')\n",
        "plt.show()"
      ],
      "execution_count": null,
      "outputs": [
        {
          "output_type": "display_data",
          "data": {
            "image/png": "[encoded data removed]",
            "text/plain": [
              "<Figure size 1440x504 with 1 Axes>"
            ]
          },
          "metadata": {
            "tags": [],
            "needs_background": "light"
          }
        }
      ]
    },
    {
      "cell_type": "code",
      "metadata": {
        "colab": {
          "base_uri": "https://localhost:8080/"
        },
        "id": "YPU8pfeEzZsj",
        "outputId": "51e26691-9a7a-49fa-b211-642a2d02bf4c"
      },
      "source": [
        "# Dia de efecto adverso.... FECHAS ERRADAS!\n",
        "dataset_covid.ONSET_DATE.value_counts().sort_index()"
      ],
      "execution_count": null,
      "outputs": [
        {
          "output_type": "execute_result",
          "data": {
            "text/plain": [
              "1920-12-23      2\n",
              "1920-12-25      4\n",
              "1920-12-29      3\n",
              "1921-01-05      1\n",
              "1921-01-06      1\n",
              "             ... \n",
              "2021-07-18    202\n",
              "2021-07-19    349\n",
              "2021-07-20    334\n",
              "2021-07-21    262\n",
              "2021-07-22    170\n",
              "Name: ONSET_DATE, Length: 478, dtype: int64"
            ]
          },
          "metadata": {
            "tags": []
          },
          "execution_count": 152
        }
      ]
    },
    {
      "cell_type": "code",
      "metadata": {
        "colab": {
          "base_uri": "https://localhost:8080/"
        },
        "id": "N3y6Ap3Szhlu",
        "outputId": "435b4053-cad6-44ca-bc52-1c8552aa80d2"
      },
      "source": [
        "# numero de dias desde el dia del efecto adverso # aqui hay datos ERRADOS!!\n",
        "dataset_covid.NUMDAYS.dropna().astype(int).value_counts().sort_index(ascending=False)"
      ],
      "execution_count": null,
      "outputs": [
        {
          "output_type": "execute_result",
          "data": {
            "text/plain": [
              "36896         1\n",
              "36573         1\n",
              "36564         2\n",
              "36561         1\n",
              "36555         1\n",
              "          ...  \n",
              "4         11932\n",
              "3         17836\n",
              "2         31490\n",
              "1        122758\n",
              "0        232163\n",
              "Name: NUMDAYS, Length: 595, dtype: int64"
            ]
          },
          "metadata": {
            "tags": []
          },
          "execution_count": 157
        }
      ]
    },
    {
      "cell_type": "code",
      "metadata": {
        "colab": {
          "base_uri": "https://localhost:8080/"
        },
        "id": "tPiKclNNzZmb",
        "outputId": "c2565856-fc9d-4663-85e9-62601a2c8e3b"
      },
      "source": [
        "# Trabajo de Laboratorio -- MALA variable\n",
        "removew = ['unknown', 'no', 'n/a', 'na', 'none yet', 'see above',\n",
        "       'none at this time', 'none.', 'none to date', 'none yet.',\n",
        "       'none reported', 'none so far', 'none known', 'not applicable',\n",
        "       'none at this time.', 'blood work', 'see above.', 'non', 'none done',\n",
        "       '0', 'as above', 'ultrasound', 'none needed', 'no.',\n",
        "       'none taken', 'no tests','as above.', 'n/a.','none performed',\n",
        "       'none as of yet', 'unknown.', 'none so far.', 'not known', 'pending',\n",
        "       'no e', 'none', 'vital signs', 'none to date.', 'not yet',\n",
        "       '?', '-', 'vitals', 'lab work', 'unk', 'no tests done', \n",
        "       'nothing', 'none noted', 'unkown', 'none required', 'no tests.',\n",
        "       'denies','unknown at this time', 'vitals were taken - normal',\n",
        "       'no medical test']\n",
        "\n",
        "dataset_covid['LAB_DATA'] = dataset_covid['LAB_DATA'].str.lower().replace(removew, np.nan) # incorrect values\n",
        "dataset_covid.LAB_DATA.dropna().value_counts()\n"
      ],
      "execution_count": null,
      "outputs": [
        {
          "output_type": "execute_result",
          "data": {
            "text/plain": [
              "ekg                                                                                                                                                                                                                                                                    341\n",
              "covid test                                                                                                                                                                                                                                                             173\n",
              "ct scan                                                                                                                                                                                                                                                                137\n",
              "test name: covid-19; test result: positive                                                                                                                                                                                                                             130\n",
              "mri                                                                                                                                                                                                                                                                    118\n",
              "                                                                                                                                                                                                                                                                      ... \n",
              "will seek treatment if pain and discomfort next week as i was recently diagnosed with lyme disease.                                                                                                                                                                      1\n",
              "auditory exam 5/12/21                                                                                                                                                                                                                                                    1\n",
              "no tests, but my doctor examined the area at a visit on friday (two days after it appeared) and said to report it.                                                                                                                                                       1\n",
              "test name: covid-19 test; result unstructured data: test result:positive; test date: 20210709; test name: covid-19 test; result unstructured data: test result:positive; test date: 20210709; test name: nasal swab; result unstructured data: test result:positive      1\n",
              "neck ct                                                                                                                                                                                                                                                                  1\n",
              "Name: LAB_DATA, Length: 93670, dtype: int64"
            ]
          },
          "metadata": {
            "tags": []
          },
          "execution_count": 226
        }
      ]
    },
    {
      "cell_type": "code",
      "metadata": {
        "colab": {
          "base_uri": "https://localhost:8080/"
        },
        "id": "Nc6unSlIzZJ4",
        "outputId": "a6b35dca-5561-4cff-9d7f-6b483c4cb891"
      },
      "source": [
        "# Lugar donde se puso la vacuna\n",
        "dataset_covid.V_ADMINBY.dropna().str.upper().value_counts(ascending = True)"
      ],
      "execution_count": null,
      "outputs": [
        {
          "output_type": "execute_result",
          "data": {
            "text/plain": [
              "MIL      8834\n",
              "SEN     10884\n",
              "SCH     11336\n",
              "WRK     24509\n",
              "PUB     70927\n",
              "UNK    100865\n",
              "PHM    102373\n",
              "OTH    102622\n",
              "PVT    158891\n",
              "Name: V_ADMINBY, dtype: int64"
            ]
          },
          "metadata": {
            "tags": []
          },
          "execution_count": 185
        }
      ]
    },
    {
      "cell_type": "code",
      "metadata": {
        "colab": {
          "base_uri": "https://localhost:8080/"
        },
        "id": "HjuXZj1a4Hgs",
        "outputId": "aafb968a-7183-4cc4-8199-03512fca54ec"
      },
      "source": [
        "# Financiamiento para la vacuna\n",
        "dataset_covid.V_FUNDBY.dropna().str.upper().value_counts(ascending = True)"
      ],
      "execution_count": null,
      "outputs": [
        {
          "output_type": "execute_result",
          "data": {
            "text/plain": [
              "PVT     19\n",
              "PUB     53\n",
              "UNK     82\n",
              "OTH    211\n",
              "Name: V_FUNDBY, dtype: int64"
            ]
          },
          "metadata": {
            "tags": []
          },
          "execution_count": 186
        }
      ]
    },
    {
      "cell_type": "code",
      "metadata": {
        "colab": {
          "base_uri": "https://localhost:8080/"
        },
        "id": "rIXDIR104dna",
        "outputId": "fc6555b8-891c-4eb4-b281-624b1841896e"
      },
      "source": [
        "# Otras medicaciones por historial\n",
        "omeds = ['none', 'unknown', 'no', 'none.', 'n/a','unk', 'na','unk', 'na',\n",
        "            'nothing', 'none listed', 'none reported','no medications',\n",
        "            'unkown', 'no known', 'non', 'not reported', 'none noted', '0',\n",
        "            'no.','not available']\n",
        "removew += omeds\n",
        "\n",
        "dataset_covid['OTHER_MEDS'] = dataset_covid['OTHER_MEDS'].str.lower().replace(removew, np.nan) # incorrect values\n",
        "dataset_covid.OTHER_MEDS.value_counts()"
      ],
      "execution_count": null,
      "outputs": [
        {
          "output_type": "execute_result",
          "data": {
            "text/plain": [
              "levothyroxine                                                                                                                                                                                                                                       1346\n",
              "tylenol                                                                                                                                                                                                                                             1302\n",
              "birth control                                                                                                                                                                                                                                       1262\n",
              "multivitamin                                                                                                                                                                                                                                        1103\n",
              "synthroid                                                                                                                                                                                                                                           1086\n",
              "                                                                                                                                                                                                                                                    ... \n",
              "probiotic [bifidobacterium bifidum;bifidobacterium lactis;bifidobacterium longum;lactobacillus acido; multivitamin [vitamins nos]; colace; lisinopril; stivarga                                                                                        1\n",
              "furosemide 40 mg, montelukast sodium 10 mg ,lovastatin 20 mg ,amlodipine besylate 10 mg, eliquis 5 mg, levothyroxine sodium 50 mcg, spironolactone 25 mg ,proair hfa, albuterol sulfate ,fluoxetine hcl 20 mg, spiriva handihaler 18 mcg, metopr       1\n",
              "magnesium, zinc, and vitamin d- otc vitamins zyrtec- otc allergy medicine                                                                                                                                                                              1\n",
              "prenatal vitamin; claritin                                                                                                                                                                                                                             1\n",
              "levothroxine 125 mcg  valsartan 80mg tamsulosin 0.4 mg gemfibrozil 600 mg bystolic 10 mg asa 81 mg                                                                                                                                                     1\n",
              "Name: OTHER_MEDS, Length: 177659, dtype: int64"
            ]
          },
          "metadata": {
            "tags": []
          },
          "execution_count": 228
        }
      ]
    },
    {
      "cell_type": "code",
      "metadata": {
        "colab": {
          "base_uri": "https://localhost:8080/"
        },
        "id": "3qvLDVTk4p4T",
        "outputId": "4a45e590-75a4-4076-d60f-32cd69262ea6"
      },
      "source": [
        "# Otras medicaciones por historial\n",
        "ill = ['none known', 'no illnesses', 'no acute illness', 'no acute illnesses', \n",
        "       'none known.', 'no known illnesses', 'unknown.', 'denied',\n",
        "       'i did not have any other illnesses.', 'none stated', 'no other illnesses', \n",
        "       'not applicable', 'no other illnesses.','none reported.', '-', 'no e',\n",
        "       'none per patient','none documented', 'zero', 'nonr', 'none disclosed',\n",
        "       'no illnesses at the time of vaccination.', 'none that i am aware of',\n",
        "       'no illnesses.', '?', 'nome', 'non-smoker', 'n/a.', 'nope',\n",
        "       'no known illness', 'nothing acute', 'none indicated',\n",
        "       'no other illnesses at the time of vaccination and up to one month prior.',\n",
        "       'no illness date of vaccination, unknown prior', 'none acute', \n",
        "       'none that i know of', 'unsure','none identified', 'none,', 'nonw', \n",
        "       'none reported by patient', 'no other illness', 'no  other illnesses.']\n",
        "removew += ill\n",
        "\n",
        "dataset_covid['CUR_ILL'] = dataset_covid['CUR_ILL'].str.lower().replace(removew, np.nan) # incorrect values\n",
        "dataset_covid.CUR_ILL.value_counts()"
      ],
      "execution_count": null,
      "outputs": [
        {
          "output_type": "execute_result",
          "data": {
            "text/plain": [
              "seasonal allergies                                                                                                                                          1055\n",
              "asthma                                                                                                                                                       848\n",
              "sinus infection                                                                                                                                              574\n",
              "uti                                                                                                                                                          500\n",
              "hypertension                                                                                                                                                 484\n",
              "                                                                                                                                                            ... \n",
              "i have borderline  nonimmune system controlled lupus, but again i do not take medication to control it.                                                        1\n",
              "had covid19  two weeks previous was instructed by the two health department people that dropped off the vaccine it is recommended  even after two weeks.       1\n",
              "had a minor reaction to first dose                                                                                                                             1\n",
              "denies illness on health history form                                                                                                                          1\n",
              "continuous headache since i had had covid back in february                                                                                                     1\n",
              "Name: CUR_ILL, Length: 37781, dtype: int64"
            ]
          },
          "metadata": {
            "tags": []
          },
          "execution_count": 229
        }
      ]
    },
    {
      "cell_type": "code",
      "metadata": {
        "colab": {
          "base_uri": "https://localhost:8080/"
        },
        "id": "CrmQIVde8vCP",
        "outputId": "8db19886-1990-4362-824f-cd26dcd7c49b"
      },
      "source": [
        "# HISTORIAL MEDICO\n",
        "historial = ['comments: list of non-encoded patient relevant history: patient other relevant history 1: none',\n",
        "             'medical history/concurrent conditions: no adverse event (no reported medical history)',\n",
        "             'medical history/concurrent conditions: no adverse event (no medical history reported)',\n",
        "             'medical history/concurrent conditions: no adverse event (no reported medical history.)',\n",
        "             'medical history/concurrent conditions: no adverse event (no medical history reported.)',\n",
        "             'comments: no medical history was provided by the reporter.','not known', 'comments: unknown'\n",
        "             ]\n",
        "removew += historial\n",
        "\n",
        "dataset_covid['HISTORY'] = dataset_covid['HISTORY'].str.lower().replace(removew, np.nan) # incorrect values\n",
        "dataset_covid.HISTORY.value_counts()"
      ],
      "execution_count": null,
      "outputs": [
        {
          "output_type": "execute_result",
          "data": {
            "text/plain": [
              "asthma                                                        8838\n",
              "high blood pressure                                           3884\n",
              "hypertension                                                  3561\n",
              "hypothyroidism                                                2572\n",
              "diabetes                                                      1962\n",
              "                                                              ... \n",
              "fibromyalgia, behcets, reynauds, cushings                        1\n",
              "migraines, pcos/infertility                                      1\n",
              "allergies and migraines                                          1\n",
              "bundle branch block in heart                                     1\n",
              "htn, non-hodgkin's lymphoma; pancreatitis; prostate cancer       1\n",
              "Name: HISTORY, Length: 113806, dtype: int64"
            ]
          },
          "metadata": {
            "tags": []
          },
          "execution_count": 232
        }
      ]
    },
    {
      "cell_type": "code",
      "metadata": {
        "colab": {
          "base_uri": "https://localhost:8080/"
        },
        "id": "p47PTXsK93b3",
        "outputId": "3add2472-6b33-4974-a12a-1e5a568e18a5"
      },
      "source": [
        "# VACUNAS PREVIAS JAJJAJA\n",
        "dataset_covid['PRIOR_VAX'] = dataset_covid['PRIOR_VAX'].str.lower().replace(removew, np.nan) # incorrect values\n",
        "dataset_covid.PRIOR_VAX.value_counts()"
      ],
      "execution_count": null,
      "outputs": [
        {
          "output_type": "execute_result",
          "data": {
            "text/plain": [
              "flu shot                                                                                                                            388\n",
              "flu vaccine                                                                                                                         354\n",
              "flu                                                                                                                                 236\n",
              "shingles                                                                                                                            221\n",
              "influenza                                                                                                                           155\n",
              "                                                                                                                                   ... \n",
              "one year with flu shot                                                                                                                1\n",
              "anaphalatic shock from both penicillin and sulfa drugs as a child (don't recall age but younger than 7)                               1\n",
              "tdap 8years ago/ swollen area took antibiotics.                                                                                       1\n",
              "i developed a fever of 103 and a large, hard, painful swelling after receiving the pneumonia shot about 5 years ago. it took 3 m      1\n",
              "ringing in ears, body aches,                                                                                                          1\n",
              "Name: PRIOR_VAX, Length: 20604, dtype: int64"
            ]
          },
          "metadata": {
            "tags": []
          },
          "execution_count": 237
        }
      ]
    },
    {
      "cell_type": "code",
      "metadata": {
        "colab": {
          "base_uri": "https://localhost:8080/"
        },
        "id": "sHWnKMhX-PzL",
        "outputId": "ec30e202-6a8a-4571-ed26-37148dce5bdd"
      },
      "source": [
        "# FORMULARIOS DE COLECTA DE DATOS\n",
        "dataset_covid.FORM_VERS.value_counts()"
      ],
      "execution_count": null,
      "outputs": [
        {
          "output_type": "execute_result",
          "data": {
            "text/plain": [
              "2    590876\n",
              "1       365\n",
              "Name: FORM_VERS, dtype: int64"
            ]
          },
          "metadata": {
            "tags": []
          },
          "execution_count": 223
        }
      ]
    },
    {
      "cell_type": "code",
      "metadata": {
        "colab": {
          "base_uri": "https://localhost:8080/"
        },
        "id": "pzK-5Pr5-Xyo",
        "outputId": "e961a979-a884-4e35-8c33-c442ff197ecf"
      },
      "source": [
        "# VACUNAS PREVIAS\n",
        "\n",
        "# nka = not known allergies\n",
        "\n",
        "allergies = ['nka', 'nkda','no allergies', 'no known drug allergies', \n",
        "             'no known allergies.', 'no know allergies', 'no known allergies']\n",
        "removew += allergies\n",
        "\n",
        "dataset_covid['ALLERGIES'] = dataset_covid['ALLERGIES'].str.lower().replace(removew, np.nan) # incorrect values\n",
        "dataset_covid.ALLERGIES.str.lower().value_counts()"
      ],
      "execution_count": null,
      "outputs": [
        {
          "output_type": "execute_result",
          "data": {
            "text/plain": [
              "penicillin                                                                                11651\n",
              "sulfa                                                                                      5765\n",
              "codeine                                                                                    2362\n",
              "amoxicillin                                                                                2266\n",
              "sulfa drugs                                                                                2001\n",
              "                                                                                          ...  \n",
              "aloe, fluoride                                                                                1\n",
              "bananas dust latex                                                                            1\n",
              "mednoclyclene, seaclor                                                                        1\n",
              "penicillin, leviquin, hydrocodone, cipro, phen-fen cinnamon, soy, wheat, melon, citrus        1\n",
              "fish, targocid, aspirin                                                                       1\n",
              "Name: ALLERGIES, Length: 83661, dtype: int64"
            ]
          },
          "metadata": {
            "tags": []
          },
          "execution_count": 242
        }
      ]
    },
    {
      "cell_type": "code",
      "metadata": {
        "colab": {
          "base_uri": "https://localhost:8080/"
        },
        "id": "AkL7dZh8AgBY",
        "outputId": "f293e863-7f1e-4350-a391-07e6ba737b60"
      },
      "source": [
        "# Sintoma 1\n",
        "print(dataset_covid.SYMPTOM1.str.lower().value_counts().head(100).index)\n",
        "print(dataset_covid.SYMPTOMVERSION1.value_counts())"
      ],
      "execution_count": null,
      "outputs": [
        {
          "output_type": "stream",
          "text": [
            "Index(['chills', 'arthralgia', 'dizziness', 'fatigue', 'headache',\n",
            "       'injection site erythema', 'asthenia', 'pyrexia', 'pain', 'erythema',\n",
            "       'covid-19', 'pain in extremity', 'nausea', 'rash',\n",
            "       'injection site pain', 'pruritus', 'dyspnoea', 'chest discomfort',\n",
            "       'anxiety', 'hypoaesthesia', 'back pain', 'chest pain', 'blood test',\n",
            "       'diarrhoea', 'product administered to patient of inappropriate age',\n",
            "       'myalgia', 'abdominal pain upper', 'abdominal pain',\n",
            "       'product storage error', 'lymphadenopathy',\n",
            "       'body temperature increased', 'abdominal discomfort', 'vomiting',\n",
            "       'tinnitus', 'unevaluable event', 'cough', 'urticaria', 'paraesthesia',\n",
            "       'inappropriate schedule of product administration',\n",
            "       'blood pressure increased', 'body temperature', 'condition aggravated',\n",
            "       'herpes zoster', 'syncope', 'no adverse event', 'axillary pain',\n",
            "       'burning sensation', 'death', 'injection site pruritus',\n",
            "       'feeling abnormal', 'interchange of vaccine products', 'hyperhidrosis',\n",
            "       'injection site rash', 'bell's palsy', 'malaise', 'ageusia',\n",
            "       'incorrect dose administered', 'peripheral swelling',\n",
            "       'injection site swelling', 'feeling hot',\n",
            "       'poor quality product administered', 'tremor', 'loss of consciousness',\n",
            "       'heart rate increased', 'decreased appetite', 'palpitations',\n",
            "       'expired product administered', 'balance disorder', 'flushing',\n",
            "       'dysgeusia', 'anaphylactic reaction', 'fall', 'dysphagia', 'cold sweat',\n",
            "       'contusion', 'injection site warmth', 'rash erythematous',\n",
            "       'blood test normal', 'confusional state', 'neck pain',\n",
            "       'extra dose administered', 'electrocardiogram', 'blister',\n",
            "       'sars-cov-2 test positive', 'mobility decreased', 'oropharyngeal pain',\n",
            "       'computerised tomogram', 'migraine', 'influenza like illness',\n",
            "       'lip swelling', 'paraesthesia oral', 'cerebrovascular accident',\n",
            "       'sleep disorder', 'injection site reaction', 'swelling',\n",
            "       'sars-cov-2 test negative', 'vertigo', 'sars-cov-2 test',\n",
            "       'atrial fibrillation', 'lymph node pain'],\n",
            "      dtype='object')\n",
            "24.0    518988\n",
            "23.1     72253\n",
            "Name: SYMPTOMVERSION1, dtype: int64\n"
          ],
          "name": "stdout"
        }
      ]
    },
    {
      "cell_type": "code",
      "metadata": {
        "colab": {
          "base_uri": "https://localhost:8080/"
        },
        "id": "arSLj5LOA1T2",
        "outputId": "6de7ab5b-24d6-4106-e2d9-1f26dbd7b222"
      },
      "source": [
        "# Sintoma 2\n",
        "print(dataset_covid.SYMPTOM2.str.lower().value_counts().head(100).index)\n",
        "print(dataset_covid.SYMPTOMVERSION2.value_counts())"
      ],
      "execution_count": null,
      "outputs": [
        {
          "output_type": "stream",
          "text": [
            "Index(['headache', 'fatigue', 'chills', 'dizziness', 'pain', 'pyrexia',\n",
            "       'nausea', 'pain in extremity', 'injection site pain', 'dyspnoea',\n",
            "       'injection site pruritus', 'rash', 'pruritus', 'myalgia', 'diarrhoea',\n",
            "       'injection site erythema', 'hyperhidrosis', 'chest pain', 'vomiting',\n",
            "       'paraesthesia', 'injection site swelling', 'asthenia',\n",
            "       'lymphadenopathy', 'feeling abnormal', 'cough', 'hypoaesthesia',\n",
            "       'sars-cov-2 test positive', 'erythema', 'urticaria', 'blood test',\n",
            "       'back pain', 'peripheral swelling', 'malaise', 'decreased appetite',\n",
            "       'injection site rash', 'syncope', 'chest discomfort', 'feeling hot',\n",
            "       'rash erythematous', 'injection site induration', 'arthralgia',\n",
            "       'flushing', 'sars-cov-2 test', 'heart rate increased', 'tinnitus',\n",
            "       'condition aggravated', 'no adverse event', 'loss of consciousness',\n",
            "       'palpitations', 'tremor',\n",
            "       'product administered to patient of inappropriate age', 'rash pruritic',\n",
            "       'electrocardiogram', 'computerised tomogram', 'product storage error',\n",
            "       'fall', 'injection site warmth', 'body temperature increased',\n",
            "       'feeling cold', 'neck pain', 'mobility decreased', 'swelling',\n",
            "       'oropharyngeal pain', 'influenza like illness', 'migraine',\n",
            "       'paraesthesia oral', 'death', 'sars-cov-2 test negative',\n",
            "       'drug ineffective', 'chest x-ray', 'anosmia', 'vertigo',\n",
            "       'sleep disorder', 'throat tightness', 'covid-19', 'muscle spasms',\n",
            "       'swelling face', 'immediate post-injection reaction',\n",
            "       'gait disturbance', 'skin warm', 'throat irritation',\n",
            "       'confusional state', 'dysphagia', 'lethargy', 'hypoaesthesia oral',\n",
            "       'burning sensation', 'muscular weakness', 'hypertension',\n",
            "       'body temperature', 'injection site reaction',\n",
            "       'musculoskeletal stiffness', 'insomnia', 'cold sweat', 'lip swelling',\n",
            "       'vaccination site pain', 'blood pressure increased', 'full blood count',\n",
            "       'impaired work ability', 'laboratory test', 'herpes zoster'],\n",
            "      dtype='object')\n",
            "24.0    413623\n",
            "23.1     56692\n",
            "Name: SYMPTOMVERSION2, dtype: int64\n"
          ],
          "name": "stdout"
        }
      ]
    },
    {
      "cell_type": "code",
      "metadata": {
        "colab": {
          "base_uri": "https://localhost:8080/"
        },
        "id": "FUHrxNuhA8Rk",
        "outputId": "45497a48-4b3e-4b92-d931-14e38f8d07ff"
      },
      "source": [
        "# Sintoma 3\n",
        "print(dataset_covid.SYMPTOM3.str.lower().value_counts().head(100).index)\n",
        "print(dataset_covid.SYMPTOMVERSION3.value_counts())"
      ],
      "execution_count": null,
      "outputs": [
        {
          "output_type": "stream",
          "text": [
            "Index(['headache', 'fatigue', 'pain', 'pyrexia', 'nausea', 'pain in extremity',\n",
            "       'dizziness', 'injection site pain', 'myalgia',\n",
            "       'injection site swelling', 'chills', 'dyspnoea', 'pruritus', 'rash',\n",
            "       'injection site pruritus', 'hyperhidrosis', 'vomiting', 'paraesthesia',\n",
            "       'feeling abnormal', 'diarrhoea', 'injection site warmth', 'urticaria',\n",
            "       'malaise', 'lymphadenopathy', 'hypoaesthesia', 'peripheral swelling',\n",
            "       'injection site rash', 'injection site erythema', 'chest pain',\n",
            "       'syncope', 'heart rate increased', 'sars-cov-2 test', 'cough',\n",
            "       'palpitations', 'tremor', 'skin warm', 'loss of consciousness',\n",
            "       'rash pruritic', 'swelling', 'feeling hot', 'rash erythematous',\n",
            "       'decreased appetite', 'electrocardiogram', 'neck pain', 'erythema',\n",
            "       'sars-cov-2 test positive', 'flushing', 'oropharyngeal pain',\n",
            "       'tinnitus', 'influenza like illness', 'mobility decreased', 'migraine',\n",
            "       'computerised tomogram', 'sars-cov-2 test negative', 'sleep disorder',\n",
            "       'lethargy', 'feeling cold', 'pallor', 'throat tightness',\n",
            "       'chest discomfort', 'condition aggravated', 'muscle spasms',\n",
            "       'swelling face', 'paraesthesia oral', 'vertigo', 'blood test',\n",
            "       'musculoskeletal stiffness', 'vision blurred', 'gait disturbance',\n",
            "       'muscular weakness', 'hypertension', 'insomnia', 'laboratory test',\n",
            "       'vaccination site pain', 'impaired work ability', 'full blood count',\n",
            "       'throat irritation', 'immediate post-injection reaction', 'fall',\n",
            "       'injection site reaction', 'chest x-ray', 'tachycardia', 'somnolence',\n",
            "       'electrocardiogram normal', 'swollen tongue', 'back pain',\n",
            "       'rash macular', 'metabolic function test', 'tenderness',\n",
            "       'hypoaesthesia oral', 'pharyngeal swelling', 'covid-19',\n",
            "       'magnetic resonance imaging', 'lip swelling', 'confusional state',\n",
            "       'injection site induration', 'rash papular', 'rhinorrhoea',\n",
            "       'unresponsive to stimuli', 'nasal congestion'],\n",
            "      dtype='object')\n",
            "24.0    323743\n",
            "23.1     44195\n",
            "Name: SYMPTOMVERSION3, dtype: int64\n"
          ],
          "name": "stdout"
        }
      ]
    },
    {
      "cell_type": "code",
      "metadata": {
        "colab": {
          "base_uri": "https://localhost:8080/"
        },
        "id": "GrLRrw2UBDBF",
        "outputId": "9fcd03f7-a071-4f61-eae8-bd21d332c408"
      },
      "source": [
        "# Sintoma 4\n",
        "print(dataset_covid.SYMPTOM4.str.lower().value_counts().head(100).index)\n",
        "print(dataset_covid.SYMPTOMVERSION4.value_counts())"
      ],
      "execution_count": null,
      "outputs": [
        {
          "output_type": "stream",
          "text": [
            "Index(['pyrexia', 'headache', 'pain', 'nausea', 'fatigue', 'pain in extremity',\n",
            "       'myalgia', 'injection site pain', 'injection site swelling', 'vomiting',\n",
            "       'dizziness', 'injection site warmth', 'dyspnoea', 'rash', 'pruritus',\n",
            "       'hyperhidrosis', 'paraesthesia', 'malaise', 'urticaria',\n",
            "       'feeling abnormal', 'injection site pruritus', 'lymphadenopathy',\n",
            "       'chills', 'tremor', 'peripheral swelling', 'hypoaesthesia', 'syncope',\n",
            "       'skin warm', 'swelling', 'palpitations', 'heart rate increased',\n",
            "       'diarrhoea', 'neck pain', 'injection site erythema',\n",
            "       'electrocardiogram', 'oropharyngeal pain', 'injection site rash',\n",
            "       'loss of consciousness', 'rash erythematous', 'sleep disorder',\n",
            "       'rash pruritic', 'sars-cov-2 test', 'sars-cov-2 test positive',\n",
            "       'sars-cov-2 test negative', 'mobility decreased', 'feeling hot',\n",
            "       'chest pain', 'influenza like illness', 'tinnitus', 'migraine',\n",
            "       'pallor', 'cough', 'lethargy', 'swelling face', 'muscle spasms',\n",
            "       'throat tightness', 'vertigo', 'insomnia', 'vision blurred',\n",
            "       'decreased appetite', 'muscular weakness', 'flushing',\n",
            "       'impaired work ability', 'gait disturbance',\n",
            "       'musculoskeletal stiffness', 'feeling cold', 'paraesthesia oral',\n",
            "       'laboratory test', 'somnolence', 'throat irritation', 'hypertension',\n",
            "       'full blood count', 'metabolic function test', 'vaccination site pain',\n",
            "       'tachycardia', 'electrocardiogram normal', 'rhinorrhoea', 'erythema',\n",
            "       'tenderness', 'computerised tomogram', 'magnetic resonance imaging',\n",
            "       'unresponsive to stimuli', 'swollen tongue',\n",
            "       'immediate post-injection reaction',\n",
            "       'loss of personal independence in daily activities', 'nasal congestion',\n",
            "       'condition aggravated', 'rash macular', 'pharyngeal swelling',\n",
            "       'seizure', 'echocardiogram', 'limb discomfort', 'hot flush', 'fall',\n",
            "       'injection site reaction', 'rash papular', 'visual impairment',\n",
            "       'ultrasound scan', 'x-ray', 'hypotension'],\n",
            "      dtype='object')\n",
            "24.0    246884\n",
            "23.1     33052\n",
            "Name: SYMPTOMVERSION4, dtype: int64\n"
          ],
          "name": "stdout"
        }
      ]
    },
    {
      "cell_type": "code",
      "metadata": {
        "colab": {
          "base_uri": "https://localhost:8080/"
        },
        "id": "waFodA7zBHE6",
        "outputId": "46465508-56f3-4a0c-b0aa-52cd2fe7373c"
      },
      "source": [
        "# Sintoma 5\n",
        "print(dataset_covid.SYMPTOM5.str.lower().value_counts().head(100).index)\n",
        "print(dataset_covid.SYMPTOMVERSION5.value_counts())"
      ],
      "execution_count": null,
      "outputs": [
        {
          "output_type": "stream",
          "text": [
            "Index(['pyrexia', 'pain', 'nausea', 'headache', 'pain in extremity', 'myalgia',\n",
            "       'fatigue', 'vomiting', 'injection site pain', 'injection site swelling',\n",
            "       'rash', 'injection site warmth', 'pruritus', 'dyspnoea', 'paraesthesia',\n",
            "       'hyperhidrosis', 'malaise', 'urticaria', 'tremor', 'dizziness',\n",
            "       'peripheral swelling', 'feeling abnormal', 'lymphadenopathy', 'syncope',\n",
            "       'palpitations', 'skin warm', 'hypoaesthesia', 'neck pain',\n",
            "       'heart rate increased', 'sars-cov-2 test negative', 'swelling',\n",
            "       'oropharyngeal pain', 'sleep disorder', 'electrocardiogram',\n",
            "       'sars-cov-2 test', 'injection site pruritus', 'loss of consciousness',\n",
            "       'rash erythematous', 'sars-cov-2 test positive', 'tinnitus',\n",
            "       'mobility decreased', 'vision blurred', 'migraine', 'swelling face',\n",
            "       'somnolence', 'vertigo', 'muscle spasms', 'injection site erythema',\n",
            "       'influenza like illness', 'metabolic function test', 'diarrhoea',\n",
            "       'insomnia', 'throat tightness', 'lethargy', 'laboratory test', 'chills',\n",
            "       'muscular weakness', 'rash pruritic', 'full blood count',\n",
            "       'musculoskeletal stiffness', 'pallor', 'impaired work ability',\n",
            "       'tachycardia', 'injection site rash', 'rhinorrhoea',\n",
            "       'vaccination site pain', 'tenderness', 'feeling hot',\n",
            "       'throat irritation', 'paraesthesia oral', 'gait disturbance',\n",
            "       'hypertension', 'cough', 'unresponsive to stimuli',\n",
            "       'magnetic resonance imaging', 'swollen tongue',\n",
            "       'loss of personal independence in daily activities', 'nasal congestion',\n",
            "       'chest pain', 'electrocardiogram normal', 'urine analysis',\n",
            "       'feeling cold', 'decreased appetite', 'flushing', 'x-ray',\n",
            "       'visual impairment', 'echocardiogram', 'pharyngeal swelling',\n",
            "       'ultrasound scan', 'rash macular', 'immediate post-injection reaction',\n",
            "       'seizure', 'wheezing', 'limb discomfort', 'pulmonary embolism',\n",
            "       'night sweats', 'condition aggravated', 'hypotension',\n",
            "       'lymph node pain', 'rash papular'],\n",
            "      dtype='object')\n",
            "24.0    182670\n",
            "23.1     25079\n",
            "Name: SYMPTOMVERSION5, dtype: int64\n"
          ],
          "name": "stdout"
        }
      ]
    },
    {
      "cell_type": "code",
      "metadata": {
        "colab": {
          "base_uri": "https://localhost:8080/"
        },
        "id": "KEkR-aZTBNOP",
        "outputId": "929eed64-c16e-4737-a9c6-ecedf4dbbd91"
      },
      "source": [
        "# Conteo de fabricantes de vacunas para covid19 (VAX_MANU)\n",
        "dataset_covid.VAX_MANU.value_counts()"
      ],
      "execution_count": null,
      "outputs": [
        {
          "output_type": "execute_result",
          "data": {
            "text/plain": [
              "PFIZER\\BIONTECH         263821\n",
              "MODERNA                 262333\n",
              "JANSSEN                  63676\n",
              "UNKNOWN MANUFACTURER      1411\n",
              "Name: VAX_MANU, dtype: int64"
            ]
          },
          "metadata": {
            "tags": []
          },
          "execution_count": 252
        }
      ]
    },
    {
      "cell_type": "code",
      "metadata": {
        "colab": {
          "base_uri": "https://localhost:8080/"
        },
        "id": "DJb1_aDSBZZp",
        "outputId": "e985ddc6-0b55-4b4a-8de4-3da23f138541"
      },
      "source": [
        "# Conteo por series de dosis ... esto esta alarmantes\n",
        "dataset_covid.VAX_DOSE_SERIES.value_counts()"
      ],
      "execution_count": null,
      "outputs": [
        {
          "output_type": "execute_result",
          "data": {
            "text/plain": [
              "1      302627\n",
              "2      190844\n",
              "UNK     93183\n",
              "3         983\n",
              "7+        224\n",
              "5         167\n",
              "4         118\n",
              "6          71\n",
              "Name: VAX_DOSE_SERIES, dtype: int64"
            ]
          },
          "metadata": {
            "tags": []
          },
          "execution_count": 255
        }
      ]
    },
    {
      "cell_type": "code",
      "metadata": {
        "colab": {
          "base_uri": "https://localhost:8080/",
          "height": 498
        },
        "id": "KPW4h2zGBrNZ",
        "outputId": "2fd52895-089c-4973-d007-7c6ed83f3ba9"
      },
      "source": [
        "# review the mistaked values... ESTO ESTA RARO\n",
        "dataset_covid.loc[dataset_covid.VAX_DOSE_SERIES == \"7+\", ].head()"
      ],
      "execution_count": null,
      "outputs": [
        {
          "output_type": "execute_result",
          "data": {
            "text/html": [
              "<div>\n",
              "<style scoped>\n",
              "    .dataframe tbody tr th:only-of-type {\n",
              "        vertical-align: middle;\n",
              "    }\n",
              "\n",
              "    .dataframe tbody tr th {\n",
              "        vertical-align: top;\n",
              "    }\n",
              "\n",
              "    .dataframe thead th {\n",
              "        text-align: right;\n",
              "    }\n",
              "</style>\n",
              "<table border=\"1\" class=\"dataframe\">\n",
              "  <thead>\n",
              "    <tr style=\"text-align: right;\">\n",
              "      <th></th>\n",
              "      <th>RECVDATE</th>\n",
              "      <th>STATE</th>\n",
              "      <th>AGE_YRS</th>\n",
              "      <th>CAGE_YR</th>\n",
              "      <th>CAGE_MO</th>\n",
              "      <th>SEX</th>\n",
              "      <th>SYMPTOM_TEXT</th>\n",
              "      <th>DIED</th>\n",
              "      <th>DATEDIED</th>\n",
              "      <th>L_THREAT</th>\n",
              "      <th>ER_VISIT</th>\n",
              "      <th>HOSPITAL</th>\n",
              "      <th>HOSPDAYS</th>\n",
              "      <th>X_STAY</th>\n",
              "      <th>DISABLE</th>\n",
              "      <th>RECOVD</th>\n",
              "      <th>VAX_DATE</th>\n",
              "      <th>ONSET_DATE</th>\n",
              "      <th>NUMDAYS</th>\n",
              "      <th>LAB_DATA</th>\n",
              "      <th>V_ADMINBY</th>\n",
              "      <th>V_FUNDBY</th>\n",
              "      <th>OTHER_MEDS</th>\n",
              "      <th>CUR_ILL</th>\n",
              "      <th>HISTORY</th>\n",
              "      <th>PRIOR_VAX</th>\n",
              "      <th>FORM_VERS</th>\n",
              "      <th>BIRTH_DEFECT</th>\n",
              "      <th>OFC_VISIT</th>\n",
              "      <th>ER_ED_VISIT</th>\n",
              "      <th>ALLERGIES</th>\n",
              "      <th>SYMPTOM1</th>\n",
              "      <th>SYMPTOMVERSION1</th>\n",
              "      <th>SYMPTOM2</th>\n",
              "      <th>SYMPTOMVERSION2</th>\n",
              "      <th>SYMPTOM3</th>\n",
              "      <th>SYMPTOMVERSION3</th>\n",
              "      <th>SYMPTOM4</th>\n",
              "      <th>SYMPTOMVERSION4</th>\n",
              "      <th>SYMPTOM5</th>\n",
              "      <th>SYMPTOMVERSION5</th>\n",
              "      <th>VAX_TYPE</th>\n",
              "      <th>VAX_MANU</th>\n",
              "      <th>VAX_DOSE_SERIES</th>\n",
              "      <th>VAX_ROUTE</th>\n",
              "      <th>VAX_SITE</th>\n",
              "    </tr>\n",
              "    <tr>\n",
              "      <th>VAERS_ID</th>\n",
              "      <th></th>\n",
              "      <th></th>\n",
              "      <th></th>\n",
              "      <th></th>\n",
              "      <th></th>\n",
              "      <th></th>\n",
              "      <th></th>\n",
              "      <th></th>\n",
              "      <th></th>\n",
              "      <th></th>\n",
              "      <th></th>\n",
              "      <th></th>\n",
              "      <th></th>\n",
              "      <th></th>\n",
              "      <th></th>\n",
              "      <th></th>\n",
              "      <th></th>\n",
              "      <th></th>\n",
              "      <th></th>\n",
              "      <th></th>\n",
              "      <th></th>\n",
              "      <th></th>\n",
              "      <th></th>\n",
              "      <th></th>\n",
              "      <th></th>\n",
              "      <th></th>\n",
              "      <th></th>\n",
              "      <th></th>\n",
              "      <th></th>\n",
              "      <th></th>\n",
              "      <th></th>\n",
              "      <th></th>\n",
              "      <th></th>\n",
              "      <th></th>\n",
              "      <th></th>\n",
              "      <th></th>\n",
              "      <th></th>\n",
              "      <th></th>\n",
              "      <th></th>\n",
              "      <th></th>\n",
              "      <th></th>\n",
              "      <th></th>\n",
              "      <th></th>\n",
              "      <th></th>\n",
              "      <th></th>\n",
              "      <th></th>\n",
              "    </tr>\n",
              "  </thead>\n",
              "  <tbody>\n",
              "    <tr>\n",
              "      <th>918862</th>\n",
              "      <td>2021-01-04</td>\n",
              "      <td>MA</td>\n",
              "      <td>36.0</td>\n",
              "      <td>36.0</td>\n",
              "      <td>NaN</td>\n",
              "      <td>M</td>\n",
              "      <td>4:20 Received Vaccine  4:30: Began with feelin...</td>\n",
              "      <td>NaN</td>\n",
              "      <td>NaT</td>\n",
              "      <td>NaN</td>\n",
              "      <td>NaN</td>\n",
              "      <td>NaN</td>\n",
              "      <td>NaN</td>\n",
              "      <td>NaN</td>\n",
              "      <td>NaN</td>\n",
              "      <td>Y</td>\n",
              "      <td>2020-12-30</td>\n",
              "      <td>2020-12-30</td>\n",
              "      <td>0.0</td>\n",
              "      <td>NaN</td>\n",
              "      <td>PVT</td>\n",
              "      <td>NaN</td>\n",
              "      <td>NaN</td>\n",
              "      <td>NaN</td>\n",
              "      <td>no known chronic illness</td>\n",
              "      <td>NaN</td>\n",
              "      <td>2</td>\n",
              "      <td>NaN</td>\n",
              "      <td>NaN</td>\n",
              "      <td>NaN</td>\n",
              "      <td>NaN</td>\n",
              "      <td>Dizziness</td>\n",
              "      <td>23.1</td>\n",
              "      <td>Erythema</td>\n",
              "      <td>23.1</td>\n",
              "      <td>Flushing</td>\n",
              "      <td>23.1</td>\n",
              "      <td>Hot flush</td>\n",
              "      <td>23.1</td>\n",
              "      <td>Sensory disturbance</td>\n",
              "      <td>23.1</td>\n",
              "      <td>COVID19</td>\n",
              "      <td>MODERNA</td>\n",
              "      <td>7+</td>\n",
              "      <td>IM</td>\n",
              "      <td>LA</td>\n",
              "    </tr>\n",
              "    <tr>\n",
              "      <th>919339</th>\n",
              "      <td>2021-01-04</td>\n",
              "      <td>ND</td>\n",
              "      <td>66.0</td>\n",
              "      <td>66.0</td>\n",
              "      <td>NaN</td>\n",
              "      <td>F</td>\n",
              "      <td>The injection was given too high and infiltrat...</td>\n",
              "      <td>NaN</td>\n",
              "      <td>NaT</td>\n",
              "      <td>NaN</td>\n",
              "      <td>NaN</td>\n",
              "      <td>NaN</td>\n",
              "      <td>NaN</td>\n",
              "      <td>NaN</td>\n",
              "      <td>NaN</td>\n",
              "      <td>Y</td>\n",
              "      <td>2020-12-31</td>\n",
              "      <td>2021-01-01</td>\n",
              "      <td>1.0</td>\n",
              "      <td>NaN</td>\n",
              "      <td>PVT</td>\n",
              "      <td>NaN</td>\n",
              "      <td>NaN</td>\n",
              "      <td>NaN</td>\n",
              "      <td>rheumatoid arthritis</td>\n",
              "      <td>NaN</td>\n",
              "      <td>2</td>\n",
              "      <td>NaN</td>\n",
              "      <td>NaN</td>\n",
              "      <td>NaN</td>\n",
              "      <td>sulfa drugs</td>\n",
              "      <td>Arthralgia</td>\n",
              "      <td>23.1</td>\n",
              "      <td>Wrong technique in product usage process</td>\n",
              "      <td>23.1</td>\n",
              "      <td>NaN</td>\n",
              "      <td>NaN</td>\n",
              "      <td>NaN</td>\n",
              "      <td>NaN</td>\n",
              "      <td>NaN</td>\n",
              "      <td>NaN</td>\n",
              "      <td>COVID19</td>\n",
              "      <td>MODERNA</td>\n",
              "      <td>7+</td>\n",
              "      <td>IM</td>\n",
              "      <td>RA</td>\n",
              "    </tr>\n",
              "    <tr>\n",
              "      <th>921509</th>\n",
              "      <td>2021-01-05</td>\n",
              "      <td>NE</td>\n",
              "      <td>43.0</td>\n",
              "      <td>43.0</td>\n",
              "      <td>NaN</td>\n",
              "      <td>F</td>\n",
              "      <td>Redness and swelling about 2 inches around sit...</td>\n",
              "      <td>NaN</td>\n",
              "      <td>NaT</td>\n",
              "      <td>NaN</td>\n",
              "      <td>NaN</td>\n",
              "      <td>NaN</td>\n",
              "      <td>NaN</td>\n",
              "      <td>NaN</td>\n",
              "      <td>NaN</td>\n",
              "      <td>N</td>\n",
              "      <td>2020-12-28</td>\n",
              "      <td>2020-12-29</td>\n",
              "      <td>1.0</td>\n",
              "      <td>NaN</td>\n",
              "      <td>PVT</td>\n",
              "      <td>NaN</td>\n",
              "      <td>metoprolol 25mg po daily, omeprazole 20mg po d...</td>\n",
              "      <td>NaN</td>\n",
              "      <td>NaN</td>\n",
              "      <td>NaN</td>\n",
              "      <td>2</td>\n",
              "      <td>NaN</td>\n",
              "      <td>Y</td>\n",
              "      <td>NaN</td>\n",
              "      <td>NaN</td>\n",
              "      <td>Injection site erythema</td>\n",
              "      <td>23.1</td>\n",
              "      <td>Injection site swelling</td>\n",
              "      <td>23.1</td>\n",
              "      <td>NaN</td>\n",
              "      <td>NaN</td>\n",
              "      <td>NaN</td>\n",
              "      <td>NaN</td>\n",
              "      <td>NaN</td>\n",
              "      <td>NaN</td>\n",
              "      <td>COVID19</td>\n",
              "      <td>MODERNA</td>\n",
              "      <td>7+</td>\n",
              "      <td>IM</td>\n",
              "      <td>RA</td>\n",
              "    </tr>\n",
              "    <tr>\n",
              "      <th>921996</th>\n",
              "      <td>2021-01-05</td>\n",
              "      <td>TX</td>\n",
              "      <td>38.0</td>\n",
              "      <td>38.0</td>\n",
              "      <td>NaN</td>\n",
              "      <td>F</td>\n",
              "      <td>- This is client's 1st dose, client is a recep...</td>\n",
              "      <td>NaN</td>\n",
              "      <td>NaT</td>\n",
              "      <td>NaN</td>\n",
              "      <td>NaN</td>\n",
              "      <td>NaN</td>\n",
              "      <td>NaN</td>\n",
              "      <td>NaN</td>\n",
              "      <td>NaN</td>\n",
              "      <td>N</td>\n",
              "      <td>2020-12-28</td>\n",
              "      <td>2020-12-28</td>\n",
              "      <td>0.0</td>\n",
              "      <td>NaN</td>\n",
              "      <td>PUB</td>\n",
              "      <td>NaN</td>\n",
              "      <td>flanax (acetaminophen)</td>\n",
              "      <td>NaN</td>\n",
              "      <td>NaN</td>\n",
              "      <td>NaN</td>\n",
              "      <td>2</td>\n",
              "      <td>NaN</td>\n",
              "      <td>Y</td>\n",
              "      <td>NaN</td>\n",
              "      <td>NaN</td>\n",
              "      <td>Contusion</td>\n",
              "      <td>23.1</td>\n",
              "      <td>Headache</td>\n",
              "      <td>23.1</td>\n",
              "      <td>Injection site abscess</td>\n",
              "      <td>23.1</td>\n",
              "      <td>Injection site erythema</td>\n",
              "      <td>23.1</td>\n",
              "      <td>Injection site pain</td>\n",
              "      <td>23.1</td>\n",
              "      <td>COVID19</td>\n",
              "      <td>MODERNA</td>\n",
              "      <td>7+</td>\n",
              "      <td>IM</td>\n",
              "      <td>LA</td>\n",
              "    </tr>\n",
              "    <tr>\n",
              "      <th>921996</th>\n",
              "      <td>2021-01-05</td>\n",
              "      <td>TX</td>\n",
              "      <td>38.0</td>\n",
              "      <td>38.0</td>\n",
              "      <td>NaN</td>\n",
              "      <td>F</td>\n",
              "      <td>- This is client's 1st dose, client is a recep...</td>\n",
              "      <td>NaN</td>\n",
              "      <td>NaT</td>\n",
              "      <td>NaN</td>\n",
              "      <td>NaN</td>\n",
              "      <td>NaN</td>\n",
              "      <td>NaN</td>\n",
              "      <td>NaN</td>\n",
              "      <td>NaN</td>\n",
              "      <td>N</td>\n",
              "      <td>2020-12-28</td>\n",
              "      <td>2020-12-28</td>\n",
              "      <td>0.0</td>\n",
              "      <td>NaN</td>\n",
              "      <td>PUB</td>\n",
              "      <td>NaN</td>\n",
              "      <td>flanax (acetaminophen)</td>\n",
              "      <td>NaN</td>\n",
              "      <td>NaN</td>\n",
              "      <td>NaN</td>\n",
              "      <td>2</td>\n",
              "      <td>NaN</td>\n",
              "      <td>Y</td>\n",
              "      <td>NaN</td>\n",
              "      <td>NaN</td>\n",
              "      <td>Injection site pruritus</td>\n",
              "      <td>23.1</td>\n",
              "      <td>Injection site swelling</td>\n",
              "      <td>23.1</td>\n",
              "      <td>Injection site warmth</td>\n",
              "      <td>23.1</td>\n",
              "      <td>NaN</td>\n",
              "      <td>NaN</td>\n",
              "      <td>NaN</td>\n",
              "      <td>NaN</td>\n",
              "      <td>COVID19</td>\n",
              "      <td>MODERNA</td>\n",
              "      <td>7+</td>\n",
              "      <td>IM</td>\n",
              "      <td>LA</td>\n",
              "    </tr>\n",
              "  </tbody>\n",
              "</table>\n",
              "</div>"
            ],
            "text/plain": [
              "           RECVDATE STATE  AGE_YRS  ...  VAX_DOSE_SERIES  VAX_ROUTE VAX_SITE\n",
              "VAERS_ID                            ...                                     \n",
              "918862   2021-01-04    MA     36.0  ...               7+         IM       LA\n",
              "919339   2021-01-04    ND     66.0  ...               7+         IM       RA\n",
              "921509   2021-01-05    NE     43.0  ...               7+         IM       RA\n",
              "921996   2021-01-05    TX     38.0  ...               7+         IM       LA\n",
              "921996   2021-01-05    TX     38.0  ...               7+         IM       LA\n",
              "\n",
              "[5 rows x 46 columns]"
            ]
          },
          "metadata": {
            "tags": []
          },
          "execution_count": 259
        }
      ]
    },
    {
      "cell_type": "code",
      "metadata": {
        "colab": {
          "base_uri": "https://localhost:8080/"
        },
        "id": "q3Y8BF_vCGYp",
        "outputId": "77677ad9-e25d-4923-b912-a31b98cb55ad"
      },
      "source": [
        "# ruta de inoculacion de la vacuna .. interesante...\n",
        "dataset_covid.VAX_ROUTE.value_counts()"
      ],
      "execution_count": null,
      "outputs": [
        {
          "output_type": "execute_result",
          "data": {
            "text/plain": [
              "IM     303673\n",
              "SYR    137097\n",
              "OT      17190\n",
              "UN       3548\n",
              "SC       2075\n",
              "ID        367\n",
              "JET       119\n",
              "IN          4\n",
              "PO          3\n",
              "Name: VAX_ROUTE, dtype: int64"
            ]
          },
          "metadata": {
            "tags": []
          },
          "execution_count": 260
        }
      ]
    },
    {
      "cell_type": "code",
      "metadata": {
        "colab": {
          "base_uri": "https://localhost:8080/"
        },
        "id": "pgC5YTrFCk9E",
        "outputId": "46d64ecc-9c52-45e8-9edd-7a23bbcccc55"
      },
      "source": [
        "# zona anatomica de ncoulacion de vacuna\n",
        "dataset_covid.VAX_SITE.value_counts()"
      ],
      "execution_count": null,
      "outputs": [
        {
          "output_type": "execute_result",
          "data": {
            "text/plain": [
              "LA    338394\n",
              "RA    115239\n",
              "UN     11224\n",
              "AR     11118\n",
              "OT       409\n",
              "LL       187\n",
              "RL       154\n",
              "GM        11\n",
              "LG         9\n",
              "NS         6\n",
              "MO         5\n",
              "Name: VAX_SITE, dtype: int64"
            ]
          },
          "metadata": {
            "tags": []
          },
          "execution_count": 261
        }
      ]
    },
    {
      "cell_type": "markdown",
      "metadata": {
        "id": "GxqjEfv_gQ-W"
      },
      "source": [
        "**Obs.** Cantidad exhorbitante de reportes de vacunas de Covid19 (casi 98% de los datos)"
      ]
    },
    {
      "cell_type": "markdown",
      "metadata": {
        "id": "-_d1MqDEguNx"
      },
      "source": [
        "**Obs.** Interesante los datos de el frabricante desconocido... por motivos de maleabilidad de los datos los eliminaremos al no ser muy representativo frente a los demas datos (representa solo un 0.16% de datos totales de vacunas para covid19)\n",
        "\n"
      ]
    },
    {
      "cell_type": "markdown",
      "metadata": {
        "id": "j_WxrLR_kXaj"
      },
      "source": [
        "# Notas previas"
      ]
    },
    {
      "cell_type": "markdown",
      "metadata": {
        "id": "S0NSPX1TkXUX"
      },
      "source": [
        "POSIBLES OBJETIVOS DEL TRABAJO DE INVESTIGACION:\n",
        "\n",
        "1. Personalizacion de las vacunas Moderna, Pfizer  y Johnson & Johnson pra reducir efectos adversos en perfiles especificos en pacientes. Este objetivo requeriria de un dataset de control con pacientes que no presentaron reacciones adversas a las vacunas.\n",
        "\n",
        "- Target: tipo de vacuna\n",
        "- Features: Datos de los pacientes (alergias, comorbolidades, edad, sexo, \n",
        "enfermedades cronicas y actuales (historia clinica), vacunas previas, sintomas post aplicacion, hospitalizacion y dias de hospitilizacion, discapacidades...)\n",
        "\n",
        "2. Series de tiempo frente antes y despues de la fecha de vacunacion.\n",
        "\n",
        "3. Predecir el sexo y/o rango de edad basado en los sintomas presetnados post aplicacion de las vacunas A. B.\n",
        "\n",
        "4. Predecir si el paciente requiere hospitalizacion basado en los sintomas que presenta al inocularse la vacuna por clusters (no supervisado).\n",
        "\n",
        "5. Predecir que sintomas puede presentar el paciente en base a su sexo y la vacuna inoculada."
      ]
    }
  ]
}