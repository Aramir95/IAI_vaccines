{
  "nbformat": 4,
  "nbformat_minor": 0,
  "metadata": {
    "colab": {
      "name": "dataWranglingVAERS(David).ipynb",
      "provenance": [],
      "collapsed_sections": [
        "JuvK8JJdmc9q",
        "j7Bl0bgahnL_",
        "besE6aGoRAZz",
        "8bqFkDXfgNXZ",
        "YJVmhflahYqL",
        "_rgpEBkXkFJ1",
        "JHM5t6ZYn9bi",
        "C4xYNJYHHimr",
        "wowK0EdoHrks",
        "EfpRNl5XS_2u",
        "VI_jImW1gORO",
        "uR0X04-pF45V",
        "92U_XkTOKkMC",
        "JeTsNFY1BCCS",
        "FsOCsGDqsSBY",
        "EjYcZplxJjzK",
        "pryXOLaxtoNN",
        "loOk5Qh9u1ls",
        "j_WxrLR_kXaj"
      ],
      "include_colab_link": true
    },
    "kernelspec": {
      "name": "python3",
      "display_name": "Python 3"
    },
    "language_info": {
      "name": "python"
    }
  },
  "cells": [
    {
      "cell_type": "markdown",
      "metadata": {
        "id": "view-in-github",
        "colab_type": "text"
      },
      "source": [
        "<a href=\"https://colab.research.google.com/github/yodavo/IAI_vaccines/blob/main/data_wrangling/dataWranglingVAERS(David).ipynb\" target=\"_parent\"><img src=\"https://colab.research.google.com/assets/colab-badge.svg\" alt=\"Open In Colab\"/></a>"
      ]
    },
    {
      "cell_type": "markdown",
      "metadata": {
        "id": "JuvK8JJdmc9q"
      },
      "source": [
        "# Paquetes"
      ]
    },
    {
      "cell_type": "code",
      "metadata": {
        "colab": {
          "base_uri": "https://localhost:8080/"
        },
        "id": "U6nGVtNAHfvK",
        "outputId": "aaa00b9e-942a-4fdd-dd1c-5c42ff390665"
      },
      "source": [
        "# Instalar paquetes no disponibles\n",
        "!pip install squarify\n",
        "!pip install fuzzywuzzy\n",
        "!pip install -U dataprep\n",
        "\n",
        "# Para importar la data\n",
        "import os\n",
        "\n",
        "# Importar para manipulacion de datos\n",
        "import numpy as np\n",
        "import pandas as pd\n",
        "import datetime as dt\n",
        "from statistics import *\n",
        "\n",
        "# Importar para Visualizacion \n",
        "import matplotlib.pyplot as plt\n",
        "import missingno as msno\n",
        "import seaborn as sns\n",
        "plt.style.use('seaborn-whitegrid')\n",
        "import warnings # para evitar warnings\n",
        "warnings.filterwarnings('ignore')\n",
        "import textwrap\n",
        "from textwrap import wrap\n",
        "import squarify\n",
        "import matplotlib.dates as mdates\n",
        "from matplotlib.dates import DateFormatter\n",
        "\n",
        "# Importar Dependencias\n",
        "%matplotlib inline\n",
        "%load_ext google.colab.data_table"
      ],
      "execution_count": 1,
      "outputs": [
        {
          "output_type": "stream",
          "text": [
            "Requirement already satisfied: squarify in /usr/local/lib/python3.7/dist-packages (0.4.3)\n",
            "Requirement already satisfied: fuzzywuzzy in /usr/local/lib/python3.7/dist-packages (0.18.0)\n",
            "Requirement already satisfied: dataprep in /usr/local/lib/python3.7/dist-packages (0.3.0)\n",
            "Requirement already satisfied: pandas<2.0,>=1.1 in /usr/local/lib/python3.7/dist-packages (from dataprep) (1.1.5)\n",
            "Requirement already satisfied: bottleneck<2.0,>=1.3 in /usr/local/lib/python3.7/dist-packages (from dataprep) (1.3.2)\n",
            "Requirement already satisfied: nltk<4.0,>=3.5 in /usr/local/lib/python3.7/dist-packages (from dataprep) (3.6.2)\n",
            "Requirement already satisfied: regex<2021.0.0,>=2020.10.15 in /usr/local/lib/python3.7/dist-packages (from dataprep) (2020.11.13)\n",
            "Requirement already satisfied: numpy<2,>=1 in /usr/local/lib/python3.7/dist-packages (from dataprep) (1.19.5)\n",
            "Requirement already satisfied: wordcloud<2.0,>=1.8 in /usr/local/lib/python3.7/dist-packages (from dataprep) (1.8.1)\n",
            "Requirement already satisfied: pydantic<2.0,>=1.6 in /usr/local/lib/python3.7/dist-packages (from dataprep) (1.8.2)\n",
            "Requirement already satisfied: usaddress<0.6.0,>=0.5.10 in /usr/local/lib/python3.7/dist-packages (from dataprep) (0.5.10)\n",
            "Requirement already satisfied: bokeh<3,>=2 in /usr/local/lib/python3.7/dist-packages (from dataprep) (2.3.3)\n",
            "Requirement already satisfied: python-Levenshtein<0.13.0,>=0.12.2 in /usr/local/lib/python3.7/dist-packages (from dataprep) (0.12.2)\n",
            "Requirement already satisfied: metaphone<0.7,>=0.6 in /usr/local/lib/python3.7/dist-packages (from dataprep) (0.6)\n",
            "Requirement already satisfied: scipy<2,>=1 in /usr/local/lib/python3.7/dist-packages (from dataprep) (1.4.1)\n",
            "Requirement already satisfied: aiohttp<4.0,>=3.6 in /usr/local/lib/python3.7/dist-packages (from dataprep) (3.7.4.post0)\n",
            "Requirement already satisfied: jsonpath-ng<2.0,>=1.5 in /usr/local/lib/python3.7/dist-packages (from dataprep) (1.5.3)\n",
            "Requirement already satisfied: ipywidgets<8.0,>=7.5 in /usr/local/lib/python3.7/dist-packages (from dataprep) (7.6.3)\n",
            "Requirement already satisfied: tqdm<5.0,>=4.48 in /usr/local/lib/python3.7/dist-packages (from dataprep) (4.62.0)\n",
            "Requirement already satisfied: jinja2<3.0,>=2.11 in /usr/local/lib/python3.7/dist-packages (from dataprep) (2.11.3)\n",
            "Requirement already satisfied: dask[array,dataframe,delayed]<3.0,>=2.25 in /usr/local/lib/python3.7/dist-packages (from dataprep) (2.30.0)\n",
            "Requirement already satisfied: multidict<7.0,>=4.5 in /usr/local/lib/python3.7/dist-packages (from aiohttp<4.0,>=3.6->dataprep) (5.1.0)\n",
            "Requirement already satisfied: yarl<2.0,>=1.0 in /usr/local/lib/python3.7/dist-packages (from aiohttp<4.0,>=3.6->dataprep) (1.6.3)\n",
            "Requirement already satisfied: attrs>=17.3.0 in /usr/local/lib/python3.7/dist-packages (from aiohttp<4.0,>=3.6->dataprep) (21.2.0)\n",
            "Requirement already satisfied: chardet<5.0,>=2.0 in /usr/local/lib/python3.7/dist-packages (from aiohttp<4.0,>=3.6->dataprep) (3.0.4)\n",
            "Requirement already satisfied: typing-extensions>=3.6.5 in /usr/local/lib/python3.7/dist-packages (from aiohttp<4.0,>=3.6->dataprep) (3.7.4.3)\n",
            "Requirement already satisfied: async-timeout<4.0,>=3.0 in /usr/local/lib/python3.7/dist-packages (from aiohttp<4.0,>=3.6->dataprep) (3.0.1)\n",
            "Requirement already satisfied: PyYAML>=3.10 in /usr/local/lib/python3.7/dist-packages (from bokeh<3,>=2->dataprep) (3.13)\n",
            "Requirement already satisfied: packaging>=16.8 in /usr/local/lib/python3.7/dist-packages (from bokeh<3,>=2->dataprep) (21.0)\n",
            "Requirement already satisfied: tornado>=5.1 in /usr/local/lib/python3.7/dist-packages (from bokeh<3,>=2->dataprep) (5.1.1)\n",
            "Requirement already satisfied: python-dateutil>=2.1 in /usr/local/lib/python3.7/dist-packages (from bokeh<3,>=2->dataprep) (2.8.2)\n",
            "Requirement already satisfied: pillow>=7.1.0 in /usr/local/lib/python3.7/dist-packages (from bokeh<3,>=2->dataprep) (7.1.2)\n",
            "Requirement already satisfied: toolz>=0.8.2 in /usr/local/lib/python3.7/dist-packages (from dask[array,dataframe,delayed]<3.0,>=2.25->dataprep) (0.11.1)\n",
            "Requirement already satisfied: cloudpickle>=0.2.2 in /usr/local/lib/python3.7/dist-packages (from dask[array,dataframe,delayed]<3.0,>=2.25->dataprep) (1.3.0)\n",
            "Requirement already satisfied: partd>=0.3.10 in /usr/local/lib/python3.7/dist-packages (from dask[array,dataframe,delayed]<3.0,>=2.25->dataprep) (1.2.0)\n",
            "Requirement already satisfied: fsspec>=0.6.0 in /usr/local/lib/python3.7/dist-packages (from dask[array,dataframe,delayed]<3.0,>=2.25->dataprep) (2021.7.0)\n",
            "Requirement already satisfied: nbformat>=4.2.0 in /usr/local/lib/python3.7/dist-packages (from ipywidgets<8.0,>=7.5->dataprep) (5.1.3)\n",
            "Requirement already satisfied: ipykernel>=4.5.1 in /usr/local/lib/python3.7/dist-packages (from ipywidgets<8.0,>=7.5->dataprep) (4.10.1)\n",
            "Requirement already satisfied: traitlets>=4.3.1 in /usr/local/lib/python3.7/dist-packages (from ipywidgets<8.0,>=7.5->dataprep) (5.0.5)\n",
            "Requirement already satisfied: widgetsnbextension~=3.5.0 in /usr/local/lib/python3.7/dist-packages (from ipywidgets<8.0,>=7.5->dataprep) (3.5.1)\n",
            "Requirement already satisfied: jupyterlab-widgets>=1.0.0 in /usr/local/lib/python3.7/dist-packages (from ipywidgets<8.0,>=7.5->dataprep) (1.0.0)\n",
            "Requirement already satisfied: ipython>=4.0.0 in /usr/local/lib/python3.7/dist-packages (from ipywidgets<8.0,>=7.5->dataprep) (5.5.0)\n",
            "Requirement already satisfied: jupyter-client in /usr/local/lib/python3.7/dist-packages (from ipykernel>=4.5.1->ipywidgets<8.0,>=7.5->dataprep) (5.3.5)\n",
            "Requirement already satisfied: simplegeneric>0.8 in /usr/local/lib/python3.7/dist-packages (from ipython>=4.0.0->ipywidgets<8.0,>=7.5->dataprep) (0.8.1)\n",
            "Requirement already satisfied: pickleshare in /usr/local/lib/python3.7/dist-packages (from ipython>=4.0.0->ipywidgets<8.0,>=7.5->dataprep) (0.7.5)\n",
            "Requirement already satisfied: setuptools>=18.5 in /usr/local/lib/python3.7/dist-packages (from ipython>=4.0.0->ipywidgets<8.0,>=7.5->dataprep) (57.2.0)\n",
            "Requirement already satisfied: prompt-toolkit<2.0.0,>=1.0.4 in /usr/local/lib/python3.7/dist-packages (from ipython>=4.0.0->ipywidgets<8.0,>=7.5->dataprep) (1.0.18)\n",
            "Requirement already satisfied: pygments in /usr/local/lib/python3.7/dist-packages (from ipython>=4.0.0->ipywidgets<8.0,>=7.5->dataprep) (2.6.1)\n",
            "Requirement already satisfied: pexpect in /usr/local/lib/python3.7/dist-packages (from ipython>=4.0.0->ipywidgets<8.0,>=7.5->dataprep) (4.8.0)\n",
            "Requirement already satisfied: decorator in /usr/local/lib/python3.7/dist-packages (from ipython>=4.0.0->ipywidgets<8.0,>=7.5->dataprep) (4.4.2)\n",
            "Requirement already satisfied: MarkupSafe>=0.23 in /usr/local/lib/python3.7/dist-packages (from jinja2<3.0,>=2.11->dataprep) (2.0.1)\n",
            "Requirement already satisfied: ply in /usr/local/lib/python3.7/dist-packages (from jsonpath-ng<2.0,>=1.5->dataprep) (3.11)\n",
            "Requirement already satisfied: six in /usr/local/lib/python3.7/dist-packages (from jsonpath-ng<2.0,>=1.5->dataprep) (1.15.0)\n",
            "Requirement already satisfied: jupyter-core in /usr/local/lib/python3.7/dist-packages (from nbformat>=4.2.0->ipywidgets<8.0,>=7.5->dataprep) (4.7.1)\n",
            "Requirement already satisfied: jsonschema!=2.5.0,>=2.4 in /usr/local/lib/python3.7/dist-packages (from nbformat>=4.2.0->ipywidgets<8.0,>=7.5->dataprep) (2.6.0)\n",
            "Requirement already satisfied: ipython-genutils in /usr/local/lib/python3.7/dist-packages (from nbformat>=4.2.0->ipywidgets<8.0,>=7.5->dataprep) (0.2.0)\n",
            "Requirement already satisfied: joblib in /usr/local/lib/python3.7/dist-packages (from nltk<4.0,>=3.5->dataprep) (1.0.1)\n",
            "Requirement already satisfied: click in /usr/local/lib/python3.7/dist-packages (from nltk<4.0,>=3.5->dataprep) (7.1.2)\n",
            "Requirement already satisfied: pyparsing>=2.0.2 in /usr/local/lib/python3.7/dist-packages (from packaging>=16.8->bokeh<3,>=2->dataprep) (2.4.7)\n",
            "Requirement already satisfied: pytz>=2017.2 in /usr/local/lib/python3.7/dist-packages (from pandas<2.0,>=1.1->dataprep) (2018.9)\n",
            "Requirement already satisfied: locket in /usr/local/lib/python3.7/dist-packages (from partd>=0.3.10->dask[array,dataframe,delayed]<3.0,>=2.25->dataprep) (0.2.1)\n",
            "Requirement already satisfied: wcwidth in /usr/local/lib/python3.7/dist-packages (from prompt-toolkit<2.0.0,>=1.0.4->ipython>=4.0.0->ipywidgets<8.0,>=7.5->dataprep) (0.2.5)\n",
            "Requirement already satisfied: probableparsing in /usr/local/lib/python3.7/dist-packages (from usaddress<0.6.0,>=0.5.10->dataprep) (0.0.1)\n",
            "Requirement already satisfied: python-crfsuite>=0.7 in /usr/local/lib/python3.7/dist-packages (from usaddress<0.6.0,>=0.5.10->dataprep) (0.9.7)\n",
            "Requirement already satisfied: future>=0.14 in /usr/local/lib/python3.7/dist-packages (from usaddress<0.6.0,>=0.5.10->dataprep) (0.16.0)\n",
            "Requirement already satisfied: notebook>=4.4.1 in /usr/local/lib/python3.7/dist-packages (from widgetsnbextension~=3.5.0->ipywidgets<8.0,>=7.5->dataprep) (5.3.1)\n",
            "Requirement already satisfied: Send2Trash in /usr/local/lib/python3.7/dist-packages (from notebook>=4.4.1->widgetsnbextension~=3.5.0->ipywidgets<8.0,>=7.5->dataprep) (1.8.0)\n",
            "Requirement already satisfied: nbconvert in /usr/local/lib/python3.7/dist-packages (from notebook>=4.4.1->widgetsnbextension~=3.5.0->ipywidgets<8.0,>=7.5->dataprep) (5.6.1)\n",
            "Requirement already satisfied: terminado>=0.8.1 in /usr/local/lib/python3.7/dist-packages (from notebook>=4.4.1->widgetsnbextension~=3.5.0->ipywidgets<8.0,>=7.5->dataprep) (0.10.1)\n",
            "Requirement already satisfied: pyzmq>=13 in /usr/local/lib/python3.7/dist-packages (from jupyter-client->ipykernel>=4.5.1->ipywidgets<8.0,>=7.5->dataprep) (22.2.1)\n",
            "Requirement already satisfied: ptyprocess in /usr/local/lib/python3.7/dist-packages (from terminado>=0.8.1->notebook>=4.4.1->widgetsnbextension~=3.5.0->ipywidgets<8.0,>=7.5->dataprep) (0.7.0)\n",
            "Requirement already satisfied: matplotlib in /usr/local/lib/python3.7/dist-packages (from wordcloud<2.0,>=1.8->dataprep) (3.2.2)\n",
            "Requirement already satisfied: idna>=2.0 in /usr/local/lib/python3.7/dist-packages (from yarl<2.0,>=1.0->aiohttp<4.0,>=3.6->dataprep) (2.10)\n",
            "Requirement already satisfied: kiwisolver>=1.0.1 in /usr/local/lib/python3.7/dist-packages (from matplotlib->wordcloud<2.0,>=1.8->dataprep) (1.3.1)\n",
            "Requirement already satisfied: cycler>=0.10 in /usr/local/lib/python3.7/dist-packages (from matplotlib->wordcloud<2.0,>=1.8->dataprep) (0.10.0)\n",
            "Requirement already satisfied: pandocfilters>=1.4.1 in /usr/local/lib/python3.7/dist-packages (from nbconvert->notebook>=4.4.1->widgetsnbextension~=3.5.0->ipywidgets<8.0,>=7.5->dataprep) (1.4.3)\n",
            "Requirement already satisfied: defusedxml in /usr/local/lib/python3.7/dist-packages (from nbconvert->notebook>=4.4.1->widgetsnbextension~=3.5.0->ipywidgets<8.0,>=7.5->dataprep) (0.7.1)\n",
            "Requirement already satisfied: bleach in /usr/local/lib/python3.7/dist-packages (from nbconvert->notebook>=4.4.1->widgetsnbextension~=3.5.0->ipywidgets<8.0,>=7.5->dataprep) (4.0.0)\n",
            "Requirement already satisfied: testpath in /usr/local/lib/python3.7/dist-packages (from nbconvert->notebook>=4.4.1->widgetsnbextension~=3.5.0->ipywidgets<8.0,>=7.5->dataprep) (0.5.0)\n",
            "Requirement already satisfied: entrypoints>=0.2.2 in /usr/local/lib/python3.7/dist-packages (from nbconvert->notebook>=4.4.1->widgetsnbextension~=3.5.0->ipywidgets<8.0,>=7.5->dataprep) (0.3)\n",
            "Requirement already satisfied: mistune<2,>=0.8.1 in /usr/local/lib/python3.7/dist-packages (from nbconvert->notebook>=4.4.1->widgetsnbextension~=3.5.0->ipywidgets<8.0,>=7.5->dataprep) (0.8.4)\n",
            "Requirement already satisfied: webencodings in /usr/local/lib/python3.7/dist-packages (from bleach->nbconvert->notebook>=4.4.1->widgetsnbextension~=3.5.0->ipywidgets<8.0,>=7.5->dataprep) (0.5.1)\n"
          ],
          "name": "stdout"
        }
      ]
    },
    {
      "cell_type": "markdown",
      "metadata": {
        "id": "j7Bl0bgahnL_"
      },
      "source": [
        "# Acondicionamiento de Drive y Colab"
      ]
    },
    {
      "cell_type": "code",
      "metadata": {
        "colab": {
          "base_uri": "https://localhost:8080/"
        },
        "id": "vSb_YWYDv1Mq",
        "outputId": "1afcb7a7-e36e-4139-c81a-db717b58ce93"
      },
      "source": [
        "from google.colab import drive\n",
        "drive.mount('/content/drive')\n",
        "\n",
        "# Entrando a la carpeta de trabajo\n",
        "%cd '/content/drive/MyDrive/Colab Notebooks/Diplomado-UTEC/Modulo5/dataset'"
      ],
      "execution_count": 2,
      "outputs": [
        {
          "output_type": "stream",
          "text": [
            "Drive already mounted at /content/drive; to attempt to forcibly remount, call drive.mount(\"/content/drive\", force_remount=True).\n",
            "/content/drive/MyDrive/Colab Notebooks/Diplomado-UTEC/Modulo5/dataset\n"
          ],
          "name": "stdout"
        }
      ]
    },
    {
      "cell_type": "markdown",
      "metadata": {
        "id": "besE6aGoRAZz"
      },
      "source": [
        "# Carga de datos"
      ]
    },
    {
      "cell_type": "code",
      "metadata": {
        "colab": {
          "base_uri": "https://localhost:8080/"
        },
        "id": "9HA2VhLAIC9w",
        "outputId": "516aa847-f957-487a-9558-5d4a5083b47d"
      },
      "source": [
        "# Carga de datos\n",
        "\n",
        "# importar de VAERSData\n",
        "data = pd.read_csv('2021VAERSData.csv', index_col=0, encoding='latin-1')\n",
        "print(f'VAERSData\\ttiene: {data.shape[0]} observaciones y {data.shape[1]} variables.')\n",
        "\n",
        "# importar de VAERSVAX\n",
        "vax = pd.read_csv('2021VAERSVAX.csv', index_col=0, encoding='latin-1')\n",
        "print(f'VAERSVAX\\ttiene: {vax.shape[0]} observaciones y {vax.shape[1]} variables.')\n",
        "\n",
        "# importar de VAERSSymptoms\n",
        "symptom = pd.read_csv('2021VAERSSYMPTOMS.csv', index_col=0, encoding='latin-1')\n",
        "print(f'VAERSSymptoms\\ttiene: {symptom.shape[0]} observaciones y {symptom.shape[1]} variables.')"
      ],
      "execution_count": 3,
      "outputs": [
        {
          "output_type": "stream",
          "text": [
            "VAERSData\ttiene: 428486 observaciones y 34 variables.\n",
            "VAERSVAX\ttiene: 445358 observaciones y 7 variables.\n",
            "VAERSSymptoms\ttiene: 575022 observaciones y 10 variables.\n"
          ],
          "name": "stdout"
        }
      ]
    },
    {
      "cell_type": "markdown",
      "metadata": {
        "id": "8bqFkDXfgNXZ"
      },
      "source": [
        "# Preparacion de datos de vacunas (**VAERSVAX**)\n",
        "\n",
        "Se utilizo informacion de VAX_MANU y VAX_TYPE para hacer el filtro de:\n",
        "\n",
        "1.**VAX_MANU** -- Para eliminar 'UNKNOWN MANUFACTURER'\n",
        "2.**VAX_TYPE** -- Para filtrar vacunas de COVID19\n",
        "\n",
        "**Una vez usadas se eliminaron las siguientes variables:**\n",
        "1. **VAX_NAME** (por tener la misma informaciond de VAX_MANU)\n",
        "2.**VAX_TYPE** (por que despues del filtrado no aporta mas informacion)"
      ]
    },
    {
      "cell_type": "code",
      "metadata": {
        "colab": {
          "base_uri": "https://localhost:8080/"
        },
        "id": "RAefZ6meVFzv",
        "outputId": "2d62797f-46e8-4ba0-8101-99c4d0a9e3ce"
      },
      "source": [
        "# TRATANDO VAX\n",
        "# eliminamos frabricante desconocido y seleccionamos solamente los datos de covid19\n",
        "vac = vax.loc[(vax['VAX_MANU'] != 'UNKNOWN MANUFACTURER') & (vax['VAX_TYPE'] == 'COVID19')] \n",
        "print(vac.shape)"
      ],
      "execution_count": 4,
      "outputs": [
        {
          "output_type": "stream",
          "text": [
            "(437645, 7)\n"
          ],
          "name": "stdout"
        }
      ]
    },
    {
      "cell_type": "code",
      "metadata": {
        "colab": {
          "base_uri": "https://localhost:8080/"
        },
        "id": "OEGpL6qVeHox",
        "outputId": "e85bc113-b87d-4823-9a39-24b8ec6bf204"
      },
      "source": [
        "# eliminamos repetidos y variables de filtrado\n",
        "vacuna = vac.loc[vac.index.drop_duplicates(keep=False)]\n",
        "vacuna.drop(columns = ['VAX_NAME', 'VAX_TYPE'], inplace = True)\n",
        "print(vacuna.shape) # no duplicados, lista para ser combinada"
      ],
      "execution_count": 5,
      "outputs": [
        {
          "output_type": "stream",
          "text": [
            "(409006, 5)\n"
          ],
          "name": "stdout"
        }
      ]
    },
    {
      "cell_type": "code",
      "metadata": {
        "colab": {
          "base_uri": "https://localhost:8080/"
        },
        "id": "vVk3cKJhmksf",
        "outputId": "cb6bc909-63e8-4728-f53b-b2ea96ac54a5"
      },
      "source": [
        "# separando el dataset de vacunas de covid19\n",
        "print(f\"Tamaño dataset original: {vax.shape[0]} observaciones y {vax.shape[1]} variables\")\n",
        "print(f\"Tamaño dataset COVID19: {vacuna.shape[0]} observaciones y {vacuna.shape[1]} variables\")"
      ],
      "execution_count": 6,
      "outputs": [
        {
          "output_type": "stream",
          "text": [
            "Tamaño dataset original: 445358 observaciones y 7 variables\n",
            "Tamaño dataset COVID19: 409006 observaciones y 5 variables\n"
          ],
          "name": "stdout"
        }
      ]
    },
    {
      "cell_type": "markdown",
      "metadata": {
        "id": "YJVmhflahYqL"
      },
      "source": [
        "# Merge de datasets **VAERVAX** (vacuna) y **VAERSData** (data), basada en 'vacuna' - variable global : **dataset_covid**\n",
        "\n",
        "Lamentablemente, el dataset sympthoms esta contaminado con informacion de laboratorio, medicamenttos y otros. Por lo que no fue tomada en cuenta para el analisis."
      ]
    },
    {
      "cell_type": "code",
      "metadata": {
        "colab": {
          "base_uri": "https://localhost:8080/"
        },
        "id": "S21H1rx8c0eh",
        "outputId": "b5560db9-c621-4e32-a51e-fd2be144bbca"
      },
      "source": [
        "dataset_covid = pd.merge(vacuna, data, on='VAERS_ID')\n",
        "print(f'El dataset de VAERS para vacunas covid tiene: {dataset_covid.shape[0]} observaciones y {dataset_covid.shape[1]} variables')"
      ],
      "execution_count": 7,
      "outputs": [
        {
          "output_type": "stream",
          "text": [
            "El dataset de VAERS para vacunas covid tiene: 409006 observaciones y 39 variables\n"
          ],
          "name": "stdout"
        }
      ]
    },
    {
      "cell_type": "markdown",
      "metadata": {
        "id": "_rgpEBkXkFJ1"
      },
      "source": [
        "# **Variables que no aportan informacion para este estudio**\n",
        "\n",
        "1. **RPT_DATE** -- Fecha de llenado del reporte, no es necesaria para este estudio (preferimos la fecha de carga del reporte).\n",
        "2. **SPLTTYPE** -- Numero de proyecto de fabricante, no es necesaria para este estudio.\n",
        "3. **TODAYS_DATE** -- Fecha de subida a la base de datos, no es indispensable.\n"
      ]
    },
    {
      "cell_type": "code",
      "metadata": {
        "colab": {
          "base_uri": "https://localhost:8080/"
        },
        "id": "DAuTBwxUnjNx",
        "outputId": "2764ca77-3c80-491e-c59e-9251aca261e8"
      },
      "source": [
        "## Variables no necesarias\n",
        "rejected_col = ['RPT_DATE', 'SPLTTYPE', 'TODAYS_DATE']\n",
        "print(f\"Antes: {dataset_covid.shape[0]} observaciones y {dataset_covid.shape[1]} variables\")\n",
        "dataset_covid.drop(rejected_col, axis=1, inplace=True)\n",
        "print(f\"Despues: {dataset_covid.shape[0]} observaciones y {dataset_covid.shape[1]} variables\")"
      ],
      "execution_count": 8,
      "outputs": [
        {
          "output_type": "stream",
          "text": [
            "Antes: 409006 observaciones y 39 variables\n",
            "Despues: 409006 observaciones y 36 variables\n"
          ],
          "name": "stdout"
        }
      ]
    },
    {
      "cell_type": "markdown",
      "metadata": {
        "id": "JHM5t6ZYn9bi"
      },
      "source": [
        "# **Variables que necesitan observación por el metodo de coleccion de datos**\n",
        "\n",
        "1. **FORM_VERS ** -- En la colecta de los datos, tenemos dos factores importantes, primero la naturaleza del formulario que se utilizo para **(FORM_VERS)** teniendo dos formularios:\n",
        "\n",
        "  - Form1 - Impreso (289 observaciones)\n",
        "  - Form2 - Online (408717 observaciones)\n",
        "\n",
        "  Como observamos la version impresa tiene una cantidad no significativa en comparacion de los otros datos. **Lo que nos permite eliminarla.**\n",
        "\n",
        "  **En consecuencia de la eliminacion de los formularios 1,** existen otras variables tomadas juntamente con este formato, que se analiza a continuación:\n",
        "  2. **V_FUNDBY** -- Tipos de financiamiento usado para la vacunación. **Se elimino por poseer data insuficiente.**\n",
        "\n",
        "  3. **VAX_DOSE_SERIES** -- Numero de dosis administradas. Esta variable no es confiable debido a su *descontinuacion* en el formulario. A pesar de eso se relizo una limpieza a traves de la eliminacion de observaciones (fila entera) donde se observo mas de 3 dosis de vacunas. Importante saber que en estos casos excedentes, se observaron: \n",
        "    - MODERNA (644 obs excedentes de 3 dosis)\n",
        "    - PFIZER-BIONTECH (585 obs excedentes de 3 dosis)\n",
        "    - JANSSEN (85 obs excedentes de 3 dosis)\n",
        "  \n",
        "    **Reportando 11 fallecidos (por Moderna y Pfizer) y 17 hospitalizados por todas las vacunas (para mas detalle ver el codigo abajo).** Una vez usado para el filtro, se conservo la variables para separar por grupos de dosis de vacunas (para evaluar)\n",
        "\n",
        "  4. **HISTORY** -- Condiciones cronicas y enfermedades duraderas reportadas. Al momento de analizar la informacion se vio una cantidad de datos considerable por lo que se dio incio con la creacion de una lista de palabras a ignorar (**'palabras_erroneas', importante por que usara para todo el dataset**, ya que será actualizado en cada variable que reciba variables textuales) y **se observó que la variable tenian un valor significativo en el dataset, por lo que no fue eliminada y sera procesada por NPL mas adelante.**\n",
        "  5.**ER_VISIT** -- Visita a sala de emergencia o doctor. Debido a que tiene similitud con otras variables sera procesada mas adelante.\n",
        "\n",
        "\n",
        "\n"
      ]
    },
    {
      "cell_type": "code",
      "metadata": {
        "id": "7-YXiaYLUr3X"
      },
      "source": [
        "# Filtrando FORM_VERS para quedarnos solo con formularios 2\n",
        "dataset_covid = dataset_covid.loc[dataset_covid.FORM_VERS == 2]\n",
        "# Eliminando la variable FORM_VERS ya que no sera necesaria para mas adelante\n",
        "dataset_covid.drop(columns= 'FORM_VERS', inplace=True)"
      ],
      "execution_count": 9,
      "outputs": []
    },
    {
      "cell_type": "code",
      "metadata": {
        "id": "r-8efy4xVbVp"
      },
      "source": [
        "# Eliminando la variable V_FUNDBY por ser desestimada por pocos datos sginificativos\n",
        "dataset_covid.drop(columns= 'V_FUNDBY', inplace=True)"
      ],
      "execution_count": 10,
      "outputs": []
    },
    {
      "cell_type": "code",
      "metadata": {
        "colab": {
          "base_uri": "https://localhost:8080/"
        },
        "id": "yfr_3MkGpF61",
        "outputId": "d6918d3a-aa77-431e-d8da-fe8eb78494cc"
      },
      "source": [
        "# Analisis de VAX_DOSE_SERIES\n",
        "dataset_covid['VAX_DOSE_SERIES'] = dataset_covid['VAX_DOSE_SERIES'].str.lower().replace('unk', np.nan) # reemplazando valores desconocidos (UNK)\n",
        "\n",
        "# revision de dosis exageradas (ESTA SECCION ES SOLO PARA REPORTE, LOS DATOS SE ELIMINARON DE LA BASE DE DATOS)\n",
        "outliers_dosis = dataset_covid.loc[dataset_covid['VAX_DOSE_SERIES'].isin(['4', '5', '6', '7+'])]\n",
        "print(f'Valores fuera de los rangos de estudio: \\n')\n",
        "print(outliers_dosis.VAX_MANU.value_counts())\n",
        "print(f'\\nValores de fallecidos: \\n')\n",
        "print(outliers_dosis.groupby(['VAX_MANU', 'DIED']).size())\n",
        "print(f'\\nValores de hospitalizados: \\n')\n",
        "print(outliers_dosis.groupby(['VAX_MANU', 'HOSPITAL']).size())\n",
        "\n",
        "# eiminar valores de dosis excedentes\n",
        "print(f\"\\n\\nAntes: {dataset_covid.shape[0]} observaciones y {dataset_covid.shape[1]} variables\")\n",
        "dataset_covid = dataset_covid[~dataset_covid['VAX_DOSE_SERIES'].isin(['4', '5', '6', '7+'])]\n",
        "print(f\"Despues: {dataset_covid.shape[0]} observaciones y {dataset_covid.shape[1]} variables\")"
      ],
      "execution_count": 11,
      "outputs": [
        {
          "output_type": "stream",
          "text": [
            "Valores fuera de los rangos de estudio: \n",
            "\n",
            "MODERNA            278\n",
            "PFIZER\\BIONTECH    110\n",
            "JANSSEN             61\n",
            "Name: VAX_MANU, dtype: int64\n",
            "\n",
            "Valores de fallecidos: \n",
            "\n",
            "VAX_MANU         DIED\n",
            "MODERNA          Y       9\n",
            "PFIZER\\BIONTECH  Y       2\n",
            "dtype: int64\n",
            "\n",
            "Valores de hospitalizados: \n",
            "\n",
            "VAX_MANU         HOSPITAL\n",
            "JANSSEN          Y            2\n",
            "MODERNA          Y           11\n",
            "PFIZER\\BIONTECH  Y            4\n",
            "dtype: int64\n",
            "\n",
            "\n",
            "Antes: 408717 observaciones y 34 variables\n",
            "Despues: 408268 observaciones y 34 variables\n"
          ],
          "name": "stdout"
        }
      ]
    },
    {
      "cell_type": "code",
      "metadata": {
        "id": "ctmMuUsfVjz2"
      },
      "source": [
        "# Creacion de las lista de palabras_erroneas (palabras a ignorar)\n",
        "palabras_errones = ['none', 'no', 'comments: unknown', 'unknown',\n",
        "                    'comments: list of non-encoded patient relevant history: patient other relevant history 1: none',\n",
        "                    'medical history/concurrent conditions: no adverse event (no reported medical history)', \n",
        "                    'none reported', 'medical history/concurrent conditions: no adverse event (no medical history reported)',\n",
        "                    'medical history/concurrent conditions: no adverse event (no reported medical history.)',\n",
        "                    'none known', 'na', 'medical history/concurrent conditions: no adverse event (no medical history reported.)',\n",
        "                    'none listed', 'unk', 'comments: the patient had no known allergies.', 'no.', \n",
        "                    '0', 'non', 'yes', 'none noted', 'none stated', 'no known', 'comments: list of non-encoded patient relevant history: patient other relevant history 1: no',\n",
        "                    'nothing', 'comments: no medical history was provided by the reporter.',\n",
        "                    'comments: list of non-encoded patient relevant history: patient other relevant history 1: no',\n",
        "                    'comments: the patient had no known drug allergies.', 'nothing'\n",
        "]\n",
        "\n",
        "# Se analizara HISTORY mas adelante cuando se utilice NPL"
      ],
      "execution_count": 12,
      "outputs": []
    },
    {
      "cell_type": "markdown",
      "metadata": {
        "id": "yJpH95O_E6kb"
      },
      "source": [
        "# **Filtrado de Variables.**"
      ]
    },
    {
      "cell_type": "code",
      "metadata": {
        "id": "XUVXk31dOdjB"
      },
      "source": [
        "############################# BACKUP ######################################\n",
        "#backupMayor = dataset_covid.copy()"
      ],
      "execution_count": 15,
      "outputs": []
    },
    {
      "cell_type": "code",
      "metadata": {
        "id": "xY1d6bdsPCiS"
      },
      "source": [
        "# recover\n",
        "dataset_covid = backupMayor.copy()"
      ],
      "execution_count": 91,
      "outputs": []
    },
    {
      "cell_type": "markdown",
      "metadata": {
        "id": "C4xYNJYHHimr"
      },
      "source": [
        "##**1.RECVDATE**\n",
        "\n",
        "Fecha de ingreso de reporte. Sin cambio"
      ]
    },
    {
      "cell_type": "code",
      "metadata": {
        "id": "2y222hOsGiBI"
      },
      "source": [
        "# Procesamiento de RECVDATE, formato de fecha\n",
        "dataset_covid['RECVDATE'] =  dataset_covid['RECVDATE'].apply(pd.to_datetime, format='%m/%d/%Y') # no contiene ningun valor vacio"
      ],
      "execution_count": 92,
      "outputs": []
    },
    {
      "cell_type": "code",
      "metadata": {
        "colab": {
          "base_uri": "https://localhost:8080/",
          "height": 0
        },
        "id": "n1IaQYGHE5La",
        "outputId": "1cfa70ef-2538-41d7-e449-7872170e6dd9"
      },
      "source": [
        "# variable para plotear\n",
        "recvdate = dataset_covid['RECVDATE'].value_counts()\n",
        "\n",
        "# grafico de fecha de ingreso de reportes\n",
        "plt.figure(figsize=(20,7))\n",
        "sns.lineplot(data = recvdate)\n",
        "plt.title('Linea de tiempo de reportes recibidos por VAERS en 2021')\n",
        "plt.show()\n"
      ],
      "execution_count": 93,
      "outputs": [
        {
          "output_type": "display_data",
          "data": {
            "image/png": "[encoded data removed]",
            "text/plain": [
              "<Figure size 1440x504 with 1 Axes>"
            ]
          },
          "metadata": {
            "tags": [],
            "needs_background": "light"
          }
        }
      ]
    },
    {
      "cell_type": "markdown",
      "metadata": {
        "id": "wowK0EdoHrks"
      },
      "source": [
        "## **2. STATE**\n",
        "\n",
        "Se conservaron solo estados de USA, los territorios y nan fueron cambiados por **NSP**"
      ]
    },
    {
      "cell_type": "code",
      "metadata": {
        "id": "rNZLKVBiHp9Y"
      },
      "source": [
        "# Lista  de estados de los Estados Unidos de America\n",
        "usa_states = [\"AL\", \"AK\", \"AZ\", \"AR\", \"CA\", \"CO\", \"CT\", \"DC\", \"DE\", \"FL\", \"GA\", \n",
        "          \"HI\", \"ID\", \"IL\", \"IN\", \"IA\", \"KS\", \"KY\", \"LA\", \"ME\", \"MD\", \n",
        "          \"MA\", \"MI\", \"MN\", \"MS\", \"MO\", \"MT\", \"NE\", \"NV\", \"NH\", \"NJ\", \n",
        "          \"NM\", \"NY\", \"NC\", \"ND\", \"OH\", \"OK\", \"OR\", \"PA\", \"RI\", \"SC\", \n",
        "          \"SD\", \"TN\", \"TX\", \"UT\", \"VT\", \"VA\", \"WA\", \"WV\", \"WI\", \"WY\"]"
      ],
      "execution_count": 94,
      "outputs": []
    },
    {
      "cell_type": "code",
      "metadata": {
        "colab": {
          "base_uri": "https://localhost:8080/"
        },
        "id": "erlFzFnEHwKw",
        "outputId": "660c054d-d8e9-48e8-9624-820029667190"
      },
      "source": [
        "# Obteniendo datos erroneos para correcion\n",
        "dataset_covid['STATE'] = dataset_covid['STATE'].str.upper() # volver tod el codigo a mayusculas\n",
        "dataset_covid['STATE'] = dataset_covid['STATE'].str.strip() # quitar espacios en blanco\n",
        "erroneo = dataset_covid['STATE'].value_counts().index.tolist() # seleccionar valores para comparar con los estados\n",
        "cambio = list(set(erroneo) - set(usa_states)) # para comprobar la differencia\n",
        "for i in cambio:\n",
        "  print(i, dataset_covid.loc[dataset_covid['STATE'] == i].shape)"
      ],
      "execution_count": 95,
      "outputs": [
        {
          "output_type": "stream",
          "text": [
            "XB (3, 34)\n",
            "VI (32, 34)\n",
            "XL (1, 34)\n",
            "AS (33, 34)\n",
            "XV (2, 34)\n",
            "FM (3, 34)\n",
            "MP (13, 34)\n",
            "MH (7, 34)\n",
            "GU (58, 34)\n",
            "PR (1495, 34)\n",
            "QM (1, 34)\n"
          ],
          "name": "stdout"
        }
      ]
    },
    {
      "cell_type": "code",
      "metadata": {
        "id": "KZAxrIwDK8co"
      },
      "source": [
        "#reemplazo de valores y valores nan\n",
        "dataset_covid['STATE'] = dataset_covid['STATE'].replace(cambio, np.nan) # reemplazando los valores de territorios\n",
        "dataset_covid['STATE'] = dataset_covid['STATE'].fillna('NSP') # definiendo no especifica"
      ],
      "execution_count": 96,
      "outputs": []
    },
    {
      "cell_type": "markdown",
      "metadata": {
        "id": "EfpRNl5XS_2u"
      },
      "source": [
        "## **3. AGE_YRS, CAGE_YR, CAGE_MO**\n",
        "\n",
        "Se combino CAGE_YR y CAGE_MO para rescatar la edad si no fue brindada en AGE_YRS.\n",
        "Se convitieron las edades en numeros integrales y todo se establecio en la variable AGE_YRS"
      ]
    },
    {
      "cell_type": "code",
      "metadata": {
        "colab": {
          "base_uri": "https://localhost:8080/"
        },
        "id": "eJioIN2XVT76",
        "outputId": "3bd0859b-57c9-4298-857d-7438fd999651"
      },
      "source": [
        "# Analisis por datos vacios\n",
        "print(dataset_covid.AGE_YRS.isnull().sum(), dataset_covid.AGE_YRS.dtype)\n",
        "print(dataset_covid.CAGE_YR.isnull().sum(), dataset_covid.CAGE_YR.dtype)\n",
        "print(dataset_covid.CAGE_MO.isnull().sum(), dataset_covid.CAGE_MO.dtype)"
      ],
      "execution_count": 97,
      "outputs": [
        {
          "output_type": "stream",
          "text": [
            "27890 float64\n",
            "61722 float64\n",
            "407494 float64\n"
          ],
          "name": "stdout"
        }
      ]
    },
    {
      "cell_type": "code",
      "metadata": {
        "colab": {
          "base_uri": "https://localhost:8080/"
        },
        "id": "16DNy5fTU4P0",
        "outputId": "4aeeb3e5-039b-406e-b75b-15549ea70489"
      },
      "source": [
        "# revisamos cuantos datos podemos recuperar las edades\n",
        "print('Se puede recuperar: ', dataset_covid.loc[~dataset_covid['CAGE_YR'].isnull()].AGE_YRS.isnull().sum(), 'edades no anotadas')"
      ],
      "execution_count": 98,
      "outputs": [
        {
          "output_type": "stream",
          "text": [
            "Se puede recuperar:  1466 edades no anotadas\n"
          ],
          "name": "stdout"
        }
      ]
    },
    {
      "cell_type": "code",
      "metadata": {
        "id": "-6nGs4_TZAlD"
      },
      "source": [
        "#Preparamos la nueva columna\n",
        "dataset_covid.AGE_YRS = dataset_covid.AGE_YRS.fillna(0).astype('int')\n",
        "dataset_covid.CAGE_YR = dataset_covid.CAGE_YR.fillna(0).astype('int') # cambiamos tipo para concatenar\n",
        "dataset_covid.CAGE_MO = dataset_covid.CAGE_MO.fillna(0).astype('int') # cambiamos tipo para concatenar"
      ],
      "execution_count": 99,
      "outputs": []
    },
    {
      "cell_type": "code",
      "metadata": {
        "id": "il8Xn9nFaCBR"
      },
      "source": [
        "# creamos una nueva columna\n",
        "dataset_covid['EDADexp'] = dataset_covid.CAGE_YR.astype(str) + '.' + dataset_covid.CAGE_MO.astype(str)\n",
        "dataset_covid['EDADexp'] = dataset_covid['EDADexp'].astype(float).round()\n",
        "dataset_covid['EDADexp'] = dataset_covid['EDADexp'].astype(int)"
      ],
      "execution_count": 100,
      "outputs": []
    },
    {
      "cell_type": "code",
      "metadata": {
        "colab": {
          "base_uri": "https://localhost:8080/"
        },
        "id": "QxY1LTFZbzLP",
        "outputId": "f9476ed2-a1d0-4e46-c805-2131f7bfb6b2"
      },
      "source": [
        "# Recuperando valores en AGE_YRS\n",
        "print('Antes de recuperar las edades de CAGE se tenian:\\t', dataset_covid.loc[dataset_covid['AGE_YRS'] != 0].shape[0], 'observaciones')\n",
        "dataset_covid['AGE_YRS'] = np.where(dataset_covid['AGE_YRS'] == 0, dataset_covid['EDADexp'], dataset_covid['AGE_YRS'])\n",
        "print('Despues de recuperar las edades de CAGE se tienen:\\t', dataset_covid.loc[dataset_covid['AGE_YRS'] != 0].shape[0], 'observaciones')"
      ],
      "execution_count": 101,
      "outputs": [
        {
          "output_type": "stream",
          "text": [
            "Antes de recuperar las edades de CAGE se tenian:\t 380318 observaciones\n",
            "Despues de recuperar las edades de CAGE se tienen:\t 381623 observaciones\n"
          ],
          "name": "stdout"
        }
      ]
    },
    {
      "cell_type": "code",
      "metadata": {
        "id": "gPWCqQHJWFiQ"
      },
      "source": [
        "# Eliminamos las columnas que no nos brindan mas datos utiles\n",
        "remove = ['EDADexp', 'CAGE_YR', 'CAGE_MO']\n",
        "dataset_covid.drop(columns=remove, inplace=True)"
      ],
      "execution_count": 102,
      "outputs": []
    },
    {
      "cell_type": "markdown",
      "metadata": {
        "id": "VI_jImW1gORO"
      },
      "source": [
        "## **4. SEX**\n",
        "\n",
        "Se eliminaron los record con sexo desconocido (U)"
      ]
    },
    {
      "cell_type": "code",
      "metadata": {
        "id": "31EbdU7xEQ0o",
        "colab": {
          "base_uri": "https://localhost:8080/"
        },
        "outputId": "3681dc0a-1237-4bea-fa4f-9a2a63bae73d"
      },
      "source": [
        "print(f'Antes de eliminar los sexos desconocidos se tenian {dataset_covid.shape[0]} observaciones y {dataset_covid.shape[1]} variables')\n",
        "# Eliminamos valores U, no aportan nada al estudio\n",
        "dataset_covid = dataset_covid.loc[dataset_covid['SEX'] != 'U']\n",
        "print(f'Despues de eliminar los sexos desconocidos se tenian {dataset_covid.shape[0]} observaciones y {dataset_covid.shape[1]} variables')\n",
        "print(dataset_covid.SEX.value_counts())"
      ],
      "execution_count": 103,
      "outputs": [
        {
          "output_type": "stream",
          "text": [
            "Antes de eliminar los sexos desconocidos se tenian 408268 observaciones y 32 variables\n",
            "Despues de eliminar los sexos desconocidos se tenian 398229 observaciones y 32 variables\n",
            "F    285023\n",
            "M    113206\n",
            "Name: SEX, dtype: int64\n"
          ],
          "name": "stdout"
        }
      ]
    },
    {
      "cell_type": "markdown",
      "metadata": {
        "id": "aShu5KHThA6B"
      },
      "source": [
        "## **5. DIED, DATE_DIED**\n",
        "\n",
        "Se conservo, se confirmo la muerte y luego se mejoro los errores en la fecha."
      ]
    },
    {
      "cell_type": "code",
      "metadata": {
        "colab": {
          "base_uri": "https://localhost:8080/"
        },
        "id": "YlUHl45VhwCS",
        "outputId": "991085e4-aef0-42ab-8cfa-af2088fcf8eb"
      },
      "source": [
        "# Analisis por datos vacios\n",
        "print(dataset_covid.DIED.notnull().sum(), dataset_covid.DIED.dtype)\n",
        "print(dataset_covid.DATEDIED.notnull().sum(), dataset_covid.DATEDIED.dtype)"
      ],
      "execution_count": 104,
      "outputs": [
        {
          "output_type": "stream",
          "text": [
            "4850 object\n",
            "4489 object\n"
          ],
          "name": "stdout"
        }
      ]
    },
    {
      "cell_type": "code",
      "metadata": {
        "id": "9Uzeim5JlElP"
      },
      "source": [
        "# Preparando DIED, solo se imputo los valores vacios por N\n",
        "dataset_covid.DIED = dataset_covid.DIED.fillna('N').astype('str')"
      ],
      "execution_count": 105,
      "outputs": []
    },
    {
      "cell_type": "code",
      "metadata": {
        "colab": {
          "base_uri": "https://localhost:8080/",
          "height": 126
        },
        "id": "Y9AVti7Cq8Ji",
        "outputId": "dcc3c9b4-8fc5-48d0-97f0-75be1344e0d3"
      },
      "source": [
        "# Preparando los datos de DATEDIED\n",
        "new = dataset_covid[\"DATEDIED\"].str.split(\"/\", n = 2, expand = True)\n",
        "dataset_covid['mes']= new[0]\n",
        "dataset_covid['dia']= new[1]\n",
        "dataset_covid['anio']= new[2]\n",
        "\n",
        "# lista para uso con fechas\n",
        "new = ['mes','dia','anio']\n",
        "\n",
        "#revision de todo\n",
        "# for i in new:\n",
        "#   display(dataset_covid[i].value_counts().sort_index())\n",
        "\n",
        "# El problema detectado fue el año\n",
        "display(dataset_covid['anio'].value_counts().sort_index())"
      ],
      "execution_count": 106,
      "outputs": [
        {
          "output_type": "display_data",
          "data": {
            "text/plain": [
              "2001       1\n",
              "2010       1\n",
              "2014       1\n",
              "2020      31\n",
              "2021    4455\n",
              "Name: anio, dtype: int64"
            ]
          },
          "metadata": {
            "tags": []
          }
        }
      ]
    },
    {
      "cell_type": "code",
      "metadata": {
        "colab": {
          "base_uri": "https://localhost:8080/",
          "height": 367
        },
        "id": "TeHvct2ZsHJ1",
        "outputId": "ffa6d4b5-4e52-4fa0-8f63-c33f8881893f"
      },
      "source": [
        "# revisando valores atipicos\n",
        "dataset_covid.loc[dataset_covid['anio'].isin(['2001','2010','2014'])]"
      ],
      "execution_count": 107,
      "outputs": [
        {
          "output_type": "execute_result",
          "data": {
            "text/html": [
              "<div>\n",
              "<style scoped>\n",
              "    .dataframe tbody tr th:only-of-type {\n",
              "        vertical-align: middle;\n",
              "    }\n",
              "\n",
              "    .dataframe tbody tr th {\n",
              "        vertical-align: top;\n",
              "    }\n",
              "\n",
              "    .dataframe thead th {\n",
              "        text-align: right;\n",
              "    }\n",
              "</style>\n",
              "<table border=\"1\" class=\"dataframe\">\n",
              "  <thead>\n",
              "    <tr style=\"text-align: right;\">\n",
              "      <th></th>\n",
              "      <th>VAX_MANU</th>\n",
              "      <th>VAX_LOT</th>\n",
              "      <th>VAX_DOSE_SERIES</th>\n",
              "      <th>VAX_ROUTE</th>\n",
              "      <th>VAX_SITE</th>\n",
              "      <th>RECVDATE</th>\n",
              "      <th>STATE</th>\n",
              "      <th>AGE_YRS</th>\n",
              "      <th>SEX</th>\n",
              "      <th>SYMPTOM_TEXT</th>\n",
              "      <th>DIED</th>\n",
              "      <th>DATEDIED</th>\n",
              "      <th>L_THREAT</th>\n",
              "      <th>ER_VISIT</th>\n",
              "      <th>HOSPITAL</th>\n",
              "      <th>HOSPDAYS</th>\n",
              "      <th>X_STAY</th>\n",
              "      <th>DISABLE</th>\n",
              "      <th>RECOVD</th>\n",
              "      <th>VAX_DATE</th>\n",
              "      <th>ONSET_DATE</th>\n",
              "      <th>NUMDAYS</th>\n",
              "      <th>LAB_DATA</th>\n",
              "      <th>V_ADMINBY</th>\n",
              "      <th>OTHER_MEDS</th>\n",
              "      <th>CUR_ILL</th>\n",
              "      <th>HISTORY</th>\n",
              "      <th>PRIOR_VAX</th>\n",
              "      <th>BIRTH_DEFECT</th>\n",
              "      <th>OFC_VISIT</th>\n",
              "      <th>ER_ED_VISIT</th>\n",
              "      <th>ALLERGIES</th>\n",
              "      <th>mes</th>\n",
              "      <th>dia</th>\n",
              "      <th>anio</th>\n",
              "    </tr>\n",
              "    <tr>\n",
              "      <th>VAERS_ID</th>\n",
              "      <th></th>\n",
              "      <th></th>\n",
              "      <th></th>\n",
              "      <th></th>\n",
              "      <th></th>\n",
              "      <th></th>\n",
              "      <th></th>\n",
              "      <th></th>\n",
              "      <th></th>\n",
              "      <th></th>\n",
              "      <th></th>\n",
              "      <th></th>\n",
              "      <th></th>\n",
              "      <th></th>\n",
              "      <th></th>\n",
              "      <th></th>\n",
              "      <th></th>\n",
              "      <th></th>\n",
              "      <th></th>\n",
              "      <th></th>\n",
              "      <th></th>\n",
              "      <th></th>\n",
              "      <th></th>\n",
              "      <th></th>\n",
              "      <th></th>\n",
              "      <th></th>\n",
              "      <th></th>\n",
              "      <th></th>\n",
              "      <th></th>\n",
              "      <th></th>\n",
              "      <th></th>\n",
              "      <th></th>\n",
              "      <th></th>\n",
              "      <th></th>\n",
              "      <th></th>\n",
              "    </tr>\n",
              "  </thead>\n",
              "  <tbody>\n",
              "    <tr>\n",
              "      <th>930912</th>\n",
              "      <td>PFIZER\\BIONTECH</td>\n",
              "      <td>NaN</td>\n",
              "      <td>NaN</td>\n",
              "      <td>UN</td>\n",
              "      <td>UN</td>\n",
              "      <td>2021-01-09</td>\n",
              "      <td>NY</td>\n",
              "      <td>73</td>\n",
              "      <td>M</td>\n",
              "      <td>Diarrhea followed by death 24 hrs after vaccin...</td>\n",
              "      <td>Y</td>\n",
              "      <td>01/08/2001</td>\n",
              "      <td>NaN</td>\n",
              "      <td>NaN</td>\n",
              "      <td>NaN</td>\n",
              "      <td>NaN</td>\n",
              "      <td>NaN</td>\n",
              "      <td>NaN</td>\n",
              "      <td>N</td>\n",
              "      <td>01/07/2021</td>\n",
              "      <td>01/08/2021</td>\n",
              "      <td>1.0</td>\n",
              "      <td>NaN</td>\n",
              "      <td>UNK</td>\n",
              "      <td>None</td>\n",
              "      <td>None</td>\n",
              "      <td>None</td>\n",
              "      <td>NaN</td>\n",
              "      <td>NaN</td>\n",
              "      <td>NaN</td>\n",
              "      <td>NaN</td>\n",
              "      <td>None</td>\n",
              "      <td>01</td>\n",
              "      <td>08</td>\n",
              "      <td>2001</td>\n",
              "    </tr>\n",
              "    <tr>\n",
              "      <th>1050128</th>\n",
              "      <td>PFIZER\\BIONTECH</td>\n",
              "      <td>EM9810</td>\n",
              "      <td>NaN</td>\n",
              "      <td>IM</td>\n",
              "      <td>LA</td>\n",
              "      <td>2021-02-23</td>\n",
              "      <td>WV</td>\n",
              "      <td>70</td>\n",
              "      <td>M</td>\n",
              "      <td>02/07/21 through 2/13/21 slightly fatiqued, to...</td>\n",
              "      <td>Y</td>\n",
              "      <td>02/14/2014</td>\n",
              "      <td>NaN</td>\n",
              "      <td>NaN</td>\n",
              "      <td>NaN</td>\n",
              "      <td>NaN</td>\n",
              "      <td>NaN</td>\n",
              "      <td>NaN</td>\n",
              "      <td>N</td>\n",
              "      <td>02/06/2021</td>\n",
              "      <td>02/07/2021</td>\n",
              "      <td>1.0</td>\n",
              "      <td>NaN</td>\n",
              "      <td>PUB</td>\n",
              "      <td>Eliquis 5MG, Carvedilol 6.25MG, Ramipril 2.5 M...</td>\n",
              "      <td>none</td>\n",
              "      <td>1.COPD started in 2008 from a Neurosurgery and...</td>\n",
              "      <td>NaN</td>\n",
              "      <td>NaN</td>\n",
              "      <td>NaN</td>\n",
              "      <td>Y</td>\n",
              "      <td>Penicillin</td>\n",
              "      <td>02</td>\n",
              "      <td>14</td>\n",
              "      <td>2014</td>\n",
              "    </tr>\n",
              "    <tr>\n",
              "      <th>1133747</th>\n",
              "      <td>MODERNA</td>\n",
              "      <td>030M20A</td>\n",
              "      <td>NaN</td>\n",
              "      <td>IM</td>\n",
              "      <td>LA</td>\n",
              "      <td>2021-03-25</td>\n",
              "      <td>NSP</td>\n",
              "      <td>97</td>\n",
              "      <td>M</td>\n",
              "      <td>died on hospice Narrative:  Patient died on ho...</td>\n",
              "      <td>Y</td>\n",
              "      <td>03/14/2010</td>\n",
              "      <td>NaN</td>\n",
              "      <td>NaN</td>\n",
              "      <td>NaN</td>\n",
              "      <td>NaN</td>\n",
              "      <td>Y</td>\n",
              "      <td>NaN</td>\n",
              "      <td>N</td>\n",
              "      <td>NaN</td>\n",
              "      <td>03/14/2021</td>\n",
              "      <td>NaN</td>\n",
              "      <td>NaN</td>\n",
              "      <td>OTH</td>\n",
              "      <td>NaN</td>\n",
              "      <td>NaN</td>\n",
              "      <td>NaN</td>\n",
              "      <td>NaN</td>\n",
              "      <td>NaN</td>\n",
              "      <td>Y</td>\n",
              "      <td>Y</td>\n",
              "      <td>NaN</td>\n",
              "      <td>03</td>\n",
              "      <td>14</td>\n",
              "      <td>2010</td>\n",
              "    </tr>\n",
              "  </tbody>\n",
              "</table>\n",
              "</div>"
            ],
            "text/plain": [
              "                 VAX_MANU  VAX_LOT VAX_DOSE_SERIES  ... mes dia  anio\n",
              "VAERS_ID                                            ...              \n",
              "930912    PFIZER\\BIONTECH      NaN             NaN  ...  01  08  2001\n",
              "1050128   PFIZER\\BIONTECH   EM9810             NaN  ...  02  14  2014\n",
              "1133747           MODERNA  030M20A             NaN  ...  03  14  2010\n",
              "\n",
              "[3 rows x 35 columns]"
            ]
          },
          "metadata": {
            "tags": []
          },
          "execution_count": 107
        }
      ]
    },
    {
      "cell_type": "markdown",
      "metadata": {
        "id": "AM10gWXEsr76"
      },
      "source": [
        " Revision, se reemplaza los años por revision individual de la siguiente manera\n",
        "\n",
        " - 2001 -> 2021\n",
        " - 2021 -> 2021\n",
        " - 2014 -> 2021"
      ]
    },
    {
      "cell_type": "code",
      "metadata": {
        "id": "jWQ0Rzcm8o_u"
      },
      "source": [
        "# Reemplazando valores\n",
        "dataset_covid['anio'].replace({'2001': '2021', \n",
        "                               '2010': '2021',\n",
        "                               '2014': '2021'}, inplace=True)\n",
        "\n",
        "# funcion para reemplazar tiempo\n",
        "dataset_covid.DATEDIED = dataset_covid['anio'] + '-' + dataset_covid['mes'] + '-' + dataset_covid['dia']\n",
        "\n",
        "# eliminando columnas temporales\n",
        "dataset_covid.drop(columns=new, inplace=True)\n",
        "\n",
        "# transformando a fecha\n",
        "dataset_covid['DATEDIED'] =  pd.to_datetime(dataset_covid['DATEDIED'], format='%Y-%m-%d')"
      ],
      "execution_count": 108,
      "outputs": []
    },
    {
      "cell_type": "code",
      "metadata": {
        "colab": {
          "base_uri": "https://localhost:8080/",
          "height": 440
        },
        "id": "feGapZENo-Kk",
        "outputId": "f44303d8-5e71-44d5-da2d-ba6c9e5baa40"
      },
      "source": [
        "# grafico por fechas y de personas fallecidas\n",
        "plt.figure(figsize=(20,7))\n",
        "sns.lineplot(data = dataset_covid['DATEDIED'].value_counts())\n",
        "plt.title('Cantidad de personas fallecidas en el 2021')\n",
        "plt.show()"
      ],
      "execution_count": 109,
      "outputs": [
        {
          "output_type": "display_data",
          "data": {
            "image/png": "[encoded data removed]",
            "text/plain": [
              "<Figure size 1440x504 with 1 Axes>"
            ]
          },
          "metadata": {
            "tags": [],
            "needs_background": "light"
          }
        }
      ]
    },
    {
      "cell_type": "markdown",
      "metadata": {
        "id": "uR0X04-pF45V"
      },
      "source": [
        "## **6.ER_VISIT, ER_ED_VISIT, OFC_VISIT**\n",
        "\n",
        "En el caso de las dos primeras tienen la mismas info pero estan colectadas en diferentes formulario.\n",
        "\n",
        "En el caso de la tercera contiene informacion explicita en ER_VISIT por lo que se todas estas variables se combinaron en ER_ED_VISIT.\n",
        "\n",
        "\n",
        "Se transformo Y en 1 y nan n 0"
      ]
    },
    {
      "cell_type": "code",
      "metadata": {
        "colab": {
          "base_uri": "https://localhost:8080/"
        },
        "id": "IEC5rhHtaa2Y",
        "outputId": "d14be94b-611e-4b14-dca8-af4369a13ddb"
      },
      "source": [
        "print(f'Valores vacios en ER_ED_VISIT:\\t{dataset_covid.ER_ED_VISIT.isnull().sum()}')\n",
        "print(f'Valores vacios en ER_VISIT:\\t{dataset_covid.ER_VISIT.isnull().sum()}')\n",
        "print(f'Valores vacios en OFC_VISIT:\\t{dataset_covid.OFC_VISIT.isnull().sum()}')"
      ],
      "execution_count": 110,
      "outputs": [
        {
          "output_type": "stream",
          "text": [
            "Valores vacios en ER_ED_VISIT:\t344579\n",
            "Valores vacios en ER_VISIT:\t398229\n",
            "Valores vacios en OFC_VISIT:\t319279\n"
          ],
          "name": "stdout"
        }
      ]
    },
    {
      "cell_type": "code",
      "metadata": {
        "id": "pFZe7RwJFpb9"
      },
      "source": [
        "# preparando las columnas para ser combinadas (imputando por binario)\n",
        "dataset_covid.ER_VISIT.fillna(0, inplace=True)\n",
        "dataset_covid.ER_ED_VISIT.fillna(0, inplace=True)\n",
        "dataset_covid.OFC_VISIT.fillna(0, inplace=True)"
      ],
      "execution_count": 111,
      "outputs": []
    },
    {
      "cell_type": "code",
      "metadata": {
        "colab": {
          "base_uri": "https://localhost:8080/"
        },
        "id": "7h5tjayva8WX",
        "outputId": "4561ce16-c1b7-4a84-ba19-d32d2c6d92c5"
      },
      "source": [
        "# preparando formato de columnas\n",
        "er_ed = dataset_covid['ER_ED_VISIT'].astype(str)\n",
        "er_vi = dataset_covid['ER_VISIT'].astype(str)\n",
        "of_vi = dataset_covid['OFC_VISIT'].astype(str)\n",
        "\n",
        "# combinando las columnas en una sola variable (ER_ED_VISIT)\n",
        "dataset_covid.ER_ED_VISIT = er_ed + er_vi + of_vi\n",
        "\n",
        "# revisando valores\n",
        "dataset_covid.ER_ED_VISIT.value_counts()"
      ],
      "execution_count": 112,
      "outputs": [
        {
          "output_type": "execute_result",
          "data": {
            "text/plain": [
              "000    281957\n",
              "00Y     62622\n",
              "Y00     37322\n",
              "Y0Y     16328\n",
              "Name: ER_ED_VISIT, dtype: int64"
            ]
          },
          "metadata": {
            "tags": []
          },
          "execution_count": 112
        }
      ]
    },
    {
      "cell_type": "code",
      "metadata": {
        "colab": {
          "base_uri": "https://localhost:8080/"
        },
        "id": "FWxA1azCHuP7",
        "outputId": "60e6ab2b-766c-43c6-c3b8-9564bcc96181"
      },
      "source": [
        "# reemplazando valores\n",
        "dataset_covid['ER_ED_VISIT'].replace({'000': 0, \n",
        "                               'Y00': 1,\n",
        "                               'Y0Y': 1,\n",
        "                               '00Y': 1}, inplace=True)\n",
        "\n",
        "# revisando valores\n",
        "dataset_covid.ER_ED_VISIT.value_counts()"
      ],
      "execution_count": 113,
      "outputs": [
        {
          "output_type": "execute_result",
          "data": {
            "text/plain": [
              "0    281957\n",
              "1    116272\n",
              "Name: ER_ED_VISIT, dtype: int64"
            ]
          },
          "metadata": {
            "tags": []
          },
          "execution_count": 113
        }
      ]
    },
    {
      "cell_type": "code",
      "metadata": {
        "colab": {
          "base_uri": "https://localhost:8080/"
        },
        "id": "tr8tH_S6bV2X",
        "outputId": "e836e880-b6b9-4022-9e26-2ddb01274ccb"
      },
      "source": [
        "print(f'Antes del filtrado teniamos {dataset_covid.shape[0]} observaciones y {dataset_covid.shape[1]} variables.')\n",
        "# Eliminamos variables que ya no son utiles ('ER_VISIT', 'OFC_VISIT')\n",
        "dataset_covid.drop(columns=['ER_VISIT', 'OFC_VISIT'], inplace=True)\n",
        "print(f'Despues del filtrado teniamos {dataset_covid.shape[0]} observaciones y {dataset_covid.shape[1]} variables.')"
      ],
      "execution_count": 114,
      "outputs": [
        {
          "output_type": "stream",
          "text": [
            "Antes del filtrado teniamos 398229 observaciones y 32 variables.\n",
            "Despues del filtrado teniamos 398229 observaciones y 30 variables.\n"
          ],
          "name": "stdout"
        }
      ]
    },
    {
      "cell_type": "markdown",
      "metadata": {
        "id": "92U_XkTOKkMC"
      },
      "source": [
        "## **7.HOSPITAL, HOSPDAYS**\n",
        "\n",
        "Se imputo con 0 los valores valores faltante y se cambio Y por 1 en hospitalizados.\n",
        "\n",
        "Los dias de hospitalizacin llegan hasta 120 dias."
      ]
    },
    {
      "cell_type": "code",
      "metadata": {
        "id": "8S2hHsONlXSp"
      },
      "source": [
        "# imputamos valores en dias con 0 y volvemos binario en hospitalizacion\n",
        "dataset_covid.HOSPITAL.fillna(0, inplace=True) # imputando nan por 0 en hospitalizados\n",
        "dataset_covid.HOSPDAYS.fillna(0, inplace=True) # imputando nan por 0 en dias hospitalizados\n",
        "dataset_covid.HOSPITAL.replace('Y',1, inplace=True) # cambiamos y por 1 en hospitalizados\n",
        "\n",
        "# coercionamos los valores a int\n",
        "dataset_covid.HOSPITAL = dataset_covid.HOSPITAL.astype(int)\n",
        "dataset_covid.HOSPDAYS = dataset_covid.HOSPDAYS.astype(int)"
      ],
      "execution_count": 115,
      "outputs": []
    },
    {
      "cell_type": "code",
      "metadata": {
        "colab": {
          "base_uri": "https://localhost:8080/"
        },
        "id": "vh43l94UKmm4",
        "outputId": "4cd991e7-272d-4790-856a-aab8925a7bf9"
      },
      "source": [
        "# revisando valores\n",
        "A = (dataset_covid.HOSPDAYS != 0) & (dataset_covid.HOSPITAL != 0)\n",
        "B = (dataset_covid.HOSPDAYS == 0) & (dataset_covid.HOSPITAL != 0)\n",
        "C = (dataset_covid.HOSPDAYS != 0) & (dataset_covid.HOSPITAL == 0)\n",
        "\n",
        "# comprobando que los valores sean iguales!\n",
        "print('Datos de pacientes hospitalizados (Y)\\t:', (dataset_covid.HOSPITAL != 0).sum())\n",
        "print('Al menos 1 dia de hospitalizacion\\t:', (dataset_covid.HOSPDAYS != 0).sum())\n",
        "print(f'Pacientes con datos dias de hospitalizacion y con record de hospitalizado (Y) : {dataset_covid.loc[A].shape[0]}')\n",
        "print(f'Pacientes sin datos dias de hospitalizacion y con record de hospitalizado (Y) : {dataset_covid.loc[B].shape[0]}')\n",
        "print(f'Pacientes con datos dias de hospitalizacion y sin record de hospitalizado (Y) : {dataset_covid.loc[C].shape[0]}')"
      ],
      "execution_count": 116,
      "outputs": [
        {
          "output_type": "stream",
          "text": [
            "Datos de pacientes hospitalizados (Y)\t: 22362\n",
            "Al menos 1 dia de hospitalizacion\t: 15900\n",
            "Pacientes con datos dias de hospitalizacion y con record de hospitalizado (Y) : 15900\n",
            "Pacientes sin datos dias de hospitalizacion y con record de hospitalizado (Y) : 6462\n",
            "Pacientes con datos dias de hospitalizacion y sin record de hospitalizado (Y) : 0\n"
          ],
          "name": "stdout"
        }
      ]
    },
    {
      "cell_type": "markdown",
      "metadata": {
        "id": "FuVSpkIDfUMW"
      },
      "source": [
        "Se pueden mejorar los datos en base al siguiente enunciado.\n",
        "\n",
        "> Todo paciente hospitalizados (Y) deben tener al menos 1 dia de hospitalizacion."
      ]
    },
    {
      "cell_type": "code",
      "metadata": {
        "id": "tNIurGrLJaSK"
      },
      "source": [
        "# cambio usando condicional (B) previamente usada\n",
        "dataset_covid['HOSPDAYS'] = np.where(B, 1, dataset_covid['HOSPDAYS'])"
      ],
      "execution_count": 117,
      "outputs": []
    },
    {
      "cell_type": "code",
      "metadata": {
        "colab": {
          "base_uri": "https://localhost:8080/"
        },
        "id": "M3cBqpWylyXc",
        "outputId": "f2a79cf2-acdd-4ace-eb7a-79a8d4c7f538"
      },
      "source": [
        "# revisando valores\n",
        "A = (dataset_covid.HOSPDAYS != 0) & (dataset_covid.HOSPITAL != 0)\n",
        "B = (dataset_covid.HOSPDAYS == 0) & (dataset_covid.HOSPITAL != 0)\n",
        "C = (dataset_covid.HOSPDAYS != 0) & (dataset_covid.HOSPITAL == 0)\n",
        "\n",
        "# comprobando nuevamente\n",
        "print(f'Pacientes con datos dias de hospitalizacion y con record de hospitalizado (Y) : {dataset_covid.loc[A].shape[0]}')\n",
        "print(f'Pacientes sin datos dias de hospitalizacion y con record de hospitalizado (Y) : {dataset_covid.loc[B].shape[0]}')"
      ],
      "execution_count": 118,
      "outputs": [
        {
          "output_type": "stream",
          "text": [
            "Pacientes con datos dias de hospitalizacion y con record de hospitalizado (Y) : 22362\n",
            "Pacientes sin datos dias de hospitalizacion y con record de hospitalizado (Y) : 0\n"
          ],
          "name": "stdout"
        }
      ]
    },
    {
      "cell_type": "code",
      "metadata": {
        "colab": {
          "base_uri": "https://localhost:8080/"
        },
        "id": "YrfrFSapFA3V",
        "outputId": "874c1622-14ce-41ff-9d96-0cbd68a6cbdd"
      },
      "source": [
        "# revisando valores excedentes en HOSPDAYS\n",
        "dataset_covid.HOSPDAYS = np.where(dataset_covid.HOSPDAYS > 120, 0, dataset_covid.HOSPDAYS) # para eliminar valores 999 999 99999\n",
        "dataset_covid.HOSPDAYS.value_counts().sort_index()"
      ],
      "execution_count": 119,
      "outputs": [
        {
          "output_type": "execute_result",
          "data": {
            "text/plain": [
              "0      375869\n",
              "1        9382\n",
              "2        3488\n",
              "3        2737\n",
              "4        1770\n",
              "        ...  \n",
              "95          1\n",
              "97          1\n",
              "104         1\n",
              "117         1\n",
              "120         2\n",
              "Name: HOSPDAYS, Length: 76, dtype: int64"
            ]
          },
          "metadata": {
            "tags": []
          },
          "execution_count": 119
        }
      ]
    },
    {
      "cell_type": "markdown",
      "metadata": {
        "id": "JeTsNFY1BCCS"
      },
      "source": [
        "## **8. L_THREAT**\n",
        "\n",
        "Cambio de Y por 1 y nan por 0"
      ]
    },
    {
      "cell_type": "code",
      "metadata": {
        "colab": {
          "base_uri": "https://localhost:8080/"
        },
        "id": "J5Q6dA0vBWxu",
        "outputId": "b78bba67-01b8-4cfb-b26d-9f0803dac38e"
      },
      "source": [
        "# cambiando por valores binarios\n",
        "dataset_covid.L_THREAT.fillna('0', inplace=True) # rellenando nan con 0\n",
        "dataset_covid.L_THREAT.replace('Y', 1, inplace=True)\n",
        "dataset_covid.L_THREAT = dataset_covid.L_THREAT.astype(int) # voviendolo int\n",
        "dataset_covid.L_THREAT.value_counts()"
      ],
      "execution_count": 121,
      "outputs": [
        {
          "output_type": "execute_result",
          "data": {
            "text/plain": [
              "0    391767\n",
              "1      6462\n",
              "Name: L_THREAT, dtype: int64"
            ]
          },
          "metadata": {
            "tags": []
          },
          "execution_count": 121
        }
      ]
    },
    {
      "cell_type": "markdown",
      "metadata": {
        "id": "FsOCsGDqsSBY"
      },
      "source": [
        "# **9. DISABLE**\n",
        "\n",
        "Cambio de Y por 1 y nan po 0"
      ]
    },
    {
      "cell_type": "code",
      "metadata": {
        "colab": {
          "base_uri": "https://localhost:8080/"
        },
        "id": "qwc8QEOmsm95",
        "outputId": "d55d5cb8-b5cf-4c25-f603-1f96f7188354"
      },
      "source": [
        "# cambiando por valores binarios\n",
        "dataset_covid.DISABLE.fillna('0', inplace=True) # rellenando nan con 0\n",
        "dataset_covid.DISABLE.replace('Y', 1, inplace=True)\n",
        "dataset_covid.DISABLE = dataset_covid.DISABLE.astype(int) # voviendolo int\n",
        "dataset_covid.DISABLE.value_counts()"
      ],
      "execution_count": 123,
      "outputs": [
        {
          "output_type": "execute_result",
          "data": {
            "text/plain": [
              "0    392691\n",
              "1      5538\n",
              "Name: DISABLE, dtype: int64"
            ]
          },
          "metadata": {
            "tags": []
          },
          "execution_count": 123
        }
      ]
    },
    {
      "cell_type": "markdown",
      "metadata": {
        "id": "EjYcZplxJjzK"
      },
      "source": [
        "# **10. BIRTH_DEFECT, X_STAY**\n",
        "\n",
        "Ambas no representa un valor significante (solo 199 pacientes en BIRTH DEFECT y 235 en X_STAY), ademas no especifica el defecto de nacimiento por lo que no es indispensable para este estudio, ni la cantidad de dias de hospitalizacion excedente.\n",
        "\n",
        "**Ambas fueron eliminadas.**"
      ]
    },
    {
      "cell_type": "code",
      "metadata": {
        "colab": {
          "base_uri": "https://localhost:8080/"
        },
        "id": "Cmgb7QGhsz6f",
        "outputId": "45e3957e-d022-4030-f388-f802d5b80172"
      },
      "source": [
        "print(f'Antes del filtro se tenian: {dataset_covid.shape[0]} observaciones y {dataset_covid.shape[1]} variables.')\n",
        "dataset_covid.drop(columns=['BIRTH_DEFECT','X_STAY'], inplace=True)\n",
        "print(f'Despues del filtro se tenian: {dataset_covid.shape[0]} observaciones y {dataset_covid.shape[1]} variables.')"
      ],
      "execution_count": 133,
      "outputs": [
        {
          "output_type": "stream",
          "text": [
            "Antes del filtro se tenian: 398229 observaciones y 30 variables.\n",
            "Despues del filtro se tenian: 398229 observaciones y 28 variables.\n"
          ],
          "name": "stdout"
        }
      ]
    },
    {
      "cell_type": "markdown",
      "metadata": {
        "id": "pryXOLaxtoNN"
      },
      "source": [
        "# **11.RECOVD**\n",
        "\n",
        "Se imputaron con valores U (desconocidos) de periodos de recuperacion de los pacientes. Necesita mas evaluacion."
      ]
    },
    {
      "cell_type": "code",
      "metadata": {
        "colab": {
          "base_uri": "https://localhost:8080/"
        },
        "id": "0p9_99qJuKsY",
        "outputId": "b648e1fb-4b34-4e58-f2fe-15ddaadb96d3"
      },
      "source": [
        "print(f'Antes de imputar:\\n{dataset_covid.RECOVD.value_counts()}\\n')\n",
        "# imputanod valores\n",
        "dataset_covid.RECOVD.fillna('U', inplace=True)\n",
        "print(f'Despues de imputar:\\n{dataset_covid.RECOVD.value_counts()}\\n')"
      ],
      "execution_count": 142,
      "outputs": [
        {
          "output_type": "stream",
          "text": [
            "Antes de imputar:\n",
            "N    147669\n",
            "Y    144558\n",
            "U     67393\n",
            "Name: RECOVD, dtype: int64\n",
            "\n",
            "Despues de imputar:\n",
            "N    147669\n",
            "Y    144558\n",
            "U    106002\n",
            "Name: RECOVD, dtype: int64\n",
            "\n"
          ],
          "name": "stdout"
        }
      ]
    },
    {
      "cell_type": "markdown",
      "metadata": {
        "id": "loOk5Qh9u1ls"
      },
      "source": [
        "# **12. VAX_DATE, VAX_ONSET**\n",
        "Multiples errores, corregidos y mapeado desde la informacion de fecha de reporte del formulario. "
      ]
    },
    {
      "cell_type": "code",
      "metadata": {
        "id": "lMA32LsFvK84"
      },
      "source": [
        "# Preparando los datos de VAX_DATE\n",
        "new_vax = dataset_covid[\"VAX_DATE\"].str.split(\"/\", n = 2, expand = True)\n",
        "dataset_covid['mes_vax']= new_vax[0]\n",
        "dataset_covid['dia_vax']= new_vax[1]\n",
        "dataset_covid['anio_vax']= new_vax[2]\n",
        "\n",
        "# lista para uso con fechas\n",
        "new_vax = ['mes_vax','dia_vax','anio_vax']\n",
        "\n",
        "# revision de todo\n",
        "# for i in new_vax:\n",
        "#  display(dataset_covid[i].value_counts().sort_index())"
      ],
      "execution_count": 399,
      "outputs": []
    },
    {
      "cell_type": "code",
      "metadata": {
        "id": "704-MgTuxG8x"
      },
      "source": [
        "# Preparando los datos de ONSET_DATE\n",
        "new_ons = dataset_covid[\"ONSET_DATE\"].str.split(\"/\", n = 2, expand = True)\n",
        "dataset_covid['mes_ons']= new_ons[0]\n",
        "dataset_covid['dia_ons']= new_ons[1]\n",
        "dataset_covid['anio_ons']= new_ons[2]\n",
        "\n",
        "# lista para uso con fechas\n",
        "new_ons = ['mes_ons','dia_ons','anio_ons']\n",
        "\n",
        "# revision de todo\n",
        "# for i in new_ons:\n",
        "#  display(dataset_covid[i].value_counts().sort_index())"
      ],
      "execution_count": 400,
      "outputs": []
    },
    {
      "cell_type": "markdown",
      "metadata": {
        "id": "8CNzFIB7yDau"
      },
      "source": [
        "> El problema detectado fueron los **años**, y se hara un filtro para revisar si esta informacion es recuperable"
      ]
    },
    {
      "cell_type": "code",
      "metadata": {
        "id": "4hctkYN9wgcQ"
      },
      "source": [
        "# creamos una lista de revision\n",
        "revisar1 = dataset_covid['anio_vax'].dropna().astype(float).astype(int)\n",
        "revisar1 = list(set([str(x) for x in revisar1 if x < 2020]))\n",
        "#revisar1 # lista de años errados en vax\n",
        "\n",
        "revisar2 = dataset_covid['anio_ons'].dropna().astype(float).astype(int)\n",
        "revisar2 = list(set([str(x) for x in revisar2 if x < 2020]))\n",
        "#revisar2 # lista de años errados en ons\n",
        "\n",
        "# El problema detectado fue el año en ambos casps\n",
        "# display(dataset_covid.loc[dataset_covid['anio_ons'].isin(revisar2)])"
      ],
      "execution_count": 401,
      "outputs": []
    },
    {
      "cell_type": "code",
      "metadata": {
        "id": "dThEIFE2zCRc"
      },
      "source": [
        "## Preparando columnas para arreglar años, imputando con 0s y conviertiendo en int para poder comparar\n",
        "dataset_covid.anio_vax.fillna(0, inplace=True)\n",
        "dataset_covid.anio_vax = dataset_covid.anio_vax.astype(float).astype(int)\n",
        "dataset_covid.anio_ons.fillna(0, inplace=True)\n",
        "dataset_covid.anio_ons = dataset_covid.anio_ons.astype(float).astype(int)"
      ],
      "execution_count": 402,
      "outputs": []
    },
    {
      "cell_type": "code",
      "metadata": {
        "colab": {
          "base_uri": "https://localhost:8080/"
        },
        "id": "63D8_mNqzfFI",
        "outputId": "1247a8d2-7c85-48ce-b267-e8aebe653c19"
      },
      "source": [
        "# Arreglando anio_ons\n",
        "\n",
        "# Preprando correccion\n",
        "anos_correctos = ['2020', '2021']\n",
        "\n",
        "# Comparando años\n",
        "criterio = (dataset_covid.anio_vax.isin(anos_correctos)) & ~(dataset_covid.anio_ons.isin(anos_correctos)) & (dataset_covid.anio_ons != 0)\n",
        "# el criterio es para buscar el error en anios_ons, revisar la linea de abajo para mas comprension\n",
        "# dataset_covid.loc[criterio] # revisando\n",
        "\n",
        "# Reemplazamos el cambio usando condicional (criterio)\n",
        "dataset_covid['anio_ons'] = np.where(criterio, dataset_covid['anio_vax'], dataset_covid['anio_ons'])\n",
        "\n",
        "# revisando si los valores siguen errados\n",
        "criterio = (dataset_covid.anio_vax.isin(anos_correctos)) & ~(dataset_covid.anio_ons.isin(anos_correctos)) & (dataset_covid.anio_ons != 0)\n",
        "\n",
        "print(f\"Despues de la correcion tenemos {dataset_covid.loc[criterio].shape[0]} valores errados bajo la condicion descrita\")"
      ],
      "execution_count": 403,
      "outputs": [
        {
          "output_type": "stream",
          "text": [
            "Despues de la correcion tenemos 0 valores errados bajo la condicion descrita\n"
          ],
          "name": "stdout"
        }
      ]
    },
    {
      "cell_type": "code",
      "metadata": {
        "colab": {
          "base_uri": "https://localhost:8080/"
        },
        "id": "NG16VFCV2G8o",
        "outputId": "c7ed7899-545b-447d-f281-dbb12e8a3434"
      },
      "source": [
        "# Arreglando anio_vax\n",
        "\n",
        "# Preprando correccion\n",
        "anos_correctos = ['2020', '2021']\n",
        "\n",
        "# Comparando años\n",
        "criterio = (dataset_covid.anio_ons.isin(anos_correctos)) & ~(dataset_covid.anio_vax.isin(anos_correctos)) & (dataset_covid.anio_vax != 0)\n",
        "# el criterio es para buscar el error en anios_ons, revisar la linea de abajo para mas comprension\n",
        "#dataset_covid.loc[criterio] # revisando\n",
        "\n",
        "# Reemplazamos el cambio usando condicional (criterio)\n",
        "dataset_covid['anio_vax'] = np.where(criterio, dataset_covid['anio_ons'], dataset_covid['anio_vax'])\n",
        "\n",
        "# revisando si los valores siguen errados\n",
        "criterio = (dataset_covid.anio_vax.isin(anos_correctos)) & ~(dataset_covid.anio_ons.isin(anos_correctos)) & (dataset_covid.anio_ons != 0)\n",
        "\n",
        "print(f\"Despues de la correcion tenemos {dataset_covid.loc[criterio].shape[0]} valores errados bajo la condicion descrita\")"
      ],
      "execution_count": 404,
      "outputs": [
        {
          "output_type": "stream",
          "text": [
            "Despues de la correcion tenemos 0 valores errados bajo la condicion descrita\n"
          ],
          "name": "stdout"
        }
      ]
    },
    {
      "cell_type": "markdown",
      "metadata": {
        "id": "gKDmLsGe5J6w"
      },
      "source": [
        "> A pesar de las mejoras, el problema sigue por lo que se repite nuevamente"
      ]
    },
    {
      "cell_type": "code",
      "metadata": {
        "colab": {
          "base_uri": "https://localhost:8080/"
        },
        "id": "HUooyhZ0BtdG",
        "outputId": "5518182e-79de-487c-ebc3-50c6fb8314e8"
      },
      "source": [
        "# modificamos la lista de revision para ver errores\n",
        "revisar1 = dataset_covid['anio_vax']\n",
        "revisar = [x for x in revisar1 if x < 2020]\n",
        "revisar2 = dataset_covid['anio_ons']\n",
        "revisar += [x for x in revisar2 if x < 2020]\n",
        "revisar = list(set(revisar))\n",
        "revisar.remove(0) #eliminamos valores 0\n",
        "\n",
        "print(revisar) # lista de años errados en vax\n",
        "print('Valores errados en anio_vax: ', dataset_covid.loc[dataset_covid['anio_vax'].isin(revisar)].shape[0])\n",
        "print('Valores errados en anio_ons: ', dataset_covid.loc[dataset_covid['anio_ons'].isin(revisar)].shape[0])"
      ],
      "execution_count": 405,
      "outputs": [
        {
          "output_type": "stream",
          "text": [
            "[1921, 1941, 1944, 1951, 1958, 1961, 1964, 1969, 1970, 1977, 1986, 1988, 1995, 1996, 2000, 2001, 2005, 2010, 2012, 2013, 2014, 2015, 2016, 2017, 2018, 2019]\n",
            "Valores errados en anio_vax:  83\n",
            "Valores errados en anio_ons:  48\n"
          ],
          "name": "stdout"
        }
      ]
    },
    {
      "cell_type": "code",
      "metadata": {
        "id": "xDzdxDzc7-cy"
      },
      "source": [
        "# Extraemos el año de la presentacion del reporte para hacer una comparacion\n",
        "dataset_covid['anio_reporte'] = pd.DatetimeIndex(dataset_covid['RECVDATE']).year"
      ],
      "execution_count": 406,
      "outputs": []
    },
    {
      "cell_type": "code",
      "metadata": {
        "colab": {
          "base_uri": "https://localhost:8080/"
        },
        "id": "mf1yVCcg9Hym",
        "outputId": "741ad817-05a1-41e9-96b8-45e59ee06568"
      },
      "source": [
        "# Arreglando anio_vax \n",
        "\n",
        "# Comparando años\n",
        "criterio = ~(dataset_covid.anio_vax.isin(anos_correctos)) & (dataset_covid.anio_vax != 0)\n",
        "# el criterio es para buscar el error en anios_ons, revisar la linea de abajo para mas comprension\n",
        "#dataset_covid.loc[criterio] # revisando\n",
        "\n",
        "# Reemplazamos el cambio usando condicional (criterio)\n",
        "dataset_covid['anio_vax'] = np.where(criterio, dataset_covid['anio_reporte'], dataset_covid['anio_vax'])\n",
        "\n",
        "# revisando si los valores siguen errados\n",
        "criterio = ~(dataset_covid.anio_vax.isin(anos_correctos)) & (dataset_covid.anio_vax != 0)\n",
        "\n",
        "print(f\"Despues de la correcion tenemos {dataset_covid.loc[criterio].shape[0]} valores errados bajo la condicion descrita\")"
      ],
      "execution_count": 407,
      "outputs": [
        {
          "output_type": "stream",
          "text": [
            "Despues de la correcion tenemos 0 valores errados bajo la condicion descrita\n"
          ],
          "name": "stdout"
        }
      ]
    },
    {
      "cell_type": "code",
      "metadata": {
        "colab": {
          "base_uri": "https://localhost:8080/"
        },
        "id": "hzA9CG5_CLfn",
        "outputId": "beb60453-d6cc-4f28-8849-b106b67539e4"
      },
      "source": [
        "# Comprobamos\n",
        "# modificamos la lista de revision para ver errores\n",
        "revisar1 = dataset_covid['anio_vax']\n",
        "revisar = [x for x in revisar1 if x < 2020]\n",
        "revisar2 = dataset_covid['anio_ons']\n",
        "revisar += [x for x in revisar2 if x < 2020]\n",
        "revisar = list(set(revisar))\n",
        "revisar.remove(0) #eliminamos valores 0\n",
        "\n",
        "print(revisar) # lista de años errados en vax\n",
        "print('Valores errados en anio_vax: ', dataset_covid.loc[dataset_covid['anio_vax'].isin(revisar)].shape[0])\n",
        "print('Valores errados en anio_ons: ', dataset_covid.loc[dataset_covid['anio_ons'].isin(revisar)].shape[0])"
      ],
      "execution_count": 408,
      "outputs": [
        {
          "output_type": "stream",
          "text": [
            "[1921, 2019, 1988, 2015, 1958, 1995, 1996, 2000, 2001, 1970, 1941, 1944, 1977, 2010, 2012, 2013, 1951]\n",
            "Valores errados en anio_vax:  0\n",
            "Valores errados en anio_ons:  48\n"
          ],
          "name": "stdout"
        }
      ]
    },
    {
      "cell_type": "code",
      "metadata": {
        "colab": {
          "base_uri": "https://localhost:8080/"
        },
        "id": "oqv5hA0XBVRn",
        "outputId": "faded274-3a81-4da1-a8c6-715aee79dad9"
      },
      "source": [
        "# Arreglando anio_ons\n",
        "\n",
        "# Comparando años\n",
        "criterio = ~(dataset_covid.anio_ons.isin(anos_correctos)) & (dataset_covid.anio_ons != 0)\n",
        "# el criterio es para buscar el error en anios_ons, revisar la linea de abajo para mas comprension\n",
        "#dataset_covid.loc[criterio] # revisando\n",
        "\n",
        "# Reemplazamos el cambio usando condicional (criterio)\n",
        "dataset_covid['anio_ons'] = np.where(criterio, dataset_covid['anio_reporte'], dataset_covid['anio_ons'])\n",
        "\n",
        "# revisando si los valores siguen errados\n",
        "criterio = ~(dataset_covid.anio_ons.isin(anos_correctos)) & (dataset_covid.anio_ons != 0)\n",
        "\n",
        "print(f\"Despues de la correcion tenemos {dataset_covid.loc[criterio].shape[0]} valores errados bajo la condicion descrita\")"
      ],
      "execution_count": 409,
      "outputs": [
        {
          "output_type": "stream",
          "text": [
            "Despues de la correcion tenemos 0 valores errados bajo la condicion descrita\n"
          ],
          "name": "stdout"
        }
      ]
    },
    {
      "cell_type": "code",
      "metadata": {
        "colab": {
          "base_uri": "https://localhost:8080/"
        },
        "id": "cv12uIJ8CYon",
        "outputId": "b32f328d-7e7a-42bb-e816-92f13b048010"
      },
      "source": [
        "# Comprobamos\n",
        "# modificamos la lista de revision para ver errores\n",
        "revisar1 = dataset_covid['anio_vax']\n",
        "revisar = [x for x in revisar1 if x < 2020]\n",
        "revisar2 = dataset_covid['anio_ons']\n",
        "revisar += [x for x in revisar2 if x < 2020]\n",
        "revisar = list(set(revisar))\n",
        "revisar.remove(0) #eliminamos valores 0\n",
        "\n",
        "print(revisar) # lista de años errados en vax\n",
        "print('Valores errados en anio_vax: ', dataset_covid.loc[dataset_covid['anio_vax'].isin(revisar)].shape[0])\n",
        "print('Valores errados en anio_ons: ', dataset_covid.loc[dataset_covid['anio_ons'].isin(revisar)].shape[0])"
      ],
      "execution_count": 410,
      "outputs": [
        {
          "output_type": "stream",
          "text": [
            "[]\n",
            "Valores errados en anio_vax:  0\n",
            "Valores errados en anio_ons:  0\n"
          ],
          "name": "stdout"
        }
      ]
    },
    {
      "cell_type": "markdown",
      "metadata": {
        "id": "scLo7c23AacB"
      },
      "source": [
        "> Errores de fecha corregidos\n"
      ]
    },
    {
      "cell_type": "code",
      "metadata": {
        "colab": {
          "base_uri": "https://localhost:8080/"
        },
        "id": "LHekM7q2-Q0c",
        "outputId": "0069eaaa-7a64-4567-f872-877a82a34ab7"
      },
      "source": [
        "# comprobacion de correcion de errores\n",
        "print(dataset_covid.anio_vax.value_counts())\n",
        "print(dataset_covid.anio_ons.value_counts())"
      ],
      "execution_count": 411,
      "outputs": [
        {
          "output_type": "stream",
          "text": [
            "2021    363463\n",
            "2020     18843\n",
            "0        15923\n",
            "Name: anio_vax, dtype: int64\n",
            "2021    372642\n",
            "0        13116\n",
            "2020     12471\n",
            "Name: anio_ons, dtype: int64\n"
          ],
          "name": "stdout"
        }
      ]
    },
    {
      "cell_type": "markdown",
      "metadata": {
        "id": "LO3zUFkKCp5w"
      },
      "source": [
        "> Conversion de fechas"
      ]
    },
    {
      "cell_type": "code",
      "metadata": {
        "id": "nobEM59VCpX6"
      },
      "source": [
        "#regresanod valores a string para poder hacer concatenacion de fechas\n",
        "dataset_covid.anio_vax = dataset_covid.anio_vax.astype(str)\n",
        "dataset_covid.anio_ons = dataset_covid.anio_ons.astype(str)"
      ],
      "execution_count": 412,
      "outputs": []
    },
    {
      "cell_type": "code",
      "metadata": {
        "id": "b-FB2ps2GIHs"
      },
      "source": [
        "# Reemplazando valores\n",
        "dataset_covid.anio_vax.replace({0 : np.nan}, inplace=True)\n",
        "dataset_covid.anio_ons.replace({0 : np.nan}, inplace=True)"
      ],
      "execution_count": 413,
      "outputs": []
    },
    {
      "cell_type": "code",
      "metadata": {
        "id": "tdo-bpt_DS9r"
      },
      "source": [
        "# funcion para reemplazar tiempo\n",
        "dataset_covid['VAX_DATE'] = dataset_covid['anio_vax'] + '-' + dataset_covid['mes_vax'] + '-' + dataset_covid['dia_vax']\n",
        "dataset_covid['ONSET_DATE'] = dataset_covid['anio_ons'] + '-' + dataset_covid['mes_ons'] + '-' + dataset_covid['dia_ons']\n",
        "\n",
        "# transformando a fecha\n",
        "dataset_covid['VAX_DATE'] =  pd.to_datetime(dataset_covid['VAX_DATE'], format='%Y-%m-%d')\n",
        "dataset_covid['ONSET_DATE'] =  pd.to_datetime(dataset_covid['ONSET_DATE'], format='%Y-%m-%d')"
      ],
      "execution_count": 414,
      "outputs": []
    },
    {
      "cell_type": "code",
      "metadata": {
        "id": "3kaGM5U4EEOX"
      },
      "source": [
        "# eliminando columnas temporales\n",
        "remove_col = new_vax + new_ons + ['anio_reporte']\n",
        "dataset_covid.drop(columns=remove_col, inplace=True)"
      ],
      "execution_count": 415,
      "outputs": []
    },
    {
      "cell_type": "code",
      "metadata": {
        "colab": {
          "base_uri": "https://localhost:8080/",
          "height": 0
        },
        "id": "O0sI0VFOJHK8",
        "outputId": "3098f27b-1fa6-46b1-a7bd-ecda04fb1eaa"
      },
      "source": [
        "# grafico\n",
        "fig1 = plt.figure(figsize=(20,7))\n",
        "ax = fig1.add_subplot(1, 1, 1)\n",
        "x = sns.lineplot(data = dataset_covid.loc[(dataset_covid['VAX_DATE'] > '2021-01-01') & (dataset_covid['VAX_DATE'] < '2021-08-01')].VAX_DATE.value_counts(),ax=ax, label=str('Vax Date'), alpha=0.6)\n",
        "z = sns.lineplot(data = dataset_covid.loc[(dataset_covid['ONSET_DATE'] > '2021-01-01') & (dataset_covid['ONSET_DATE'] < '2021-08-01')].ONSET_DATE.value_counts(),ax=ax,label=str('Onset Date'), alpha=0.6)\n",
        "plt.legend()\n",
        "plt.title('Personas vacunas y Personas con efecto adversos en el 2021')\n",
        "plt.show()"
      ],
      "execution_count": 416,
      "outputs": [
        {
          "output_type": "display_data",
          "data": {
            "image/png": "[encoded data removed]",
            "text/plain": [
              "<Figure size 1440x504 with 1 Axes>"
            ]
          },
          "metadata": {
            "tags": [],
            "needs_background": "light"
          }
        }
      ]
    },
    {
      "cell_type": "code",
      "metadata": {
        "colab": {
          "base_uri": "https://localhost:8080/",
          "height": 454
        },
        "id": "9AaDmsDBKcya",
        "outputId": "082252cc-5d97-4e16-a78f-746b1b5743e8"
      },
      "source": [
        "# grafico de todas las fechas\n",
        "fig1 = plt.figure(figsize=(20,7))\n",
        "ax = fig1.add_subplot(1, 1, 1)\n",
        "a = sns.lineplot(data = dataset_covid.loc[(dataset_covid['DATEDIED'] > '2021-01-01') & (dataset_covid['DATEDIED'] < '2021-08-01')].DATEDIED.value_counts(),ax=ax,label=str('Died Date'))\n",
        "x = sns.lineplot(data = dataset_covid.loc[(dataset_covid['VAX_DATE'] > '2021-01-01') & (dataset_covid['VAX_DATE'] < '2021-08-01')].VAX_DATE.value_counts(),ax=ax, label=str('Vax Date'), alpha=0.6)\n",
        "z = sns.lineplot(data = dataset_covid.loc[(dataset_covid['ONSET_DATE'] > '2021-01-01') & (dataset_covid['ONSET_DATE'] < '2021-08-01')].ONSET_DATE.value_counts(),ax=ax,label=str('Onset Date'), alpha=0.6)\n",
        "y = sns.lineplot(data = dataset_covid.loc[(dataset_covid['RECVDATE'] > '2021-01-01') & (dataset_covid['RECVDATE'] < '2021-08-01')].RECVDATE.value_counts(),ax=ax,label=str('Recieved form Date'), alpha=0.6)\n",
        "plt.legend()\n",
        "ax.set_xlabel('Mes - 2021')\n",
        "ax.set_ylabel('Frecuencia')\n",
        "plt.title('Personas vacunas y Personas con efecto adversos en el 2021')\n",
        "plt.show()"
      ],
      "execution_count": 417,
      "outputs": [
        {
          "output_type": "display_data",
          "data": {
            "image/png": "[encoded data removed]",
            "text/plain": [
              "<Figure size 1440x504 with 1 Axes>"
            ]
          },
          "metadata": {
            "tags": [],
            "needs_background": "light"
          }
        }
      ]
    },
    {
      "cell_type": "markdown",
      "metadata": {
        "id": "w0gG3v-8OdM3"
      },
      "source": [
        "# **13.NUMDAYS**"
      ]
    },
    {
      "cell_type": "code",
      "metadata": {
        "id": "X9GvZGcZOArE"
      },
      "source": [
        "######################## BACKUP ##############################\n",
        "#backup = dataset_covid.copy()\n",
        "dataset_covid = backup.copy()"
      ],
      "execution_count": 418,
      "outputs": []
    },
    {
      "cell_type": "code",
      "metadata": {
        "colab": {
          "base_uri": "https://localhost:8080/"
        },
        "id": "N3y6Ap3Szhlu",
        "outputId": "5977869e-557b-4e0e-f26d-286ad0665c63"
      },
      "source": [
        "# numero de dias desde el dia del efecto adverso # aqui hay datos ERRADOS!!\n",
        "#dataset_covid.NUMDAYS.dropna().astype(int).value_counts().sort_index(ascending=False)"
      ],
      "execution_count": 419,
      "outputs": [
        {
          "output_type": "execute_result",
          "data": {
            "text/plain": [
              "36896         1\n",
              "36573         1\n",
              "36564         1\n",
              "36561         1\n",
              "36555         1\n",
              "          ...  \n",
              "4          7734\n",
              "3         11763\n",
              "2         21396\n",
              "1         81861\n",
              "0        166441\n",
              "Name: NUMDAYS, Length: 551, dtype: int64"
            ]
          },
          "metadata": {
            "tags": []
          },
          "execution_count": 419
        }
      ]
    },
    {
      "cell_type": "markdown",
      "metadata": {
        "id": "IeXEMvqWN4Ft"
      },
      "source": [
        "# **14. VAX_LOT, VAX_ROUTE, VAX_SITE**"
      ]
    },
    {
      "cell_type": "markdown",
      "metadata": {
        "id": "dS2qMbvcg8XH"
      },
      "source": [
        "# Tratamiento de Variables"
      ]
    },
    {
      "cell_type": "code",
      "metadata": {
        "id": "tPiKclNNzZmb"
      },
      "source": [
        "# Trabajo de Laboratorio -- MALA variable\n",
        "removew = ['unknown', 'no', 'n/a', 'na', 'none yet', 'see above',\n",
        "       'none at this time', 'none.', 'none to date', 'none yet.',\n",
        "       'none reported', 'none so far', 'none known', 'not applicable',\n",
        "       'none at this time.', 'blood work', 'see above.', 'non', 'none done',\n",
        "       '0', 'as above', 'ultrasound', 'none needed', 'no.',\n",
        "       'none taken', 'no tests','as above.', 'n/a.','none performed',\n",
        "       'none as of yet', 'unknown.', 'none so far.', 'not known', 'pending',\n",
        "       'no e', 'none', 'vital signs', 'none to date.', 'not yet',\n",
        "       '?', '-', 'vitals', 'lab work', 'unk', 'no tests done', \n",
        "       'nothing', 'none noted', 'unkown', 'none required', 'no tests.',\n",
        "       'denies','unknown at this time', 'vitals were taken - normal',\n",
        "       'no medical test']\n",
        "\n",
        "dataset_covid['LAB_DATA'] = dataset_covid['LAB_DATA'].str.lower().replace(removew, np.nan) # incorrect values\n",
        "dataset_covid.LAB_DATA.dropna().value_counts().head(100).index\n"
      ],
      "execution_count": null,
      "outputs": []
    },
    {
      "cell_type": "code",
      "metadata": {
        "id": "Nc6unSlIzZJ4"
      },
      "source": [
        "# Lugar donde se puso la vacuna\n",
        "dataset_covid.V_ADMINBY.dropna().str.upper().value_counts(ascending = True)"
      ],
      "execution_count": null,
      "outputs": []
    },
    {
      "cell_type": "code",
      "metadata": {
        "id": "HjuXZj1a4Hgs"
      },
      "source": [
        "# Financiamiento para la vacuna\n",
        "dataset_covid.V_FUNDBY.dropna().str.upper().value_counts(ascending = True)"
      ],
      "execution_count": null,
      "outputs": []
    },
    {
      "cell_type": "code",
      "metadata": {
        "id": "rIXDIR104dna"
      },
      "source": [
        "# Otras medicaciones por historial\n",
        "omeds = ['none', 'unknown', 'no', 'none.', 'n/a','unk', 'na','unk', 'na',\n",
        "            'nothing', 'none listed', 'none reported','no medications',\n",
        "            'unkown', 'no known', 'non', 'not reported', 'none noted', '0',\n",
        "            'no.','not available']\n",
        "removew += omeds\n",
        "\n",
        "dataset_covid['OTHER_MEDS'] = dataset_covid['OTHER_MEDS'].str.lower().replace(removew, np.nan) # incorrect values\n",
        "dataset_covid.OTHER_MEDS.value_counts()"
      ],
      "execution_count": null,
      "outputs": []
    },
    {
      "cell_type": "code",
      "metadata": {
        "id": "3qvLDVTk4p4T"
      },
      "source": [
        "# Otras medicaciones por historial\n",
        "ill = ['none known', 'no illnesses', 'no acute illness', 'no acute illnesses', \n",
        "       'none known.', 'no known illnesses', 'unknown.', 'denied',\n",
        "       'i did not have any other illnesses.', 'none stated', 'no other illnesses', \n",
        "       'not applicable', 'no other illnesses.','none reported.', '-', 'no e',\n",
        "       'none per patient','none documented', 'zero', 'nonr', 'none disclosed',\n",
        "       'no illnesses at the time of vaccination.', 'none that i am aware of',\n",
        "       'no illnesses.', '?', 'nome', 'non-smoker', 'n/a.', 'nope',\n",
        "       'no known illness', 'nothing acute', 'none indicated',\n",
        "       'no other illnesses at the time of vaccination and up to one month prior.',\n",
        "       'no illness date of vaccination, unknown prior', 'none acute', \n",
        "       'none that i know of', 'unsure','none identified', 'none,', 'nonw', \n",
        "       'none reported by patient', 'no other illness', 'no  other illnesses.']\n",
        "removew += ill\n",
        "\n",
        "dataset_covid['CUR_ILL'] = dataset_covid['CUR_ILL'].str.lower().replace(removew, np.nan) # incorrect values\n",
        "dataset_covid.CUR_ILL.value_counts()"
      ],
      "execution_count": null,
      "outputs": []
    },
    {
      "cell_type": "code",
      "metadata": {
        "id": "CrmQIVde8vCP"
      },
      "source": [
        "# HISTORIAL MEDICO\n",
        "historial = ['comments: list of non-encoded patient relevant history: patient other relevant history 1: none',\n",
        "             'medical history/concurrent conditions: no adverse event (no reported medical history)',\n",
        "             'medical history/concurrent conditions: no adverse event (no medical history reported)',\n",
        "             'medical history/concurrent conditions: no adverse event (no reported medical history.)',\n",
        "             'medical history/concurrent conditions: no adverse event (no medical history reported.)',\n",
        "             'comments: no medical history was provided by the reporter.','not known', 'comments: unknown'\n",
        "             ]\n",
        "removew += historial\n",
        "\n",
        "dataset_covid['HISTORY'] = dataset_covid['HISTORY'].str.lower().replace(removew, np.nan) # incorrect values\n",
        "dataset_covid.HISTORY.value_counts()"
      ],
      "execution_count": null,
      "outputs": []
    },
    {
      "cell_type": "code",
      "metadata": {
        "id": "p47PTXsK93b3"
      },
      "source": [
        "# VACUNAS PREVIAS JAJJAJA\n",
        "dataset_covid['PRIOR_VAX'] = dataset_covid['PRIOR_VAX'].str.lower().replace(removew, np.nan) # incorrect values\n",
        "dataset_covid.PRIOR_VAX.value_counts()"
      ],
      "execution_count": null,
      "outputs": []
    },
    {
      "cell_type": "code",
      "metadata": {
        "id": "sHWnKMhX-PzL"
      },
      "source": [
        "# FORMULARIOS DE COLECTA DE DATOS\n",
        "dataset_covid.FORM_VERS.value_counts()"
      ],
      "execution_count": null,
      "outputs": []
    },
    {
      "cell_type": "code",
      "metadata": {
        "id": "pzK-5Pr5-Xyo"
      },
      "source": [
        "# VACUNAS PREVIAS\n",
        "\n",
        "# nka = not known allergies\n",
        "\n",
        "allergies = ['nka', 'nkda','no allergies', 'no known drug allergies', \n",
        "             'no known allergies.', 'no know allergies', 'no known allergies']\n",
        "removew += allergies\n",
        "\n",
        "dataset_covid['ALLERGIES'] = dataset_covid['ALLERGIES'].str.lower().replace(removew, np.nan) # incorrect values\n",
        "dataset_covid.ALLERGIES.str.lower().value_counts()"
      ],
      "execution_count": null,
      "outputs": []
    },
    {
      "cell_type": "code",
      "metadata": {
        "id": "AkL7dZh8AgBY"
      },
      "source": [
        "# Sintoma 1\n",
        "print(dataset_covid.SYMPTOM1.str.lower().value_counts().head(100).index)\n",
        "print(dataset_covid.SYMPTOMVERSION1.value_counts())"
      ],
      "execution_count": null,
      "outputs": []
    },
    {
      "cell_type": "code",
      "metadata": {
        "id": "arSLj5LOA1T2"
      },
      "source": [
        "# Sintoma 2\n",
        "print(dataset_covid.SYMPTOM2.str.lower().value_counts().head(100).index)\n",
        "print(dataset_covid.SYMPTOMVERSION2.value_counts())"
      ],
      "execution_count": null,
      "outputs": []
    },
    {
      "cell_type": "code",
      "metadata": {
        "id": "FUHrxNuhA8Rk"
      },
      "source": [
        "# Sintoma 3\n",
        "print(dataset_covid.SYMPTOM3.str.lower().value_counts().head(100).index)\n",
        "print(dataset_covid.SYMPTOMVERSION3.value_counts())"
      ],
      "execution_count": null,
      "outputs": []
    },
    {
      "cell_type": "code",
      "metadata": {
        "id": "GrLRrw2UBDBF"
      },
      "source": [
        "# Sintoma 4\n",
        "print(dataset_covid.SYMPTOM4.str.lower().value_counts().head(100).index)\n",
        "print(dataset_covid.SYMPTOMVERSION4.value_counts())"
      ],
      "execution_count": null,
      "outputs": []
    },
    {
      "cell_type": "code",
      "metadata": {
        "id": "waFodA7zBHE6"
      },
      "source": [
        "# Sintoma 5\n",
        "print(dataset_covid.SYMPTOM5.str.lower().value_counts().head(100).index)\n",
        "print(dataset_covid.SYMPTOMVERSION5.value_counts())"
      ],
      "execution_count": null,
      "outputs": []
    },
    {
      "cell_type": "code",
      "metadata": {
        "id": "KEkR-aZTBNOP"
      },
      "source": [
        "# Conteo de fabricantes de vacunas para covid19 (VAX_MANU)\n",
        "dataset_covid.VAX_MANU.value_counts()"
      ],
      "execution_count": null,
      "outputs": []
    },
    {
      "cell_type": "code",
      "metadata": {
        "id": "DJb1_aDSBZZp"
      },
      "source": [
        "# Conteo por series de dosis ... esto esta alarmantes\n",
        "dataset_covid.VAX_DOSE_SERIES.value_counts()"
      ],
      "execution_count": null,
      "outputs": []
    },
    {
      "cell_type": "code",
      "metadata": {
        "id": "KPW4h2zGBrNZ"
      },
      "source": [
        "# review the mistaked values... ESTO ESTA RARO\n",
        "dataset_covid.loc[dataset_covid.VAX_DOSE_SERIES == \"7+\", ].head()"
      ],
      "execution_count": null,
      "outputs": []
    },
    {
      "cell_type": "code",
      "metadata": {
        "id": "q3Y8BF_vCGYp"
      },
      "source": [
        "# ruta de inoculacion de la vacuna .. interesante...\n",
        "dataset_covid.VAX_ROUTE.value_counts()"
      ],
      "execution_count": null,
      "outputs": []
    },
    {
      "cell_type": "code",
      "metadata": {
        "id": "pgC5YTrFCk9E"
      },
      "source": [
        "# zona anatomica de ncoulacion de vacuna\n",
        "dataset_covid.VAX_SITE.value_counts()"
      ],
      "execution_count": null,
      "outputs": []
    },
    {
      "cell_type": "markdown",
      "metadata": {
        "id": "GxqjEfv_gQ-W"
      },
      "source": [
        "**Obs.** Cantidad exhorbitante de reportes de vacunas de Covid19 (casi 98% de los datos)"
      ]
    },
    {
      "cell_type": "markdown",
      "metadata": {
        "id": "-_d1MqDEguNx"
      },
      "source": [
        "**Obs.** Interesante los datos de el frabricante desconocido... por motivos de maleabilidad de los datos los eliminaremos al no ser muy representativo frente a los demas datos (representa solo un 0.16% de datos totales de vacunas para covid19)\n",
        "\n"
      ]
    },
    {
      "cell_type": "code",
      "metadata": {
        "id": "RQga9N_qT66f"
      },
      "source": [
        ""
      ],
      "execution_count": null,
      "outputs": []
    },
    {
      "cell_type": "markdown",
      "metadata": {
        "id": "9jSSS8HcG11q"
      },
      "source": [
        "# NLP en SYMTOMS_TEXT"
      ]
    },
    {
      "cell_type": "code",
      "metadata": {
        "id": "qTPaRggLtiPR"
      },
      "source": [
        "# Analisis textual de los sintomas, considerable numero...\n",
        "dataset_covid.SYMPTOM_TEXT.unique().shape"
      ],
      "execution_count": null,
      "outputs": []
    },
    {
      "cell_type": "code",
      "metadata": {
        "id": "mfHXUuGsLVu_"
      },
      "source": [
        "data = pd.read_csv('2021VAERSData.csv', index_col=0, encoding='latin-1')"
      ],
      "execution_count": null,
      "outputs": []
    },
    {
      "cell_type": "code",
      "metadata": {
        "id": "u-2IEz3nCPF6"
      },
      "source": [
        "sintomas_objetivo = ['vaccine-associated enhanced disease', 'multisystem inflammatory syndrome in children', 'acute respiratory distress syndrome',\n",
        "                     'acute cardiovascular injury', 'microangiopathy', 'heart failure', 'stress cardiomyopathy', 'coronary artery disease arrhythmia',\n",
        "                     'myocarditis', 'Coagulation disorder', 'thromboembolism', 'haemorrhage', 'Acute kidney injury', 'Generalized convulsion', \n",
        "                     'Acute liver injury', 'anosmia','ageusia', 'Chilblain', 'lesion', 'Single organ cutaneous vasculitis', 'Erythema multiforme', \n",
        "                     'Anaphylaxis', 'Acute aseptic arthritis', 'Meningoencephalitis', 'Acute disseminated encephalomyelitis', 'Thrombocytopenia'\n",
        "                     ]\n",
        "sintomas_objetivo = list(map(str.lower,sintomas_objetivo))\n",
        "sintomas_objetivo.sort()"
      ],
      "execution_count": null,
      "outputs": []
    },
    {
      "cell_type": "code",
      "metadata": {
        "id": "nxkl65Hh5QRc"
      },
      "source": [
        "# Trabajando en Text\n",
        "data.SYMPTOM_TEXT.fillna('None',inplace=True) #rellenar nan\n",
        "data.SYMPTOM_TEXT = data.SYMPTOM_TEXT.str.lower() # convertir en minuscula\n",
        "data.SYMPTOM_TEXT = data.SYMPTOM_TEXT.str.replace('[^\\w\\s]',' ') # limpiar signos\n",
        "data.SYMPTOM_TEXT = data.SYMPTOM_TEXT.str.rstrip() # limpiar espacios antes\n",
        "data.SYMPTOM_TEXT = data.SYMPTOM_TEXT.str.lstrip() # limpiar especio despues"
      ],
      "execution_count": null,
      "outputs": []
    },
    {
      "cell_type": "code",
      "metadata": {
        "id": "cuUun1k4ONJj"
      },
      "source": [
        "prueba = data.head(10000)"
      ],
      "execution_count": null,
      "outputs": []
    },
    {
      "cell_type": "code",
      "metadata": {
        "id": "Qb2kKqWJOe90"
      },
      "source": [
        "from fuzzywuzzy import fuzz\n",
        "\n",
        "for i in sintomas_objetivo:\n",
        "  prueba[i] = \"\"\n",
        "  print('Sintoma: ', i)\n",
        "  for j in prueba.SYMPTOM_TEXT:\n",
        "    if fuzz.partial_ratio(i,j) > 80:\n",
        "      print(i,'---',j)\n",
        "      prueba[i,j] = 1\n",
        "    else:\n",
        "      prueba[i] = 0\n",
        "\n",
        "\n",
        "# # Make new columns indicating what will be imputed\n",
        "# for col in cols_with_missing:\n",
        "#     X_train_plus[col + '_was_missing'] = X_train_plus[col].isnull()\n",
        "#     X_valid_plus[col + '_was_missing'] = X_valid_plus[col].isnull()"
      ],
      "execution_count": null,
      "outputs": []
    },
    {
      "cell_type": "code",
      "metadata": {
        "id": "zfoMoT212e_S"
      },
      "source": [
        "data.loc[data.SYMPTOM_TEXT.str.contains('hrombocytopenia', na=False)].shape"
      ],
      "execution_count": null,
      "outputs": []
    },
    {
      "cell_type": "code",
      "metadata": {
        "id": "W_heNgNLuVOd"
      },
      "source": [
        "symptom.head(100)"
      ],
      "execution_count": null,
      "outputs": []
    },
    {
      "cell_type": "code",
      "metadata": {
        "id": "B8797tZXyUKW"
      },
      "source": [
        "symptom.SYMPTOM1"
      ],
      "execution_count": null,
      "outputs": []
    },
    {
      "cell_type": "code",
      "metadata": {
        "id": "qs31aO-kuVIf"
      },
      "source": [
        "sympotom1.value_counts().head(100)"
      ],
      "execution_count": null,
      "outputs": []
    },
    {
      "cell_type": "code",
      "metadata": {
        "id": "pz_zBA1suUUT"
      },
      "source": [
        "symptom[symptom.SYMPTOM1.str.contains('oagulopathy')]"
      ],
      "execution_count": null,
      "outputs": []
    },
    {
      "cell_type": "markdown",
      "metadata": {
        "id": "gpo4InDTWBSm"
      },
      "source": [
        "#### history"
      ]
    },
    {
      "cell_type": "code",
      "metadata": {
        "id": "wp0i10cwWAum"
      },
      "source": [
        "# analisis de HISTORY\n",
        "dataset_covid['HISTORY'] = dataset_covid['HISTORY'].str.lower().replace(palabras_errones, np.nan) # reemplazando valores incorrectos\n",
        "dataset_covid.HISTORY.dropna().value_counts().sum() # revision de cantidad de valores utiles"
      ],
      "execution_count": null,
      "outputs": []
    },
    {
      "cell_type": "markdown",
      "metadata": {
        "id": "j_WxrLR_kXaj"
      },
      "source": [
        "# Notas previas"
      ]
    },
    {
      "cell_type": "markdown",
      "metadata": {
        "id": "S0NSPX1TkXUX"
      },
      "source": [
        "POSIBLES OBJETIVOS DEL TRABAJO DE INVESTIGACION:\n",
        "\n",
        "1. Personalizacion de las vacunas Moderna, Pfizer  y Johnson & Johnson pra reducir efectos adversos en perfiles especificos en pacientes. Este objetivo requeriria de un dataset de control con pacientes que no presentaron reacciones adversas a las vacunas.\n",
        "\n",
        "- Target: tipo de vacuna\n",
        "- Features: Datos de los pacientes (alergias, comorbolidades, edad, sexo, \n",
        "enfermedades cronicas y actuales (historia clinica), vacunas previas, sintomas post aplicacion, hospitalizacion y dias de hospitilizacion, discapacidades...)\n",
        "\n",
        "2. Series de tiempo frente antes y despues de la fecha de vacunacion.\n",
        "\n",
        "3. Predecir el sexo y/o rango de edad basado en los sintomas presetnados post aplicacion de las vacunas A. B.\n",
        "\n",
        "4. Predecir si el paciente requiere hospitalizacion basado en los sintomas que presenta al inocularse la vacuna por clusters (no supervisado).\n",
        "\n",
        "5. Predecir que sintomas puede presentar el paciente en base a su sexo y la vacuna inoculada."
      ]
    },
    {
      "cell_type": "markdown",
      "metadata": {
        "id": "LJoW9ZRyGxb-"
      },
      "source": [
        "## Revisando repeticiones (codigo extra)\n"
      ]
    },
    {
      "cell_type": "code",
      "metadata": {
        "id": "thxZYHGy2fF7"
      },
      "source": [
        "# revision de valores exagerados\n",
        "revision = merged.loc[1215401]\n",
        "\n",
        "for i in revision.columns:\n",
        "  repetidos = list(set(revision[i]))\n",
        "  limpio = [x for x in repetidos if str(x) != 'nan']\n",
        "  if len(limpio) > 2:\n",
        "    print('\\n*****Variable:', i, '*****')\n",
        "    pprint(limpio)"
      ],
      "execution_count": null,
      "outputs": []
    }
  ]
}