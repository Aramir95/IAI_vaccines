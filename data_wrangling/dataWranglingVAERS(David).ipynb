{
  "nbformat": 4,
  "nbformat_minor": 0,
  "metadata": {
    "colab": {
      "name": "dataWranglingVAERS(David).ipynb",
      "provenance": [],
      "collapsed_sections": [
        "JuvK8JJdmc9q",
        "j7Bl0bgahnL_",
        "8bqFkDXfgNXZ",
        "YJVmhflahYqL",
        "_rgpEBkXkFJ1",
        "JHM5t6ZYn9bi",
        "C4xYNJYHHimr",
        "wowK0EdoHrks",
        "EfpRNl5XS_2u",
        "VI_jImW1gORO",
        "aShu5KHThA6B",
        "uR0X04-pF45V",
        "EjYcZplxJjzK",
        "j_WxrLR_kXaj"
      ],
      "include_colab_link": true
    },
    "kernelspec": {
      "name": "python3",
      "display_name": "Python 3"
    },
    "language_info": {
      "name": "python"
    }
  },
  "cells": [
    {
      "cell_type": "markdown",
      "metadata": {
        "id": "view-in-github",
        "colab_type": "text"
      },
      "source": [
        "<a href=\"https://colab.research.google.com/github/yodavo/IAI_vaccines/blob/main/data_wrangling/dataWranglingVAERS(David).ipynb\" target=\"_parent\"><img src=\"https://colab.research.google.com/assets/colab-badge.svg\" alt=\"Open In Colab\"/></a>"
      ]
    },
    {
      "cell_type": "markdown",
      "metadata": {
        "id": "JuvK8JJdmc9q"
      },
      "source": [
        "# Paquetes"
      ]
    },
    {
      "cell_type": "code",
      "metadata": {
        "colab": {
          "base_uri": "https://localhost:8080/"
        },
        "id": "U6nGVtNAHfvK",
        "outputId": "64f4f382-6fa2-40ff-a3ed-6a674fccf4da"
      },
      "source": [
        "# Instalar paquetes no disponibles\n",
        "!pip install squarify\n",
        "!pip install fuzzywuzzy\n",
        "!pip install -U dataprep\n",
        "\n",
        "# Para importar la data\n",
        "import os\n",
        "\n",
        "# Importar para manipulacion de datos\n",
        "import numpy as np\n",
        "import pandas as pd\n",
        "import datetime as dt\n",
        "from statistics import *\n",
        "\n",
        "# Importar para Visualizacion \n",
        "import matplotlib.pyplot as plt\n",
        "import missingno as msno\n",
        "import seaborn as sns\n",
        "plt.style.use('seaborn-whitegrid')\n",
        "import warnings # para evitar warnings\n",
        "warnings.filterwarnings('ignore')\n",
        "import textwrap\n",
        "from textwrap import wrap\n",
        "import squarify\n",
        "import matplotlib.dates as mdates\n",
        "from matplotlib.dates import DateFormatter\n",
        "\n",
        "# Importar Dependencias\n",
        "%matplotlib inline\n",
        "%load_ext google.colab.data_table"
      ],
      "execution_count": 329,
      "outputs": [
        {
          "output_type": "stream",
          "text": [
            "Requirement already satisfied: squarify in /usr/local/lib/python3.7/dist-packages (0.4.3)\n",
            "Requirement already satisfied: fuzzywuzzy in /usr/local/lib/python3.7/dist-packages (0.18.0)\n",
            "Requirement already satisfied: dataprep in /usr/local/lib/python3.7/dist-packages (0.3.0)\n",
            "Requirement already satisfied: jsonpath-ng<2.0,>=1.5 in /usr/local/lib/python3.7/dist-packages (from dataprep) (1.5.3)\n",
            "Requirement already satisfied: numpy<2,>=1 in /usr/local/lib/python3.7/dist-packages (from dataprep) (1.19.5)\n",
            "Requirement already satisfied: jinja2<3.0,>=2.11 in /usr/local/lib/python3.7/dist-packages (from dataprep) (2.11.3)\n",
            "Requirement already satisfied: nltk<4.0,>=3.5 in /usr/local/lib/python3.7/dist-packages (from dataprep) (3.6.2)\n",
            "Requirement already satisfied: pandas<2.0,>=1.1 in /usr/local/lib/python3.7/dist-packages (from dataprep) (1.1.5)\n",
            "Requirement already satisfied: aiohttp<4.0,>=3.6 in /usr/local/lib/python3.7/dist-packages (from dataprep) (3.7.4.post0)\n",
            "Requirement already satisfied: python-Levenshtein<0.13.0,>=0.12.2 in /usr/local/lib/python3.7/dist-packages (from dataprep) (0.12.2)\n",
            "Requirement already satisfied: bokeh<3,>=2 in /usr/local/lib/python3.7/dist-packages (from dataprep) (2.3.3)\n",
            "Requirement already satisfied: pydantic<2.0,>=1.6 in /usr/local/lib/python3.7/dist-packages (from dataprep) (1.8.2)\n",
            "Requirement already satisfied: wordcloud<2.0,>=1.8 in /usr/local/lib/python3.7/dist-packages (from dataprep) (1.8.1)\n",
            "Requirement already satisfied: bottleneck<2.0,>=1.3 in /usr/local/lib/python3.7/dist-packages (from dataprep) (1.3.2)\n",
            "Requirement already satisfied: dask[array,dataframe,delayed]<3.0,>=2.25 in /usr/local/lib/python3.7/dist-packages (from dataprep) (2.30.0)\n",
            "Requirement already satisfied: usaddress<0.6.0,>=0.5.10 in /usr/local/lib/python3.7/dist-packages (from dataprep) (0.5.10)\n",
            "Requirement already satisfied: metaphone<0.7,>=0.6 in /usr/local/lib/python3.7/dist-packages (from dataprep) (0.6)\n",
            "Requirement already satisfied: regex<2021.0.0,>=2020.10.15 in /usr/local/lib/python3.7/dist-packages (from dataprep) (2020.11.13)\n",
            "Requirement already satisfied: ipywidgets<8.0,>=7.5 in /usr/local/lib/python3.7/dist-packages (from dataprep) (7.6.3)\n",
            "Requirement already satisfied: tqdm<5.0,>=4.48 in /usr/local/lib/python3.7/dist-packages (from dataprep) (4.62.0)\n",
            "Requirement already satisfied: scipy<2,>=1 in /usr/local/lib/python3.7/dist-packages (from dataprep) (1.4.1)\n",
            "Requirement already satisfied: multidict<7.0,>=4.5 in /usr/local/lib/python3.7/dist-packages (from aiohttp<4.0,>=3.6->dataprep) (5.1.0)\n",
            "Requirement already satisfied: yarl<2.0,>=1.0 in /usr/local/lib/python3.7/dist-packages (from aiohttp<4.0,>=3.6->dataprep) (1.6.3)\n",
            "Requirement already satisfied: async-timeout<4.0,>=3.0 in /usr/local/lib/python3.7/dist-packages (from aiohttp<4.0,>=3.6->dataprep) (3.0.1)\n",
            "Requirement already satisfied: attrs>=17.3.0 in /usr/local/lib/python3.7/dist-packages (from aiohttp<4.0,>=3.6->dataprep) (21.2.0)\n",
            "Requirement already satisfied: chardet<5.0,>=2.0 in /usr/local/lib/python3.7/dist-packages (from aiohttp<4.0,>=3.6->dataprep) (3.0.4)\n",
            "Requirement already satisfied: typing-extensions>=3.6.5 in /usr/local/lib/python3.7/dist-packages (from aiohttp<4.0,>=3.6->dataprep) (3.7.4.3)\n",
            "Requirement already satisfied: tornado>=5.1 in /usr/local/lib/python3.7/dist-packages (from bokeh<3,>=2->dataprep) (5.1.1)\n",
            "Requirement already satisfied: packaging>=16.8 in /usr/local/lib/python3.7/dist-packages (from bokeh<3,>=2->dataprep) (21.0)\n",
            "Requirement already satisfied: PyYAML>=3.10 in /usr/local/lib/python3.7/dist-packages (from bokeh<3,>=2->dataprep) (3.13)\n",
            "Requirement already satisfied: python-dateutil>=2.1 in /usr/local/lib/python3.7/dist-packages (from bokeh<3,>=2->dataprep) (2.8.2)\n",
            "Requirement already satisfied: pillow>=7.1.0 in /usr/local/lib/python3.7/dist-packages (from bokeh<3,>=2->dataprep) (7.1.2)\n",
            "Requirement already satisfied: toolz>=0.8.2 in /usr/local/lib/python3.7/dist-packages (from dask[array,dataframe,delayed]<3.0,>=2.25->dataprep) (0.11.1)\n",
            "Requirement already satisfied: fsspec>=0.6.0 in /usr/local/lib/python3.7/dist-packages (from dask[array,dataframe,delayed]<3.0,>=2.25->dataprep) (2021.7.0)\n",
            "Requirement already satisfied: partd>=0.3.10 in /usr/local/lib/python3.7/dist-packages (from dask[array,dataframe,delayed]<3.0,>=2.25->dataprep) (1.2.0)\n",
            "Requirement already satisfied: cloudpickle>=0.2.2 in /usr/local/lib/python3.7/dist-packages (from dask[array,dataframe,delayed]<3.0,>=2.25->dataprep) (1.3.0)\n",
            "Requirement already satisfied: ipykernel>=4.5.1 in /usr/local/lib/python3.7/dist-packages (from ipywidgets<8.0,>=7.5->dataprep) (4.10.1)\n",
            "Requirement already satisfied: ipython>=4.0.0 in /usr/local/lib/python3.7/dist-packages (from ipywidgets<8.0,>=7.5->dataprep) (5.5.0)\n",
            "Requirement already satisfied: jupyterlab-widgets>=1.0.0 in /usr/local/lib/python3.7/dist-packages (from ipywidgets<8.0,>=7.5->dataprep) (1.0.0)\n",
            "Requirement already satisfied: nbformat>=4.2.0 in /usr/local/lib/python3.7/dist-packages (from ipywidgets<8.0,>=7.5->dataprep) (5.1.3)\n",
            "Requirement already satisfied: widgetsnbextension~=3.5.0 in /usr/local/lib/python3.7/dist-packages (from ipywidgets<8.0,>=7.5->dataprep) (3.5.1)\n",
            "Requirement already satisfied: traitlets>=4.3.1 in /usr/local/lib/python3.7/dist-packages (from ipywidgets<8.0,>=7.5->dataprep) (5.0.5)\n",
            "Requirement already satisfied: jupyter-client in /usr/local/lib/python3.7/dist-packages (from ipykernel>=4.5.1->ipywidgets<8.0,>=7.5->dataprep) (5.3.5)\n",
            "Requirement already satisfied: pygments in /usr/local/lib/python3.7/dist-packages (from ipython>=4.0.0->ipywidgets<8.0,>=7.5->dataprep) (2.6.1)\n",
            "Requirement already satisfied: decorator in /usr/local/lib/python3.7/dist-packages (from ipython>=4.0.0->ipywidgets<8.0,>=7.5->dataprep) (4.4.2)\n",
            "Requirement already satisfied: simplegeneric>0.8 in /usr/local/lib/python3.7/dist-packages (from ipython>=4.0.0->ipywidgets<8.0,>=7.5->dataprep) (0.8.1)\n",
            "Requirement already satisfied: prompt-toolkit<2.0.0,>=1.0.4 in /usr/local/lib/python3.7/dist-packages (from ipython>=4.0.0->ipywidgets<8.0,>=7.5->dataprep) (1.0.18)\n",
            "Requirement already satisfied: setuptools>=18.5 in /usr/local/lib/python3.7/dist-packages (from ipython>=4.0.0->ipywidgets<8.0,>=7.5->dataprep) (57.2.0)\n",
            "Requirement already satisfied: pexpect in /usr/local/lib/python3.7/dist-packages (from ipython>=4.0.0->ipywidgets<8.0,>=7.5->dataprep) (4.8.0)\n",
            "Requirement already satisfied: pickleshare in /usr/local/lib/python3.7/dist-packages (from ipython>=4.0.0->ipywidgets<8.0,>=7.5->dataprep) (0.7.5)\n",
            "Requirement already satisfied: MarkupSafe>=0.23 in /usr/local/lib/python3.7/dist-packages (from jinja2<3.0,>=2.11->dataprep) (2.0.1)\n",
            "Requirement already satisfied: ply in /usr/local/lib/python3.7/dist-packages (from jsonpath-ng<2.0,>=1.5->dataprep) (3.11)\n",
            "Requirement already satisfied: six in /usr/local/lib/python3.7/dist-packages (from jsonpath-ng<2.0,>=1.5->dataprep) (1.15.0)\n",
            "Requirement already satisfied: jsonschema!=2.5.0,>=2.4 in /usr/local/lib/python3.7/dist-packages (from nbformat>=4.2.0->ipywidgets<8.0,>=7.5->dataprep) (2.6.0)\n",
            "Requirement already satisfied: ipython-genutils in /usr/local/lib/python3.7/dist-packages (from nbformat>=4.2.0->ipywidgets<8.0,>=7.5->dataprep) (0.2.0)\n",
            "Requirement already satisfied: jupyter-core in /usr/local/lib/python3.7/dist-packages (from nbformat>=4.2.0->ipywidgets<8.0,>=7.5->dataprep) (4.7.1)\n",
            "Requirement already satisfied: click in /usr/local/lib/python3.7/dist-packages (from nltk<4.0,>=3.5->dataprep) (7.1.2)\n",
            "Requirement already satisfied: joblib in /usr/local/lib/python3.7/dist-packages (from nltk<4.0,>=3.5->dataprep) (1.0.1)\n",
            "Requirement already satisfied: pyparsing>=2.0.2 in /usr/local/lib/python3.7/dist-packages (from packaging>=16.8->bokeh<3,>=2->dataprep) (2.4.7)\n",
            "Requirement already satisfied: pytz>=2017.2 in /usr/local/lib/python3.7/dist-packages (from pandas<2.0,>=1.1->dataprep) (2018.9)\n",
            "Requirement already satisfied: locket in /usr/local/lib/python3.7/dist-packages (from partd>=0.3.10->dask[array,dataframe,delayed]<3.0,>=2.25->dataprep) (0.2.1)\n",
            "Requirement already satisfied: wcwidth in /usr/local/lib/python3.7/dist-packages (from prompt-toolkit<2.0.0,>=1.0.4->ipython>=4.0.0->ipywidgets<8.0,>=7.5->dataprep) (0.2.5)\n",
            "Requirement already satisfied: python-crfsuite>=0.7 in /usr/local/lib/python3.7/dist-packages (from usaddress<0.6.0,>=0.5.10->dataprep) (0.9.7)\n",
            "Requirement already satisfied: probableparsing in /usr/local/lib/python3.7/dist-packages (from usaddress<0.6.0,>=0.5.10->dataprep) (0.0.1)\n",
            "Requirement already satisfied: future>=0.14 in /usr/local/lib/python3.7/dist-packages (from usaddress<0.6.0,>=0.5.10->dataprep) (0.16.0)\n",
            "Requirement already satisfied: notebook>=4.4.1 in /usr/local/lib/python3.7/dist-packages (from widgetsnbextension~=3.5.0->ipywidgets<8.0,>=7.5->dataprep) (5.3.1)\n",
            "Requirement already satisfied: Send2Trash in /usr/local/lib/python3.7/dist-packages (from notebook>=4.4.1->widgetsnbextension~=3.5.0->ipywidgets<8.0,>=7.5->dataprep) (1.8.0)\n",
            "Requirement already satisfied: terminado>=0.8.1 in /usr/local/lib/python3.7/dist-packages (from notebook>=4.4.1->widgetsnbextension~=3.5.0->ipywidgets<8.0,>=7.5->dataprep) (0.10.1)\n",
            "Requirement already satisfied: nbconvert in /usr/local/lib/python3.7/dist-packages (from notebook>=4.4.1->widgetsnbextension~=3.5.0->ipywidgets<8.0,>=7.5->dataprep) (5.6.1)\n",
            "Requirement already satisfied: pyzmq>=13 in /usr/local/lib/python3.7/dist-packages (from jupyter-client->ipykernel>=4.5.1->ipywidgets<8.0,>=7.5->dataprep) (22.2.1)\n",
            "Requirement already satisfied: ptyprocess in /usr/local/lib/python3.7/dist-packages (from terminado>=0.8.1->notebook>=4.4.1->widgetsnbextension~=3.5.0->ipywidgets<8.0,>=7.5->dataprep) (0.7.0)\n",
            "Requirement already satisfied: matplotlib in /usr/local/lib/python3.7/dist-packages (from wordcloud<2.0,>=1.8->dataprep) (3.2.2)\n",
            "Requirement already satisfied: idna>=2.0 in /usr/local/lib/python3.7/dist-packages (from yarl<2.0,>=1.0->aiohttp<4.0,>=3.6->dataprep) (2.10)\n",
            "Requirement already satisfied: cycler>=0.10 in /usr/local/lib/python3.7/dist-packages (from matplotlib->wordcloud<2.0,>=1.8->dataprep) (0.10.0)\n",
            "Requirement already satisfied: kiwisolver>=1.0.1 in /usr/local/lib/python3.7/dist-packages (from matplotlib->wordcloud<2.0,>=1.8->dataprep) (1.3.1)\n",
            "Requirement already satisfied: testpath in /usr/local/lib/python3.7/dist-packages (from nbconvert->notebook>=4.4.1->widgetsnbextension~=3.5.0->ipywidgets<8.0,>=7.5->dataprep) (0.5.0)\n",
            "Requirement already satisfied: bleach in /usr/local/lib/python3.7/dist-packages (from nbconvert->notebook>=4.4.1->widgetsnbextension~=3.5.0->ipywidgets<8.0,>=7.5->dataprep) (4.0.0)\n",
            "Requirement already satisfied: mistune<2,>=0.8.1 in /usr/local/lib/python3.7/dist-packages (from nbconvert->notebook>=4.4.1->widgetsnbextension~=3.5.0->ipywidgets<8.0,>=7.5->dataprep) (0.8.4)\n",
            "Requirement already satisfied: pandocfilters>=1.4.1 in /usr/local/lib/python3.7/dist-packages (from nbconvert->notebook>=4.4.1->widgetsnbextension~=3.5.0->ipywidgets<8.0,>=7.5->dataprep) (1.4.3)\n",
            "Requirement already satisfied: entrypoints>=0.2.2 in /usr/local/lib/python3.7/dist-packages (from nbconvert->notebook>=4.4.1->widgetsnbextension~=3.5.0->ipywidgets<8.0,>=7.5->dataprep) (0.3)\n",
            "Requirement already satisfied: defusedxml in /usr/local/lib/python3.7/dist-packages (from nbconvert->notebook>=4.4.1->widgetsnbextension~=3.5.0->ipywidgets<8.0,>=7.5->dataprep) (0.7.1)\n",
            "Requirement already satisfied: webencodings in /usr/local/lib/python3.7/dist-packages (from bleach->nbconvert->notebook>=4.4.1->widgetsnbextension~=3.5.0->ipywidgets<8.0,>=7.5->dataprep) (0.5.1)\n",
            "The google.colab.data_table extension is already loaded. To reload it, use:\n",
            "  %reload_ext google.colab.data_table\n"
          ],
          "name": "stdout"
        }
      ]
    },
    {
      "cell_type": "markdown",
      "metadata": {
        "id": "j7Bl0bgahnL_"
      },
      "source": [
        "# Carga de datos"
      ]
    },
    {
      "cell_type": "code",
      "metadata": {
        "colab": {
          "base_uri": "https://localhost:8080/"
        },
        "id": "vSb_YWYDv1Mq",
        "outputId": "f8f94394-41b3-463a-e5ce-d45a46e66f08"
      },
      "source": [
        "from google.colab import drive\n",
        "drive.mount('/content/drive')"
      ],
      "execution_count": 474,
      "outputs": [
        {
          "output_type": "stream",
          "text": [
            "Drive already mounted at /content/drive; to attempt to forcibly remount, call drive.mount(\"/content/drive\", force_remount=True).\n"
          ],
          "name": "stdout"
        }
      ]
    },
    {
      "cell_type": "code",
      "metadata": {
        "colab": {
          "base_uri": "https://localhost:8080/"
        },
        "id": "9HA2VhLAIC9w",
        "outputId": "f087a9d9-7f05-4c69-ebe7-7f2aa3d6fa88"
      },
      "source": [
        "# Carga de datos\n",
        "%cd '/content/drive/MyDrive/Colab Notebooks/Diplomado-UTEC/Modulo5/dataset'\n",
        "\n",
        "data = pd.read_csv('2021VAERSData.csv', index_col=0, encoding='latin-1')\n",
        "symptom = pd.read_csv('2021VAERSSYMPTOMS.csv', index_col=0, encoding='latin-1')\n",
        "\n",
        "print(data.shape)\n",
        "print(symptom.shape)"
      ],
      "execution_count": 475,
      "outputs": [
        {
          "output_type": "stream",
          "text": [
            "/content/drive/MyDrive/Colab Notebooks/Diplomado-UTEC/Modulo5/dataset\n",
            "(428486, 34)\n",
            "(575022, 10)\n"
          ],
          "name": "stdout"
        }
      ]
    },
    {
      "cell_type": "markdown",
      "metadata": {
        "id": "8bqFkDXfgNXZ"
      },
      "source": [
        "# Preparacion de datos de vacunas (**VAERSVAX**)"
      ]
    },
    {
      "cell_type": "code",
      "metadata": {
        "colab": {
          "base_uri": "https://localhost:8080/"
        },
        "id": "Ci-ZAFv7cfHq",
        "outputId": "594c2456-9d11-4b68-aa65-70a8d145aa4a"
      },
      "source": [
        "# importar la info\n",
        "vax = pd.read_csv('2021VAERSVAX.csv', index_col=0, encoding='latin-1')\n",
        "vax.shape"
      ],
      "execution_count": 476,
      "outputs": [
        {
          "output_type": "execute_result",
          "data": {
            "text/plain": [
              "(445358, 7)"
            ]
          },
          "metadata": {
            "tags": []
          },
          "execution_count": 476
        }
      ]
    },
    {
      "cell_type": "code",
      "metadata": {
        "colab": {
          "base_uri": "https://localhost:8080/"
        },
        "id": "RAefZ6meVFzv",
        "outputId": "196f7ac6-2d44-4ef6-c536-e15ab0d13d64"
      },
      "source": [
        "# TRATANDO VAX\n",
        "vac = vax.loc[vax['VAX_MANU'] != 'UNKNOWN MANUFACTURER'] # eliminamos frabricante desconocido\n",
        "vac = vac.loc[vac['VAX_TYPE'] == 'COVID19'] # seleccionamos solamente los datos de covid19\n",
        "vac.shape"
      ],
      "execution_count": 477,
      "outputs": [
        {
          "output_type": "execute_result",
          "data": {
            "text/plain": [
              "(437645, 7)"
            ]
          },
          "metadata": {
            "tags": []
          },
          "execution_count": 477
        }
      ]
    },
    {
      "cell_type": "code",
      "metadata": {
        "colab": {
          "base_uri": "https://localhost:8080/"
        },
        "id": "OEGpL6qVeHox",
        "outputId": "cc68fb96-2d4c-48db-cb86-61eb7e9cdae1"
      },
      "source": [
        "# eliminamos repetidos\n",
        "vacuna = vac.loc[vac.index.drop_duplicates(keep=False)]\n",
        "vacuna.shape # no duplicados, lista para ser combinada"
      ],
      "execution_count": 478,
      "outputs": [
        {
          "output_type": "execute_result",
          "data": {
            "text/plain": [
              "(409006, 7)"
            ]
          },
          "metadata": {
            "tags": []
          },
          "execution_count": 478
        }
      ]
    },
    {
      "cell_type": "code",
      "metadata": {
        "colab": {
          "base_uri": "https://localhost:8080/"
        },
        "id": "vVk3cKJhmksf",
        "outputId": "78e5a3ee-7f82-430f-96fe-20aed6c89a38"
      },
      "source": [
        "# separando el dataset de vacunas de covid19\n",
        "print(f\"Tamaño dataset original: {vax.shape[0]} observaciones\")\n",
        "print(f\"Tamaño dataset COVID19: {vacuna.shape[0]} observaciones\")"
      ],
      "execution_count": 479,
      "outputs": [
        {
          "output_type": "stream",
          "text": [
            "Tamaño dataset original: 445358 observaciones\n",
            "Tamaño dataset COVID19: 409006 observaciones\n"
          ],
          "name": "stdout"
        }
      ]
    },
    {
      "cell_type": "markdown",
      "metadata": {
        "id": "YJVmhflahYqL"
      },
      "source": [
        "# Merge de datasets **VAERVAX** (vacuna) y **VAERSData** (data), basada en 'vacuna' - variable global : **dataset_covid**\n",
        "\n",
        "Lamentablemente, el dataset sympthoms esta contaminado con informacion de laboratorio, medicamenttos y otros. Por lo que no fue tomada en cuenta para el analisis."
      ]
    },
    {
      "cell_type": "code",
      "metadata": {
        "colab": {
          "base_uri": "https://localhost:8080/"
        },
        "id": "S21H1rx8c0eh",
        "outputId": "560bb290-547b-4c00-a689-b4fd14910081"
      },
      "source": [
        "dataset_covid = pd.merge(vacuna, data, on='VAERS_ID')\n",
        "dataset_covid.shape"
      ],
      "execution_count": 480,
      "outputs": [
        {
          "output_type": "execute_result",
          "data": {
            "text/plain": [
              "(409006, 41)"
            ]
          },
          "metadata": {
            "tags": []
          },
          "execution_count": 480
        }
      ]
    },
    {
      "cell_type": "markdown",
      "metadata": {
        "id": "_rgpEBkXkFJ1"
      },
      "source": [
        "# **REVISION POR VARIABLE Y APLICACION DE FILTROS**\n",
        "\n",
        "## **Variables que no aportan informacion para este estudio**\n",
        "\n",
        "1. **RPT_DATE** -- Fecha del reporte, no es necesaria para este estudio\n",
        "2. **SPLTTYPE** -- Numero de proyecto de fabricante, no es necesaria para este estudio.\n",
        "3. **TODAYS_DATE** -- Fecha de subida a la base de datos, no es indispensable.\n",
        "4. **VAX_MANU** -- Una vez realizado el filtro, no es necesaria. De ahora en adelante de usara VAX_NAME que tiene la misma informacion.\n"
      ]
    },
    {
      "cell_type": "code",
      "metadata": {
        "colab": {
          "base_uri": "https://localhost:8080/"
        },
        "id": "DAuTBwxUnjNx",
        "outputId": "6d95a193-216c-475a-d84e-3ea09c8d4ceb"
      },
      "source": [
        "## Variables no necesarias\n",
        "rejected_col = ['RPT_DATE', 'SPLTTYPE', 'TODAYS_DATE', 'VAX_MANU']\n",
        "print(f\"Antes: {dataset_covid.shape[0]} observaciones y {dataset_covid.shape[1]} variables\")\n",
        "dataset_covid.drop(rejected_col, axis=1, inplace=True)\n",
        "print(f\"Despues: {dataset_covid.shape[0]} observaciones y {dataset_covid.shape[1]} variables\")"
      ],
      "execution_count": 481,
      "outputs": [
        {
          "output_type": "stream",
          "text": [
            "Antes: 409006 observaciones y 41 variables\n",
            "Despues: 409006 observaciones y 37 variables\n"
          ],
          "name": "stdout"
        }
      ]
    },
    {
      "cell_type": "markdown",
      "metadata": {
        "id": "JHM5t6ZYn9bi"
      },
      "source": [
        "## **Variables que necesitan observación por el metodo de coleccion de datos**\n",
        "\n",
        "En la colecta de los datos, tenemos dos factores importantes, primero la naturaleza del formulario que se utilizo para **(FORM_VERS)** teniendo dos formularios:\n",
        "\n",
        "1. Form1 - Impreso (289 observaciones)\n",
        "2. Form2 - Online (408717 observaciones)\n",
        "\n",
        "Como observamos la version impresa tiene una cantidad no significativa en comparacion de los otros datos. **Lo que nos permite eliminarla.**\n",
        "\n",
        "En consecuencia de la eliminacion de los formularios 1, existen otras variables tomadas juntamente con este formato. Por lo que tambien fueron eliminadas. Se elimino **V_FUNDBY** (Tipos de financiamiento usado para la vacunación) por poseer data insuficiente.\n",
        "\n",
        "Segundo, se tenia la variable **HISTORY** (Condiciones cronicas y enfermedades duraderas reportadas), al momento de analizar la informacion se vio una cantidad de datos considerable por lo que se creo un diccionario de palabras a ignorar (**palabras_erroneas**, este mismo sera actualizado en cada variable que reciba variables textuales) y se observo si las variables tenian un valor significativo en el dataset, no fue eliminada.\n",
        "\n",
        "Tercero, se reviso la variable **VAX_DOSE_SERIES** que no era confiable debido a su descontinuacion en algunos formularios.  Primero se elimimino las observaciones (fila entera) donde se observo mas de 3 dosis de vacunas. Entre estos casos excedentes se observo: \n",
        "\n",
        "- MODERNA (644)\n",
        "- PFIZER-BIONTECH (585)\n",
        "- JANSSEN (85)\n",
        "\n",
        "Reportando 11 fallecidos (por Moderna y Pfizer) y 17 hospitalizados por todas las vacunas (para mas detalle ver el codigo abajo).\n",
        "\n",
        "\n",
        "\n",
        "\n"
      ]
    },
    {
      "cell_type": "code",
      "metadata": {
        "colab": {
          "base_uri": "https://localhost:8080/"
        },
        "id": "-hcsC5yE61BE",
        "outputId": "afa8d672-7d12-4b63-e036-ca81784cb83e"
      },
      "source": [
        "# eliminar variables FORM_VERS (ya que todos los datos son del formato online - Form2) y\n",
        "# se elimino VFUNDBY que estaba relacionado con los Form1\n",
        "rejected_col = ['FORM_VERS', 'V_FUNDBY']\n",
        "print(f\"Antes: {dataset_covid.shape[0]} observaciones y {dataset_covid.shape[1]} variables\")\n",
        "dataset_covid.drop(rejected_col, axis=1, inplace=True)\n",
        "print(f\"Despues: {dataset_covid.shape[0]} observaciones y {dataset_covid.shape[1]} variables\")"
      ],
      "execution_count": 482,
      "outputs": [
        {
          "output_type": "stream",
          "text": [
            "Antes: 409006 observaciones y 37 variables\n",
            "Despues: 409006 observaciones y 35 variables\n"
          ],
          "name": "stdout"
        }
      ]
    },
    {
      "cell_type": "code",
      "metadata": {
        "id": "Hp_sAyZV8Xq4"
      },
      "source": [
        "# sintesis de listas de palabras a ignorar.\n",
        "palabras_errones = ['none', 'no', 'comments: unknown', 'unknown',\n",
        "                    'comments: list of non-encoded patient relevant history: patient other relevant history 1: none',\n",
        "                    'medical history/concurrent conditions: no adverse event (no reported medical history)', \n",
        "                    'none reported', 'medical history/concurrent conditions: no adverse event (no medical history reported)',\n",
        "                    'medical history/concurrent conditions: no adverse event (no reported medical history.)',\n",
        "                    'none known', 'na', 'medical history/concurrent conditions: no adverse event (no medical history reported.)',\n",
        "                    'none listed', 'unk', 'comments: the patient had no known allergies.', 'no.', \n",
        "                    '0', 'non', 'yes', 'none noted', 'none stated', 'no known', 'comments: list of non-encoded patient relevant history: patient other relevant history 1: no',\n",
        "                    'nothing', 'comments: no medical history was provided by the reporter.',\n",
        "                    'comments: list of non-encoded patient relevant history: patient other relevant history 1: no',\n",
        "                    'comments: the patient had no known drug allergies.', 'nothing'\n",
        "]"
      ],
      "execution_count": 483,
      "outputs": []
    },
    {
      "cell_type": "code",
      "metadata": {
        "colab": {
          "base_uri": "https://localhost:8080/"
        },
        "id": "4nl9LIGu7S4g",
        "outputId": "422c583a-09ea-4602-83a5-4ed9da015ae6"
      },
      "source": [
        "# analisis de HISTORY\n",
        "dataset_covid['HISTORY'] = dataset_covid['HISTORY'].str.lower().replace(palabras_errones, np.nan) # reemplazando valores incorrectos\n",
        "dataset_covid.HISTORY.dropna().value_counts().sum() # revision de cantidad de valores utiles"
      ],
      "execution_count": 484,
      "outputs": [
        {
          "output_type": "execute_result",
          "data": {
            "text/plain": [
              "179568"
            ]
          },
          "metadata": {
            "tags": []
          },
          "execution_count": 484
        }
      ]
    },
    {
      "cell_type": "code",
      "metadata": {
        "colab": {
          "base_uri": "https://localhost:8080/"
        },
        "id": "yfr_3MkGpF61",
        "outputId": "7ddc0717-e71f-41ce-9fdc-47aabe790a07"
      },
      "source": [
        "# analisis de VAX_DOSE_SERIES\n",
        "dataset_covid['VAX_DOSE_SERIES'] = dataset_covid['VAX_DOSE_SERIES'].str.lower().replace('unk', np.nan) # reemplazando valores desconocidos (UNK)\n",
        "\n",
        "# revision de dosis exageradas (ESTA SECCION ES SOLO PARA REPORTE, LOS DATOS SE ELIMINARON DE LA BASE DE DATOS)\n",
        "outliers_dosis = dataset_covid.loc[dataset_covid['VAX_DOSE_SERIES'].isin(['4', '5', '6', '7+'])]\n",
        "print(f'Valores fuera de los rangos de estudio: \\n')\n",
        "print(outliers_dosis.VAX_NAME.value_counts())\n",
        "print(f'\\nValores de fallecidos: \\n')\n",
        "print(outliers_dosis.groupby(['VAX_NAME', 'DIED']).size())\n",
        "print(f'\\nValores de hospitalizados: \\n')\n",
        "print(outliers_dosis.groupby(['VAX_NAME', 'HOSPITAL']).size())\n",
        "\n",
        "# eiminar valores de dosis excedentes\n",
        "print(f\"\\n\\nAntes: {dataset_covid.shape[0]} observaciones y {dataset_covid.shape[1]} variables\")\n",
        "dataset_covid = dataset_covid[~dataset_covid['VAX_DOSE_SERIES'].isin(['4', '5', '6', '7+'])]\n",
        "print(f\"Despues: {dataset_covid.shape[0]} observaciones y {dataset_covid.shape[1]} variables\")"
      ],
      "execution_count": 485,
      "outputs": [
        {
          "output_type": "stream",
          "text": [
            "Valores fuera de los rangos de estudio: \n",
            "\n",
            "COVID19 (COVID19 (MODERNA))            278\n",
            "COVID19 (COVID19 (PFIZER-BIONTECH))    110\n",
            "COVID19 (COVID19 (JANSSEN))             61\n",
            "Name: VAX_NAME, dtype: int64\n",
            "\n",
            "Valores de fallecidos: \n",
            "\n",
            "VAX_NAME                             DIED\n",
            "COVID19 (COVID19 (MODERNA))          Y       9\n",
            "COVID19 (COVID19 (PFIZER-BIONTECH))  Y       2\n",
            "dtype: int64\n",
            "\n",
            "Valores de hospitalizados: \n",
            "\n",
            "VAX_NAME                             HOSPITAL\n",
            "COVID19 (COVID19 (JANSSEN))          Y            2\n",
            "COVID19 (COVID19 (MODERNA))          Y           11\n",
            "COVID19 (COVID19 (PFIZER-BIONTECH))  Y            4\n",
            "dtype: int64\n",
            "\n",
            "\n",
            "Antes: 409006 observaciones y 35 variables\n",
            "Despues: 408557 observaciones y 35 variables\n"
          ],
          "name": "stdout"
        }
      ]
    },
    {
      "cell_type": "code",
      "metadata": {
        "colab": {
          "base_uri": "https://localhost:8080/"
        },
        "id": "oZyDqDvTEdWO",
        "outputId": "05b1470c-664c-4905-81e5-6562ac57db0e"
      },
      "source": [
        "dataset_covid.shape"
      ],
      "execution_count": 486,
      "outputs": [
        {
          "output_type": "execute_result",
          "data": {
            "text/plain": [
              "(408557, 35)"
            ]
          },
          "metadata": {
            "tags": []
          },
          "execution_count": 486
        }
      ]
    },
    {
      "cell_type": "markdown",
      "metadata": {
        "id": "yJpH95O_E6kb"
      },
      "source": [
        "# **Filtrado de Variables.**"
      ]
    },
    {
      "cell_type": "code",
      "metadata": {
        "id": "XUVXk31dOdjB"
      },
      "source": [
        "############################# BACKUP ######################################\n",
        "#backupMayor = dataset_covid.copy()"
      ],
      "execution_count": 487,
      "outputs": []
    },
    {
      "cell_type": "code",
      "metadata": {
        "id": "xY1d6bdsPCiS"
      },
      "source": [
        "# recover\n",
        "dataset_covid = backupMayor.copy()"
      ],
      "execution_count": 540,
      "outputs": []
    },
    {
      "cell_type": "markdown",
      "metadata": {
        "id": "C4xYNJYHHimr"
      },
      "source": [
        "##**1.RECVDATE**\n",
        "\n",
        "Fecha de ingreso de reporte. Sin cambio"
      ]
    },
    {
      "cell_type": "code",
      "metadata": {
        "id": "2y222hOsGiBI"
      },
      "source": [
        "# Procesamiento de RECVDATE, formato de fecha\n",
        "dataset_covid['RECVDATE'] =  dataset_covid['RECVDATE'].apply(pd.to_datetime, format='%m/%d/%Y') # no contiene ningun valor vacio"
      ],
      "execution_count": 541,
      "outputs": []
    },
    {
      "cell_type": "code",
      "metadata": {
        "colab": {
          "base_uri": "https://localhost:8080/",
          "height": 0
        },
        "id": "n1IaQYGHE5La",
        "outputId": "8e4b96ae-60da-4f28-dd8e-75198e73b128"
      },
      "source": [
        "# variable para plotear\n",
        "recvdate = dataset_covid['RECVDATE'].value_counts()\n",
        "\n",
        "# grafico de fecha de ingreso de reportes\n",
        "plt.figure(figsize=(20,7))\n",
        "sns.lineplot(data = recvdate)\n",
        "plt.title('Linea de tiempo de reportes recibidos por VAERS en 2021')\n",
        "plt.show()\n"
      ],
      "execution_count": 542,
      "outputs": [
        {
          "output_type": "display_data",
          "data": {
            "image/png": "[encoded data removed]",
            "text/plain": [
              "<Figure size 1440x504 with 1 Axes>"
            ]
          },
          "metadata": {
            "tags": [],
            "needs_background": "light"
          }
        }
      ]
    },
    {
      "cell_type": "markdown",
      "metadata": {
        "id": "wowK0EdoHrks"
      },
      "source": [
        "## **2. STATE**\n",
        "\n",
        "Se conservaron solo estados de USA, los territorios y nan fueron cambiados por **NSP**"
      ]
    },
    {
      "cell_type": "code",
      "metadata": {
        "id": "rNZLKVBiHp9Y"
      },
      "source": [
        "# Lista  de estados de los Estados Unidos de America\n",
        "usa_states = [\"AL\", \"AK\", \"AZ\", \"AR\", \"CA\", \"CO\", \"CT\", \"DC\", \"DE\", \"FL\", \"GA\", \n",
        "          \"HI\", \"ID\", \"IL\", \"IN\", \"IA\", \"KS\", \"KY\", \"LA\", \"ME\", \"MD\", \n",
        "          \"MA\", \"MI\", \"MN\", \"MS\", \"MO\", \"MT\", \"NE\", \"NV\", \"NH\", \"NJ\", \n",
        "          \"NM\", \"NY\", \"NC\", \"ND\", \"OH\", \"OK\", \"OR\", \"PA\", \"RI\", \"SC\", \n",
        "          \"SD\", \"TN\", \"TX\", \"UT\", \"VT\", \"VA\", \"WA\", \"WV\", \"WI\", \"WY\"]"
      ],
      "execution_count": 543,
      "outputs": []
    },
    {
      "cell_type": "code",
      "metadata": {
        "colab": {
          "base_uri": "https://localhost:8080/"
        },
        "id": "erlFzFnEHwKw",
        "outputId": "4909e63f-ce80-40b1-da91-b8e4bcb64ee1"
      },
      "source": [
        "# Obteniendo datos erroneos para correcion\n",
        "dataset_covid['STATE'] = dataset_covid['STATE'].str.upper() # volver tod el codigo a mayusculas\n",
        "dataset_covid['STATE'] = dataset_covid['STATE'].str.strip() # quitar espacios en blanco\n",
        "erroneo = dataset_covid['STATE'].value_counts().index.tolist() # seleccionar valores para comparar con los estados\n",
        "cambio = list(set(erroneo) - set(usa_states)) # para comprobar la differencia\n",
        "for i in cambio:\n",
        "  print(i, dataset_covid.loc[dataset_covid['STATE'] == i].shape)"
      ],
      "execution_count": 544,
      "outputs": [
        {
          "output_type": "stream",
          "text": [
            "AS (33, 35)\n",
            "XB (3, 35)\n",
            "MP (13, 35)\n",
            "XL (1, 35)\n",
            "PR (1496, 35)\n",
            "QM (2, 35)\n",
            "XV (2, 35)\n",
            "FM (3, 35)\n",
            "MH (7, 35)\n",
            "GU (59, 35)\n",
            "VI (32, 35)\n"
          ],
          "name": "stdout"
        }
      ]
    },
    {
      "cell_type": "code",
      "metadata": {
        "id": "KZAxrIwDK8co"
      },
      "source": [
        "#reemplazo de valores y valores nan\n",
        "dataset_covid['STATE'] = dataset_covid['STATE'].replace(cambio, np.nan) # reemplazando los valores de territorios\n",
        "dataset_covid['STATE'] = dataset_covid['STATE'].fillna('NSP') # definiendo no especifica"
      ],
      "execution_count": 545,
      "outputs": []
    },
    {
      "cell_type": "markdown",
      "metadata": {
        "id": "EfpRNl5XS_2u"
      },
      "source": [
        "## **3. AGE_YRS, CAGE_YR, CAGE_MO**\n",
        "\n",
        "Se combino CAGE_YR y CAGE_MO para rescatar la edad si no fue brindada en AGE_YRS.\n",
        "Se convitieron las edades en numeros integrales y todo se establecio en la variable AGE_YRS"
      ]
    },
    {
      "cell_type": "code",
      "metadata": {
        "colab": {
          "base_uri": "https://localhost:8080/"
        },
        "id": "eJioIN2XVT76",
        "outputId": "acd99b3e-aeb8-4a86-a581-34f5b60a93b6"
      },
      "source": [
        "# Analisis por datos vacios\n",
        "print(dataset_covid.AGE_YRS.isnull().sum(), dataset_covid.AGE_YRS.dtype)\n",
        "print(dataset_covid.CAGE_YR.isnull().sum(), dataset_covid.CAGE_YR.dtype)\n",
        "print(dataset_covid.CAGE_MO.isnull().sum(), dataset_covid.CAGE_MO.dtype)"
      ],
      "execution_count": 546,
      "outputs": [
        {
          "output_type": "stream",
          "text": [
            "27923 float64\n",
            "61761 float64\n",
            "407783 float64\n"
          ],
          "name": "stdout"
        }
      ]
    },
    {
      "cell_type": "code",
      "metadata": {
        "colab": {
          "base_uri": "https://localhost:8080/"
        },
        "id": "16DNy5fTU4P0",
        "outputId": "7c795fef-6bc2-4bde-b17c-5c601964dc14"
      },
      "source": [
        "# revisamos cuantos datos podemos recuperar las edades\n",
        "print('Se puede recuperar: ', dataset_covid.loc[~dataset_covid['CAGE_YR'].isnull()].AGE_YRS.isnull().sum(), 'edades no anotadas')"
      ],
      "execution_count": 547,
      "outputs": [
        {
          "output_type": "stream",
          "text": [
            "Se puede recuperar:  1475 edades no anotadas\n"
          ],
          "name": "stdout"
        }
      ]
    },
    {
      "cell_type": "code",
      "metadata": {
        "id": "-6nGs4_TZAlD"
      },
      "source": [
        "#Preparamos la nueva columna\n",
        "dataset_covid.AGE_YRS = dataset_covid.AGE_YRS.fillna(0).astype('int')\n",
        "dataset_covid.CAGE_YR = dataset_covid.CAGE_YR.fillna(0).astype('int') # cambiamos tipo para concatenar\n",
        "dataset_covid.CAGE_MO = dataset_covid.CAGE_MO.fillna(0).astype('int') # cambiamos tipo para concatenar"
      ],
      "execution_count": 548,
      "outputs": []
    },
    {
      "cell_type": "code",
      "metadata": {
        "id": "il8Xn9nFaCBR"
      },
      "source": [
        "# creamos una nueva columna\n",
        "dataset_covid['EDADexp'] = dataset_covid.CAGE_YR.astype(str) + '.' + dataset_covid.CAGE_MO.astype(str)\n",
        "dataset_covid['EDADexp'] = dataset_covid['EDADexp'].astype(float).round()\n",
        "dataset_covid['EDADexp'] = dataset_covid['EDADexp'].astype(int)"
      ],
      "execution_count": 549,
      "outputs": []
    },
    {
      "cell_type": "code",
      "metadata": {
        "colab": {
          "base_uri": "https://localhost:8080/"
        },
        "id": "QxY1LTFZbzLP",
        "outputId": "b631f618-c9bf-4a2b-a08b-d76f3112b9b0"
      },
      "source": [
        "# Recuperando valores en AGE_YRS\n",
        "print('Antes de recuperar las edades de CAGE: ', dataset_covid.loc[dataset_covid['AGE_YRS'] == 0].shape[0], 'observaciones no anotadas')\n",
        "dataset_covid['AGE_YRS'] = np.where(dataset_covid['AGE_YRS'] == 0, dataset_covid['EDADexp'], dataset_covid['AGE_YRS'])\n",
        "print('Despues de recuperar las edades de CAGE: ', dataset_covid.loc[dataset_covid['AGE_YRS'] == 0].shape[0], 'observaciones no anotadas')"
      ],
      "execution_count": 550,
      "outputs": [
        {
          "output_type": "stream",
          "text": [
            "Antes de recuperar las edades de CAGE:  27983 observaciones no anotadas\n",
            "Despues de recuperar las edades de CAGE:  26669 observaciones no anotadas\n"
          ],
          "name": "stdout"
        }
      ]
    },
    {
      "cell_type": "code",
      "metadata": {
        "id": "gPWCqQHJWFiQ"
      },
      "source": [
        "# Eliminamos las columnas que no nos brindan mas datos utiles\n",
        "remove = ['EDADexp', 'CAGE_YR', 'CAGE_MO']\n",
        "dataset_covid.drop(columns=remove, inplace=True)"
      ],
      "execution_count": 551,
      "outputs": []
    },
    {
      "cell_type": "markdown",
      "metadata": {
        "id": "VI_jImW1gORO"
      },
      "source": [
        "## **4. SEX**\n",
        "\n",
        "Se eliminaron los record con sexo desconocido (U)"
      ]
    },
    {
      "cell_type": "code",
      "metadata": {
        "id": "31EbdU7xEQ0o"
      },
      "source": [
        "# Eliminamos valores U, no aportan nada al estudio\n",
        "dataset_covid = dataset_covid.loc[dataset_covid['SEX'] != 'U']"
      ],
      "execution_count": 552,
      "outputs": []
    },
    {
      "cell_type": "code",
      "metadata": {
        "colab": {
          "base_uri": "https://localhost:8080/"
        },
        "id": "aNL6JRqZgek0",
        "outputId": "dd02cba4-13d3-4934-c4b0-cdb7441c682c"
      },
      "source": [
        "# valores completos\n",
        "dataset_covid.SEX.value_counts()"
      ],
      "execution_count": 553,
      "outputs": [
        {
          "output_type": "execute_result",
          "data": {
            "text/plain": [
              "F    285154\n",
              "M    113350\n",
              "Name: SEX, dtype: int64"
            ]
          },
          "metadata": {
            "tags": []
          },
          "execution_count": 553
        }
      ]
    },
    {
      "cell_type": "markdown",
      "metadata": {
        "id": "aShu5KHThA6B"
      },
      "source": [
        "## **5. DIED, DATE_DIED**"
      ]
    },
    {
      "cell_type": "code",
      "metadata": {
        "colab": {
          "base_uri": "https://localhost:8080/"
        },
        "id": "YlUHl45VhwCS",
        "outputId": "560b7150-bcb3-4406-c1ed-96ce5a010179"
      },
      "source": [
        "# Analisis por datos vacios\n",
        "print(dataset_covid.DIED.notnull().sum(), dataset_covid.DIED.dtype)\n",
        "print(dataset_covid.DATEDIED.notnull().sum(), dataset_covid.DATEDIED.dtype)"
      ],
      "execution_count": 554,
      "outputs": [
        {
          "output_type": "stream",
          "text": [
            "4864 object\n",
            "4503 object\n"
          ],
          "name": "stdout"
        }
      ]
    },
    {
      "cell_type": "code",
      "metadata": {
        "id": "9Uzeim5JlElP"
      },
      "source": [
        "# Preparando DIED, solo se imputo los valores vacios por N\n",
        "dataset_covid.DIED = dataset_covid.DIED.fillna('N').astype('str')"
      ],
      "execution_count": 555,
      "outputs": []
    },
    {
      "cell_type": "code",
      "metadata": {
        "colab": {
          "base_uri": "https://localhost:8080/",
          "height": 0
        },
        "id": "Y9AVti7Cq8Ji",
        "outputId": "bf03494f-d6bd-4689-a8c5-d63abfeb2bf7"
      },
      "source": [
        "# Preparando los datos de DATEDIED\n",
        "new = dataset_covid[\"DATEDIED\"].str.split(\"/\", n = 2, expand = True)\n",
        "dataset_covid['mes']= new[0]\n",
        "dataset_covid['dia']= new[1]\n",
        "dataset_covid['anio']= new[2]\n",
        "\n",
        "# lista para uso con fechas\n",
        "new = ['mes','dia','anio']\n",
        "\n",
        "#revision de todo\n",
        "# for i in new:\n",
        "#   display(dataset_covid[i].value_counts().sort_index())\n",
        "\n",
        "# El problema detectado fue el año\n",
        "display(dataset_covid['anio'].value_counts().sort_index())"
      ],
      "execution_count": 556,
      "outputs": [
        {
          "output_type": "display_data",
          "data": {
            "text/plain": [
              "2001       1\n",
              "2010       1\n",
              "2014       1\n",
              "2020      32\n",
              "2021    4468\n",
              "Name: anio, dtype: int64"
            ]
          },
          "metadata": {
            "tags": []
          }
        }
      ]
    },
    {
      "cell_type": "code",
      "metadata": {
        "colab": {
          "base_uri": "https://localhost:8080/",
          "height": 0
        },
        "id": "TeHvct2ZsHJ1",
        "outputId": "a8838914-e5bd-4e0e-d8b1-056e4cfdb6c6"
      },
      "source": [
        "# revisando valores atipicos\n",
        "dataset_covid.loc[dataset_covid['anio'].isin(['2001','2010','2014'])]"
      ],
      "execution_count": 557,
      "outputs": [
        {
          "output_type": "execute_result",
          "data": {
            "text/html": [
              "<div>\n",
              "<style scoped>\n",
              "    .dataframe tbody tr th:only-of-type {\n",
              "        vertical-align: middle;\n",
              "    }\n",
              "\n",
              "    .dataframe tbody tr th {\n",
              "        vertical-align: top;\n",
              "    }\n",
              "\n",
              "    .dataframe thead th {\n",
              "        text-align: right;\n",
              "    }\n",
              "</style>\n",
              "<table border=\"1\" class=\"dataframe\">\n",
              "  <thead>\n",
              "    <tr style=\"text-align: right;\">\n",
              "      <th></th>\n",
              "      <th>VAX_TYPE</th>\n",
              "      <th>VAX_LOT</th>\n",
              "      <th>VAX_DOSE_SERIES</th>\n",
              "      <th>VAX_ROUTE</th>\n",
              "      <th>VAX_SITE</th>\n",
              "      <th>VAX_NAME</th>\n",
              "      <th>RECVDATE</th>\n",
              "      <th>STATE</th>\n",
              "      <th>AGE_YRS</th>\n",
              "      <th>SEX</th>\n",
              "      <th>SYMPTOM_TEXT</th>\n",
              "      <th>DIED</th>\n",
              "      <th>DATEDIED</th>\n",
              "      <th>L_THREAT</th>\n",
              "      <th>ER_VISIT</th>\n",
              "      <th>HOSPITAL</th>\n",
              "      <th>HOSPDAYS</th>\n",
              "      <th>X_STAY</th>\n",
              "      <th>DISABLE</th>\n",
              "      <th>RECOVD</th>\n",
              "      <th>VAX_DATE</th>\n",
              "      <th>ONSET_DATE</th>\n",
              "      <th>NUMDAYS</th>\n",
              "      <th>LAB_DATA</th>\n",
              "      <th>V_ADMINBY</th>\n",
              "      <th>OTHER_MEDS</th>\n",
              "      <th>CUR_ILL</th>\n",
              "      <th>HISTORY</th>\n",
              "      <th>PRIOR_VAX</th>\n",
              "      <th>BIRTH_DEFECT</th>\n",
              "      <th>OFC_VISIT</th>\n",
              "      <th>ER_ED_VISIT</th>\n",
              "      <th>ALLERGIES</th>\n",
              "      <th>mes</th>\n",
              "      <th>dia</th>\n",
              "      <th>anio</th>\n",
              "    </tr>\n",
              "    <tr>\n",
              "      <th>VAERS_ID</th>\n",
              "      <th></th>\n",
              "      <th></th>\n",
              "      <th></th>\n",
              "      <th></th>\n",
              "      <th></th>\n",
              "      <th></th>\n",
              "      <th></th>\n",
              "      <th></th>\n",
              "      <th></th>\n",
              "      <th></th>\n",
              "      <th></th>\n",
              "      <th></th>\n",
              "      <th></th>\n",
              "      <th></th>\n",
              "      <th></th>\n",
              "      <th></th>\n",
              "      <th></th>\n",
              "      <th></th>\n",
              "      <th></th>\n",
              "      <th></th>\n",
              "      <th></th>\n",
              "      <th></th>\n",
              "      <th></th>\n",
              "      <th></th>\n",
              "      <th></th>\n",
              "      <th></th>\n",
              "      <th></th>\n",
              "      <th></th>\n",
              "      <th></th>\n",
              "      <th></th>\n",
              "      <th></th>\n",
              "      <th></th>\n",
              "      <th></th>\n",
              "      <th></th>\n",
              "      <th></th>\n",
              "      <th></th>\n",
              "    </tr>\n",
              "  </thead>\n",
              "  <tbody>\n",
              "    <tr>\n",
              "      <th>930912</th>\n",
              "      <td>COVID19</td>\n",
              "      <td>NaN</td>\n",
              "      <td>NaN</td>\n",
              "      <td>UN</td>\n",
              "      <td>UN</td>\n",
              "      <td>COVID19 (COVID19 (PFIZER-BIONTECH))</td>\n",
              "      <td>2021-01-09</td>\n",
              "      <td>NY</td>\n",
              "      <td>73</td>\n",
              "      <td>M</td>\n",
              "      <td>Diarrhea followed by death 24 hrs after vaccin...</td>\n",
              "      <td>Y</td>\n",
              "      <td>01/08/2001</td>\n",
              "      <td>NaN</td>\n",
              "      <td>NaN</td>\n",
              "      <td>NaN</td>\n",
              "      <td>NaN</td>\n",
              "      <td>NaN</td>\n",
              "      <td>NaN</td>\n",
              "      <td>N</td>\n",
              "      <td>01/07/2021</td>\n",
              "      <td>01/08/2021</td>\n",
              "      <td>1.0</td>\n",
              "      <td>NaN</td>\n",
              "      <td>UNK</td>\n",
              "      <td>None</td>\n",
              "      <td>None</td>\n",
              "      <td>NaN</td>\n",
              "      <td>NaN</td>\n",
              "      <td>NaN</td>\n",
              "      <td>NaN</td>\n",
              "      <td>NaN</td>\n",
              "      <td>None</td>\n",
              "      <td>01</td>\n",
              "      <td>08</td>\n",
              "      <td>2001</td>\n",
              "    </tr>\n",
              "    <tr>\n",
              "      <th>1050128</th>\n",
              "      <td>COVID19</td>\n",
              "      <td>EM9810</td>\n",
              "      <td>NaN</td>\n",
              "      <td>IM</td>\n",
              "      <td>LA</td>\n",
              "      <td>COVID19 (COVID19 (PFIZER-BIONTECH))</td>\n",
              "      <td>2021-02-23</td>\n",
              "      <td>WV</td>\n",
              "      <td>70</td>\n",
              "      <td>M</td>\n",
              "      <td>02/07/21 through 2/13/21 slightly fatiqued, to...</td>\n",
              "      <td>Y</td>\n",
              "      <td>02/14/2014</td>\n",
              "      <td>NaN</td>\n",
              "      <td>NaN</td>\n",
              "      <td>NaN</td>\n",
              "      <td>NaN</td>\n",
              "      <td>NaN</td>\n",
              "      <td>NaN</td>\n",
              "      <td>N</td>\n",
              "      <td>02/06/2021</td>\n",
              "      <td>02/07/2021</td>\n",
              "      <td>1.0</td>\n",
              "      <td>NaN</td>\n",
              "      <td>PUB</td>\n",
              "      <td>Eliquis 5MG, Carvedilol 6.25MG, Ramipril 2.5 M...</td>\n",
              "      <td>none</td>\n",
              "      <td>1.copd started in 2008 from a neurosurgery and...</td>\n",
              "      <td>NaN</td>\n",
              "      <td>NaN</td>\n",
              "      <td>NaN</td>\n",
              "      <td>Y</td>\n",
              "      <td>Penicillin</td>\n",
              "      <td>02</td>\n",
              "      <td>14</td>\n",
              "      <td>2014</td>\n",
              "    </tr>\n",
              "    <tr>\n",
              "      <th>1133747</th>\n",
              "      <td>COVID19</td>\n",
              "      <td>030M20A</td>\n",
              "      <td>NaN</td>\n",
              "      <td>IM</td>\n",
              "      <td>LA</td>\n",
              "      <td>COVID19 (COVID19 (MODERNA))</td>\n",
              "      <td>2021-03-25</td>\n",
              "      <td>NSP</td>\n",
              "      <td>97</td>\n",
              "      <td>M</td>\n",
              "      <td>died on hospice Narrative:  Patient died on ho...</td>\n",
              "      <td>Y</td>\n",
              "      <td>03/14/2010</td>\n",
              "      <td>NaN</td>\n",
              "      <td>NaN</td>\n",
              "      <td>NaN</td>\n",
              "      <td>NaN</td>\n",
              "      <td>Y</td>\n",
              "      <td>NaN</td>\n",
              "      <td>N</td>\n",
              "      <td>NaN</td>\n",
              "      <td>03/14/2021</td>\n",
              "      <td>NaN</td>\n",
              "      <td>NaN</td>\n",
              "      <td>OTH</td>\n",
              "      <td>NaN</td>\n",
              "      <td>NaN</td>\n",
              "      <td>NaN</td>\n",
              "      <td>NaN</td>\n",
              "      <td>NaN</td>\n",
              "      <td>Y</td>\n",
              "      <td>Y</td>\n",
              "      <td>NaN</td>\n",
              "      <td>03</td>\n",
              "      <td>14</td>\n",
              "      <td>2010</td>\n",
              "    </tr>\n",
              "  </tbody>\n",
              "</table>\n",
              "</div>"
            ],
            "text/plain": [
              "         VAX_TYPE  VAX_LOT VAX_DOSE_SERIES VAX_ROUTE  ...   ALLERGIES mes dia  anio\n",
              "VAERS_ID                                              ...                          \n",
              "930912    COVID19      NaN             NaN        UN  ...        None  01  08  2001\n",
              "1050128   COVID19   EM9810             NaN        IM  ...  Penicillin  02  14  2014\n",
              "1133747   COVID19  030M20A             NaN        IM  ...         NaN  03  14  2010\n",
              "\n",
              "[3 rows x 36 columns]"
            ]
          },
          "metadata": {
            "tags": []
          },
          "execution_count": 557
        }
      ]
    },
    {
      "cell_type": "markdown",
      "metadata": {
        "id": "AM10gWXEsr76"
      },
      "source": [
        " Revision, se reemplaza los años por revision individual de la siguiente manera\n",
        "\n",
        " - 2001 -> 2021\n",
        " - 2021 -> 2021\n",
        " - 2014 -> 2021"
      ]
    },
    {
      "cell_type": "code",
      "metadata": {
        "id": "jWQ0Rzcm8o_u"
      },
      "source": [
        "# Reemplazando valores\n",
        "dataset_covid['anio'].replace({'2001': '2021', \n",
        "                               '2010': '2021',\n",
        "                               '2014': '2021'}, inplace=True)\n",
        "\n",
        "# funcion para reemplazar tiempo\n",
        "dataset_covid.DATEDIED = dataset_covid['anio'] + '-' + dataset_covid['mes'] + '-' + dataset_covid['dia']\n",
        "\n",
        "# eliminando columnas temporales\n",
        "dataset_covid.drop(columns=new, inplace=True)\n",
        "\n",
        "# transformando a fecha\n",
        "dataset_covid['DATEDIED'] =  pd.to_datetime(dataset_covid['DATEDIED'], format='%Y-%m-%d')"
      ],
      "execution_count": 558,
      "outputs": []
    },
    {
      "cell_type": "code",
      "metadata": {
        "colab": {
          "base_uri": "https://localhost:8080/",
          "height": 0
        },
        "id": "feGapZENo-Kk",
        "outputId": "2bcb914e-daf3-4bfd-959d-c8e4ad163497"
      },
      "source": [
        "# grafico por fechas y de personas fallecidas\n",
        "plt.figure(figsize=(20,7))\n",
        "sns.lineplot(data = dataset_covid['DATEDIED'].value_counts())\n",
        "plt.title('Cantidad de personas fallecidas en el 2021')\n",
        "plt.show()"
      ],
      "execution_count": 559,
      "outputs": [
        {
          "output_type": "display_data",
          "data": {
            "image/png": "[encoded data removed]",
            "text/plain": [
              "<Figure size 1440x504 with 1 Axes>"
            ]
          },
          "metadata": {
            "tags": [],
            "needs_background": "light"
          }
        }
      ]
    },
    {
      "cell_type": "markdown",
      "metadata": {
        "id": "uR0X04-pF45V"
      },
      "source": [
        "## **6.ER_VISIT, ER_ED_VISIT**\n",
        "\n",
        "Ambas tienen la misma informaicion, se combinaron en ER_ED_VISIT\n",
        "Se transformo Y en 1 y nan n 0"
      ]
    },
    {
      "cell_type": "code",
      "metadata": {
        "colab": {
          "base_uri": "https://localhost:8080/"
        },
        "id": "pFZe7RwJFpb9",
        "outputId": "91d2e84e-9938-4653-cf95-3f4343235cba"
      },
      "source": [
        "# preparando las dos columnas\n",
        "dataset_covid.ER_VISIT.fillna(0, inplace=True)\n",
        "dataset_covid.ER_ED_VISIT.fillna(0, inplace=True)\n",
        "\n",
        "# combinando las dos columnas\n",
        "dataset_covid.ER_ED_VISIT = dataset_covid['ER_ED_VISIT'].astype(str) + dataset_covid['ER_VISIT'].astype(str)\n",
        "dataset_covid.drop(columns='ER_VISIT', inplace=True) # eliminamos columan ER_VISIT\n",
        "\n",
        "# revisando valores\n",
        "dataset_covid.ER_ED_VISIT.value_counts()"
      ],
      "execution_count": 560,
      "outputs": [
        {
          "output_type": "execute_result",
          "data": {
            "text/plain": [
              "00    344819\n",
              "Y0     53650\n",
              "0Y        35\n",
              "Name: ER_ED_VISIT, dtype: int64"
            ]
          },
          "metadata": {
            "tags": []
          },
          "execution_count": 560
        }
      ]
    },
    {
      "cell_type": "code",
      "metadata": {
        "colab": {
          "base_uri": "https://localhost:8080/"
        },
        "id": "FWxA1azCHuP7",
        "outputId": "8a862a77-d381-410a-e79c-cc9cdbe35e4a"
      },
      "source": [
        "# reemplazando valores\n",
        "dataset_covid['ER_ED_VISIT'].replace({'00': 0, \n",
        "                               'Y0': 1,\n",
        "                               '0Y': 1}, inplace=True)\n",
        "\n",
        "# revisando valores\n",
        "dataset_covid.ER_ED_VISIT.value_counts()"
      ],
      "execution_count": 561,
      "outputs": [
        {
          "output_type": "execute_result",
          "data": {
            "text/plain": [
              "0    344819\n",
              "1     53685\n",
              "Name: ER_ED_VISIT, dtype: int64"
            ]
          },
          "metadata": {
            "tags": []
          },
          "execution_count": 561
        }
      ]
    },
    {
      "cell_type": "markdown",
      "metadata": {
        "id": "92U_XkTOKkMC"
      },
      "source": [
        "## **9.HOSPITAL, HOSPDAYS**\n",
        "\n",
        "Se imputo con 0 los valores valores faltante y se cambio Y por 1 en hospitalizados.\n",
        "\n",
        "Los dias de hospitalizacin llegan hasta 120 dias."
      ]
    },
    {
      "cell_type": "code",
      "metadata": {
        "id": "LF8FcP97BSn9"
      },
      "source": [
        "######################## BACKUP ##############################\n",
        "#backup = dataset_covid.copy()\n",
        "dataset_covid = backup.copy()"
      ],
      "execution_count": 655,
      "outputs": []
    },
    {
      "cell_type": "code",
      "metadata": {
        "colab": {
          "base_uri": "https://localhost:8080/"
        },
        "id": "vh43l94UKmm4",
        "outputId": "0281f379-be90-49f6-a07e-ad28742c1547"
      },
      "source": [
        "# revisando valores\n",
        "print('Pacientes hospitalizados:', dataset_covid.HOSPITAL.notnull().sum())\n",
        "print('Al menos 1 dia de hospitalizacion:', dataset_covid.HOSPDAYS.notnull().sum())"
      ],
      "execution_count": 656,
      "outputs": [
        {
          "output_type": "stream",
          "text": [
            "Pacientes hospitalizados: 22369\n",
            "Al menos 1 dia de hospitalizacion: 15901\n"
          ],
          "name": "stdout"
        }
      ]
    },
    {
      "cell_type": "code",
      "metadata": {
        "id": "2r4fR68-QVwf"
      },
      "source": [
        "# aqui hay un error que la cantidad de pacientes con al menos 1 dia de hopitalizacion \n",
        "# deberia encajar con las observaciones de hospitalizacion\n",
        "\n",
        "dataset_covid.HOSPITAL.fillna(0, inplace=True) # imputando nan por 0 en hospitalizados\n",
        "dataset_covid.HOSPDAYS.fillna(0, inplace=True) # imputando nan por 0 en dias hospitalizados\n",
        "dataset_covid.HOSPITAL.replace('Y',1, inplace=True) # cambiamos y por 1 en hospitalizados\n",
        "\n",
        "#convertimos valores a int\n",
        "dataset_covid.HOSPITAL = dataset_covid.HOSPITAL.astype(int)\n",
        "dataset_covid.HOSPDAYS = dataset_covid.HOSPDAYS.astype(int)"
      ],
      "execution_count": 657,
      "outputs": []
    },
    {
      "cell_type": "code",
      "metadata": {
        "colab": {
          "base_uri": "https://localhost:8080/"
        },
        "id": "YrfrFSapFA3V",
        "outputId": "12c28a21-5d33-452f-9caf-38f75397b617"
      },
      "source": [
        "# revisando HOSPDAYS\n",
        "dataset_covid.HOSPDAYS = np.where(dataset_covid.HOSPDAYS > 120, 0, dataset_covid.HOSPDAYS) # para eliminar valores 999 999 99999\n",
        "dataset_covid.HOSPDAYS.value_counts().sort_index()"
      ],
      "execution_count": 658,
      "outputs": [
        {
          "output_type": "execute_result",
          "data": {
            "text/plain": [
              "0      382605\n",
              "1        2921\n",
              "2        3488\n",
              "3        2737\n",
              "4        1770\n",
              "        ...  \n",
              "95          1\n",
              "97          1\n",
              "104         1\n",
              "117         1\n",
              "120         2\n",
              "Name: HOSPDAYS, Length: 76, dtype: int64"
            ]
          },
          "metadata": {
            "tags": []
          },
          "execution_count": 658
        }
      ]
    },
    {
      "cell_type": "code",
      "metadata": {
        "colab": {
          "base_uri": "https://localhost:8080/"
        },
        "id": "OfEkVVe5RU-t",
        "outputId": "506eafff-71f6-44c5-b431-d573a3a63020"
      },
      "source": [
        "# reemplazando valores que si reportan hospitalizacion pero no reportan dias de hospitalizacion por al menos 1 dia (1)\n",
        "dataset_covid.HOSPDAYS = np.where(((dataset_covid.HOSPDAYS < 1) & (dataset_covid.HOSPITAL == 1)), 1, 0)\n",
        "\n",
        "# revisando valores\n",
        "print('Pacientes hospitalizados:', dataset_covid.HOSPITAL.notnull().sum())\n",
        "print('Al menos 1 dia de hospitalizacion:', dataset_covid.HOSPDAYS.notnull().sum())"
      ],
      "execution_count": 659,
      "outputs": [
        {
          "output_type": "stream",
          "text": [
            "Pacientes hospitalizados: 398504\n",
            "Al menos 1 dia de hospitalizacion: 398504\n"
          ],
          "name": "stdout"
        }
      ]
    },
    {
      "cell_type": "code",
      "metadata": {
        "id": "MnkyY6M_KvtT"
      },
      "source": [
        "# rellenando vacios\n",
        "\n",
        "\n"
      ],
      "execution_count": 538,
      "outputs": []
    },
    {
      "cell_type": "code",
      "metadata": {
        "id": "2l2ZSHbUQD1C"
      },
      "source": [
        ""
      ],
      "execution_count": null,
      "outputs": []
    },
    {
      "cell_type": "markdown",
      "metadata": {
        "id": "pHsWraOyMkgN"
      },
      "source": [
        "## **10.RCOVD**"
      ]
    },
    {
      "cell_type": "markdown",
      "metadata": {
        "id": "JeTsNFY1BCCS"
      },
      "source": [
        "## **6. L_THREAT**\n",
        "\n",
        "Cambio de Y por 1 y nan por 0"
      ]
    },
    {
      "cell_type": "code",
      "metadata": {
        "colab": {
          "base_uri": "https://localhost:8080/"
        },
        "id": "J5Q6dA0vBWxu",
        "outputId": "c44a390c-465a-4a59-cb2a-c2db481541e2"
      },
      "source": [
        "# cambiando por valores binarios\n",
        "dataset_covid.L_THREAT.replace('Y', 1, inplace=True)\n",
        "dataset_covid.L_THREAT.fillna('0', inplace=True) # rellenando nan con 0\n",
        "dataset_covid.L_THREAT = dataset_covid.L_THREAT.astype(int) # voviendolo int\n",
        "dataset_covid.L_THREAT.value_counts()"
      ],
      "execution_count": 395,
      "outputs": [
        {
          "output_type": "execute_result",
          "data": {
            "text/plain": [
              "0    392039\n",
              "1      6465\n",
              "Name: L_THREAT, dtype: int64"
            ]
          },
          "metadata": {
            "tags": []
          },
          "execution_count": 395
        }
      ]
    },
    {
      "cell_type": "code",
      "metadata": {
        "colab": {
          "base_uri": "https://localhost:8080/"
        },
        "id": "Ag9RRNJ-Mt2c",
        "outputId": "61cfb03a-c55b-430e-fb19-d882486eb63b"
      },
      "source": [
        "print(dataset_covid.RECOVD.value_counts())"
      ],
      "execution_count": 472,
      "outputs": [
        {
          "output_type": "stream",
          "text": [
            "N    147695\n",
            "Y    144636\n",
            "U     67440\n",
            "Name: RECOVD, dtype: int64\n"
          ],
          "name": "stdout"
        }
      ]
    },
    {
      "cell_type": "code",
      "metadata": {
        "colab": {
          "base_uri": "https://localhost:8080/"
        },
        "id": "vWB7ehWdNztU",
        "outputId": "7caeaf62-2197-40a4-cd79-9060bf76685a"
      },
      "source": [
        "dataset_covid.RECVDATE"
      ],
      "execution_count": 473,
      "outputs": [
        {
          "output_type": "execute_result",
          "data": {
            "text/plain": [
              "VAERS_ID\n",
              "916600    2021-01-01\n",
              "916601    2021-01-01\n",
              "916602    2021-01-01\n",
              "916603    2021-01-01\n",
              "916604    2021-01-01\n",
              "             ...    \n",
              "1497722   2021-07-23\n",
              "1497724   2021-07-23\n",
              "1497725   2021-07-23\n",
              "1497726   2021-07-23\n",
              "1497727   2021-07-23\n",
              "Name: RECVDATE, Length: 398504, dtype: datetime64[ns]"
            ]
          },
          "metadata": {
            "tags": []
          },
          "execution_count": 473
        }
      ]
    },
    {
      "cell_type": "code",
      "metadata": {
        "id": "HhapYYuznImQ"
      },
      "source": [
        "# revisando las fechas\n",
        "temp = pd.DataFrame()\n",
        "temp['ONSET_DATE'] = dataset_covid['ONSET_DATE'].copy()\n",
        "temp['ONSET_DATE'].isna().sum() # no nan\n",
        "new = temp[\"ONSET_DATE\"].str.split(\"/\", n = 2, expand = True)\n",
        "temp[\"month\"]= new[0]\n",
        "temp[\"day\"]= new[1]\n",
        "temp[\"year\"]= new[2]"
      ],
      "execution_count": null,
      "outputs": []
    },
    {
      "cell_type": "code",
      "metadata": {
        "id": "Uy6mrVUKocIH"
      },
      "source": [
        ""
      ],
      "execution_count": null,
      "outputs": []
    },
    {
      "cell_type": "markdown",
      "metadata": {
        "id": "EjYcZplxJjzK"
      },
      "source": [
        "## **7. BIRTH_DEFECT, X_STAY**\n",
        "\n",
        "No representa un valor significante (solo 199 pacientes en BIRTH DEFECT y 236 en X_STAY), ademas no especifica el defecto de nacimiento por lo que no es indispensable para este estudio.\n",
        "\n",
        "**Fue eliminada.**"
      ]
    },
    {
      "cell_type": "code",
      "metadata": {
        "id": "VTsIomP1KD0Y"
      },
      "source": [
        "dataset_covid.drop(columns=['BIRTH_DEFECT','X_STAY'], inplace=True)"
      ],
      "execution_count": 534,
      "outputs": []
    },
    {
      "cell_type": "markdown",
      "metadata": {
        "id": "CpOSrr_ahOOX"
      },
      "source": [
        "## **\\#. SYMPTOM_TEXT**"
      ]
    },
    {
      "cell_type": "markdown",
      "metadata": {
        "id": "dS2qMbvcg8XH"
      },
      "source": [
        "# Tratamiento de Variables"
      ]
    },
    {
      "cell_type": "code",
      "metadata": {
        "id": "0T7MmBnIoPGz"
      },
      "source": [
        "print(temp.month.value_counts().sort_index())\n",
        "print(temp.day.value_counts().sort_index())\n",
        "print(temp.year.value_counts().sort_index())"
      ],
      "execution_count": null,
      "outputs": []
    },
    {
      "cell_type": "code",
      "metadata": {
        "id": "rdb8UyClinhs"
      },
      "source": [
        "# Actualizando datetime\n",
        "dtime = ['RECVDATE', 'DATEDIED', 'VAX_DATE', 'ONSET_DATE']\n",
        "dataset_covid[dtime] =  dataset_covid[dtime].apply(pd.to_datetime, format='%m/%d/%Y')"
      ],
      "execution_count": null,
      "outputs": []
    },
    {
      "cell_type": "code",
      "metadata": {
        "colab": {
          "base_uri": "https://localhost:8080/"
        },
        "id": "qTPaRggLtiPR",
        "outputId": "e31ef399-14df-4708-f6ab-461f2f88a17f"
      },
      "source": [
        "# Analisis textual de los sintomas, considerable numero...\n",
        "dataset_covid.SYMPTOM_TEXT.unique().shape"
      ],
      "execution_count": null,
      "outputs": [
        {
          "output_type": "execute_result",
          "data": {
            "text/plain": [
              "(404024,)"
            ]
          },
          "metadata": {
            "tags": []
          },
          "execution_count": 128
        }
      ]
    },
    {
      "cell_type": "code",
      "metadata": {
        "colab": {
          "base_uri": "https://localhost:8080/"
        },
        "id": "CegTl3vCt66C",
        "outputId": "10152aef-c523-40d2-f437-2e96b0a01490"
      },
      "source": [
        "# revission de categoricas\n",
        "# enfermedad terminal\n",
        "dataset_covid.L_THREAT.value_counts()"
      ],
      "execution_count": null,
      "outputs": [
        {
          "output_type": "execute_result",
          "data": {
            "text/plain": [
              "Y    16254\n",
              "Name: L_THREAT, dtype: int64"
            ]
          },
          "metadata": {
            "tags": []
          },
          "execution_count": 133
        }
      ]
    },
    {
      "cell_type": "code",
      "metadata": {
        "colab": {
          "base_uri": "https://localhost:8080/"
        },
        "id": "3ZfigCy8uXu5",
        "outputId": "84052af9-6392-4085-a064-48f5851f5839"
      },
      "source": [
        "# hospitalizacion = 53726\n",
        "dataset_covid.HOSPDAYS = dataset_covid.HOSPDAYS.replace([99999,999], np.nan) # incorrect values\n",
        "dataset_covid.HOSPDAYS.dropna().astype(int).value_counts().sort_index(ascending=False)"
      ],
      "execution_count": null,
      "outputs": [
        {
          "output_type": "execute_result",
          "data": {
            "text/plain": [
              "120       6\n",
              "117       1\n",
              "104       3\n",
              "97        2\n",
              "95        2\n",
              "       ... \n",
              "5      3173\n",
              "4      4394\n",
              "3      6736\n",
              "2      8407\n",
              "1      6889\n",
              "Name: HOSPDAYS, Length: 76, dtype: int64"
            ]
          },
          "metadata": {
            "tags": []
          },
          "execution_count": 142
        }
      ]
    },
    {
      "cell_type": "code",
      "metadata": {
        "colab": {
          "base_uri": "https://localhost:8080/"
        },
        "id": "sdmJIUssv0KT",
        "outputId": "24c96652-143e-48e9-ef56-69fa07697069"
      },
      "source": [
        "# recuperados?\n",
        "dataset_covid.RECOVD.value_counts()"
      ],
      "execution_count": null,
      "outputs": [
        {
          "output_type": "execute_result",
          "data": {
            "text/plain": [
              "N    238666\n",
              "Y    205958\n",
              "U     96928\n",
              "Name: RECOVD, dtype: int64"
            ]
          },
          "metadata": {
            "tags": []
          },
          "execution_count": 144
        }
      ]
    },
    {
      "cell_type": "code",
      "metadata": {
        "colab": {
          "base_uri": "https://localhost:8080/"
        },
        "id": "xUYBfE_NwxNW",
        "outputId": "f939c06c-4a29-47a3-97f5-0dc5cf543519"
      },
      "source": [
        "# Dia del vacuna.... FECHAS ERRADAS!\n",
        "dataset_covid.VAX_DATE.value_counts().sort_index()"
      ],
      "execution_count": null,
      "outputs": [
        {
          "output_type": "execute_result",
          "data": {
            "text/plain": [
              "1920-01-18      1\n",
              "1921-01-01      1\n",
              "1921-01-06      2\n",
              "1921-01-07      2\n",
              "1921-01-09      1\n",
              "             ... \n",
              "2021-07-18    107\n",
              "2021-07-19    244\n",
              "2021-07-20    256\n",
              "2021-07-21    183\n",
              "2021-07-22    122\n",
              "Name: VAX_DATE, Length: 861, dtype: int64"
            ]
          },
          "metadata": {
            "tags": []
          },
          "execution_count": 150
        }
      ]
    },
    {
      "cell_type": "code",
      "metadata": {
        "colab": {
          "base_uri": "https://localhost:8080/",
          "height": 440
        },
        "id": "onS7wFtMeiK3",
        "outputId": "9f3d947b-29e7-4650-9800-45b4bb925d2f"
      },
      "source": [
        "vacunados = dataset_covid.VAX_DATE.value_counts()\n",
        "# grafico de personas fallecidas\n",
        "plt.figure(figsize=(20,7))\n",
        "sns.lineplot(data = vacunados)\n",
        "plt.title('Cantidad de vacunados en el 2021')\n",
        "plt.show()"
      ],
      "execution_count": null,
      "outputs": [
        {
          "output_type": "display_data",
          "data": {
            "image/png": "[encoded data removed]",
            "text/plain": [
              "<Figure size 1440x504 with 1 Axes>"
            ]
          },
          "metadata": {
            "tags": [],
            "needs_background": "light"
          }
        }
      ]
    },
    {
      "cell_type": "code",
      "metadata": {
        "colab": {
          "base_uri": "https://localhost:8080/"
        },
        "id": "YPU8pfeEzZsj",
        "outputId": "51e26691-9a7a-49fa-b211-642a2d02bf4c"
      },
      "source": [
        "# Dia de efecto adverso.... FECHAS ERRADAS!\n",
        "dataset_covid.ONSET_DATE.value_counts().sort_index()"
      ],
      "execution_count": null,
      "outputs": [
        {
          "output_type": "execute_result",
          "data": {
            "text/plain": [
              "1920-12-23      2\n",
              "1920-12-25      4\n",
              "1920-12-29      3\n",
              "1921-01-05      1\n",
              "1921-01-06      1\n",
              "             ... \n",
              "2021-07-18    202\n",
              "2021-07-19    349\n",
              "2021-07-20    334\n",
              "2021-07-21    262\n",
              "2021-07-22    170\n",
              "Name: ONSET_DATE, Length: 478, dtype: int64"
            ]
          },
          "metadata": {
            "tags": []
          },
          "execution_count": 152
        }
      ]
    },
    {
      "cell_type": "code",
      "metadata": {
        "colab": {
          "base_uri": "https://localhost:8080/"
        },
        "id": "N3y6Ap3Szhlu",
        "outputId": "435b4053-cad6-44ca-bc52-1c8552aa80d2"
      },
      "source": [
        "# numero de dias desde el dia del efecto adverso # aqui hay datos ERRADOS!!\n",
        "dataset_covid.NUMDAYS.dropna().astype(int).value_counts().sort_index(ascending=False)"
      ],
      "execution_count": null,
      "outputs": [
        {
          "output_type": "execute_result",
          "data": {
            "text/plain": [
              "36896         1\n",
              "36573         1\n",
              "36564         2\n",
              "36561         1\n",
              "36555         1\n",
              "          ...  \n",
              "4         11932\n",
              "3         17836\n",
              "2         31490\n",
              "1        122758\n",
              "0        232163\n",
              "Name: NUMDAYS, Length: 595, dtype: int64"
            ]
          },
          "metadata": {
            "tags": []
          },
          "execution_count": 157
        }
      ]
    },
    {
      "cell_type": "code",
      "metadata": {
        "colab": {
          "base_uri": "https://localhost:8080/"
        },
        "id": "tPiKclNNzZmb",
        "outputId": "e4df51c7-0d6d-44ec-bb6b-25cf7bb303ab"
      },
      "source": [
        "# Trabajo de Laboratorio -- MALA variable\n",
        "removew = ['unknown', 'no', 'n/a', 'na', 'none yet', 'see above',\n",
        "       'none at this time', 'none.', 'none to date', 'none yet.',\n",
        "       'none reported', 'none so far', 'none known', 'not applicable',\n",
        "       'none at this time.', 'blood work', 'see above.', 'non', 'none done',\n",
        "       '0', 'as above', 'ultrasound', 'none needed', 'no.',\n",
        "       'none taken', 'no tests','as above.', 'n/a.','none performed',\n",
        "       'none as of yet', 'unknown.', 'none so far.', 'not known', 'pending',\n",
        "       'no e', 'none', 'vital signs', 'none to date.', 'not yet',\n",
        "       '?', '-', 'vitals', 'lab work', 'unk', 'no tests done', \n",
        "       'nothing', 'none noted', 'unkown', 'none required', 'no tests.',\n",
        "       'denies','unknown at this time', 'vitals were taken - normal',\n",
        "       'no medical test']\n",
        "\n",
        "dataset_covid['LAB_DATA'] = dataset_covid['LAB_DATA'].str.lower().replace(removew, np.nan) # incorrect values\n",
        "dataset_covid.LAB_DATA.dropna().value_counts().head(100).index\n"
      ],
      "execution_count": null,
      "outputs": [
        {
          "output_type": "execute_result",
          "data": {
            "text/plain": [
              "Index(['ekg', 'covid test', 'ct scan',\n",
              "       'test name: covid-19; test result: positive', 'mri',\n",
              "       'test name: covid; test result: positive',\n",
              "       'rt-pcr  or  other naat test', 'covid-19 test', 'covid-19 pcr',\n",
              "       'covid test - negative',\n",
              "       'test name: covid-19 test; test result: positive', 'yes',\n",
              "       'test name: covid test; test result: positive', 'blood test',\n",
              "       'test name: nasal swab; test result: negative', 'hearing test',\n",
              "       'see #18', 'blood tests', 'cbc', 'bloodwork', 'see item 18', 'x-ray',\n",
              "       'nine',\n",
              "       'test name: blood pressure; result unstructured data: test result:high',\n",
              "       '2/2/2021- cdc, cmp, lipase, ua, cxr.  covid negative, influenza negative.  wbc 8.2, hct 48.2, hgb 16.3, crp 4.9, na 135, k+ 4.0, chl 94, bicarb 33, bun 29, creatinine 0.8, glucose 145, alkaline phosphatase 106, lipase 24.   ua negative.    2/4/2021-   02/04 02/04 02/04  2145 2039 2039 blood gas      vbg ph (7.31 - 7.41)   6.99   vbg pco2 (40 - 50 mmhg)   73   vbg po2 (40 - 50 mmhg)   81   vbg hco3 (22.0 - 26.00 mmol/l)   17.7   vbg o2 sat (meas) (%)   85.8   vbg base excess (-2 to 3 mmol/l)   -14.9   vbg lactic acid (0.5 - 2.2 mmol/l)  10.1  chemistry      sodium (135 - 148 mmol/l)   133   potassium (3.6 - 5.2 mmol/l)   4.2   chloride (98 - 107 mmol/l)   101   carbon dioxide (21 - 32 mmol/l)   18   anion gap (mmol/l)   14   bun (7 - 25 mg/dl)   40   creatinine (0.7 - 1.5 mg/dl)   1.4   estimated gfr (>60)   56   bun/creatinine ratio   28.6   glucose (70 - 110 mg/dl)   212   calcium (8.4 - 10.2 mg/dl)   7.4   total bilirubin (0.1 - 1.5 mg/dl)   0.4   ast (5 - 40 u/l)   41   alt (7 - 52 u/l)   40   alkaline phosphatase (34 - 104 u/l)   112   creatine kinase (35 - 232 u/l)   95   ck-mb (ck-2) (0.6 - 6.3 ng/ml)   2.8   troponin i (<=0.03 ng/ml)   0.05   c-reactive prot, quant (0.1 - 0.3 mg/dl)   5.7   serum total protein (6.0 - 8.3 g/dl)   4.3   albumin (3.5 - 5.0 g/dl)   2.6   globulin (g/dl)   1.7   albumin/globulin ratio   1.5   procalcitonin (< 0.1 ng/ml)  0.7  hematology      wbc (4.0 - 11.0 k/ul)   6.9   rbc (4.30 - 5.70 m/ul)   4.39   hgb (13.0 - 17.4 g/dl)   13.4   hct (39.0 - 52.2 %)   42.8   mcv (80 - 100 fl)   98   mch (25.0 - 35.0 pg)   31   mchc (31 - 36 g/dl)   31   rdw coeff of var (11.0 - 16.0 %)   14.6   plt count (150 - 450 k/ul)   239   mpv (9.4 - 12.4 fl)   9.5   immature gran % (auto) (0.1 - 0.3 %)   13.8   neut % (auto) (37.0 - 80.0 %)   56.2   lymph % (auto) (10.0 - 50.0 %)   21.8   mono % (auto) (0.0 - 12.0 %)   4.9   eos % (auto) (0.0 - 5.0 %)   0.6   baso % (auto) (0.0 - 3.0 %)   2.7   immature gran # (auto) (0.01 - 0.03 k/ul)   0.96   absolute neuts (auto) (2.00 - 8.00 k/ul)   3.90   absolute lymphs (auto) (1.00 - 5.00 k/ul)   1.51   absolute monos (auto) (0.00 - 1.20 k/ul)   0.34   absolute eos (auto) (0.00 - 0.50 k/ul)   0.04   absolute basos (auto) (0.00 - 0.30 k/ul)   0.19   total counted (cells)   100   neutrophils % (manual) (37 - 80 %)   41   band neutrophils % (< 6 %)   12   lymphocytes % (manual) (10 - 50 %)   37   monocytes % (manual) (0 - 12 %)   8   eosinophils % (manual) (1 - 7 %)   0   basophils % (manual) (<4 %)   0   metamyelocytes % (%)   2   nucl rbc rel cnt (man) (/100 wbc)   2   esr (0 - 20 mm/hr)   4 toxicology      urine opiates screen (neg) neg     ur oxycodone screen (neg) neg     urine methadone screen (neg) neg     ur propoxyphene screen (neg) neg     ur barbiturates screen (neg) neg     u tricyclic antidepress (neg) neg     ur phencyclidine scrn (neg) neg     ur amphetamines screen (neg) neg     u methamphetamines scrn (neg) neg     u benzodiazepines scrn (neg) neg     urine cocaine screen (neg) neg     u marijuana (thc) screen (neg) neg   urines      urine source urine - foley cath     urine color yellow     urine appearance (clear/hazy) turbid     urine ph (5  -  9) 5.5     ur specific gravity (1.005 - 1.030) >=1.030     urine protein (neg/trace mg/dl) >=300     urine glucose (ua) (neg mg/dl) negative     urine ketones (neg mg/dl) 15     urine occult blood (neg) large     urine nitrite (neg) negative     urine bilirubin (neg) moderate     urine urobilinogen (0.2  -  1.0 e.u./dl) 0.2     ur leukocyte esterase (neg) negative     urine rbc (<3 /hpf) 11-20     urine wbc (<6 /hpf) >100     ur squamous epith cells (/hpf) rare     amorphous crystals (/hpf) mod     urine bacteria (/hpf) few     hyaline casts (none seen /lpf) few     fine granular casts (none seen /lpf) few     urine mucus (/lph) few     ur oval fat bodies (none seen /hpf) few     vol urine centrifuged (ml) 5     u random total protein (mg/dl) 446     u rand prot/creat ratio (lt 0.2 ratio) nd     urine creatinine (mg/dl) 94',\n",
              "       'tbd', 'physical exam', 'test name: covid test; test result: negative',\n",
              "       'nonw', 'none done.',\n",
              "       'mri brain, 06/28/2021 - acute right posterior cerebral artery stroke.  cta head/neck, 06/28/2021 - reportedly unremarkable for critical stenosis/occlusion.  transthoracic echocardiogram, 06/28/2021 technically fair study. resting left ventricular ejection fraction sim measured to be 69 %. no regional wall motion abnormalities in areas seen. left ventricular cavity size normal. normal left ventricular ejection fraction. no righttoleft shunt with contrast. normal indices of lv diastolic function normal left atrial size. normal right ventricular systolic function. rv outflow tract appears borderline dilated normal right atrial size.estimated ra pressure normal aortic valve structurally and functionally normal. mitral valve structurally/functionally normal. tricuspid valve structurally and functionally normal. pulmonic valve structurally and functionally normal. minimal pulmonic valve regurgitation (normal variant).pa diastolic pressure in the normal range no pericardial effusion. right ventricular systolic pressure cannot be accurately estimated due to inadequate tr jet.  carotid artery duplex, 06/29/2021 right: the right ica appears within normal limits by duplex imaging. normal right eca. the right vertebral artery flow is antegrade. left: the left ica appears within normal limits by duplex imaging. normal left eca. the left vertebral artery flow is antegrade.  transesophageal echocardiogram, 07/01/2021 normal tee findings  no la appendage thrombus  no valvular vegetations  no asd/pfo  labs: wbc 7.6 k/cumm 06/29/2021 02:49 edt  rbc 4.11 million/cumm 06/29/2021 02:49 edt  hgb 12.5 gm/dl 06/29/2021 02:49 edt  hct 37.0 % 06/29/2021 02:49 edt  mcv 90 fl 06/29/2021 02:49 edt  mch 30.4 pg 06/29/2021 02:49 edt  mchc 33.8 gm/dl 06/29/2021 02:49 edt  rdw 13.3 % 06/29/2021 02:49 edt  platelet 202 k/cumm 06/29/2021 02:49 edt  mpv 8.7 fl 06/29/2021 02:49 edt  neutrophils % 52 % 06/29/2021 02:49 edt  lymphocytes % 36 % 06/29/2021 02:49 edt  monocytes % 10 % 06/29/2021 02:49 edt  eosinophils % 3 % 06/29/2021 02:49 edt  basophils % 0 % 06/29/2021 02:49 edt  absolute neutrophil 3.9 k/cumm 06/29/2021 02:49 edt  absolute lymphocyte 2.7 k/cumm 06/29/2021 02:49 edt  absolute monocyte 0.8 k/cumm 06/29/2021 02:49 edt  absolute eosinophil 0.2 k/cumm 06/29/2021 02:49 edt  absolute basophil 0.0 k/cumm 06/29/2021 02:49 edt  sed rate 4 mm/hr 06/29/2021 02:49 edt  hemoglobin a % 97.3 % 07/01/2021 05:33 edt  hemoglobin a2 % 2.7 % 07/01/2021 05:33 edt  pt 11.6 seconds 07/01/2021 05:33 edt  inr 1.03 07/01/2021 05:33 edt  at functional 98 % 06/28/2021 21:24 edt  drvvt 31.5 seconds 06/28/2021 20:55 edt  protein c activity 57 % 06/28/2021 21:24 edt (low)  sodium serpl qn 140 mmol/l 06/29/2021 02:49 edt  potassium serpl qn 4.0 mmol/l 06/29/2021 02:49 edt  chloride serpl qn 107 mmol/l 06/29/2021 02:49 edt  carbon dioxide serpl qn 25 mmol/l 06/29/2021 02:49 edt  anion gap 8 mmol/l 06/29/2021 02:49 edt  bun serpl qn 10 mg/dl 06/29/2021 02:49 edt  creatinine serpl qn 0.78 mg/dl 06/29/2021 02:49 edt  estimated gfr (ckd-epi) >90 ml/min/1.73m2 06/29/2021 02:49 edt  estimated crcl (cg) 118 ml/min 06/29/2021 02:49 edt  glucose serpl qn 68 mg/dl 06/29/2021 02:49 edt (low)  calcium total serpl qn 8.9 mg/dl 06/29/2021 02:49 edt  alkaline phos serpl qn 70 units/l 06/29/2021 02:49 edt  alt serpl qn 6 units/l 06/29/2021 02:49 edt (low)  ast serpl qn 13 units/l 06/29/2021 02:49 edt  bilirubin total serpl qn 0.3 mg/dl 06/29/2021 02:49 edt  total protein serpl qn 5.9 gm/dl 06/29/2021 02:49 edt (low)  albumin serpl qn 3.6 gm/dl 06/29/2021 02:49 edt  cholesterol serpl qn 131 mg/dl 06/29/2021 02:49 edt  triglyceride serpl qn 67 mg/dl 06/29/2021 02:49 edt  hdl serpl qn 56 mg/dl 06/29/2021 02:49 edt  ldl calculated qn 62 mg/dl 06/29/2021 02:49 edt  total chol/hdl ratio 2 06/29/2021 02:49 edt  iron serpl qn 80 mcg/dl 06/29/2021 02:49 edt  uibc meas serpl qn 226 mcg/dl 06/29/2021 02:49 edt  tibc ser qn 306 mcg/dl 06/29/2021 02:49 edt  % saturation 26 % 06/29/2021 02:49 edt  hemoglobin a1c hplc bld qn 5.4 % 06/29/2021 02:49 edt  est average glucose mg/dl 108 mg/dl 06/29/2021 02:49 edt  est average glucose mmol/l 6.00 mmol/l 06/29/2021 02:49 edt  lactate bld venous qn 1.5 mmol/l 07/01/2021 05:33 edt  gluc-strip, poc 71 mg/dl 06/29/2021 06:29 edt  tsh 3rd gen serpl qn 1.403 mcu/ml 07/01/2021 05:33 edt  t4 free direct serpl qn 0.9 ng/dl 06/29/2021 02:49 edt  ferritin serpl qn 24.1 ng/ml 06/29/2021 02:49 edt  c-reactive prot serpl qn <0.5 mg/dl 06/29/2021 02:49 edt  amph/meth scn ur ql negative 06/28/2021 20:55 edt  barbiturates scn ur ql negative 06/28/2021 20:55 edt  benzodiazepines scn ur ql negative 06/28/2021 20:55 edt  cannabinoids scn ur ql negative 06/28/2021 20:55 edt  cocaine scn ur ql negative 06/28/2021 20:55 edt  opiates scn ur ql negative 06/28/2021 20:55 edt  pcp scn ur ql negative 06/28/2021 20:55 edt  methadone scn ur ql negative 06/28/2021 20:55 edt  oxycodone scrn ur ql negative 06/28/2021 20:55 edt  buprenorphine scn ur ql negative 06/28/2021 20:55 edt  pregnancy test urine negative 06/28/2021 20:55 edt  ana ab titer <1:80 nova 06/28/2021 20:55 edt  anti-dsdna qn <1.0 iu/ml 06/28/2021 20:55 edt  cardiolipin iga ab 0.8 apl units 06/28/2021 20:55 edt  cardiolipin igg ser qn 3.9 gpl units 06/28/2021 20:55 edt  cardiolipin igm ser qn 4.0 mpl units 06/28/2021 20:55 edt  ena ss-a ab eia <0.2 test value 06/28/2021 20:55 edt  ena ss-a ab eia interp negat 06/28/2021 20:55 edt  ena ss-b ab eia <0.2 test value 06/28/2021 20:55 edt  ena ss-b ab eia interp negat 06/28/2021 20:55 edt  beta 2 glycoprotein igg qn 1.5 units/ml 06/28/2021 20:55 edt  beta 2 glycoprotein igm qn 3.5 units/ml 06/28/2021 20:55 edt  syphilis treponemal total 0.5 ai 07/01/2021 05:33 edt  syphilistreptotal interp non-reactive 07/01/2021 05:33 edt  anti-dsdna qn interp negat 06/28/2021 20:55 edt  f-v dna leiden mutation negative 06/28/2021 20:55 edt  pt gene mutation negative 06/28/2021 20:55 edt  mthfr c677t mutation negative 06/28/2021 20:55 edt  mthfr a1298c mutation heterozygous 06/28/2021 20:55 edt (abnormal)  covid 19 specimen source nasopharyngeal 06/29/2021 02:49 edt  coronavirus sars-cov2 pcr genexpert negative 06/29/2021 02:49 edt',\n",
              "       'unsure', 'nil', 'not applicable.',\n",
              "       '5/25: initial laboratory studies were notable for wbc 21.0, inr 1.8, d-dimer 11653, nt pro-bnp 17684, troponins 603 to 579 to 574, crp 127.  mr cardiac without and with iv contrast   5/28/2021 impression: 1. large predominantly transmural inferior infarct extending from base to apex. akinesis of the inferoseptum, inferior, and inferolateral walls from base to mid-ventricle and apical akinesis.  2. left ventricular apical thrombus. 3. enlarged lv size, lvef = 24%. 4. normal rv size, rvef = 26%. 5. mild-moderate sized pericardial effusion without tamponade physiology.   ct cardiac angiogram   results date 05/30/2021, impression: 1. complete occlusion of the majority of the right coronary artery; cad-rads5/n 2.there is akinesis of the inferoseptum, inferior, and inferolateral walls from base to mid-ventricle with apical akinesis, the remainder of the walls are hypokinetic. 3. left apical thrombus is similar to prior mri.  4. moderate pericardial effusion is again noted. 5. increasing groundglass and consolidative airspace opacities at the lung bases which may relate to evolving pulmonary infarction with or without superimposed infectious/inflammatory process. 6. moderate bilateral pleural effusions  7. pulmonary artery embolic disease again noted.   us upper extremity veins right   result date: 5/27/2021 impression: 1. positive for acute dvt in the lower right internal jugular, innominate, subclavian and proximal axillary veins. 2. short segment of superficial venous thrombus in the cephalic vein near the elbow. prominent lymph node left lower right neck measuring 2.5 x 0.9 cm which may be reactive.   mr brain without and with iv contrast, mr brain venogram with iv contrast   result date: 5/27/2021 impression: 1. multiple acute acute and subacute enhancing infarcts within all 3 vascular distributions raises the possibility of an embolic etiology. the enhancing subacute infarct within the left temporal lobe is associated with a small microhemorrhage. otherwise, no intracranial hemorrhage. 2. normal brain mr venogram. no evidence of dural venous sinus thrombosis.   us lower extremity arteries left   result date: 5/26/2021 impression: normal screening ultrasound left lower extremity arteries   us lower extremity veins bilateral   result date: 5/26/2021 impression: negative for acute dvt.   echo transthoracic (tte)   result date: 5/26/2021 final impressions 1. bedside echocardiogram (in medical icu): 2. sessile mural thrombus along septal and inferior walls of left ventricular apex. 3. severely enlarged left ventricle; calculated ejection fraction 20%. 4. severe generalized left ventricular hypokinesis, with akinesis of inferior + inferoseptal (base to apex) walls. 5. mildly thickened aortic valve; no aortic valve regurgitation. 6. mild mitral valve regurgitation; normal left atrial size. 7. mildly enlarged right ventricle; moderately-severely decreased systolic function. 8. estimated right ventricular systolic pressure 49 mm hg. 9. mild-moderate tricuspid valve regurgitation; normal right atrial size. 10. borderline enlarged inferior vena cava size with reduced inspiratory collapse (<50%). 11. small circumferential pericardial effusion.   interpretation of outside ct abdomen and or pelvis, interpretation of outside ct chest   result date: 5/25/2021 impression: 1. moderate to large acute segmental/subsegmental pulmonary embolus burden. trace right heart strain. 2. right lower lobe infarct and a moderate-sized right pleural effusion. 3. acute thrombosis of the splenic vein with extension into the proximal portal vein and associated splenic infarcts. 4. multiple bilateral renal infarcts. 5. sequelae of portal hypertension which includes small to moderate-sized volume ascites, anasarca, and submucosal bowel wall edema.  5/25 - 5/26 crp:  127.4 lfts:  bilirubin total 1.8, direct 1.2; alt 57, ast 64, alp 167 inr:  1.8 troponins:  603 -- 579 -- 574 probnp: 17684 sars-cov-2:  negative vbg:  ph 7.46, pco2 30   thrombophilia work-up 5/26 fibrinogen 460 d-dimer 11,653 prothrombin time 22.0 inr 2.0 pt mix 13.6 aptt 117 aptt mixed 49 thrombin time >300 reptilase time 18.9 fibrinogen 535 factor ii 89 factor v 45 factor vii 25 factor x 72 soluble fibrin 5 apcrv ratio: 3.0 antithrombin activity 82 protein c 65 protein s 121 drvvt screen 0.98 morphology, special smear:  negative urinalysis:  unremarkable   anca: negative ebv: negative for acute hiv: negative hcv: negative sars-cov-2 nuclear capsid antibody negative phospholipid ab: negative beta-2 glycoprotein 1 ab, igg and igm: negative lipid panel:  total 94, hdl 25, ldl 53, tg 82 parvovirus b19: negative cmv: <35 (detected, but very low levels) enterovirus ne negative hhv 6:  negative q fever:  negative gi path panel - unable to be collected covid-19 spike antibody: positive',\n",
              "       'not available', 'no tests done.', 'chest x-ray', 'none needed.',\n",
              "       'none as of yet.', 'covid', 'covid-19',\n",
              "       'test name: covid-19; result unstructured data: test result:positive',\n",
              "       'test name: covid-19 virus test; result unstructured data: positive',\n",
              "       'none thus far', 'none taken.', 'nonr', 'blood pressure', 'none as yet',\n",
              "       'eye exam', 'none available', 'did not seek medical attention',\n",
              "       'ekg: 04/09/21  rhythm: sinus tachycardia  rate: 111  axis: normal  intervals: normal   concern for possible inferior infarct noted, but felt less consistent with true st depression    lab data:  key labs summarized results from last 7 days lab units 04/09/21 1940 wbc 10*3/µl 21.5* | 21.5* hgb g/dl 14.3 mcv fl 83.3 neutros pct % 88* platelets 10*3/µl 512*   results from last 7 days lab units 04/09/21 2015 04/09/21 1940 sodium mmol/l  --  132* potassium mmol/l  --  3.55 chloride mmol/l  --  96.4* co2 mmol/l  --  25 glucose mg/dl  --  142* bun mg/dl  --  21* creatinineserum mg/dl  --  0.68 creatinine poc mg/dl 0.7  --  calcium mg/dl  --  8.8   results from last 7 days lab units 04/09/21 1940 ast iu/l 78* alt iu/l 96* alk phos iu/l 306* protein total g/dl 7.2 albumin g/dl 3.5 a/g ratio   0.9*      results from last 7 days lab units 04/09/21 1940 troponin t ng/ml <0.01       pro bnp procalcitonin 0.18 cardiac markers negative   micro: rpp negative  2/2 blood cultures pending',\n",
              "       'none known.', 'none required.', 'did not seek medical attention.',\n",
              "       'ct', 'i did not seek medical attention.', 'not sure', 'none ordered',\n",
              "       'none listed', 'none performed.', 'none at this point',\n",
              "       'positive covid test', 'cat scan', 'negative covid test', 'no testing',\n",
              "       'admitted 6/16 cbc, cmp, esr, crp, serial troponins, chest xr, echocardiogram (6/16), cardiac mri (6/17) 6/16/2021 06:08 troponin i: 12,474 6/16/2021 11:42 troponin i: 15,130 6/16/2021 18:11 troponin i: 9,207 6/17/2021 00:01 troponin i: 8,391 6/17/2021 06:29 troponin i: 14,360  6/17/2021 12:09 troponin i: 17,605 6/17/2021 18:39 troponin i: 13,884 6/17/2021 23:51 troponin i: 17,719 6/18/2021 05:58 troponin i: 19,326  6/16/2021 00:21 sodium: 138 potassium: 4.4 chloride: 105 co2: 27 bun: 10 creatinine: 0.8 glucose: 106 calcium: 9.3 anion gap: 6 total protein: 7.3 albumin: 3.9 alkaline phosphatase: 86 sgot(ast): 72 (h) sgpt (alt): 42 (h) total bilirubin: 0.5 bun/creatinine ratio: 12 total ck: 681 (h)   6/16/2021 01:15 urine benzodiazepine screen: negative urine opiate screen: negative urine amphetamine screen: negative urine barbiturate screen: negative urine cannabinoid screen: negative urine cocaine screen: negative   6/16/2021 00:21 wbc: 9.45 rbc: 4.66 hgb: 13.4 hct: 41.6 mcv: 89 mch: 28.8 mchc: 32.2 rdw s.d.: 41.0 platelets: 313 mpv: 9.4 platelet estimate: normal nrbc %: 0 eosinophils%: 2 neutrophils %: 63 neutro absolute: 5.95 lymphs absolute: 2.27 mono absolute: 1.0 eos absolute: 0.2 lymphocytes %: 19 atypical lymphocytes%: 5 (h) monocytes%: 11 anisocyte: moderate (a) microcyte: moderate (a)  exam description: site:  dx chest 2 views rp: xr chest 2 views    clinical history: 17 years  male;  pain;   comparison: none.   findings: no lobar consolidation. costophrenic recesses are preserved. no cardiomegaly. no acute osseous findings.     impression: 1.  no acute findings.   electronically signed by: md  06/15/2021 11:33 pm   6/16/2021 00:18 urine color: straw urine appearance: clear urine ketones: negative urine specific gravity: 1.004 (l) urine ph: 6.0 urine protein: negative urine glucose: negative urine bilirubin: negative urine blood: negative urine nitrite: negative urine urobilinogen: normal urine leukocyte esterase: negative urine microscopic: not indicated urine wbc: 1 urine ascorbic acid: negative',\n",
              "       'copied from hospital site: ?    rheumatoid factorordered by mdjun 2, 2021 ?    c3 complementordered by mdjun 2, 2021 ?    c4 complementordered by mdjun 2, 2021 ?    ribonucleic protein antibody, iggordered by mdjun 2, 2021 ?    anti dna, double stranded, with reflex to titerordered by mdjun 2, 2021 ?    anti sclerodermaordered by mdjun 2, 2021 ?    thyroid peroxidase abordered by mdjun 2, 2021 ?    sjogrens syndrome-a extractable nuclear abordered by mdjun 2, 2021 ?    sjogrens syndrome-b extractable nuclear abordered by mdjun 2, 2021 ?    proteinase 3 antibodyordered by mdjun 2, 2021 ?    anti myeloperoxidase antibodyordered by mdjun 2, 2021 ?    anti-smith antibodyordered by mdjun 2, 2021 ?    thyroglobulin antibodyordered by mdjun 2, 2021 ?     comprehensive metabolic panelordered by  crnpyour provider left a comment on this result jun 2, 2021 ?     bilirubin directordered by crnpyour provider left a comment on this result jun 2, 2021 ?     cbc with differentialordered by crnpjun 2, 2021 ?     cbc w/ auto differentialordered by crnpyour provider left a comment on this result jun 2, 2021 ?     poct glucose meterordered by mdmay 23, 2021 ?    ecg 12-lead: hospital or test facilityordered by crnpmay 23, 2021 ?    poct glucose meterordered by mdmay 23, 2021 ?     comprehensive metabolic panelordered by mdmay 23, 2021 ?    magnesiumordered by mdmay 23, 2021 ?    phosphorusordered by mdmay 23, 2021 ?     calcium ionizedordered by mdmay 23, 2021 ?     cbcordered by mdmay 23, 2021 ?    ecg 12-lead: hospital or test facilityordered by crnpmay 22, 2021 ?    poct glucose meterordered by mdmay 22, 2021 ?    ecg 12-lead: hospital or test facilityordered by crnpmay 22, 2021 ?     poct glucose meterordered by mdmay 22, 2021 ?    ecg 12-lead: hospital or test facilityordered by mdmay 22, 2021 ?     poct glucose meterordered by mdmay 22, 2021 ?    poct glucose meterordered by mdmay 22, 2021 ?     comprehensive metabolic panelordered by mdmay 22, 2021 ?    magnesiumordered by mdmay 22, 2021 ?    phosphorusordered by mdmay 22, 2021 ?     calcium ionizedordered by mdmay 22, 2021 ?     cbcordered by mdmay 22, 2021 ?    ecg 12-lead: hospital or test facilityordered by crnpmay 22, 2021 ?    poct glucose meterordered by mdmay 21, 2021 ?    ecg 12-lead: hospital or test facilityordered by crnpmay 21, 2021 ?     poct glucose meterordered by mdmay 21, 2021 ?    ecg 12-lead: hospital or test facilityordered by mdmay 21, 2021 ?    electrophysiology procedureordered by crnpmay 21, 2021 ?    ct angiogram left atrial appendagenstructionordered by crnpmay 21, 2021 ?    ct angiogram left atrial appendage cardiologyordered by crnpmay 21, 2021 ?     poct glucose meterordered by mdmay 21, 2021 ?     comprehensive metabolic panelordered by mdmay 21, 2021 ?    magnesiumordered by mdmay 21, 2021 ?    phosphorusordered by mdmay 21, 2021 ?    calcium ionizedordered by mdmay 21, 2021 ?     cbc with differentialordered by crnpmay 21, 2021 ?    apttordered by crnpmay 21, 2021 ?    protime-inrordered by crnpmay 21, 2021 ?     cbc w/ auto differentialordered by crnpmay 21, 2021 ?    ecg 12-lead: hospital or test facilityordered by crnpmay 21, 2021 ?     poct glucose meterordered by mdmay 20, 2021 ?     poct glucose meterordered by mdmay 20, 2021 ?     poct glucose meterordered by mdmay 20, 2021 ?    poct glucose meterordered by mdmay 20, 2021 ?     comprehensive metabolic panelordered by mdmay 20, 2021 ?    magnesiumordered by mdmay 20, 2021 ?    phosphorusordered by mdmay 20, 2021 ?     calcium ionizedordered by mdmay 20, 2021 ?     cbcordered by mdmay 20, 2021 ?     poct glucose meterordered by mdmay 19, 2021 ?    poct glucose meterordered by mdmay 19, 2021 ?     poct glucose meterordered by mdmay 19, 2021 ?     poct glucose meterordered by mdmay 19, 2021 ?    transthoracic echo (tte) limitedordered by mdmay 19, 2021 ?     comprehensive metabolic panelordered by mdmay 19, 2021 ?    magnesiumordered by mdmay 19, 2021 ?    phosphorusordered by mdmay 19, 2021 ?     calcium ionizedordered by mdmay 19, 2021 ?     cbcordered by mdmay 19, 2021 ?     poct glucose meterordered by mdmay 18, 2021 ?     poct glucose meterordered by mdmay 18, 2021 ?    transthoracic echo (tte) limitedordered by crnpmay 18, 2021 ?    xr chest 1 vwordered by mdmay 18, 2021 ?     poct glucose meterordered by mdmay 18, 2021 ?    tissue examordered by mdmay 18, 2021 ?    anesthesia arterial line placementordered by mdmay 18, 2021 ?     poct glucose meterordered by mdmay 18, 2021 ?     comprehensive metabolic panelordered by mdmay 18, 2021 ?    magnesiumordered by mdmay 18, 2021 ?    phosphorusordered by mdmay 18, 2021 ?     calcium ionizedordered by mdmay 18, 2021 ?    protime-inrordered by mdmay 18, 2021 ?     cbcordered by mdmay18, 2021 ?     poct glucose meterordered by mdmay 17, 2021 ?     poct glucose meterordered by mdmay 17, 2021 ?     poct glucose meterordered by mdmay 17, 2021 ?    transthoracic echo (tte) limitedordered by mdmay 17, 2021 ?    poct glucose meterordered by mdmay 17, 2021 ?     comprehensive metabolic panelordered by mdmay 17, 2021 ?    magnesiumordered by mdmay 17, 2021 ?    phosphorusordered by mdmay 17, 2021 ?    cbcordered by mdmay 17, 2021 ?    calcium ionizedordered by mdmay 17, 2021 ?    protime-inrordered by mdmay 17, 2021 ?     poct glucose meterordered by mdmay 16, 2021 ?    poct glucose meterordered by mdmay 16, 2021 ?     poct glucose meterordered by mdmay 16, 2021 ?     poct glucose meterordered by mdmay 16, 2021 ?     comprehensive metabolic panelordered by mdmay 16, 2021 ?    magnesiumordered by mdmay 16, 2021 ?    phosphorusordered by mdmay 16, 2021 ?     calcium ionizedordered by mdmay 16, 2021 ?    protime-inrordered by mdmay 16, 2021 ?     cbcordered by mdmay 16, 2021 ?     poct glucose meterordered by mdmay 15, 2021 ?     poct glucose meterordered by mdmay 15, 2021 ?     poct glucose meterordered by mdmay 15, 2021 ?     poct glucose meterordered by domay 15, 2021 ?     comprehensive metabolic panelordered by mdmay 15, 2021 ?    magnesiumordered by mdmay 15, 2021 ?    phosphorusordered by mdmay 15, 2021 ?     calcium ionizedordered by mdmay 15, 2021 ?    protime-inrordered by mdmay 15, 2021 ?    cbcordered by mdmay 15, 2021 ?     poct glucose meterordered by domay 14, 2021 ?     poct glucose meterordered by domay 14, 2021 ?     poct glucose meterordered by domay 14, 2021 ?    transthoracic echo (tte) limitedordered by domay 14, 2021 ?    poct glucose meterordered by domay 14, 2021 ?     comprehensive metabolic panelordered by mdmay 14, 2021 ?    magnesiumordered by mdmay 14, 2021 ?    phosphorusordered by mdmay 14, 2021 ?    calcium ionizedordered by mdmay 14, 2021 ?    protime-inrordered by mdmay 14, 2021 ?    cbcordered by mdmay 14, 2021 ?     poct glucose meterordered by domay 13, 2021 ?     poct glucose meterordered by domay 13, 2021 ?    transthoracic echo (tte) limitedordered by crnpmay 13, 2021 ?    poct glucose meterordered by domay 13, 2021 ?     ana, with reflex to titerordered by mdmay 13, 2021 ?     ana titer, reflex only - do not orderordered by mdmay 13, 2021 ?     poct glucose meterordered by domay 13, 2021 ?    calcium ionizedordered by mdmay 13, 2021 ?    cbc with differentialordered by mdmay 13, 2021 ?    cbc w/ auto differentialordered by mdmay 13, 2021 ?     comprehensive metabolic panelordered by mdmay 13, 2021 ?    magnesiumordered by mdmay 13, 2021 ?    phosphorusordered by mdmay 13, 2021 ?    protime-inrordered by mdmay 13, 2021 ?    sedimentation rate, automatedordered by mdmay 13, 2021 ?     c-reactive proteinordered by mdmay 13, 2021 ?     creatinine serumordered by mdmay 13, 2021 ?     hepatic function panelordered by crnpmay 13, 2021 ?     comprehensive metabolic panelordered by mdmay 13, 2021 ?     poct glucose meterordered by domay 13, 2021 ?    ecg 12-lead: hospital or test facilityordered by domay 12, 2021 ?     poct glucose meterordered by domay 12, 2021 ?     poct glucose meterordered by domay 12, 2021 ?    transthoracic echo (tte) during pericardiocentesisordered by domay 12, 2021 ?    cardiac catheterizationordered by crnpmay 12, 2021 ?    cytology, non-gynecologicordered by domay 12, 2021 ?     body fluid cell count with diffordered by domay 12, 2021 ?    fungal cultureordered by domay 12, 2021 ?     body fluid cell countordered by domay 12, 2021 ?    body fluid cell count differential instrumentordered by domay 12, 2021 ?    culture, fluidordered by domay 12, 2021 ?    glucose body fluidordered by domay 12, 2021 ?    lactate dehydrogenase body fluidordered by domay 12, 2021 ?    protein body fluidordered by domay 12, 2021 ?    culture, fluidordered by domay 12, 2021 ?    culture, anaerobicordered by domay 12, 2021 ?     poct glucose meterordered by domay 12, 2021 ?     poct glucose meterordered by domay 12, 2021 ?     creatinine serumordered by mdmay 12, 2021 ?    apttordered by domay 12, 2021 ?     poct glucose meterordered by domay 11, 2021 ?     poct glucose meterordered by domay 11, 2021 ?     poct glucose meterordered by domay 11, 2021 ?    transthoracic echo (tte) limitedordered by crnpmay 11, 2021 ?     poct glucose meterordered by domay 11, 2021 ?     basic metabolic panelordered by domay 11, 2021 ?     apttordered by domay 11, 2021 ?    ecg 12-lead: hospital or test facilityordered by domay 11, 2021 ?     apttordered by domay 10, 2021 ?     poct glucose meterordered by domay 10, 2021 ?     poct glucose meterordered by domay 10, 2021 ?    ecg 12-lead: hospital or test facilityordered by domay 10, 2021 ?    cardiac catheterizationordered by md phdmay 10, 2021 ?     poct activated clotting timeordered by domay 10, 2021 ?     poct glucose meterordered by domay 10, 2021 ?    poct glucose meterordered by domay 10, 2021 ?     apttordered by mdmay 10, 2021 ?     creatinine serumordered by mdmay 10, 2021 ?     basic metabolic panelordered by crnpmay 10, 2021 ?    magnesiumordered by crnpmay 10, 2021 ?     apttordered by mdmay 9, 2021 ?    poct glucose meterordered by mdmay 9, 2021 ?     poct glucose meterordered by mdmay 9, 2021 ?    cbcordered by mdmay 9, 2021 ?    apttordered by mdmay 9, 2021 ?    protime-inrordered by mdmay 9, 2021 ?     poct glucose meterordered by mdmay 9, 2021 ?     poct glucose meterordered by mdmay 9, 2021 ?    poct glucose meterordered by mdmay 9, 2021 ?     cbc w/ auto differentialordered by mdmay 9, 2021 ?     cbc with differentialordered by mdmay 9, 2021 ?     comprehensive metabolic panelordered by mdmay 9, 2021 ?    magnesiumordered by mdmay 9, 2021 ?     phosphorusordered by mdmay 9, 2021 ?    calcium ionizedordered by mdmay 9, 2021 ?     poct glucose meterordered by mdmay 8, 2021 ?    poct glucose meterordered by mdmay 8, 2021 ?     poct glucose meterordered by mdmay 8, 2021 ?    poct glucose meterordered by mdmay 8, 2021 ?     cbc with differentialordered by mdmay 8, 2021 ?     comprehensive metabolic panelordered by mdmay 8, 2021 ?    magnesiumordered by mdmay 8, 2021 ?    phosphorusordered by mdmay 8, 2021 ?     calcium ionizedordered by mdmay 8, 2021 ?     cbc w/ auto differentialordered by mdmay 8, 2021 ?    poct glucose meterordered by mdmay 7, 2021 ?    poct glucose meterordered by mdmay 7, 2021 ?    pet ct myocard perf w regaordered by crnpmay 7, 2021 ?    stress ecgordered by crnpmay 7, 2021 ?    transthoracic echo (tte) completeordered by mdmay 7, 2021 ?     poct glucose meterordered by mdmay 7, 2021 ?     urinalysis auto w/scopeordered by mdmay 7, 2021 ?     urinalysis culture if indicated, chemical dipstickordered by domay 7, 2021 ?    urinalysis culture if indicated, automated umicordered by domay 7, 2021 ?     poct glucose meterordered by mdmay 7, 2021 ?     apttordered by mdmay 7, 2021 ?    lipid panelordered by mdmay 7, 2021 ?     cbc with differentialordered by mdmay 7, 2021 ?     comprehensive metabolic panelordered by mdmay 7, 2021 ?    phosphorusordered by mdmay 7, 2021 ?     calcium ionizedordered by mdmay 7, 2021 ?     cbc w/ auto differentialordered by mdmay 7, 2021 ?    magnesiumordered by crnpmay 7, 2021 ?    rbc morphology only (interfaced)ordered by mdmay 7, 2021 ?    ecg 12-lead: hospital or test facilityordered by mdmay 7, 2021 ?    troponin iordered by mdmay 6, 2021 ?     cbcordered by mdmay 6, 2021 ?    apttordered by mdmay 6, 2021 ?    protime-inrordered by mdmay 6, 2021 ?     poct glucose meterordered by mdmay 6, 2021 ?    ct angiogram chest w wo contrastordered by domay 6, 2021 ?    lactic acid, serumordered by domay 6, 2021 ?    troponin iordered by mdmay 6, 2021 ?     c-reactive proteinordered by mdmay 6, 2021 ?    ecg 12-lead: hospital or test facilityordered by domay 6, 2021 ?    ed ultrasound cardiac limitedordered by mdmay 6, 2021 ?     lactic acid, serumordered by domay 6, 2021 ?    culture, bloodordered by domay 6, 2021 ?    culture, bloodordered by domay 6, 2021 ?    ecg 12-lead: hospital or test facilityordered by domay 6, 2021 ?    influenza a&b/rsv/covid-19ordered by domay 6, 2021 ?    xr chest 1 vwordered by domay 6, 2021 ?    ed ultrasoundordered by mdmay 6, 2021 ?    ecg 12-lead: hospital or test facilityordered by mdmay 6, 2021 ?    troponin iordered by mdmay 6, 2021 ?     cbc with differentialordered by mdmay 6, 2021 ?     basic metabolic panelordered by mdmay 6, 2021 ?     cbc w/ auto differentialordered by mdmay 6, 2021 ?    magnesiumordered by domay 6, 2021 ?    apttordered by domay 6, 2021 ?    protime-inrordered by domay 6, 2021 ?     hepatic function panelordered by domay 6, 2021 ?     hemoglobin a1cordered by mdmay 6, 2021 ?    ecg 12-lead: hospital or test facilityordered by mdmay 6, 2021',\n",
              "       '4/10/2021: head ct: massive intraparenchymal hemorrhage (140 cc) within the r temporal parietal and occipital lobes, with cerebral edema and 14 mm midline shift, associated with small subdural hematoma and small intraventricular hemorrhage within the temporal horn and body of the r lateral ventricle.   4/10/2021 head and neck cta had hyperdense \"spot sign\" within the intraparenchymal hematoma compatible with active hemorrhage, and 2.5 mm aneurysm right, no evidence of cvst. no significant stenoses, no significant atheroslcerosis, no evidence of venous thrombosis, no masses, no arteriovenous malformations. she had 2.5 mm aneurysm right  that was thought to be incidental finding unrelated to her event.   4/11/2021 head ct: s/p right decompression craniectomy and evacuation of large right sided cerebral hemispheric intracranial hematoma with less mass effect on the midline structures (5-6 mm midline shift). mild periventricular white matter changes of microangiopathy. there is no significant cerebral or cerebellar atrophy.  4/16/2021 brain mri/mrv: scattered subacute ischemic infarcts in the r thalamus, subjacent basal ganglia mesial temporal lobe, right sided periatrial location and watershed distribution. additional infarct in r pons. mild edematous changes in brainstem possibly related to previous side to side compression. major arteries and dural venous sinuses show gross patency based on flow related signal loss. mild compression on r lateral ventricle with 6 mm leftward persistent midline shift. brain parechyma: evolving extensive r temporoparietal occipital parenchymal hemorrhage with associated edema and mass effect. a few small focal hemorrhages r subthalamus. s/p right craniectomy with approximately 5 additional epidural hemorrhage at the craniectomy site. no new parenchymal hemorrhage. mrv: transverse sinuses, superior sagittal sinuses, and superficial veins appear patent. patent straight sinus. patent vein of galen and internal cerebral veins.   of note, the neuroimaging reported above was also reviewed directly in consultation by neuroradiology at the women's hospital at her home town who confirmed the above findings. notably, the mri/a did not satisfy criteria for cerebral amyloid angiopathy, nor was it typical for hypertension-related intracerebral hemorrhage (which tends to be deep in the brain and focal). in summary, the neuroimaging findings were not typical for any of the potential etiologies on the differential diagnosis for lobar hemorrhage, including amyloid angiopathy, hypertensive-related hemorrhage, avm, masses, venous thrombosis, atherosclerosis/ischemic vascular disease, or vasculitis.  laboratory results: 4/10/2021: hemoglobin 11.6 mg/dl, na 127, cl 94, aptt 24.5, pt 11.0, inr 1.0, platelets 224, glucose 8.6 mmol/l, crp 8 mg/dl.  4-11/2021: wbc 16.5, hemoglobin 9.6 mg/dl, platelets 248, na 133, k 3,8, cl 100, creatinine 71 umol/l, gfr >60. 4/10/2021: chest x ray: no acute or concerning cardiopulmonary abnormalities. 4/10/2021: ekg: normal sinus rhythm, no acute changes.  4/12/2021: echo: normal lv size and systolic function, ef 64%. mild concentric left ventricular hypertrophy. normal rv size and function. mild pulmonary hypertension. biatrial dilation. aortic valve sclerosis without significant stenosis, mild aortic regurgitation.  4/14/2021: von willebrand factor antigen and activity were not decreased.   heparin induced thrombocytopenia test elisa negative.',\n",
              "       'refer to continued page',\n",
              "       'test name: fever; result unstructured data: test result:102', 'nome',\n",
              "       'none necessary', 'no tests performed',\n",
              "       'sars coronavirus-2 rna, v; detected', 'labs',\n",
              "       'cbc and differential 03/04/21 comprehensiv metabolic panel 03/04/21',\n",
              "       'see below', 'ultra sound', 'nka', 'chest xray',\n",
              "       'diagnostic results (07/08/2021 12:19 edt us renal complete) renal ultrasound impression:  normal ultrasound of the kidneys. (07/08/21) urinalysis  u glucose: negative  u blood: negative  u nitrite: negative  u protein: trace  u ketones: 15 mg/dl  u color: yellow  u leuk est: negative  u bilirubin: negative  u ph: 6.5  u spec gravity: 1.025  albumin: 4.9 gm/dl (07/08/21) alkaline phos: 60 unit/liter (07/08/21) alt (sgpt): 13 unit/liter (07/08/21) anc: 2862 /microliter (07/08/21) anion gap: 11 mmol/liter (07/08/21) ast (sgot): 24 unit/liter (07/08/21) baso%: 0.7 % (07/08/21) bilirubin total: 0.4 mg/dl (07/08/21) bun: 10 mg/dl (07/08/21) calcium: 9.8 mg/dl (07/08/21) chloride: 105 mmol/liter (07/08/21) co2: 23 mmol/liter (07/08/21) complement 3: 110 mg/dl (07/08/21) complement 4: 22.0 mg/dl (07/08/21) cpk: 53 unit/liter (07/08/21) creatinine: 0.6 mg/dl (07/08/21) crp: <0.5 mg/dl (07/08/21) egfr: 71 ml/min/1.73m² (07/08/21) eos%: 0.2 % (07/08/21) glucose lvl: 94 mg/dl (07/08/21) gran%: 60.9 % (07/08/21) hematocrit: 33.9 % (07/08/21) hemoglobin: 11.1 gm/dl (07/08/21) hemolysis interpretation: no hemolysis (07/08/21) lymph absolute auto: 1410 /microliter (07/08/21) lymph%: 30.0 % (07/08/21) mch: 24.7 pg (07/08/21) mchc: 32.7 % (07/08/21) mcv: 75.7 femtoliters (07/08/21) mono%: 8.2 % (07/08/21) mpv: 9.1 femtoliters (07/08/21) platelet count: 203 10e3/microliter (07/08/21) potassium: 4.3 mmol/liter (07/08/21) protein total: 8.9 gm/dl (07/08/21) rbc: 4.48 10e6/microliter (07/08/21) rdw: 14.0 % (07/08/21) sed rate-west: 29 mm/hr (07/08/21) sodium: 139 mmol/liter (07/08/21) u appear: clear (07/08/21) u uro: 1.0 eu/dl (07/08/21) wbc: 4.7 10e3/microliter (07/08/21)',\n",
              "       'see lab values on continuation page ph - poc/lab 7.08 (critical) 02/05/2021 20:17 cst  pco2 - poc/lab 64 mmhg (high) 02/05/2021 20:17 cst  po2 - poc/lab 21 mmhg (critical) 02/05/2021 20:17 cst  hco3 - poc/lab 19 mmol/l (low) 02/05/2021 20:17 cst  lactate - poc/lab 12.5 mmol/l (critical) 02/05/2021 20:17 cst  sample type - poc/lab venous 02/05/2021 20:17 cst  wbc 8.8 (10x3/ul) 02/05/2021 20:17 cst  hgb 13.4 g/dl 02/05/2021 20:17 cst  platelet 138 (10x3/ul) (low) 02/05/2021 20:17 cst  inr 1.4 (high) 02/05/2021 20:17 cst  glucose 307 mg/dl (high) 02/05/2021 20:17 cst  sodium 137 mmol/l 02/05/2021 20:17 cst  potassium 3.3 mmol/l (low) 02/05/2021 20:17 cst  chloride 99 mmol/l 02/05/2021 20:17 cst  co2 15 mmol/l (low) 02/05/2021 20:17 cst  anion gap 23 mmol/l (high) 02/05/2021 20:17 cst  bun 17 mg/dl 02/05/2021 20:17 cst  creatinine 1.08 mg/dl 02/05/2021 20:17 cst  alt(sgpt) 294 u/l (high) 02/05/2021 20:17 cst  ast(sgot) 262 u/l (high) 02/05/2021 20:17 cst  magnesium 2.7 mg/dl (high) 02/05/2021 20:17 cst  lactate 9.5 mmol/l (critical) 02/05/2021 20:17 cst     result type: operative report   result date: february 05, 2021 21:25 cst   result status: auth (verified)   result title: cardiology op note   performed by: md on february 05, 2021 21:30 cst   verified by: md on february 05, 2021 21:30 cst   encounter info: 36806798, nmh, inpatient, 2/5/2021 - 2/12/2021        procedure date/time  02/05/21 21:17   procedure  left heart catheterization, coronary angiography, left ventriculography, therapeutic hypothermia catheter placement, moderate sedation  pre-op dx  cardiac arrest  post-op dx  nonischemic cardiomyopathy  performed by  (primary surgeon)   assistant   none  anesthesia  i was personally responsible for the administration of moderate sedation services and monitoring the patient's vitals during the procedure performed. i affirm all the guidelines and requirements described in the cpt moderate sedation section were followed, including the use of a trained rn in sedation who i supervised and had no other duties during the procedure.  medications administered:  see mar summary   anesthesia type:  ivsm anesthesia start:  02/05/21 21:01 anesthesia stop:  02/05/21 21:17   findings   hemodynamics  cv hemodynamics  lv systolic: 90 mmhg  lv edp: 16 mmhg  ao s/d/m mmhg: 83/57/66  ao gradient mean: 0 mmhg     left main:  normal.  left anterior descending:  normal.  circumflex:  nondominant.  normal.  right:  normal.  left ventriculogram:  moderate global left ventricular systolic dysfunction with estimated left ventricular ejection fraction of 35-40%  technique  the patient was taken to the cardiac catheter lab where the right groin was prepped and draped in the usual sterile fashion. 2% lidocaine was used to obtain local anesthesia. intravenous versed and fentanyl were given for sedation (please see medication log for details). a 6 french sheath was placed in the right common femoral artery. coronary angiography was performed with a 6 french jl4 and 6 french jr4 catheters.  left ventriculography was performed with a 6 french pigtail catheter.  access into the right common femoral vein was then obtained with a needle and over a guiding wire a therapeutic hypothermia catheter was then inserted into the right inferior vena cava.  the catheter and the arterial sheath were then sutured in place.  sterile dressing was applied and the patient was transported to the intensive care unit for further management.  there were no complications.  estimated blood loss  5 ml  impression  nonischemic cardiomyopathy    signature line (electronic signature) signed date/time: 02/05/21 21:30',\n",
              "       '4/15/21 - uric acid, c-reactive protein, cmp, ana = all normal/negative except crp (value 50)  4/26/21 - tsh 3rd gen blood, cbc, cmp (bamp, tp alb tbil,alk, ast, alt), and lipid panel. = all normal  5/11/21 - lumbar xray = normal for age and condition, not believe to affect current symptoms  5/18/21 - parvovirus b19, rheumatoid factor, serum protein electrophoresis, urine protein/creatinine ratio, immunoglobulin assay-blood, immunofixation procedure blood, aso- blood, cpk blood, cyclic citrullinated peptide antb, hep b surface ag, hep c ab- blood, microalbumin urine random. all tests read as negative or normal except aso.  5/14/21 - lyme western blt, c reactive protein. = negative for lyme, c-reactive value now 87.04  5/26/21 - ehrlichia chaffeensis ab igg, dnase b antibody, hla typing a b c single - blood, legionnella -blood, prostate specific antigen, unrinanalysis with microscopic, chlamydia and gc rna amp, upper respiratory throat culture.  5/26/21 - ecg 12-lead - \"otherwise normal - tachycardia rate 99\"  5/28/21 - xray chest pa and lateral = normal  6/3/21 - ct abdomen/pelvis - normal  6/4/21 - glycohemoglobin total blood - normal; crypto ag - negative, c reactive protein value 180.74  6/24/21 - emg - sensorimotor peripheral neuropathy of bilateral extremities; moderate right carpal tunnel syndrome  6/25/21 - mri lumbar - no nerve damage, but other issues present  7/12/21 -mri cervical - no analysis yet',\n",
              "       'diagnostic results   labs   recent results (from the past 24 hour(s)) basic metabolic panel   collection time: 03/26/21  7:52 pm result value ref range   glucose 163 (h) 70 - 99 mg/dl   urea nitrogen (bun) 9 8 - 23 mg/dl   creatinine 0.8 0.5 - 0.9 mg/dl   calcium (ca) 9.3 8.8 - 10.2 mg/dl   sodium (na) 131 (l) 136 - 145 mmol/l   potassium (k) 4.0 3.4 - 5.1 mmol/l   chloride (cl) 92 (l) 98 - 107 mmol/l   carbon dioxide (co2) 25 22 - 29 mmol/l      anion gap 14 (h) 3 - 11 meq/l cbc with auto differential   collection time: 03/26/21  7:52 pm result value ref range   wbc 5.7 4.0 - 11.0 x1000/ul   rbc 4.83 4.20 - 5.40 m/ul   hgb 15.1 12.0 - 16.0 g/dl   hct 43.4 35.0 - 50.0 %   mcv 89.8 80.0 - 100.0 fl   mch 31.2 (h) 27.0 - 31.0 pg   mchc 34.7 32.0 - 36.0 g/dl   rdw 13.1 11.5 - 14.5 %   platelet count 121 (l) 130 - 450 k/ul   mpv 7.9 7.4 - 10.4 fl   neutrophils, auto 87.0 (h) 54 - 62 %   lymphocytes, auto 9.1 (l) 25 - 35 %   monocytes, auto 3.6 (l) 5.5 - 11.7 %   eosinophils, auto 0.0 0 - 5 %   basophils, auto 0.3 0 - 2.9 %   absolute lymphocytes 0.5 (l) 1.0 - 3.2 k/ul   absolute monocytes 0.2 (l) 0.3 - 1.1 k/ul   absolute neutrophils 5.0 1.7 - 7.6 k/ul   absolute eosinophils 0.0 0.0 - 0.5 k/ul   absolute basophils 0.0 0.0 - 0.1 k/ul troponin t   collection time: 03/26/21  7:52 pm result value ref range   troponin t <0.01 0.00 - 0.01 ng/ml   troponin note see comment   lactic acid   collection time: 03/26/21  7:52 pm result value ref range   lactic acid 1.9 0.5 - 2.2 mmol/l magnesium   collection time: 03/26/21  7:52 pm result value ref range   magnesium 2.4 1.6 - 2.4 mg/dl pt/inr   collection time: 03/26/21  7:52 pm result value ref range   pt 20.3 (h) 9.4 - 12.6 sec   inr 1.74 (h) 0.90 - 1.20 procalcitonin   collection time: 03/26/21  7:52 pm result value ref range   procalcitonin 0.09 0.00 - 0.50 ng/ml   procalcitonin note see comment note tmc lab covid-19 (in-house)   collection time: 03/26/21  7:55 pm   specimen: nasopharyngeal ; swab result value ref range   covid source nasopharyngeal swab     sars-cov-2 (covid-19) positive (a) neg   previously tested for covid-19 y     employed in healthcare unknown     covid-19 symptomatic as defined by cdc y     date of symptom onset 20,210,326     hospitalized for covid-19 n     admitted to icu for covid-19 n     resident in a congregate care setting unknown     is patient pregnant? not pregnant   respiratory panel by pcr   collection time: 03/26/21  8:46 pm result value ref range   resp spec source nasopharyngeal swab     resp panel results no organisms detected     resp panel comment see comment       imaging   ? chest 1 view portable, 3/26/2021 poor inspiratory effort. bilateral multifocal infiltrate.      cardiac   ? ekg 12 lead, 3/26/2021 @ 16:01 sinus rhythm at a rate of 76 bpm. baseline wander in lead(s) ii, iii, avf.',\n",
              "       'er visit', 'too many to list', 'covid test negative',\n",
              "       'test name: body temperature; result unstructured data: 102 f',\n",
              "       'nothing yet', 'zero', 'none,', 'no tests were done',\n",
              "       'janurary 7th t4 (thyroxine), total 14.0 h reference range: 5.1-11.9 mcg/dl c-reactive protein 9.4 h reference range: <8.0 mg/l comprehensive metabolic panel analyte value glucose 127 reference range: 65-139 mg/dl non-fasting reference interval urea nitrogen (bun) 11 reference range: 7-25 mg/dl creatinine 0.80 reference range: 0.50-1.10 mg/dl egfr non-afr. american 93 reference range: > or = 60 ml/min/1.73m2 egfr african american 108 reference range: > or = 60 ml/min/1.73m2 bun/creatinine ratio not applicable reference range: 6-22 (calc) sodium 137 reference range: 135-146 mmol/l potassium 3.7 reference range: 3.5-5.3 mmol/l chloride 106 reference range: 98-110 mmol/l carbon dioxide 22 reference range: 18-30 mmol/l calcium 9.1 reference range: 8.6-10.2 mg/dl protein, total 7.3 reference range: 6.1-8.1 g/dl albumin 4.5 reference range: 3.6-5.1 g/dl globulin 2.8 reference range: 1.9-3.7 g/dl (calc) albumin/globulin ratio 1.6 reference range: 1.0-2.5 (calc) bilirubin, total 0.4 reference range: 0.2-1.2 mg/dl alkaline phosphatase 79 reference range: 31-125 u/l ast 17 reference range: 10-30 u/l alt 12 reference range: 6-29 u/l vitamin d status 35 reference range: 30-100 ng/ml hemoglobin a1c 4.9 reference range: <5.7 % of total hgb creatine kinase, total 55 reference range: 29-143 u/l tsh 1.23 miu/l t3, free 2.9 reference range: 2.3-4.2 pg/ml thyroid peroxidase antibodies 1 reference range: <9 iu/ml sed rate by modified westergren 2 reference range: < or = 20 mm/h cbc (includes diff/plt) analyte value white blood cell count 9.5 reference range: 3.8-10.8 thousand/ul red blood cell count 4.91 reference range: 3.96-5.31 million/ul hemoglobin 14.8 reference range: 12.0-16.3 g/dl hematocrit 44.2 reference range: 36.8-49.5 % mcv 90.0 reference range: 80.0-100.0 fl mch 30.1 reference range: 27.0-33.0 pg mchc 33.5 reference range: 32.0-36.0 g/dl rdw 12.1 reference range: 11.0-15.0 % platelet count 306 reference range: 140-400 thousand/ul mpv 11.6 reference range: 7.5-12.5 fl absolute neutrophils 6755 reference range: 1500-7800 cells/ul absolute lymphocytes 2223 reference range: 850-3900 cells/ul absolute monocytes 447 reference range: 200-950 cells/ul absolute eosinophils 29 reference range: 15-500 cells/ul absolute basophils 48 reference range: 0-200 cells/ul neutrophils 71.1 % lymphocytes 23.4 % monocytes 4.7 % eosinophils 0.3 % basophils 0.5 % vitamin b12 812 reference range: 200-1100 pg/ml folate, serum 23.2 ng/ml anti-streptolysin o 158 reference range: <200 iu/ml ana screen, ifa negative  rheumatoid factor <14 reference range: <14 iu/ml',\n",
              "       '04/15/21 0120  covid-19 (sars cov-2,rna molecular amplification)  collected: 04/14/21 1215 | final result | specimen: swab from nares   covid-19 sars-cov-2 overall result detectedcritical     rn covid-19 virus infection dx encounter notes all notes  progress notes from, rn instructions  covid 19 monoclonal antibody (mab) infusion patient reference guide     mab infusion treatment team:         4/16/2021 - 4/17/2021 (9 hours) hospital ed  md last attending ? treatment team acute hypoxemic respiratory failure due to covid-19 (cms/hcc) +2 more clinical impression shortness of breath ? nausea chief complaint ed provider notes md (resident) ? ? emergency medicine cosigned by: md at 4/17/2021 12:05 pm expand allcollapse all        ed resident note          medical decision making     69 y.o. man with history of ipf s/p bilateral lung transplant with cabg at hospital in 2018, t2dm, hld, htn, copd, osa, who tested positive for covid-19 on wednesday, 4/14/2021, who reports to the ed with shortness of breath and hypoxia, nausea.  please see hpi for details.  febrile at 102.3 °f, hypertensive at 199/116, tachycardic in the low 100s, tachypneic in the high 20s to low 30s with a o2 saturation 92 to 93% on 6 l nasal cannula.  physical exam shows an uncomfortable appearing man in mild respiratory distress, heart regular with no m/r/g, lungs with crackles in bilateral bases, respirations are even and moderately labored, abdomen is soft and mildly tender in the epigastrium without any rebound or guarding, no significant lower extremity edema, pulses symmetric at 2+ throughout.  patient likely experiencing worsening covid-19 infection, possible superimposed bacterial pneumonia given that he is immunocompromised, pe possible as well.  will obtain cbc, cmp, coags, bnp, troponin, covid inflammatory markers, ekg, ct pulmonary angiogram.  will discuss case with patient's pulmonologist and the pulmonary transplant team.  will give 1 l ns bolus for dehydration on exam, decadron for hypoxia in the setting of covid-19, reglan for nausea, tylenol for fever, and antibiotics empirically with cefepime and vancomycin.    ed course as of apr 16 2332 fri apr 16, 2021 1525 temperature(!): 39.1 °c (102.3 °f)  1525 bp(!): 199/116  1525 heart rate(!): 104  1525 resp(!): 26  1525 6l nc  spo2: 93 %  1545 discussed case with dr. (pulmonology), agrees with current work-up and treatments.  he will be having his colleague come evaluate the patient.  recommends id consult for consideration of tocilizumab, remdesivir, convalescent plasma.  recommends hospitalization at this time, requests transfer to another hospital if possible.     1635 discussed with original transplant coordinator, they would be happy to accept the patient for further care. dr. would be accepting physician.   1636 replete  magnesium(!): 1.4  1636 anion gap(!): 12  1636 wbc(!): 3.4  1636 platelet count(!): 107  1636 crp(!): 86.2  1636 ld(!): 316  1642 troponin i: <0.03  1642 procalcitonin: 0.23  1643 b-type natriuretic peptide: 98  1713 covid-19 sars-cov-2 overall result(!!): detected  1714 cta chest pulmonary embolism w contrast   impression:   1. no aortic aneurysm or dissection.   2. no pulmonary embolus.   3. there are multiple small focal infiltrates left lung in the upper, mid and lower lung fields and diffuse interstitial groundglass opacities right lung superimposed on chronic interstitial and fibrotic changes strongly suggest  covid infection.  ct angiogram chest pulmonary embolism with and without contrast  1714 discussed case with dr. (pulmonology, covid19 specialist) at hospital.  this time they would recommend transferring the patient to their facility for ongoing care.  discussed with patient who is amenable to this plan.  when they have a bed available they will call to arrange transport.   2234 patient is still accepted at hospital, accepting physician of (pulmonology) and (transplant medicine). they do not have any isolation beds available at this time, state that a bed will likely not become available until tomorrow afternoon. will request hospitalization with why in the interim. contact number for unavailable. transplant coordinator number: unavailable 2240 received phone call from transfer center, they now have a bed available.  will arrange transport.   ed course user index        diagnosis      final diagnoses: [u07.1, j96.01] acute hypoxemic respiratory failure due to covid-19 (cms/hcc) [z94.2] lung transplant recipient (cms/hcc) [r11.2] non-intractable vomiting with nausea, unspecified vomiting type          disposition     transferred to different hospital        chief complaint      chief complaint patient presents with ? shortness of breath ? nausea          history of present illness     patient is a 69 y.o. man with history of ipf s/p bilateral lung transplant with cabg in 2018, t2dm, hld, htn, copd, osa, who tested positive for covid-19 on wednesday, 4/14/2021, who reports to the ed with shortness of breath.  patient reports that this morning at 10 am he received a dose of monoclonal antibody at the outpatient infusion center.  he states that since then he has been feeling increasingly fatigued, nauseous, and short of breath.  he called his local pulmonologist to requested that he come to the ed for evaluation.  he called ems to transport him, they noted that he was 83% on room air and placed him on 6 l nasal cannula.  patient does not typically require supplemental oxygen at baseline.  ems gave him 4 mg zofran for his nausea which seemed to help for a brief period of time, however he states his nausea is returning.  does endorse some mild epigastric cramping which she states he feels is secondary to the nausea.  denies any chest pain.  endorses fever to 100.7 °f, took tylenol this morning.  he is currently immunosuppressed on chronic prednisone and tacrolimus.  he does also report that he received 2 doses of covid-19 vaccination back in february.      past history      medical history past medical history: diagnosis date ? anxiety   ? coronary artery disease   ? diabetes (cms/hcc)     type ll ? dry cough     occuring for couple weeks ? episode of dizziness     occas noted w/ sob ? good exercise tolerance     able to climb flt of stairs without cp/sob, able to lay flat ? history of transfusion     no reaction ? hypercholesteremia   ? hypertension   ? idiopathic pulmonary fibrosis (cms/hcc) 09/2018   lung transplant with cabg x 2 9/2018 ? impaired exercise tolerance     sob noted w/ 10-15 steps ? interstitial lung disease (cms/hcc)   ? kidney stone   ? lung transplant recipient (cms/hcc) 09/2018 ? sleep apnea     cpap ? snoring         surgical history past surgical history: procedure laterality date ? cardiac surgery   09/2018   cabg x 2 ? colonoscopy     ? cyst removal     ? eye surgery bilateral     ecce with iol ? lung transplant, single left 09/2018 ? pr brnchsc incl fluor gdnce dx w/cell washg spx n/a 8/3/2018   procedure: bronchoscopy;  surgeon: md;  location: or ;  service: cardiothoracic ? pr excision malignant lesion f/e/e/n/l >4.0 cm right 12/22/2020   procedure: excision of right scalp skin cancer;  surgeon: md;  location: or;  service: plastics ? pr split agrft f/s/n/h/f/g/m/d gt 1st 100 cm/</1 % right 12/22/2020   procedure: split thickness skin graft;  surgeon: md;  location: or;  service: plastics ? pr thoracoscopy w/thera wedge resexn initial unilat right 8/3/2018   procedure: thoracoscopy, surgical; with therapeutic wedge resection (eg, mass, nodule), initial unilateral;  surgeon: md;  location: or;  service: cardiothoracic ? wisdom tooth extraction           social history     socioeconomic history ? marital status: married     spouse name: not on file ? number of children: not on file ? years of education: not on file ? highest education level: not on file occupational history ? occupation: police chief     employer:  social needs ? financial resource strain: not on file ? food insecurity     worry: not on file     inability: not on file ? transportation needs     medical: not on file     non-medical: not on file tobacco use ? smoking status: former smoker     quit date: 1992     years since quitting: 29.3 ? smokeless tobacco: never used substance and sexual activity ? alcohol use: not currently ? drug use: no ? sexual activity: defer lifestyle ? physical activity     days per week: not on file     minutes per session: not on file ? stress: not on file relationships ? social connections     talks on phone: not on file     gets together: not on file     attends religious service: not on file     active member of club or organization: not on file     attends meetings of clubs or organizations: not on file     relationship status: not on file ? intimate partner violence     fear of current or ex partner: not on file     emotionally abused: not on file     physically abused: not on file     forced sexual activity: not on file other topics concern ? not on file social history narrative ? not on file             allergies and medications     no known allergies    home medications    acetaminophen (tylenol extra strength oral) take 500 mg by mouth every 6 (six) hours as needed (pain).             alprazolam (xanax) 0.25 mg tablet smartsig:1 tablet(s) by mouth             amlodipine (norvasc) 10 mg tablet take 10 mg by mouth once daily             aspirin 81 mg tablet take 81 mg by mouth every morning               atorvastatin (lipitor) 20 mg tablet take 20 mg by mouth nightly               azathioprine (imuran) 50 mg tablet take 2 tablets (100 mg total) by mouth daily  take 2 tablets in morning daily             bd ultra-fine nano pen needle 32 gauge x 5/32\" needle use to inject insulin 4 times per day, pt will call when he wants refill.             clopidogrel (plavix) 75 mg tablet take 75 mg by mouth every morning               dulaglutide (trulicity) 1.5 mg/0.5 ml pen injector inject 1.5mg once weekly             flash glucose scanning reader (freestyle libre 14 day reader) 1 kit daily             flash glucose sensor (freestyle libre 14 day sensor) apply 2 kits topically every 30 (thirty) days             glipizide (glucotrol) 10 mg tablet take 2 tablets by mouth before breakfast and dinner             humalog kwikpen insulin 100 unit/ml insulin pen take 8 units for breakfast, 11 units before lunch, 7 units before dinner with 2 units at snack plus scale tdd 40 units             jardiance 25 mg tablet tablet take 1 tablet(25 mg) by mouth daily             lancing device/lancets (onetouch delica lanc device misc) use as directed             mag 64 64 mg tablet,delayed release (dr/ec) take by mouth             magnesium oxide 400 mg capsule take 800 mg by mouth 2 (two) times a day.             metformin (glucophage) 1,000 mg tablet take 1 tab am and 1.5 tab pm.             metoprolol tartrate (lopressor) 25 mg tablet 25 mg  take 2 tablets in morning and 1 tablet in evening             nitroglycerin (nitrostat) 0.4 mg sl tablet place 0.4 mg under the tongue every 5 (five) minutes as needed for chest pain.             onetouch delica lancets 30 gauge misc use to test blood sugar 4 times daily.             onetouch verio meter misc use as directed for management of diabetes.             onetouch verio test strips strip 1 strip 4 (four) times a day             pantoprazole (protonix) 40 mg dr tablet take 40 mg by mouth 2 (two) times a day             prednisone (deltasone) 5 mg tablet take 5 mg by mouth daily  take 5 mg daily             sertraline (zoloft) 25 mg tablet take 25 mg by mouth every morning               sildenafil (viagra) 100 mg tablet take 100 mg by mouth as needed. take 1 hour before needed               stool softener 100 mg capsule take 100 mg by mouth 2 (two) times a day             sulfamethoxazole-trimethoprim (bactrim ds) 800-160 mg per tablet take 1 tablet by mouth 2 (two) times a day  take 3 times a week mon/wed/fri             tacrolimus (envarsus xr) 1 mg tablet extended release 24 hr 24 hr tablet take 4 mg daily             tramadol (ultram) 25 mg tablet take 25 mg by mouth every 6 (six) hours as needed.             tresiba flextouch u-100 100 unit/ml (3 ml) insulin pen inject 38 units under the skin nightly             valganciclovir (valcyte) 450 mg tablet take 450 mg by mouth 2 (two) times a day                      review of systems     review of systems  constitutional: positive for chills, diaphoresis, fatigue and fever.  hent: positive for sore throat. negative for congestion.   eyes: negative for visual disturbance.  respiratory: positive for cough and shortness of breath.   cardiovascular: negative for chest pain, palpitations and leg swelling.  gastrointestinal: positive for nausea and vomiting. negative for abdominal pain, constipation and diarrhea.  genitourinary: negative for dysuria.  musculoskeletal: positive for myalgias. negative for arthralgias.  skin: negative for rash.  allergic/immunologic: positive for immunocompromised state. negative for environmental allergies and food allergies.  neurological: positive for weakness (generalized) and light-headedness. negative for dizziness and headaches.           vitals and physical exam     temperature: 37.3 °c (99.1 °f) heart rate: 82 resp: 32 bp: 135/76 spo2: 91 % oxygen therapy: supplemental oxygen   physical exam constitutional:      general: he is in acute distress.     appearance: he is ill-appearing.  hent:     head: normocephalic and atraumatic.     right ear: external ear normal.     left ear: external ear normal.     nose: nose normal.     mouth/throat:     mouth: mucous membranes are dry.     pharynx: oropharynx is clear.  eyes:     extraocular movements: extraocular movements intact.     conjunctiva/sclera: conjunctivae normal.     pupils: pupils are equal, round, and reactive to light.  neck:     musculoskeletal: normal range of motion and neck supple.  cardiovascular:     rate and rhythm: regular rhythm. tachycardia present.     pulses: normal pulses.     heart sounds: normal heart sounds. no murmur. no friction rub. no gallop.   pulmonary:     effort: tachypnea, prolonged expiration and respiratory distress present.     breath sounds: examination of the right-lower field reveals rhonchi and rales. examination of the left-lower field reveals rhonchi and rales. decreased breath sounds, rhonchi and rales present. no wheezing.  abdominal:     general: bowel sounds are normal. there is no distension.     palpations: abdomen is soft. there is no mass.     tenderness: there is abdominal tenderness in the epigastric area. there is no right cva tenderness, left cva tenderness, guarding or rebound.  musculoskeletal: normal range of motion.     right lower leg: no edema.     left lower leg: no edema.  skin:    general: skin is warm and dry.     capillary refill: capillary refill takes less than 2 seconds.     findings: no rash.  neurological:     general: no focal deficit present.     mental status: he is alert and oriented to person, place, and time.  psychiatric:        mood and affect: mood normal.        behavior: behavior normal.             diagnostic studies     labs:  labs reviewed respiratory virus detection panel - abnormal     result value    adenovirus not detected      chlamydophila pneumoniae not detected      covid-19 sars-cov-2 overall result detected (*)     coronavirus not detected      influenza a not detected      influenza b not detected      metapneumovirus not detected      mycoplasma pneumoniae not detected      parainfluenza not detected      enterovirus/rhinovirus not detected      respiratory synctial virus not detected      bordetella pertussis not detected      bordetella parapertussis not detected      narrative:    specimen was tested using the biofire filmarray system.  validation has been performed by unavailable laboratories. this test has been given emergency use authorization by the food and drug administration.    please review the fact sheets and fda authorized labeling available for health care providers and patients using the following website:    http://www.wellspanlabs.org/about-us/services/covid-19-testing/    the dept. of health has been notified of this result.  comprehensive metabolic panel - abnormal   glucose 153 (*)     sodium 137      potassium 4.0      chloride 100      co2 25      anion gap 12 (*)     bun 20      creatinine 1.18      calcium 8.7      total protein 7.1      albumin 4.3      alkaline phosphatase 39      ast 27      alt (sgpt) 15      total bilirubin 0.6      egfr 62.6 (*)   d-dimer, quantitative - abnormal   d-dimer, quant (feu) 0.76 (*)   magnesium - abnormal   magnesium 1.4 (*)   c-reactive protein - abnormal   crp 86.2 (*)   lactate dehydrogenase - abnormal   ld 316 (*)   cbc with auto differential - abnormal   wbc 3.4 (*)     rbc 4.66      hemoglobin 13.6      hematocrit 42.7      mcv 91.6      mch 29.2      mchc 31.9      platelets 107 (*)     mpv 9.7      rdw-sd 55.8 (*)     rdw-cv 16.5      nrbc % 0.0      absolute nrbc by automated count 0.00      immature granulocyte % 0.9      absolute immature granulocytes 0.03      neutrophils absolute 3.16      lymphocytes absolute 0.14 (*)     monocytes absolute 0.08      eosinophils absolute 0.02      basophils absolute 0.01      neutrophils relative 92      lymphocytes relative 4      monocytes relative 2      eosinophils relative 1      basophils relative 0    rbc morphology only (interfaced) - abnormal   anisocytosis moderate (*)     ovalocytes few (*)     increased bands present (*)   lactic acid, plasma - normal   lactate 1.3    aptt - normal   aptt 28.6    protime-inr - normal   protime 11.1      inr 1.0    b-type natriuretic peptide - normal   bnp 98    troponin i - normal   troponin i <0.03    ferritin - normal   ferritin 192.0    procalcitonin series - normal   procalcitonin 0.23    blood culture blood culture mrsa dna pcr legionella antigen, urine extra tubes   narrative:    the following orders were created for panel order extra tubes - stat. procedure                               abnormality         status                    ---------                               -----------         ------                    light blue top - once[3278552789]                           final result              lavender top - once[3278552791]                             final result              green top - once[3278552793]                                final result                please view results for these tests on the individual orders. cbc and differential   narrative:    the following orders were created for panel order cbc and differential - repeat stat. procedure                               abnormality         status                    ---------                               -----------         ------                    cbc auto differential -...  abnormal            final result              rbc morphology only - once  abnormal            final result                please view results for these tests on the individual orders. blood gas, venous   ph, venous 7.37      pco2 venous 43      po2, ven 52.0      hco3, venous 25      o2 sat, ven 87    extra tubes   narrative:    the following orders were created for panel order extra tubes - once. procedure                               abnormality         status                    ---------                               -----------         ------                    lavender top - once                          final result                please view results for these tests on the individual orders. procalcitonin series order two light blue top lavender top green top lavender top     radiological studies:  ct angiogram chest pulmonary embolism with and without contrast final result       ekg: nsr, rate 99, normal intervals and axis, st depressions and t wave inversions in v3 through v6 and leads i, avl, ii, and avf, all of which were present on prior ekg, q waves in inferior leads which were present on prior ekg.  no new concerning st segment deviations or t wave inversions appreciated, no stemi.   md resident 04/16/21 2332    other notes all notes  ed notes rn emergency medicine ? 4/17/2021 , rn emergency medicine ? 4/16/2021 , rn 4/16/2021 rn emergency medicine ? 4/16/2021  rn emergency medicine ? 4/16/2021 , rn 4/16/2021 ...(6 more)   consults  do pulmonology  4/16/2021 md infectious disease ? 4/16/2021   admission 4/17/2021 encounter summary     patient - 69 y.o. male. encounter summary, generated on apr. 26, 2021  encounter details  date type department care team description 04/17/2021 - 04/23/2021 hospital encounter    shortness of breath',\n",
              "       'none as of now',\n",
              "       '5/30- normal ct chest, abdomen and pelvis with contrast consistent with colitis, and ct angio pulmonary which was normal ldh: 252 unit/l high  triglycerides: 87 mg/dl  procalcitonin: 0.14 ng/ml high troponin was 2.93, d-dimer 2.56, ferritin 262, normal coags with fibrinogen 643, ldh 252, esr 17, crp 14.8, ast 71, alt 53, lipase 16. troponin peaked at 11 on 5/30 co2 whole blood: 23 mmol/l (05/30/21 05:32:00)  wbc: 13.1 k/mcl high (05/30/21 05:27:00)  rbc: 5.57 x10^6/mcl high (05/30/21 05:27:00)  hemoglobin: 15.7 g/dl (05/30/21 05:27:00)  hgb, calc: 17.3 g/dl high (05/30/21 05:32:00)  hematocrit: 48.7 % (05/30/21 05:27:00)  hematocrit poc: 51 % high (05/30/21 05:32:00)  mcv: 87.4 fl (05/30/21 05:27:00)  mch: 28.2 pg (05/30/21 05:27:00)  mchc: 32.2 g/dl (05/30/21 05:27:00)  rdw sd: 42.5 fl (05/30/21 05:27:00)  rdw: 13.2 % (05/30/21 05:27:00)  platelets: 249 k/mcl (05/30/21 05:27:00)  mpv: 9.5 fl (05/30/21 05:27:00)  nucleated rbc auto: 0 /100(wbcs) (05/30/21 05:27:00)  immature granulocytes: 0.3 % (05/30/21 05:27:00)  differential type: auto (05/30/21 05:27:00)  neutrophil % auto: 74.1 % high (05/30/21 05:27:00)  lymphocyte % auto: 15.9 % low (05/30/21 05:27:00)  monocyte % auto: 8.7 % (05/30/21 05:27:00)  eosinophil % auto: 0.8 % (05/30/21 05:27:00)  basophil % auto: 0.2 % (05/30/21 05:27:00)  immature granulocyte, abs: 0.04 k/mcl (05/30/21 05:27:00)  neutrophil, abs: 9.7 k/mcl high (05/30/21 05:27:00)  lymphocyte, abs: 2.1 k/mcl (05/30/21 05:27:00)  monocyte, abs: 1.1 k/mcl high (05/30/21 05:27:00)  eosinophil, abs: 0.1 k/mcl (05/30/21 05:27:00)  basophil, abs: 0 k/mcl (05/30/21 05:27:00)  esr: 17 mm/hr high (05/30/21 05:27:00)  prothrombin time: 14 seconds (05/30/21 05:27:00)  international normalized ratio: 1 (05/30/21 05:27:00)  partial thromboplastin time (aptt): 29 seconds (05/30/21 05:27:00)  fibrinogen level: 643 mg/dl high (05/30/21 05:27:00)  d-dimer, quant. (ug/ml): 2.56 mcg feu/ml high (05/30/21 05:27:00)  sodium level: 139 mmol/l (05/30/21 05:32:00)  potassium level: 4.2 mmol/l (05/30/21 05:32:00)  chloride level: 105 mmol/l (05/30/21 05:32:00)  glucose level: 128 mg/dl high (05/30/21 05:32:00)  bun: 10 mg/dl (05/30/21 05:32:00)  creatinine level: 1.2 mg/dl high (05/30/21 05:32:00)  est gfr (schwartz for dosing): 61.61 ml/min/1.73 m2 (05/30/21 05:32:00)  creatinine gfr: no calculation (05/30/21 05:32:00)  protein total: 7.8 g/dl (05/30/21 05:27:00)  albumin level: 4.2 g/dl (05/30/21 05:27:00)  bilirubin total: 0.4 mg/dl (05/30/21 05:27:00)  bilirubin direct: 0.2 mg/dl (05/30/21 05:27:00)  bilirubin indirect: 0.2 mg/dl (05/30/21 05:27:00)  alk phos: 139 unit/l (05/30/21 05:27:00)  ast: 71 unit/l high (05/30/21 05:27:00)  alt: 53 unit/l high (05/30/21 05:27:00)  ldh: 252 unit/l high (05/30/21 11:27:00)  ferritin level: 262 ng/ml high (05/30/21 05:27:00)  lactic acid, plasma (venous): 1.6 mmol/l (05/30/21 05:27:00)  lipase level: 16 unit/l (05/30/21 05:27:00)  calcium, ionized (whole blood): 1.26 mmol/l (05/30/21 05:32:00)  triglycerides: 87 mg/dl (05/30/21 11:27:00)  troponin-i: 2.77 ng/ml high (05/30/21 05:27:00)  troponin-i: 2.93 ng/ml high (05/30/21 05:27:00)  cmt: troponin i: see comments (05/30/21 05:27:00)  cmt: troponin i: see comments (05/30/21 05:27:00)  bnp: 10 pg/ml (05/30/21 05:27:00)  procalcitonin: 0.14 ng/ml high (05/30/21 11:27:00)  cmt: procalcitonin: see comments (05/30/21 11:27:00)  collect method, ur: clean catch (05/30/21 05:59:00)  color urine: normal (05/30/21 05:59:00)  appear: normal (05/30/21 05:59:00)  specific gravity, urine: >1.029 (05/30/21 05:59:00)  ph urine: 5.5 (05/30/21 05:59:00)  glucose urine: negative (05/30/21 05:59:00)  ua ketones: negative (05/30/21 05:59:00)  nitrite: negative (05/30/21 05:59:00)  hgb urine: small abnormal (05/30/21 05:59:00)  protein urine: trace abnormal (05/30/21 05:59:00)  leuk esterase: negative (05/30/21 05:59:00)  wbc urine: 2 /hpf (05/30/21 05:59:00)  rbc urine: 1 /hpf (05/30/21 05:59:00)  epithelial cells: 0 /hpf (05/30/21 05:59:00)  bacteria urine: negative (05/30/21 05:59:00)  mucus urine: 1+ abnormal (05/30/21 05:59:00)  hyaline cast: negative (05/30/21 05:59:00)  crp (not for cv risk): 14.8 mg/dl high (05/30/21 05:27:00)  cardiac mri on 6/2 1. concern for mis-c 2. left ventricular hypertrophy, mild, with hyperdynamic systolic function. lv ejection fraction was 75%. no resting regional wall motion abnormalities.  3. patchy areas of delayed enhancement are noted in the epicardial aspect of the left ventricular free wall and the left ventricular inferior wall. this is consistent with possible myopericarditis. 4. normal rest perfusion. 5. normal right ventricular size and systolic function. rv ejection fraction was 62%. 6.  mild dilation or ectasia of the left main coronary artery (4.2 - 4.4 mm). left anterior descending, left circumflex and right coronary arteries appear normal. 7. small pericardial effusion.  positive covid -19 igg antibody iv 9.3 positive covid19 igg negative covid-19 igg qualitative cxcl + stool enterovirus positive on entcx collected on 6/3',\n",
              "       'diagnostic results   labs   recent resultsexpand by default recent results (from the past 24 hour(s)) cbc with auto differential   collection time: 05/15/21  8:18 pm result value ref range   wbc 3.8 (l) 4.0 - 11.0 x1000/ul   rbc 4.31 4.20 - 5.40 m/ul   hgb 13.7 12.0 - 16.0 g/dl   hct 39.1 35.0 - 50.0 %   mcv 90.7 80.0 - 100.0 fl   mch 31.7 (h) 27.0 - 31.0 pg   mchc 35.0 32.0 - 36.0 g/dl   rdw 16.5 (h) 11.5 - 14.5 %   platelet count 43 (ll) 130 - 450 k/ul   mpv 7.9 7.4 - 10.4 fl   neutrophils, auto 73.9 (h) 54 - 62 %   lymphocytes, auto 13.8 (l) 25 - 35 %   monocytes, auto 10.7 5.5 - 11.7 %   eosinophils, auto 0.8 0 - 5 %   basophils, auto 0.8 0 - 2.9 %   absolute lymphocytes 0.5 (l) 1.0 - 3.2 k/ul   absolute monocytes 0.4 0.3 - 1.1 k/ul   absolute neutrophils 2.8 1.7 - 7.6 k/ul   absolute eosinophils 0.0 0.0 - 0.5 k/ul   absolute basophils 0.0 0.0 - 0.1 k/ul basic metabolic panel   collection time: 05/15/21  8:18 pm result value ref range   glucose 139 (h) 70 - 99 mg/dl   urea nitrogen (bun) 15 8 - 23 mg/dl   creatinine 0.9 0.5 - 0.9 mg/dl   calcium (ca) 9.3 8.8 - 10.2 mg/dl   sodium (na) 136 136 - 145 mmol/l   potassium (k) 3.4 3.4 - 5.1 mmol/l   chloride (cl) 99 98 - 107 mmol/l   carbon dioxide (co2) 25 22 - 29 mmol/l   egfr mdrd (non-african american) >59 >59 ml/min/1.73m2   egfr mdrd (african american) >59 >59 ml/min/1.73m2   anion gap 12 (h) 3 - 11 meq/l ed belly panel   collection time: 05/15/21  8:18 pm result value ref range   ast (sgot) 36 (h) 0 - 32 u/l   alt (sgpt) 21 10 - 35 u/l   alp 137 (h) 35 - 105 u/l   lipase 26 13 - 60 u/l   bilirubin, total 1.0 0.0 - 1.2 mg/dl procalcitonin   collection time: 05/15/21  8:18 pm result value ref range   procalcitonin 0.13 0.00 - 0.50 ng/ml   procalcitonin note see comment note lactic acid   collection time: 05/15/21  8:18 pm result value ref range   lactic acid 1.2 0.5 - 2.2 mmol/l blood culture   collection time: 05/15/21  8:18 pm   specimen: blood, venous result value ref range   specimen source blood rt ac       special requests none     culture pending     report status pending   manual differential   collection time: 05/15/21  8:18 pm result value ref range   bands 9 (h) 0 - 5 %   segmented neutrophils 68 (h) 54 - 62 %   eosinophils 2 0 - 5 %   lymphocytes 12 (l) 25 - 35 %   monocytes 9 5.5 - 11.7 %   platelets, estimated marked decrease     anisocytosis 1+   respiratory panel by pcr   collection time: 05/15/21 11:28 pm result value ref range   resp spec source nasopharyngeal swab     resp panel results no organisms detected     resp panel comment see comment     imaging   ? chest 1 view portable, 5/15/2021 no acute cardiopulmonary process.',\n",
              "       'test date: 2021; test name: covid-19; test result: positive'],\n",
              "      dtype='object')"
            ]
          },
          "metadata": {
            "tags": []
          },
          "execution_count": 46
        }
      ]
    },
    {
      "cell_type": "code",
      "metadata": {
        "colab": {
          "base_uri": "https://localhost:8080/"
        },
        "id": "Nc6unSlIzZJ4",
        "outputId": "a6b35dca-5561-4cff-9d7f-6b483c4cb891"
      },
      "source": [
        "# Lugar donde se puso la vacuna\n",
        "dataset_covid.V_ADMINBY.dropna().str.upper().value_counts(ascending = True)"
      ],
      "execution_count": null,
      "outputs": [
        {
          "output_type": "execute_result",
          "data": {
            "text/plain": [
              "MIL      8834\n",
              "SEN     10884\n",
              "SCH     11336\n",
              "WRK     24509\n",
              "PUB     70927\n",
              "UNK    100865\n",
              "PHM    102373\n",
              "OTH    102622\n",
              "PVT    158891\n",
              "Name: V_ADMINBY, dtype: int64"
            ]
          },
          "metadata": {
            "tags": []
          },
          "execution_count": 185
        }
      ]
    },
    {
      "cell_type": "code",
      "metadata": {
        "colab": {
          "base_uri": "https://localhost:8080/"
        },
        "id": "HjuXZj1a4Hgs",
        "outputId": "aafb968a-7183-4cc4-8199-03512fca54ec"
      },
      "source": [
        "# Financiamiento para la vacuna\n",
        "dataset_covid.V_FUNDBY.dropna().str.upper().value_counts(ascending = True)"
      ],
      "execution_count": null,
      "outputs": [
        {
          "output_type": "execute_result",
          "data": {
            "text/plain": [
              "PVT     19\n",
              "PUB     53\n",
              "UNK     82\n",
              "OTH    211\n",
              "Name: V_FUNDBY, dtype: int64"
            ]
          },
          "metadata": {
            "tags": []
          },
          "execution_count": 186
        }
      ]
    },
    {
      "cell_type": "code",
      "metadata": {
        "colab": {
          "base_uri": "https://localhost:8080/"
        },
        "id": "rIXDIR104dna",
        "outputId": "fc6555b8-891c-4eb4-b281-624b1841896e"
      },
      "source": [
        "# Otras medicaciones por historial\n",
        "omeds = ['none', 'unknown', 'no', 'none.', 'n/a','unk', 'na','unk', 'na',\n",
        "            'nothing', 'none listed', 'none reported','no medications',\n",
        "            'unkown', 'no known', 'non', 'not reported', 'none noted', '0',\n",
        "            'no.','not available']\n",
        "removew += omeds\n",
        "\n",
        "dataset_covid['OTHER_MEDS'] = dataset_covid['OTHER_MEDS'].str.lower().replace(removew, np.nan) # incorrect values\n",
        "dataset_covid.OTHER_MEDS.value_counts()"
      ],
      "execution_count": null,
      "outputs": [
        {
          "output_type": "execute_result",
          "data": {
            "text/plain": [
              "levothyroxine                                                                                                                                                                                                                                       1346\n",
              "tylenol                                                                                                                                                                                                                                             1302\n",
              "birth control                                                                                                                                                                                                                                       1262\n",
              "multivitamin                                                                                                                                                                                                                                        1103\n",
              "synthroid                                                                                                                                                                                                                                           1086\n",
              "                                                                                                                                                                                                                                                    ... \n",
              "probiotic [bifidobacterium bifidum;bifidobacterium lactis;bifidobacterium longum;lactobacillus acido; multivitamin [vitamins nos]; colace; lisinopril; stivarga                                                                                        1\n",
              "furosemide 40 mg, montelukast sodium 10 mg ,lovastatin 20 mg ,amlodipine besylate 10 mg, eliquis 5 mg, levothyroxine sodium 50 mcg, spironolactone 25 mg ,proair hfa, albuterol sulfate ,fluoxetine hcl 20 mg, spiriva handihaler 18 mcg, metopr       1\n",
              "magnesium, zinc, and vitamin d- otc vitamins zyrtec- otc allergy medicine                                                                                                                                                                              1\n",
              "prenatal vitamin; claritin                                                                                                                                                                                                                             1\n",
              "levothroxine 125 mcg  valsartan 80mg tamsulosin 0.4 mg gemfibrozil 600 mg bystolic 10 mg asa 81 mg                                                                                                                                                     1\n",
              "Name: OTHER_MEDS, Length: 177659, dtype: int64"
            ]
          },
          "metadata": {
            "tags": []
          },
          "execution_count": 228
        }
      ]
    },
    {
      "cell_type": "code",
      "metadata": {
        "colab": {
          "base_uri": "https://localhost:8080/"
        },
        "id": "3qvLDVTk4p4T",
        "outputId": "4a45e590-75a4-4076-d60f-32cd69262ea6"
      },
      "source": [
        "# Otras medicaciones por historial\n",
        "ill = ['none known', 'no illnesses', 'no acute illness', 'no acute illnesses', \n",
        "       'none known.', 'no known illnesses', 'unknown.', 'denied',\n",
        "       'i did not have any other illnesses.', 'none stated', 'no other illnesses', \n",
        "       'not applicable', 'no other illnesses.','none reported.', '-', 'no e',\n",
        "       'none per patient','none documented', 'zero', 'nonr', 'none disclosed',\n",
        "       'no illnesses at the time of vaccination.', 'none that i am aware of',\n",
        "       'no illnesses.', '?', 'nome', 'non-smoker', 'n/a.', 'nope',\n",
        "       'no known illness', 'nothing acute', 'none indicated',\n",
        "       'no other illnesses at the time of vaccination and up to one month prior.',\n",
        "       'no illness date of vaccination, unknown prior', 'none acute', \n",
        "       'none that i know of', 'unsure','none identified', 'none,', 'nonw', \n",
        "       'none reported by patient', 'no other illness', 'no  other illnesses.']\n",
        "removew += ill\n",
        "\n",
        "dataset_covid['CUR_ILL'] = dataset_covid['CUR_ILL'].str.lower().replace(removew, np.nan) # incorrect values\n",
        "dataset_covid.CUR_ILL.value_counts()"
      ],
      "execution_count": null,
      "outputs": [
        {
          "output_type": "execute_result",
          "data": {
            "text/plain": [
              "seasonal allergies                                                                                                                                          1055\n",
              "asthma                                                                                                                                                       848\n",
              "sinus infection                                                                                                                                              574\n",
              "uti                                                                                                                                                          500\n",
              "hypertension                                                                                                                                                 484\n",
              "                                                                                                                                                            ... \n",
              "i have borderline  nonimmune system controlled lupus, but again i do not take medication to control it.                                                        1\n",
              "had covid19  two weeks previous was instructed by the two health department people that dropped off the vaccine it is recommended  even after two weeks.       1\n",
              "had a minor reaction to first dose                                                                                                                             1\n",
              "denies illness on health history form                                                                                                                          1\n",
              "continuous headache since i had had covid back in february                                                                                                     1\n",
              "Name: CUR_ILL, Length: 37781, dtype: int64"
            ]
          },
          "metadata": {
            "tags": []
          },
          "execution_count": 229
        }
      ]
    },
    {
      "cell_type": "code",
      "metadata": {
        "colab": {
          "base_uri": "https://localhost:8080/"
        },
        "id": "CrmQIVde8vCP",
        "outputId": "8db19886-1990-4362-824f-cd26dcd7c49b"
      },
      "source": [
        "# HISTORIAL MEDICO\n",
        "historial = ['comments: list of non-encoded patient relevant history: patient other relevant history 1: none',\n",
        "             'medical history/concurrent conditions: no adverse event (no reported medical history)',\n",
        "             'medical history/concurrent conditions: no adverse event (no medical history reported)',\n",
        "             'medical history/concurrent conditions: no adverse event (no reported medical history.)',\n",
        "             'medical history/concurrent conditions: no adverse event (no medical history reported.)',\n",
        "             'comments: no medical history was provided by the reporter.','not known', 'comments: unknown'\n",
        "             ]\n",
        "removew += historial\n",
        "\n",
        "dataset_covid['HISTORY'] = dataset_covid['HISTORY'].str.lower().replace(removew, np.nan) # incorrect values\n",
        "dataset_covid.HISTORY.value_counts()"
      ],
      "execution_count": null,
      "outputs": [
        {
          "output_type": "execute_result",
          "data": {
            "text/plain": [
              "asthma                                                        8838\n",
              "high blood pressure                                           3884\n",
              "hypertension                                                  3561\n",
              "hypothyroidism                                                2572\n",
              "diabetes                                                      1962\n",
              "                                                              ... \n",
              "fibromyalgia, behcets, reynauds, cushings                        1\n",
              "migraines, pcos/infertility                                      1\n",
              "allergies and migraines                                          1\n",
              "bundle branch block in heart                                     1\n",
              "htn, non-hodgkin's lymphoma; pancreatitis; prostate cancer       1\n",
              "Name: HISTORY, Length: 113806, dtype: int64"
            ]
          },
          "metadata": {
            "tags": []
          },
          "execution_count": 232
        }
      ]
    },
    {
      "cell_type": "code",
      "metadata": {
        "colab": {
          "base_uri": "https://localhost:8080/"
        },
        "id": "p47PTXsK93b3",
        "outputId": "3add2472-6b33-4974-a12a-1e5a568e18a5"
      },
      "source": [
        "# VACUNAS PREVIAS JAJJAJA\n",
        "dataset_covid['PRIOR_VAX'] = dataset_covid['PRIOR_VAX'].str.lower().replace(removew, np.nan) # incorrect values\n",
        "dataset_covid.PRIOR_VAX.value_counts()"
      ],
      "execution_count": null,
      "outputs": [
        {
          "output_type": "execute_result",
          "data": {
            "text/plain": [
              "flu shot                                                                                                                            388\n",
              "flu vaccine                                                                                                                         354\n",
              "flu                                                                                                                                 236\n",
              "shingles                                                                                                                            221\n",
              "influenza                                                                                                                           155\n",
              "                                                                                                                                   ... \n",
              "one year with flu shot                                                                                                                1\n",
              "anaphalatic shock from both penicillin and sulfa drugs as a child (don't recall age but younger than 7)                               1\n",
              "tdap 8years ago/ swollen area took antibiotics.                                                                                       1\n",
              "i developed a fever of 103 and a large, hard, painful swelling after receiving the pneumonia shot about 5 years ago. it took 3 m      1\n",
              "ringing in ears, body aches,                                                                                                          1\n",
              "Name: PRIOR_VAX, Length: 20604, dtype: int64"
            ]
          },
          "metadata": {
            "tags": []
          },
          "execution_count": 237
        }
      ]
    },
    {
      "cell_type": "code",
      "metadata": {
        "colab": {
          "base_uri": "https://localhost:8080/"
        },
        "id": "sHWnKMhX-PzL",
        "outputId": "ec30e202-6a8a-4571-ed26-37148dce5bdd"
      },
      "source": [
        "# FORMULARIOS DE COLECTA DE DATOS\n",
        "dataset_covid.FORM_VERS.value_counts()"
      ],
      "execution_count": null,
      "outputs": [
        {
          "output_type": "execute_result",
          "data": {
            "text/plain": [
              "2    590876\n",
              "1       365\n",
              "Name: FORM_VERS, dtype: int64"
            ]
          },
          "metadata": {
            "tags": []
          },
          "execution_count": 223
        }
      ]
    },
    {
      "cell_type": "code",
      "metadata": {
        "colab": {
          "base_uri": "https://localhost:8080/"
        },
        "id": "pzK-5Pr5-Xyo",
        "outputId": "e961a979-a884-4e35-8c33-c442ff197ecf"
      },
      "source": [
        "# VACUNAS PREVIAS\n",
        "\n",
        "# nka = not known allergies\n",
        "\n",
        "allergies = ['nka', 'nkda','no allergies', 'no known drug allergies', \n",
        "             'no known allergies.', 'no know allergies', 'no known allergies']\n",
        "removew += allergies\n",
        "\n",
        "dataset_covid['ALLERGIES'] = dataset_covid['ALLERGIES'].str.lower().replace(removew, np.nan) # incorrect values\n",
        "dataset_covid.ALLERGIES.str.lower().value_counts()"
      ],
      "execution_count": null,
      "outputs": [
        {
          "output_type": "execute_result",
          "data": {
            "text/plain": [
              "penicillin                                                                                11651\n",
              "sulfa                                                                                      5765\n",
              "codeine                                                                                    2362\n",
              "amoxicillin                                                                                2266\n",
              "sulfa drugs                                                                                2001\n",
              "                                                                                          ...  \n",
              "aloe, fluoride                                                                                1\n",
              "bananas dust latex                                                                            1\n",
              "mednoclyclene, seaclor                                                                        1\n",
              "penicillin, leviquin, hydrocodone, cipro, phen-fen cinnamon, soy, wheat, melon, citrus        1\n",
              "fish, targocid, aspirin                                                                       1\n",
              "Name: ALLERGIES, Length: 83661, dtype: int64"
            ]
          },
          "metadata": {
            "tags": []
          },
          "execution_count": 242
        }
      ]
    },
    {
      "cell_type": "code",
      "metadata": {
        "colab": {
          "base_uri": "https://localhost:8080/"
        },
        "id": "AkL7dZh8AgBY",
        "outputId": "f293e863-7f1e-4350-a391-07e6ba737b60"
      },
      "source": [
        "# Sintoma 1\n",
        "print(dataset_covid.SYMPTOM1.str.lower().value_counts().head(100).index)\n",
        "print(dataset_covid.SYMPTOMVERSION1.value_counts())"
      ],
      "execution_count": null,
      "outputs": [
        {
          "output_type": "stream",
          "text": [
            "Index(['chills', 'arthralgia', 'dizziness', 'fatigue', 'headache',\n",
            "       'injection site erythema', 'asthenia', 'pyrexia', 'pain', 'erythema',\n",
            "       'covid-19', 'pain in extremity', 'nausea', 'rash',\n",
            "       'injection site pain', 'pruritus', 'dyspnoea', 'chest discomfort',\n",
            "       'anxiety', 'hypoaesthesia', 'back pain', 'chest pain', 'blood test',\n",
            "       'diarrhoea', 'product administered to patient of inappropriate age',\n",
            "       'myalgia', 'abdominal pain upper', 'abdominal pain',\n",
            "       'product storage error', 'lymphadenopathy',\n",
            "       'body temperature increased', 'abdominal discomfort', 'vomiting',\n",
            "       'tinnitus', 'unevaluable event', 'cough', 'urticaria', 'paraesthesia',\n",
            "       'inappropriate schedule of product administration',\n",
            "       'blood pressure increased', 'body temperature', 'condition aggravated',\n",
            "       'herpes zoster', 'syncope', 'no adverse event', 'axillary pain',\n",
            "       'burning sensation', 'death', 'injection site pruritus',\n",
            "       'feeling abnormal', 'interchange of vaccine products', 'hyperhidrosis',\n",
            "       'injection site rash', 'bell's palsy', 'malaise', 'ageusia',\n",
            "       'incorrect dose administered', 'peripheral swelling',\n",
            "       'injection site swelling', 'feeling hot',\n",
            "       'poor quality product administered', 'tremor', 'loss of consciousness',\n",
            "       'heart rate increased', 'decreased appetite', 'palpitations',\n",
            "       'expired product administered', 'balance disorder', 'flushing',\n",
            "       'dysgeusia', 'anaphylactic reaction', 'fall', 'dysphagia', 'cold sweat',\n",
            "       'contusion', 'injection site warmth', 'rash erythematous',\n",
            "       'blood test normal', 'confusional state', 'neck pain',\n",
            "       'extra dose administered', 'electrocardiogram', 'blister',\n",
            "       'sars-cov-2 test positive', 'mobility decreased', 'oropharyngeal pain',\n",
            "       'computerised tomogram', 'migraine', 'influenza like illness',\n",
            "       'lip swelling', 'paraesthesia oral', 'cerebrovascular accident',\n",
            "       'sleep disorder', 'injection site reaction', 'swelling',\n",
            "       'sars-cov-2 test negative', 'vertigo', 'sars-cov-2 test',\n",
            "       'atrial fibrillation', 'lymph node pain'],\n",
            "      dtype='object')\n",
            "24.0    518988\n",
            "23.1     72253\n",
            "Name: SYMPTOMVERSION1, dtype: int64\n"
          ],
          "name": "stdout"
        }
      ]
    },
    {
      "cell_type": "code",
      "metadata": {
        "colab": {
          "base_uri": "https://localhost:8080/"
        },
        "id": "arSLj5LOA1T2",
        "outputId": "6de7ab5b-24d6-4106-e2d9-1f26dbd7b222"
      },
      "source": [
        "# Sintoma 2\n",
        "print(dataset_covid.SYMPTOM2.str.lower().value_counts().head(100).index)\n",
        "print(dataset_covid.SYMPTOMVERSION2.value_counts())"
      ],
      "execution_count": null,
      "outputs": [
        {
          "output_type": "stream",
          "text": [
            "Index(['headache', 'fatigue', 'chills', 'dizziness', 'pain', 'pyrexia',\n",
            "       'nausea', 'pain in extremity', 'injection site pain', 'dyspnoea',\n",
            "       'injection site pruritus', 'rash', 'pruritus', 'myalgia', 'diarrhoea',\n",
            "       'injection site erythema', 'hyperhidrosis', 'chest pain', 'vomiting',\n",
            "       'paraesthesia', 'injection site swelling', 'asthenia',\n",
            "       'lymphadenopathy', 'feeling abnormal', 'cough', 'hypoaesthesia',\n",
            "       'sars-cov-2 test positive', 'erythema', 'urticaria', 'blood test',\n",
            "       'back pain', 'peripheral swelling', 'malaise', 'decreased appetite',\n",
            "       'injection site rash', 'syncope', 'chest discomfort', 'feeling hot',\n",
            "       'rash erythematous', 'injection site induration', 'arthralgia',\n",
            "       'flushing', 'sars-cov-2 test', 'heart rate increased', 'tinnitus',\n",
            "       'condition aggravated', 'no adverse event', 'loss of consciousness',\n",
            "       'palpitations', 'tremor',\n",
            "       'product administered to patient of inappropriate age', 'rash pruritic',\n",
            "       'electrocardiogram', 'computerised tomogram', 'product storage error',\n",
            "       'fall', 'injection site warmth', 'body temperature increased',\n",
            "       'feeling cold', 'neck pain', 'mobility decreased', 'swelling',\n",
            "       'oropharyngeal pain', 'influenza like illness', 'migraine',\n",
            "       'paraesthesia oral', 'death', 'sars-cov-2 test negative',\n",
            "       'drug ineffective', 'chest x-ray', 'anosmia', 'vertigo',\n",
            "       'sleep disorder', 'throat tightness', 'covid-19', 'muscle spasms',\n",
            "       'swelling face', 'immediate post-injection reaction',\n",
            "       'gait disturbance', 'skin warm', 'throat irritation',\n",
            "       'confusional state', 'dysphagia', 'lethargy', 'hypoaesthesia oral',\n",
            "       'burning sensation', 'muscular weakness', 'hypertension',\n",
            "       'body temperature', 'injection site reaction',\n",
            "       'musculoskeletal stiffness', 'insomnia', 'cold sweat', 'lip swelling',\n",
            "       'vaccination site pain', 'blood pressure increased', 'full blood count',\n",
            "       'impaired work ability', 'laboratory test', 'herpes zoster'],\n",
            "      dtype='object')\n",
            "24.0    413623\n",
            "23.1     56692\n",
            "Name: SYMPTOMVERSION2, dtype: int64\n"
          ],
          "name": "stdout"
        }
      ]
    },
    {
      "cell_type": "code",
      "metadata": {
        "colab": {
          "base_uri": "https://localhost:8080/"
        },
        "id": "FUHrxNuhA8Rk",
        "outputId": "45497a48-4b3e-4b92-d931-14e38f8d07ff"
      },
      "source": [
        "# Sintoma 3\n",
        "print(dataset_covid.SYMPTOM3.str.lower().value_counts().head(100).index)\n",
        "print(dataset_covid.SYMPTOMVERSION3.value_counts())"
      ],
      "execution_count": null,
      "outputs": [
        {
          "output_type": "stream",
          "text": [
            "Index(['headache', 'fatigue', 'pain', 'pyrexia', 'nausea', 'pain in extremity',\n",
            "       'dizziness', 'injection site pain', 'myalgia',\n",
            "       'injection site swelling', 'chills', 'dyspnoea', 'pruritus', 'rash',\n",
            "       'injection site pruritus', 'hyperhidrosis', 'vomiting', 'paraesthesia',\n",
            "       'feeling abnormal', 'diarrhoea', 'injection site warmth', 'urticaria',\n",
            "       'malaise', 'lymphadenopathy', 'hypoaesthesia', 'peripheral swelling',\n",
            "       'injection site rash', 'injection site erythema', 'chest pain',\n",
            "       'syncope', 'heart rate increased', 'sars-cov-2 test', 'cough',\n",
            "       'palpitations', 'tremor', 'skin warm', 'loss of consciousness',\n",
            "       'rash pruritic', 'swelling', 'feeling hot', 'rash erythematous',\n",
            "       'decreased appetite', 'electrocardiogram', 'neck pain', 'erythema',\n",
            "       'sars-cov-2 test positive', 'flushing', 'oropharyngeal pain',\n",
            "       'tinnitus', 'influenza like illness', 'mobility decreased', 'migraine',\n",
            "       'computerised tomogram', 'sars-cov-2 test negative', 'sleep disorder',\n",
            "       'lethargy', 'feeling cold', 'pallor', 'throat tightness',\n",
            "       'chest discomfort', 'condition aggravated', 'muscle spasms',\n",
            "       'swelling face', 'paraesthesia oral', 'vertigo', 'blood test',\n",
            "       'musculoskeletal stiffness', 'vision blurred', 'gait disturbance',\n",
            "       'muscular weakness', 'hypertension', 'insomnia', 'laboratory test',\n",
            "       'vaccination site pain', 'impaired work ability', 'full blood count',\n",
            "       'throat irritation', 'immediate post-injection reaction', 'fall',\n",
            "       'injection site reaction', 'chest x-ray', 'tachycardia', 'somnolence',\n",
            "       'electrocardiogram normal', 'swollen tongue', 'back pain',\n",
            "       'rash macular', 'metabolic function test', 'tenderness',\n",
            "       'hypoaesthesia oral', 'pharyngeal swelling', 'covid-19',\n",
            "       'magnetic resonance imaging', 'lip swelling', 'confusional state',\n",
            "       'injection site induration', 'rash papular', 'rhinorrhoea',\n",
            "       'unresponsive to stimuli', 'nasal congestion'],\n",
            "      dtype='object')\n",
            "24.0    323743\n",
            "23.1     44195\n",
            "Name: SYMPTOMVERSION3, dtype: int64\n"
          ],
          "name": "stdout"
        }
      ]
    },
    {
      "cell_type": "code",
      "metadata": {
        "colab": {
          "base_uri": "https://localhost:8080/"
        },
        "id": "GrLRrw2UBDBF",
        "outputId": "9fcd03f7-a071-4f61-eae8-bd21d332c408"
      },
      "source": [
        "# Sintoma 4\n",
        "print(dataset_covid.SYMPTOM4.str.lower().value_counts().head(100).index)\n",
        "print(dataset_covid.SYMPTOMVERSION4.value_counts())"
      ],
      "execution_count": null,
      "outputs": [
        {
          "output_type": "stream",
          "text": [
            "Index(['pyrexia', 'headache', 'pain', 'nausea', 'fatigue', 'pain in extremity',\n",
            "       'myalgia', 'injection site pain', 'injection site swelling', 'vomiting',\n",
            "       'dizziness', 'injection site warmth', 'dyspnoea', 'rash', 'pruritus',\n",
            "       'hyperhidrosis', 'paraesthesia', 'malaise', 'urticaria',\n",
            "       'feeling abnormal', 'injection site pruritus', 'lymphadenopathy',\n",
            "       'chills', 'tremor', 'peripheral swelling', 'hypoaesthesia', 'syncope',\n",
            "       'skin warm', 'swelling', 'palpitations', 'heart rate increased',\n",
            "       'diarrhoea', 'neck pain', 'injection site erythema',\n",
            "       'electrocardiogram', 'oropharyngeal pain', 'injection site rash',\n",
            "       'loss of consciousness', 'rash erythematous', 'sleep disorder',\n",
            "       'rash pruritic', 'sars-cov-2 test', 'sars-cov-2 test positive',\n",
            "       'sars-cov-2 test negative', 'mobility decreased', 'feeling hot',\n",
            "       'chest pain', 'influenza like illness', 'tinnitus', 'migraine',\n",
            "       'pallor', 'cough', 'lethargy', 'swelling face', 'muscle spasms',\n",
            "       'throat tightness', 'vertigo', 'insomnia', 'vision blurred',\n",
            "       'decreased appetite', 'muscular weakness', 'flushing',\n",
            "       'impaired work ability', 'gait disturbance',\n",
            "       'musculoskeletal stiffness', 'feeling cold', 'paraesthesia oral',\n",
            "       'laboratory test', 'somnolence', 'throat irritation', 'hypertension',\n",
            "       'full blood count', 'metabolic function test', 'vaccination site pain',\n",
            "       'tachycardia', 'electrocardiogram normal', 'rhinorrhoea', 'erythema',\n",
            "       'tenderness', 'computerised tomogram', 'magnetic resonance imaging',\n",
            "       'unresponsive to stimuli', 'swollen tongue',\n",
            "       'immediate post-injection reaction',\n",
            "       'loss of personal independence in daily activities', 'nasal congestion',\n",
            "       'condition aggravated', 'rash macular', 'pharyngeal swelling',\n",
            "       'seizure', 'echocardiogram', 'limb discomfort', 'hot flush', 'fall',\n",
            "       'injection site reaction', 'rash papular', 'visual impairment',\n",
            "       'ultrasound scan', 'x-ray', 'hypotension'],\n",
            "      dtype='object')\n",
            "24.0    246884\n",
            "23.1     33052\n",
            "Name: SYMPTOMVERSION4, dtype: int64\n"
          ],
          "name": "stdout"
        }
      ]
    },
    {
      "cell_type": "code",
      "metadata": {
        "colab": {
          "base_uri": "https://localhost:8080/"
        },
        "id": "waFodA7zBHE6",
        "outputId": "46465508-56f3-4a0c-b0aa-52cd2fe7373c"
      },
      "source": [
        "# Sintoma 5\n",
        "print(dataset_covid.SYMPTOM5.str.lower().value_counts().head(100).index)\n",
        "print(dataset_covid.SYMPTOMVERSION5.value_counts())"
      ],
      "execution_count": null,
      "outputs": [
        {
          "output_type": "stream",
          "text": [
            "Index(['pyrexia', 'pain', 'nausea', 'headache', 'pain in extremity', 'myalgia',\n",
            "       'fatigue', 'vomiting', 'injection site pain', 'injection site swelling',\n",
            "       'rash', 'injection site warmth', 'pruritus', 'dyspnoea', 'paraesthesia',\n",
            "       'hyperhidrosis', 'malaise', 'urticaria', 'tremor', 'dizziness',\n",
            "       'peripheral swelling', 'feeling abnormal', 'lymphadenopathy', 'syncope',\n",
            "       'palpitations', 'skin warm', 'hypoaesthesia', 'neck pain',\n",
            "       'heart rate increased', 'sars-cov-2 test negative', 'swelling',\n",
            "       'oropharyngeal pain', 'sleep disorder', 'electrocardiogram',\n",
            "       'sars-cov-2 test', 'injection site pruritus', 'loss of consciousness',\n",
            "       'rash erythematous', 'sars-cov-2 test positive', 'tinnitus',\n",
            "       'mobility decreased', 'vision blurred', 'migraine', 'swelling face',\n",
            "       'somnolence', 'vertigo', 'muscle spasms', 'injection site erythema',\n",
            "       'influenza like illness', 'metabolic function test', 'diarrhoea',\n",
            "       'insomnia', 'throat tightness', 'lethargy', 'laboratory test', 'chills',\n",
            "       'muscular weakness', 'rash pruritic', 'full blood count',\n",
            "       'musculoskeletal stiffness', 'pallor', 'impaired work ability',\n",
            "       'tachycardia', 'injection site rash', 'rhinorrhoea',\n",
            "       'vaccination site pain', 'tenderness', 'feeling hot',\n",
            "       'throat irritation', 'paraesthesia oral', 'gait disturbance',\n",
            "       'hypertension', 'cough', 'unresponsive to stimuli',\n",
            "       'magnetic resonance imaging', 'swollen tongue',\n",
            "       'loss of personal independence in daily activities', 'nasal congestion',\n",
            "       'chest pain', 'electrocardiogram normal', 'urine analysis',\n",
            "       'feeling cold', 'decreased appetite', 'flushing', 'x-ray',\n",
            "       'visual impairment', 'echocardiogram', 'pharyngeal swelling',\n",
            "       'ultrasound scan', 'rash macular', 'immediate post-injection reaction',\n",
            "       'seizure', 'wheezing', 'limb discomfort', 'pulmonary embolism',\n",
            "       'night sweats', 'condition aggravated', 'hypotension',\n",
            "       'lymph node pain', 'rash papular'],\n",
            "      dtype='object')\n",
            "24.0    182670\n",
            "23.1     25079\n",
            "Name: SYMPTOMVERSION5, dtype: int64\n"
          ],
          "name": "stdout"
        }
      ]
    },
    {
      "cell_type": "code",
      "metadata": {
        "colab": {
          "base_uri": "https://localhost:8080/"
        },
        "id": "KEkR-aZTBNOP",
        "outputId": "929eed64-c16e-4737-a9c6-ecedf4dbbd91"
      },
      "source": [
        "# Conteo de fabricantes de vacunas para covid19 (VAX_MANU)\n",
        "dataset_covid.VAX_MANU.value_counts()"
      ],
      "execution_count": null,
      "outputs": [
        {
          "output_type": "execute_result",
          "data": {
            "text/plain": [
              "PFIZER\\BIONTECH         263821\n",
              "MODERNA                 262333\n",
              "JANSSEN                  63676\n",
              "UNKNOWN MANUFACTURER      1411\n",
              "Name: VAX_MANU, dtype: int64"
            ]
          },
          "metadata": {
            "tags": []
          },
          "execution_count": 252
        }
      ]
    },
    {
      "cell_type": "code",
      "metadata": {
        "colab": {
          "base_uri": "https://localhost:8080/"
        },
        "id": "DJb1_aDSBZZp",
        "outputId": "e985ddc6-0b55-4b4a-8de4-3da23f138541"
      },
      "source": [
        "# Conteo por series de dosis ... esto esta alarmantes\n",
        "dataset_covid.VAX_DOSE_SERIES.value_counts()"
      ],
      "execution_count": null,
      "outputs": [
        {
          "output_type": "execute_result",
          "data": {
            "text/plain": [
              "1      302627\n",
              "2      190844\n",
              "UNK     93183\n",
              "3         983\n",
              "7+        224\n",
              "5         167\n",
              "4         118\n",
              "6          71\n",
              "Name: VAX_DOSE_SERIES, dtype: int64"
            ]
          },
          "metadata": {
            "tags": []
          },
          "execution_count": 255
        }
      ]
    },
    {
      "cell_type": "code",
      "metadata": {
        "colab": {
          "base_uri": "https://localhost:8080/",
          "height": 498
        },
        "id": "KPW4h2zGBrNZ",
        "outputId": "2fd52895-089c-4973-d007-7c6ed83f3ba9"
      },
      "source": [
        "# review the mistaked values... ESTO ESTA RARO\n",
        "dataset_covid.loc[dataset_covid.VAX_DOSE_SERIES == \"7+\", ].head()"
      ],
      "execution_count": null,
      "outputs": [
        {
          "output_type": "execute_result",
          "data": {
            "text/html": [
              "<div>\n",
              "<style scoped>\n",
              "    .dataframe tbody tr th:only-of-type {\n",
              "        vertical-align: middle;\n",
              "    }\n",
              "\n",
              "    .dataframe tbody tr th {\n",
              "        vertical-align: top;\n",
              "    }\n",
              "\n",
              "    .dataframe thead th {\n",
              "        text-align: right;\n",
              "    }\n",
              "</style>\n",
              "<table border=\"1\" class=\"dataframe\">\n",
              "  <thead>\n",
              "    <tr style=\"text-align: right;\">\n",
              "      <th></th>\n",
              "      <th>RECVDATE</th>\n",
              "      <th>STATE</th>\n",
              "      <th>AGE_YRS</th>\n",
              "      <th>CAGE_YR</th>\n",
              "      <th>CAGE_MO</th>\n",
              "      <th>SEX</th>\n",
              "      <th>SYMPTOM_TEXT</th>\n",
              "      <th>DIED</th>\n",
              "      <th>DATEDIED</th>\n",
              "      <th>L_THREAT</th>\n",
              "      <th>ER_VISIT</th>\n",
              "      <th>HOSPITAL</th>\n",
              "      <th>HOSPDAYS</th>\n",
              "      <th>X_STAY</th>\n",
              "      <th>DISABLE</th>\n",
              "      <th>RECOVD</th>\n",
              "      <th>VAX_DATE</th>\n",
              "      <th>ONSET_DATE</th>\n",
              "      <th>NUMDAYS</th>\n",
              "      <th>LAB_DATA</th>\n",
              "      <th>V_ADMINBY</th>\n",
              "      <th>V_FUNDBY</th>\n",
              "      <th>OTHER_MEDS</th>\n",
              "      <th>CUR_ILL</th>\n",
              "      <th>HISTORY</th>\n",
              "      <th>PRIOR_VAX</th>\n",
              "      <th>FORM_VERS</th>\n",
              "      <th>BIRTH_DEFECT</th>\n",
              "      <th>OFC_VISIT</th>\n",
              "      <th>ER_ED_VISIT</th>\n",
              "      <th>ALLERGIES</th>\n",
              "      <th>SYMPTOM1</th>\n",
              "      <th>SYMPTOMVERSION1</th>\n",
              "      <th>SYMPTOM2</th>\n",
              "      <th>SYMPTOMVERSION2</th>\n",
              "      <th>SYMPTOM3</th>\n",
              "      <th>SYMPTOMVERSION3</th>\n",
              "      <th>SYMPTOM4</th>\n",
              "      <th>SYMPTOMVERSION4</th>\n",
              "      <th>SYMPTOM5</th>\n",
              "      <th>SYMPTOMVERSION5</th>\n",
              "      <th>VAX_TYPE</th>\n",
              "      <th>VAX_MANU</th>\n",
              "      <th>VAX_DOSE_SERIES</th>\n",
              "      <th>VAX_ROUTE</th>\n",
              "      <th>VAX_SITE</th>\n",
              "    </tr>\n",
              "    <tr>\n",
              "      <th>VAERS_ID</th>\n",
              "      <th></th>\n",
              "      <th></th>\n",
              "      <th></th>\n",
              "      <th></th>\n",
              "      <th></th>\n",
              "      <th></th>\n",
              "      <th></th>\n",
              "      <th></th>\n",
              "      <th></th>\n",
              "      <th></th>\n",
              "      <th></th>\n",
              "      <th></th>\n",
              "      <th></th>\n",
              "      <th></th>\n",
              "      <th></th>\n",
              "      <th></th>\n",
              "      <th></th>\n",
              "      <th></th>\n",
              "      <th></th>\n",
              "      <th></th>\n",
              "      <th></th>\n",
              "      <th></th>\n",
              "      <th></th>\n",
              "      <th></th>\n",
              "      <th></th>\n",
              "      <th></th>\n",
              "      <th></th>\n",
              "      <th></th>\n",
              "      <th></th>\n",
              "      <th></th>\n",
              "      <th></th>\n",
              "      <th></th>\n",
              "      <th></th>\n",
              "      <th></th>\n",
              "      <th></th>\n",
              "      <th></th>\n",
              "      <th></th>\n",
              "      <th></th>\n",
              "      <th></th>\n",
              "      <th></th>\n",
              "      <th></th>\n",
              "      <th></th>\n",
              "      <th></th>\n",
              "      <th></th>\n",
              "      <th></th>\n",
              "      <th></th>\n",
              "    </tr>\n",
              "  </thead>\n",
              "  <tbody>\n",
              "    <tr>\n",
              "      <th>918862</th>\n",
              "      <td>2021-01-04</td>\n",
              "      <td>MA</td>\n",
              "      <td>36.0</td>\n",
              "      <td>36.0</td>\n",
              "      <td>NaN</td>\n",
              "      <td>M</td>\n",
              "      <td>4:20 Received Vaccine  4:30: Began with feelin...</td>\n",
              "      <td>NaN</td>\n",
              "      <td>NaT</td>\n",
              "      <td>NaN</td>\n",
              "      <td>NaN</td>\n",
              "      <td>NaN</td>\n",
              "      <td>NaN</td>\n",
              "      <td>NaN</td>\n",
              "      <td>NaN</td>\n",
              "      <td>Y</td>\n",
              "      <td>2020-12-30</td>\n",
              "      <td>2020-12-30</td>\n",
              "      <td>0.0</td>\n",
              "      <td>NaN</td>\n",
              "      <td>PVT</td>\n",
              "      <td>NaN</td>\n",
              "      <td>NaN</td>\n",
              "      <td>NaN</td>\n",
              "      <td>no known chronic illness</td>\n",
              "      <td>NaN</td>\n",
              "      <td>2</td>\n",
              "      <td>NaN</td>\n",
              "      <td>NaN</td>\n",
              "      <td>NaN</td>\n",
              "      <td>NaN</td>\n",
              "      <td>Dizziness</td>\n",
              "      <td>23.1</td>\n",
              "      <td>Erythema</td>\n",
              "      <td>23.1</td>\n",
              "      <td>Flushing</td>\n",
              "      <td>23.1</td>\n",
              "      <td>Hot flush</td>\n",
              "      <td>23.1</td>\n",
              "      <td>Sensory disturbance</td>\n",
              "      <td>23.1</td>\n",
              "      <td>COVID19</td>\n",
              "      <td>MODERNA</td>\n",
              "      <td>7+</td>\n",
              "      <td>IM</td>\n",
              "      <td>LA</td>\n",
              "    </tr>\n",
              "    <tr>\n",
              "      <th>919339</th>\n",
              "      <td>2021-01-04</td>\n",
              "      <td>ND</td>\n",
              "      <td>66.0</td>\n",
              "      <td>66.0</td>\n",
              "      <td>NaN</td>\n",
              "      <td>F</td>\n",
              "      <td>The injection was given too high and infiltrat...</td>\n",
              "      <td>NaN</td>\n",
              "      <td>NaT</td>\n",
              "      <td>NaN</td>\n",
              "      <td>NaN</td>\n",
              "      <td>NaN</td>\n",
              "      <td>NaN</td>\n",
              "      <td>NaN</td>\n",
              "      <td>NaN</td>\n",
              "      <td>Y</td>\n",
              "      <td>2020-12-31</td>\n",
              "      <td>2021-01-01</td>\n",
              "      <td>1.0</td>\n",
              "      <td>NaN</td>\n",
              "      <td>PVT</td>\n",
              "      <td>NaN</td>\n",
              "      <td>NaN</td>\n",
              "      <td>NaN</td>\n",
              "      <td>rheumatoid arthritis</td>\n",
              "      <td>NaN</td>\n",
              "      <td>2</td>\n",
              "      <td>NaN</td>\n",
              "      <td>NaN</td>\n",
              "      <td>NaN</td>\n",
              "      <td>sulfa drugs</td>\n",
              "      <td>Arthralgia</td>\n",
              "      <td>23.1</td>\n",
              "      <td>Wrong technique in product usage process</td>\n",
              "      <td>23.1</td>\n",
              "      <td>NaN</td>\n",
              "      <td>NaN</td>\n",
              "      <td>NaN</td>\n",
              "      <td>NaN</td>\n",
              "      <td>NaN</td>\n",
              "      <td>NaN</td>\n",
              "      <td>COVID19</td>\n",
              "      <td>MODERNA</td>\n",
              "      <td>7+</td>\n",
              "      <td>IM</td>\n",
              "      <td>RA</td>\n",
              "    </tr>\n",
              "    <tr>\n",
              "      <th>921509</th>\n",
              "      <td>2021-01-05</td>\n",
              "      <td>NE</td>\n",
              "      <td>43.0</td>\n",
              "      <td>43.0</td>\n",
              "      <td>NaN</td>\n",
              "      <td>F</td>\n",
              "      <td>Redness and swelling about 2 inches around sit...</td>\n",
              "      <td>NaN</td>\n",
              "      <td>NaT</td>\n",
              "      <td>NaN</td>\n",
              "      <td>NaN</td>\n",
              "      <td>NaN</td>\n",
              "      <td>NaN</td>\n",
              "      <td>NaN</td>\n",
              "      <td>NaN</td>\n",
              "      <td>N</td>\n",
              "      <td>2020-12-28</td>\n",
              "      <td>2020-12-29</td>\n",
              "      <td>1.0</td>\n",
              "      <td>NaN</td>\n",
              "      <td>PVT</td>\n",
              "      <td>NaN</td>\n",
              "      <td>metoprolol 25mg po daily, omeprazole 20mg po d...</td>\n",
              "      <td>NaN</td>\n",
              "      <td>NaN</td>\n",
              "      <td>NaN</td>\n",
              "      <td>2</td>\n",
              "      <td>NaN</td>\n",
              "      <td>Y</td>\n",
              "      <td>NaN</td>\n",
              "      <td>NaN</td>\n",
              "      <td>Injection site erythema</td>\n",
              "      <td>23.1</td>\n",
              "      <td>Injection site swelling</td>\n",
              "      <td>23.1</td>\n",
              "      <td>NaN</td>\n",
              "      <td>NaN</td>\n",
              "      <td>NaN</td>\n",
              "      <td>NaN</td>\n",
              "      <td>NaN</td>\n",
              "      <td>NaN</td>\n",
              "      <td>COVID19</td>\n",
              "      <td>MODERNA</td>\n",
              "      <td>7+</td>\n",
              "      <td>IM</td>\n",
              "      <td>RA</td>\n",
              "    </tr>\n",
              "    <tr>\n",
              "      <th>921996</th>\n",
              "      <td>2021-01-05</td>\n",
              "      <td>TX</td>\n",
              "      <td>38.0</td>\n",
              "      <td>38.0</td>\n",
              "      <td>NaN</td>\n",
              "      <td>F</td>\n",
              "      <td>- This is client's 1st dose, client is a recep...</td>\n",
              "      <td>NaN</td>\n",
              "      <td>NaT</td>\n",
              "      <td>NaN</td>\n",
              "      <td>NaN</td>\n",
              "      <td>NaN</td>\n",
              "      <td>NaN</td>\n",
              "      <td>NaN</td>\n",
              "      <td>NaN</td>\n",
              "      <td>N</td>\n",
              "      <td>2020-12-28</td>\n",
              "      <td>2020-12-28</td>\n",
              "      <td>0.0</td>\n",
              "      <td>NaN</td>\n",
              "      <td>PUB</td>\n",
              "      <td>NaN</td>\n",
              "      <td>flanax (acetaminophen)</td>\n",
              "      <td>NaN</td>\n",
              "      <td>NaN</td>\n",
              "      <td>NaN</td>\n",
              "      <td>2</td>\n",
              "      <td>NaN</td>\n",
              "      <td>Y</td>\n",
              "      <td>NaN</td>\n",
              "      <td>NaN</td>\n",
              "      <td>Contusion</td>\n",
              "      <td>23.1</td>\n",
              "      <td>Headache</td>\n",
              "      <td>23.1</td>\n",
              "      <td>Injection site abscess</td>\n",
              "      <td>23.1</td>\n",
              "      <td>Injection site erythema</td>\n",
              "      <td>23.1</td>\n",
              "      <td>Injection site pain</td>\n",
              "      <td>23.1</td>\n",
              "      <td>COVID19</td>\n",
              "      <td>MODERNA</td>\n",
              "      <td>7+</td>\n",
              "      <td>IM</td>\n",
              "      <td>LA</td>\n",
              "    </tr>\n",
              "    <tr>\n",
              "      <th>921996</th>\n",
              "      <td>2021-01-05</td>\n",
              "      <td>TX</td>\n",
              "      <td>38.0</td>\n",
              "      <td>38.0</td>\n",
              "      <td>NaN</td>\n",
              "      <td>F</td>\n",
              "      <td>- This is client's 1st dose, client is a recep...</td>\n",
              "      <td>NaN</td>\n",
              "      <td>NaT</td>\n",
              "      <td>NaN</td>\n",
              "      <td>NaN</td>\n",
              "      <td>NaN</td>\n",
              "      <td>NaN</td>\n",
              "      <td>NaN</td>\n",
              "      <td>NaN</td>\n",
              "      <td>N</td>\n",
              "      <td>2020-12-28</td>\n",
              "      <td>2020-12-28</td>\n",
              "      <td>0.0</td>\n",
              "      <td>NaN</td>\n",
              "      <td>PUB</td>\n",
              "      <td>NaN</td>\n",
              "      <td>flanax (acetaminophen)</td>\n",
              "      <td>NaN</td>\n",
              "      <td>NaN</td>\n",
              "      <td>NaN</td>\n",
              "      <td>2</td>\n",
              "      <td>NaN</td>\n",
              "      <td>Y</td>\n",
              "      <td>NaN</td>\n",
              "      <td>NaN</td>\n",
              "      <td>Injection site pruritus</td>\n",
              "      <td>23.1</td>\n",
              "      <td>Injection site swelling</td>\n",
              "      <td>23.1</td>\n",
              "      <td>Injection site warmth</td>\n",
              "      <td>23.1</td>\n",
              "      <td>NaN</td>\n",
              "      <td>NaN</td>\n",
              "      <td>NaN</td>\n",
              "      <td>NaN</td>\n",
              "      <td>COVID19</td>\n",
              "      <td>MODERNA</td>\n",
              "      <td>7+</td>\n",
              "      <td>IM</td>\n",
              "      <td>LA</td>\n",
              "    </tr>\n",
              "  </tbody>\n",
              "</table>\n",
              "</div>"
            ],
            "text/plain": [
              "           RECVDATE STATE  AGE_YRS  ...  VAX_DOSE_SERIES  VAX_ROUTE VAX_SITE\n",
              "VAERS_ID                            ...                                     \n",
              "918862   2021-01-04    MA     36.0  ...               7+         IM       LA\n",
              "919339   2021-01-04    ND     66.0  ...               7+         IM       RA\n",
              "921509   2021-01-05    NE     43.0  ...               7+         IM       RA\n",
              "921996   2021-01-05    TX     38.0  ...               7+         IM       LA\n",
              "921996   2021-01-05    TX     38.0  ...               7+         IM       LA\n",
              "\n",
              "[5 rows x 46 columns]"
            ]
          },
          "metadata": {
            "tags": []
          },
          "execution_count": 259
        }
      ]
    },
    {
      "cell_type": "code",
      "metadata": {
        "colab": {
          "base_uri": "https://localhost:8080/"
        },
        "id": "q3Y8BF_vCGYp",
        "outputId": "77677ad9-e25d-4923-b912-a31b98cb55ad"
      },
      "source": [
        "# ruta de inoculacion de la vacuna .. interesante...\n",
        "dataset_covid.VAX_ROUTE.value_counts()"
      ],
      "execution_count": null,
      "outputs": [
        {
          "output_type": "execute_result",
          "data": {
            "text/plain": [
              "IM     303673\n",
              "SYR    137097\n",
              "OT      17190\n",
              "UN       3548\n",
              "SC       2075\n",
              "ID        367\n",
              "JET       119\n",
              "IN          4\n",
              "PO          3\n",
              "Name: VAX_ROUTE, dtype: int64"
            ]
          },
          "metadata": {
            "tags": []
          },
          "execution_count": 260
        }
      ]
    },
    {
      "cell_type": "code",
      "metadata": {
        "colab": {
          "base_uri": "https://localhost:8080/"
        },
        "id": "pgC5YTrFCk9E",
        "outputId": "46d64ecc-9c52-45e8-9edd-7a23bbcccc55"
      },
      "source": [
        "# zona anatomica de ncoulacion de vacuna\n",
        "dataset_covid.VAX_SITE.value_counts()"
      ],
      "execution_count": null,
      "outputs": [
        {
          "output_type": "execute_result",
          "data": {
            "text/plain": [
              "LA    338394\n",
              "RA    115239\n",
              "UN     11224\n",
              "AR     11118\n",
              "OT       409\n",
              "LL       187\n",
              "RL       154\n",
              "GM        11\n",
              "LG         9\n",
              "NS         6\n",
              "MO         5\n",
              "Name: VAX_SITE, dtype: int64"
            ]
          },
          "metadata": {
            "tags": []
          },
          "execution_count": 261
        }
      ]
    },
    {
      "cell_type": "markdown",
      "metadata": {
        "id": "GxqjEfv_gQ-W"
      },
      "source": [
        "**Obs.** Cantidad exhorbitante de reportes de vacunas de Covid19 (casi 98% de los datos)"
      ]
    },
    {
      "cell_type": "markdown",
      "metadata": {
        "id": "-_d1MqDEguNx"
      },
      "source": [
        "**Obs.** Interesante los datos de el frabricante desconocido... por motivos de maleabilidad de los datos los eliminaremos al no ser muy representativo frente a los demas datos (representa solo un 0.16% de datos totales de vacunas para covid19)\n",
        "\n"
      ]
    },
    {
      "cell_type": "code",
      "metadata": {
        "id": "RQga9N_qT66f"
      },
      "source": [
        ""
      ],
      "execution_count": null,
      "outputs": []
    },
    {
      "cell_type": "markdown",
      "metadata": {
        "id": "9jSSS8HcG11q"
      },
      "source": [
        "# NLP en SYMTOMS_TEXT"
      ]
    },
    {
      "cell_type": "code",
      "metadata": {
        "id": "mfHXUuGsLVu_"
      },
      "source": [
        "data = pd.read_csv('2021VAERSData.csv', index_col=0, encoding='latin-1')"
      ],
      "execution_count": null,
      "outputs": []
    },
    {
      "cell_type": "code",
      "metadata": {
        "id": "u-2IEz3nCPF6"
      },
      "source": [
        "sintomas_objetivo = ['vaccine-associated enhanced disease', 'multisystem inflammatory syndrome in children', 'acute respiratory distress syndrome',\n",
        "                     'acute cardiovascular injury', 'microangiopathy', 'heart failure', 'stress cardiomyopathy', 'coronary artery disease arrhythmia',\n",
        "                     'myocarditis', 'Coagulation disorder', 'thromboembolism', 'haemorrhage', 'Acute kidney injury', 'Generalized convulsion', \n",
        "                     'Acute liver injury', 'anosmia','ageusia', 'Chilblain', 'lesion', 'Single organ cutaneous vasculitis', 'Erythema multiforme', \n",
        "                     'Anaphylaxis', 'Acute aseptic arthritis', 'Meningoencephalitis', 'Acute disseminated encephalomyelitis', 'Thrombocytopenia'\n",
        "                     ]\n",
        "sintomas_objetivo = list(map(str.lower,sintomas_objetivo))\n",
        "sintomas_objetivo.sort()"
      ],
      "execution_count": null,
      "outputs": []
    },
    {
      "cell_type": "code",
      "metadata": {
        "id": "nxkl65Hh5QRc"
      },
      "source": [
        "# Trabajando en Text\n",
        "data.SYMPTOM_TEXT.fillna('None',inplace=True) #rellenar nan\n",
        "data.SYMPTOM_TEXT = data.SYMPTOM_TEXT.str.lower() # convertir en minuscula\n",
        "data.SYMPTOM_TEXT = data.SYMPTOM_TEXT.str.replace('[^\\w\\s]',' ') # limpiar signos\n",
        "data.SYMPTOM_TEXT = data.SYMPTOM_TEXT.str.rstrip() # limpiar espacios antes\n",
        "data.SYMPTOM_TEXT = data.SYMPTOM_TEXT.str.lstrip() # limpiar especio despues"
      ],
      "execution_count": null,
      "outputs": []
    },
    {
      "cell_type": "code",
      "metadata": {
        "id": "cuUun1k4ONJj"
      },
      "source": [
        "prueba = data.head(10000)"
      ],
      "execution_count": null,
      "outputs": []
    },
    {
      "cell_type": "code",
      "metadata": {
        "id": "Qb2kKqWJOe90"
      },
      "source": [
        "from fuzzywuzzy import fuzz\n",
        "\n",
        "for i in sintomas_objetivo:\n",
        "  prueba[i] = \"\"\n",
        "  print('Sintoma: ', i)\n",
        "  for j in prueba.SYMPTOM_TEXT:\n",
        "    if fuzz.partial_ratio(i,j) > 80:\n",
        "      print(i,'---',j)\n",
        "      prueba[i,j] = 1\n",
        "    else:\n",
        "      prueba[i] = 0\n",
        "\n",
        "\n",
        "# # Make new columns indicating what will be imputed\n",
        "# for col in cols_with_missing:\n",
        "#     X_train_plus[col + '_was_missing'] = X_train_plus[col].isnull()\n",
        "#     X_valid_plus[col + '_was_missing'] = X_valid_plus[col].isnull()"
      ],
      "execution_count": null,
      "outputs": []
    },
    {
      "cell_type": "code",
      "metadata": {
        "colab": {
          "base_uri": "https://localhost:8080/"
        },
        "id": "zfoMoT212e_S",
        "outputId": "76483bd6-ffd5-4469-d598-9572d43c6667"
      },
      "source": [
        "data.loc[data.SYMPTOM_TEXT.str.contains('hrombocytopenia', na=False)].shape"
      ],
      "execution_count": null,
      "outputs": [
        {
          "output_type": "execute_result",
          "data": {
            "text/plain": [
              "(658, 34)"
            ]
          },
          "metadata": {
            "tags": []
          },
          "execution_count": 61
        }
      ]
    },
    {
      "cell_type": "code",
      "metadata": {
        "id": "W_heNgNLuVOd"
      },
      "source": [
        "symptom.head(100)"
      ],
      "execution_count": null,
      "outputs": []
    },
    {
      "cell_type": "code",
      "metadata": {
        "id": "B8797tZXyUKW"
      },
      "source": [
        "symptom.SYMPTOM1"
      ],
      "execution_count": null,
      "outputs": []
    },
    {
      "cell_type": "code",
      "metadata": {
        "id": "qs31aO-kuVIf"
      },
      "source": [
        "sympotom1.value_counts().head(100)"
      ],
      "execution_count": null,
      "outputs": []
    },
    {
      "cell_type": "code",
      "metadata": {
        "id": "pz_zBA1suUUT"
      },
      "source": [
        "symptom[symptom.SYMPTOM1.str.contains('oagulopathy')]"
      ],
      "execution_count": null,
      "outputs": []
    },
    {
      "cell_type": "markdown",
      "metadata": {
        "id": "j_WxrLR_kXaj"
      },
      "source": [
        "# Notas previas"
      ]
    },
    {
      "cell_type": "markdown",
      "metadata": {
        "id": "S0NSPX1TkXUX"
      },
      "source": [
        "POSIBLES OBJETIVOS DEL TRABAJO DE INVESTIGACION:\n",
        "\n",
        "1. Personalizacion de las vacunas Moderna, Pfizer  y Johnson & Johnson pra reducir efectos adversos en perfiles especificos en pacientes. Este objetivo requeriria de un dataset de control con pacientes que no presentaron reacciones adversas a las vacunas.\n",
        "\n",
        "- Target: tipo de vacuna\n",
        "- Features: Datos de los pacientes (alergias, comorbolidades, edad, sexo, \n",
        "enfermedades cronicas y actuales (historia clinica), vacunas previas, sintomas post aplicacion, hospitalizacion y dias de hospitilizacion, discapacidades...)\n",
        "\n",
        "2. Series de tiempo frente antes y despues de la fecha de vacunacion.\n",
        "\n",
        "3. Predecir el sexo y/o rango de edad basado en los sintomas presetnados post aplicacion de las vacunas A. B.\n",
        "\n",
        "4. Predecir si el paciente requiere hospitalizacion basado en los sintomas que presenta al inocularse la vacuna por clusters (no supervisado).\n",
        "\n",
        "5. Predecir que sintomas puede presentar el paciente en base a su sexo y la vacuna inoculada."
      ]
    },
    {
      "cell_type": "markdown",
      "metadata": {
        "id": "LJoW9ZRyGxb-"
      },
      "source": [
        "## Revisando repeticiones (codigo extra)\n"
      ]
    },
    {
      "cell_type": "code",
      "metadata": {
        "id": "thxZYHGy2fF7"
      },
      "source": [
        "# revision de valores exagerados\n",
        "revision = merged.loc[1215401]\n",
        "\n",
        "for i in revision.columns:\n",
        "  repetidos = list(set(revision[i]))\n",
        "  limpio = [x for x in repetidos if str(x) != 'nan']\n",
        "  if len(limpio) > 2:\n",
        "    print('\\n*****Variable:', i, '*****')\n",
        "    pprint(limpio)"
      ],
      "execution_count": null,
      "outputs": []
    }
  ]
}