{
  "nbformat": 4,
  "nbformat_minor": 0,
  "metadata": {
    "colab": {
      "name": "NPL_vaccines.ipynb",
      "provenance": [],
      "collapsed_sections": [
        "5U6jJMnqHqeM",
        "j_WxrLR_kXaj"
      ],
      "authorship_tag": "ABX9TyOovFHeXzW2+uyMsuGe/hF5",
      "include_colab_link": true
    },
    "kernelspec": {
      "name": "python3",
      "display_name": "Python 3"
    },
    "language_info": {
      "name": "python"
    }
  },
  "cells": [
    {
      "cell_type": "markdown",
      "metadata": {
        "id": "view-in-github",
        "colab_type": "text"
      },
      "source": [
        "<a href=\"https://colab.research.google.com/github/yodavo/IAI_vaccines/blob/main/data_wrangling/NPL_vaccines.ipynb\" target=\"_parent\"><img src=\"https://colab.research.google.com/assets/colab-badge.svg\" alt=\"Open In Colab\"/></a>"
      ]
    },
    {
      "cell_type": "markdown",
      "metadata": {
        "id": "3PnH3MfnIdt2"
      },
      "source": [
        "# **Paquetes**"
      ]
    },
    {
      "cell_type": "code",
      "metadata": {
        "colab": {
          "base_uri": "https://localhost:8080/"
        },
        "id": "o-_wK2SkIIZU",
        "outputId": "14a9f3f6-49a9-4d1d-ef3c-73e38255777f"
      },
      "source": [
        "# Instalar paquetes no disponibles\n",
        "!pip install fuzzywuzzy\n",
        "#!pip install -U dataprep\n",
        "\n",
        "# Para importar la data\n",
        "import os\n",
        "\n",
        "# Importar para manipulacion de datos\n",
        "import numpy as np\n",
        "import pandas as pd\n",
        "import datetime as dt\n",
        "from statistics import *\n",
        "\n",
        "# Importar para Visualizacion \n",
        "import matplotlib.pyplot as plt\n",
        "import missingno as msno\n",
        "import seaborn as sns\n",
        "plt.style.use('seaborn-whitegrid')\n",
        "import warnings # para evitar warnings\n",
        "warnings.filterwarnings('ignore')\n",
        "import textwrap\n",
        "from textwrap import wrap\n",
        "import matplotlib.dates as mdates\n",
        "from matplotlib.dates import DateFormatter\n",
        "\n",
        "# Importar Dependencias\n",
        "%matplotlib inline\n",
        "%load_ext google.colab.data_table"
      ],
      "execution_count": 122,
      "outputs": [
        {
          "output_type": "stream",
          "text": [
            "Requirement already satisfied: fuzzywuzzy in /usr/local/lib/python3.7/dist-packages (0.18.0)\n",
            "The google.colab.data_table extension is already loaded. To reload it, use:\n",
            "  %reload_ext google.colab.data_table\n"
          ],
          "name": "stdout"
        }
      ]
    },
    {
      "cell_type": "markdown",
      "metadata": {
        "id": "MDrVxLPgIsj7"
      },
      "source": [
        "# **Revision de variables**"
      ]
    },
    {
      "cell_type": "code",
      "metadata": {
        "colab": {
          "base_uri": "https://localhost:8080/"
        },
        "id": "_KP0xm5OIayD",
        "outputId": "2388c802-20ec-4414-8f6a-a72f9b3aeaea"
      },
      "source": [
        " from google.colab import drive\n",
        "drive.mount('/content/drive')\n",
        "\n",
        "# Entrando a la carpeta de trabajo\n",
        "%cd '/content/drive/MyDrive/Colab Notebooks/Diplomado-UTEC/Modulo5/dataset'"
      ],
      "execution_count": 123,
      "outputs": [
        {
          "output_type": "stream",
          "text": [
            "Drive already mounted at /content/drive; to attempt to forcibly remount, call drive.mount(\"/content/drive\", force_remount=True).\n",
            "/content/drive/MyDrive/Colab Notebooks/Diplomado-UTEC/Modulo5/dataset\n"
          ],
          "name": "stdout"
        }
      ]
    },
    {
      "cell_type": "code",
      "metadata": {
        "colab": {
          "base_uri": "https://localhost:8080/"
        },
        "id": "q22c6LPEDzVZ",
        "outputId": "7b7097bd-bb4c-4bc4-ca3b-9292bd5926a7"
      },
      "source": [
        "# importar de VAERSData\n",
        "data = pd.read_csv('pfizer_limpio.csv', index_col=0, encoding='latin-1')\n",
        "print(f'VAER Pfizer-Hospitalized Data tiene\\t: {data.shape[0]} observaciones y {data.shape[1]} variables.')"
      ],
      "execution_count": 124,
      "outputs": [
        {
          "output_type": "stream",
          "text": [
            "VAER Pfizer-Hospitalized Data tiene\t: 10434 observaciones y 27 variables.\n"
          ],
          "name": "stdout"
        }
      ]
    },
    {
      "cell_type": "code",
      "metadata": {
        "id": "dXRBYCvQzDo0"
      },
      "source": [
        "# cadenas a extraer texto\n",
        "cadenas = ['HISTORY','SYMPTOM_TEXT', 'LAB_DATA', 'OTHER_MEDS', 'CUR_ILL', 'ALLERGIES', 'PRIOR_VAX']"
      ],
      "execution_count": 125,
      "outputs": []
    },
    {
      "cell_type": "markdown",
      "metadata": {
        "id": "dSaNIYK6_mUE"
      },
      "source": [
        "# Creando columna INFO"
      ]
    },
    {
      "cell_type": "code",
      "metadata": {
        "id": "73gmWxs5xKC2"
      },
      "source": [
        "# Cadenas de fillna\n",
        "data.fillna({x:' ' for x in cadenas}, inplace=True)\n",
        "\n",
        "# creamms una columan con toda la informacion textual\n",
        "data['TEXT'] = data[cadenas].agg(\" \".join, axis=1)\n",
        "\n",
        "# eliminamos columnas que ya no aportan\n",
        "data.drop(columns = cadenas, inplace=True)"
      ],
      "execution_count": 126,
      "outputs": []
    },
    {
      "cell_type": "code",
      "metadata": {
        "id": "L184NKcXN-ym"
      },
      "source": [
        "# preprocesar texto\n",
        "data.TEXT = data.TEXT.str.lower() # convertir en minuscula\n",
        "data.TEXT = data.TEXT.str.replace('[^\\w\\s]',' ') # limpiar signos\n",
        "data.TEXT = data.TEXT.str.rstrip() # limpiar espacios antes\n",
        "data.TEXT = data.TEXT.str.lstrip() # limpiar especio despues"
      ],
      "execution_count": 127,
      "outputs": []
    },
    {
      "cell_type": "markdown",
      "metadata": {
        "id": "lJsiqUKxi12r"
      },
      "source": [
        "# Procesando INFO\n"
      ]
    },
    {
      "cell_type": "code",
      "metadata": {
        "id": "4Zaq16Fi4fVH"
      },
      "source": [
        "# prueba para correr\n",
        "# dataset = data.head(100).copy()\n",
        "dataset = data.copy()"
      ],
      "execution_count": 128,
      "outputs": []
    },
    {
      "cell_type": "code",
      "metadata": {
        "id": "WUe1i2WR5Gnp"
      },
      "source": [
        "aesis = {'myocardic' : ['myocardic','acute myocardial infarction', 'Myocardial infarction', \n",
        "                      'Silent myocardial infarction', 'acute myocardial injury',\n",
        "                      'acute myocardial ischemia'], \n",
        "         'anaphylactic' : ['anaphylactic ', 'Anaphylactic reaction', 'Anaphylactic shock', \n",
        "                         'Anaphylactoid reaction', 'Anaphylactoid shock'], \n",
        "         'coagulopathy' : ['coagulopathy','Acquired amegakaryocytic thrombocytopenia', \n",
        "                         'Amegakaryocytic thrombocytopenia', 'Axillary vein thrombosis', \n",
        "                         'Cavernous sinus thrombosis', 'Cerebral venous thrombosis', \n",
        "                         'Deep vein thrombosis', 'Disseminated intravascular coagulation', \n",
        "                         'Embolism venous', 'Hepatic vein thrombosis',\n",
        "                         'Immune thrombocytopenia', 'Intracranial venous sinus thrombosis',\n",
        "                         'Mesenteric vein thrombosis', 'Portal vein thrombosis', \n",
        "                         'Pulmonary embolism', 'Pulmonary thrombosis', 'Pulmonary venous thrombosis', \n",
        "                         'Severe fever with thrombocytopenia syndrome', 'Subclavian vein thrombosis', \n",
        "                         'Thrombocytopenia', 'Thrombocytopenic purpura', \n",
        "                         'Thrombotic thrombocytopenic purpura', 'Thrombosis', \n",
        "                         'Transverse sinus thrombosis', 'Vena cava embolism', \n",
        "                         'Vena cava thrombosis', 'Venous thrombosis'], \n",
        "         'covid19' : ['COVID-19', 'Asymptomatic COVID-19', 'COVID-19 pneumonia'],\n",
        "         'death' : ['death', 'die'], \n",
        "         'guillian' : ['guillian', 'Guillian-Barre syndrome'], \n",
        "         'miller' : ['miller', 'Miller Fisher syndrome'], \n",
        "         'polyneurapathy' : ['polyneurapathy','Demyelinating polyneuropathy'],\n",
        "         'kawasaki' : ['kawasaki', 'Kawasakis disease'],\n",
        "         'multisystem' : ['multisystem','Multisystem inflammatory syndrome in children',\n",
        "                          \"Multisystem Inflammatory Syndrome in Adults (MIS-A)\", \n",
        "                          \"Atypical mycobacterium pericarditis\", \n",
        "                          \"Autoimmune myocarditis\", \"Autoimmune pericarditis\", \n",
        "                          \"Bacterial pericarditis\"],\n",
        "         'myocarditis' : [\"Coxsackie myocarditis\", \"Coxsackie pericarditis\", \n",
        "                          \"Cytomegalovirus myocarditis\", \"Cytomegalovirus pericarditis\", \n",
        "                          \"Enterovirus myocarditis','Eosinophilic myocarditis\", \n",
        "                          \"Hypersensitivity myocarditis\", \"Immune mediated myocarditis\", \n",
        "                          \"Myocarditis\", \"Myocarditis bacterial\", \"Myocarditis helminthic\", \n",
        "                          \"Myocarditis infectious\", \"Myocarditis meningococcal\", \n",
        "                          \"Myocarditis mycotic\", \"Myocarditis post infection\",\n",
        "                          \"Myocarditis septic\", \"Viral myocarditis\"],\n",
        "         'pericaditis' : [\"Pericarditis\",\"Pericarditis adhesive\", \"Pericarditis constrictive\", \n",
        "                          \"Pericarditis helminthic\", \"Pericarditis infective\", \n",
        "                          \"Pericarditis mycoplasma\", \"Pleuropericarditis\", \n",
        "                          \"Purulent pericarditis\", \"Viral pericarditis\"],\n",
        "         'narcolepsia' : [\"Narcolepsy\", \"Cataplexy\"],\n",
        "         'abortion' : [\"Aborted pregnancy\", \"Abortion complete\",\" Abortion early\", \n",
        "                       \"Abortion incomplete\", \"Abortion late\", \"Abortion missed\", \n",
        "                       \"Abortion spontaneous\", \"Abortion spontaneous complete\", \n",
        "                       \"Abortion spontaneous incomplete\", \"Abortion threatened\", \n",
        "                       \"Congenital anomaly\", \"Drug exposure during pregnancy\", \n",
        "                       \"Exposure during pregnancy\", \"Foetal death Maternal\",\n",
        "                       \"exposure during pregnancy\" ,\"Stillbirth\"],\n",
        "         'epilepsy' : [\"Convulsions  Atonic seizures\", \"Atypical benign partial epilepsy\",\n",
        "                       \"Autonomic seizure\", \"Clonic convulsion\", \"Complex partial seizures\", \n",
        "                       \"Convulsion in childhood\", \"Convulsion\", \"Convulsions local\", \n",
        "                       \"Epilepsy\" \"Epileptic encephalopathy\" \"Febrile convulsion\", \n",
        "                       \"Febrile infection-related epilepsy syndrome\", \n",
        "                       \"Generalised non-convulsive epilepsy\", \"Generalised onset non-motor seizure\", \n",
        "                       \"Generalised tonic-clonic seizure\", \"Grand mal convulsion\", \n",
        "                       \"Idiopathic generalised epilepsy\", \"Myoclonic epilepsy\", \n",
        "                       \"Neonatal seizure\", \"Partial seizures with secondary generalisation\", \n",
        "                       \"Partial seizures\", \"Petit mal epilepsy\", \"Seizure anoxic\", \n",
        "                       \"Seizure cluster\", \"Seizure like phenomena\", \"Seizure\", \n",
        "                       \"Simple partial seizures\", \"Status epilepticus\", \n",
        "                       \"Temporal lobe epilepsy\",\"Tonic clonic movements\", \n",
        "                       \"Tonic convulsion\", \"Tonic posturing\", \"Basal ganglia stroke\", \n",
        "                       \"Brain stem stroke\", \"Cerebellar stroke\", \"Cerebrovascular accident\", \n",
        "                       \"Embolic stroke\",\"Haemorrhagic stroke\", \"Haemorrhagic transformation stroke\", \n",
        "                       \"Ischaemic stroke\", \"Lacunar stroke\", \"Perinatal stroke\", \n",
        "                       \"Spinal stroke\", \"Thrombotic stroke\", \"Vertebrobasilar stroke\", \n",
        "                       \"Transverse myelitis\"],\n",
        "         'adrs' : [\"Acute Respiratory Distress Syndrome\"],\n",
        "         'autoimmuned' : [\"Autoimmune disorders NEC\", \"Blood autoimmune disorders\", \n",
        "                          \"Endocrine autoimmune disorders\", \"Hepatic autoimmune disorders\", \n",
        "                          \"Lupus erythematosus and associated conditions\", \n",
        "                          \"Muscular autoimmune disorders\", \"Nervous system autoimmune disorders\", \n",
        "                          \"Rheumatoid arthritis and associated conditions\", \n",
        "                          \"Scleroderma and associated disorders\", \"Skin autoimmune disorders NEC\"],\n",
        "         'adem' : [\"encephalomyelitis\", \"Acute disseminated encephalomyelitis\", \"Encephalomyelitis\", \n",
        "                   \"Leukoencephalomyelitis\", \"Noninfective encephalomyeliti\"],\n",
        "         'mesclerosis' : [\"Multiple sclerosis\", \"Multiple sclerosis relapse\", \n",
        "                          \"Primary progressive multiple sclerosis\", \"Progressive multiple sclerosis\", \n",
        "                          \"Progressive relapsing multiple sclerosis\", \"Relapsing multiple sclerosis\", \n",
        "                          \"Relapsing-remitting multiple sclerosis\", \n",
        "                          \"Secondary progressive multiple sclerosis\", \"Tumefactive multiple sclerosis\"],\n",
        "         'Oneuritis' : [\"Optic neuritis\", \"neuritis\"],\n",
        "         'CIDP' : [\"Chronic inflammatory demyelinating polyneuropathy\"],\n",
        "         'encephalitis' : [\"Encephalitis\"],\n",
        "         'meningoencephalitis' : [\"Meningoencephalitis viral\"],\n",
        "         'meningitis' : [\"Meningitis\", \"Meningitis aseptic\", \"Meningitis viral\"],\n",
        "         'encephalopathy' : [\"Encephalopathy\", \"Leukoencephalopathy\"],\n",
        "         'ataxia' : [\"Ataxia\", \"Cerebellar ataxia\", \"Cerebral ataxia\"],\n",
        "         'noanaphylactic' : [\"Allergic reaction to excipient\", \"Allergy to vaccine\", \n",
        "                             \"Allergic bronchitis\", \"Allergic colitis\", \"Allergic cough\", \n",
        "                             \"Allergic cystitis\", \"Allergic gastroenteritis\", \n",
        "                             \"Allergic hepatitis\", \"Allergic keratitis\", \n",
        "                             \"Allergic pharyngitis\", \"Allergic reaction to excipient\", \n",
        "                             \"Allergic respiratory disease\", \"Allergic respiratory symptom\", \n",
        "                             \"Allergic sinusitis\", \"Conjunctivitis allergic\",\n",
        "                             \"Dermatitis allergic\", \"Encephalitis allergic\", \n",
        "                             \"Encephalopathy allergic\", \"Laryngitis allergic\", \n",
        "                             \"Nephritis allergic\", \"Pruritus allergic\", \"Rhinitis allergic\"]\n",
        "         }"
      ],
      "execution_count": 145,
      "outputs": []
    },
    {
      "cell_type": "code",
      "metadata": {
        "id": "qJUxeV7w5jXi"
      },
      "source": [
        "# Funcion de cambio para usar el diccionario de eventos aesi con cada observacion del dataframe\n",
        "def aesisDetect(row, aesi):\n",
        "  from fuzzywuzzy import fuzz\n",
        "  sinonimos = aesis[aesi]\n",
        "  contador = 0\n",
        "  for sinonimo in sinonimos:\n",
        "    if fuzz.partial_ratio(row,sinonimo.lower()) > 85 :\n",
        "      #print(f'{sinonimo.lower()} : en : {row}')\n",
        "      contador += 1\n",
        "  return contador"
      ],
      "execution_count": 146,
      "outputs": []
    },
    {
      "cell_type": "code",
      "metadata": {
        "colab": {
          "base_uri": "https://localhost:8080/"
        },
        "id": "Fw57MHSJwmd6",
        "outputId": "f175a1e4-49a3-4938-926a-b6edf59cf594"
      },
      "source": [
        "# Procesamiento de lenguaje natural\n",
        "for aesi in aesis.keys():\n",
        "  dataset[aesi] = dataset.TEXT.apply(lambda x: aesisDetect(x, aesi))\n",
        "\n",
        "# Visualizando los valores\n",
        "for aesi in aesis.keys():\n",
        "  print(dataset[aesi].value_counts())"
      ],
      "execution_count": 147,
      "outputs": [
        {
          "output_type": "stream",
          "text": [
            "0    10203\n",
            "1      201\n",
            "4       14\n",
            "3        7\n",
            "2        7\n",
            "5        2\n",
            "Name: myocardic, dtype: int64\n",
            "0    10411\n",
            "3       12\n",
            "2        8\n",
            "1        3\n",
            "Name: anaphylactic, dtype: int64\n",
            "0    10167\n",
            "1      215\n",
            "2       42\n",
            "3       10\n",
            "Name: coagulopathy, dtype: int64\n",
            "0    7078\n",
            "1    3303\n",
            "2      53\n",
            "Name: covid19, dtype: int64\n",
            "0    10347\n",
            "1       87\n",
            "Name: death, dtype: int64\n",
            "0    10384\n",
            "2       26\n",
            "1       24\n",
            "Name: guillian, dtype: int64\n",
            "0    10433\n",
            "1        1\n",
            "Name: miller, dtype: int64\n",
            "0    10430\n",
            "1        3\n",
            "2        1\n",
            "Name: polyneurapathy, dtype: int64\n",
            "0    10430\n",
            "2        4\n",
            "Name: kawasaki, dtype: int64\n",
            "0    10428\n",
            "3        3\n",
            "1        3\n",
            "Name: multisystem, dtype: int64\n",
            "0     10232\n",
            "1       196\n",
            "2         3\n",
            "14        2\n",
            "3         1\n",
            "Name: myocarditis, dtype: int64\n",
            "0    10360\n",
            "1       71\n",
            "9        3\n",
            "Name: pericaditis, dtype: int64\n",
            "0    10432\n",
            "2        1\n",
            "1        1\n",
            "Name: narcolepsia, dtype: int64\n",
            "0    10428\n",
            "1        5\n",
            "3        1\n",
            "Name: abortion, dtype: int64\n",
            "0     9968\n",
            "1      447\n",
            "2       15\n",
            "12       2\n",
            "13       1\n",
            "4        1\n",
            "Name: epilepsy, dtype: int64\n",
            "0    10433\n",
            "1        1\n",
            "Name: adrs, dtype: int64\n",
            "0    10433\n",
            "1        1\n",
            "Name: autoimmuned, dtype: int64\n",
            "0    10434\n",
            "Name: adem, dtype: int64\n",
            "0    10403\n",
            "1       30\n",
            "2        1\n",
            "Name: mesclerosis, dtype: int64\n",
            "0    10432\n",
            "1        2\n",
            "Name: Oneuritis, dtype: int64\n",
            "0    10432\n",
            "1        2\n",
            "Name: CIDP, dtype: int64\n",
            "0    10426\n",
            "1        8\n",
            "Name: encephalitis, dtype: int64\n",
            "0    10434\n",
            "Name: meningoencephalitis, dtype: int64\n",
            "0    10424\n",
            "1       10\n",
            "Name: meningitis, dtype: int64\n",
            "0    10421\n",
            "1       13\n",
            "Name: encephalopathy, dtype: int64\n",
            "0    10418\n",
            "1       14\n",
            "2        2\n",
            "Name: ataxia, dtype: int64\n",
            "0    10431\n",
            "2        2\n",
            "1        1\n",
            "Name: noanaphylactic, dtype: int64\n"
          ],
          "name": "stdout"
        }
      ]
    },
    {
      "cell_type": "code",
      "metadata": {
        "id": "F-jqI2zS5F9a",
        "colab": {
          "base_uri": "https://localhost:8080/"
        },
        "outputId": "3fa46ef9-c9b9-44d0-e4e4-9628cad5db33"
      },
      "source": [
        "# Reemplazando valores numericos a binario (tipo onehotencoding)\n",
        "for i in list(aesis.keys()):\n",
        "  dataset[i] = np.where(dataset[i] > 0, 1, dataset[i])\n",
        "\n",
        "# Visualizando los valores\n",
        "for aesi in aesis.keys():\n",
        "  print(dataset[aesi].value_counts())"
      ],
      "execution_count": 148,
      "outputs": [
        {
          "output_type": "stream",
          "text": [
            "0    10203\n",
            "1      231\n",
            "Name: myocardic, dtype: int64\n",
            "0    10411\n",
            "1       23\n",
            "Name: anaphylactic, dtype: int64\n",
            "0    10167\n",
            "1      267\n",
            "Name: coagulopathy, dtype: int64\n",
            "0    7078\n",
            "1    3356\n",
            "Name: covid19, dtype: int64\n",
            "0    10347\n",
            "1       87\n",
            "Name: death, dtype: int64\n",
            "0    10384\n",
            "1       50\n",
            "Name: guillian, dtype: int64\n",
            "0    10433\n",
            "1        1\n",
            "Name: miller, dtype: int64\n",
            "0    10430\n",
            "1        4\n",
            "Name: polyneurapathy, dtype: int64\n",
            "0    10430\n",
            "1        4\n",
            "Name: kawasaki, dtype: int64\n",
            "0    10428\n",
            "1        6\n",
            "Name: multisystem, dtype: int64\n",
            "0    10232\n",
            "1      202\n",
            "Name: myocarditis, dtype: int64\n",
            "0    10360\n",
            "1       74\n",
            "Name: pericaditis, dtype: int64\n",
            "0    10432\n",
            "1        2\n",
            "Name: narcolepsia, dtype: int64\n",
            "0    10428\n",
            "1        6\n",
            "Name: abortion, dtype: int64\n",
            "0    9968\n",
            "1     466\n",
            "Name: epilepsy, dtype: int64\n",
            "0    10433\n",
            "1        1\n",
            "Name: adrs, dtype: int64\n",
            "0    10433\n",
            "1        1\n",
            "Name: autoimmuned, dtype: int64\n",
            "0    10434\n",
            "Name: adem, dtype: int64\n",
            "0    10403\n",
            "1       31\n",
            "Name: mesclerosis, dtype: int64\n",
            "0    10432\n",
            "1        2\n",
            "Name: Oneuritis, dtype: int64\n",
            "0    10432\n",
            "1        2\n",
            "Name: CIDP, dtype: int64\n",
            "0    10426\n",
            "1        8\n",
            "Name: encephalitis, dtype: int64\n",
            "0    10434\n",
            "Name: meningoencephalitis, dtype: int64\n",
            "0    10424\n",
            "1       10\n",
            "Name: meningitis, dtype: int64\n",
            "0    10421\n",
            "1       13\n",
            "Name: encephalopathy, dtype: int64\n",
            "0    10418\n",
            "1       16\n",
            "Name: ataxia, dtype: int64\n",
            "0    10431\n",
            "1        3\n",
            "Name: noanaphylactic, dtype: int64\n"
          ],
          "name": "stdout"
        }
      ]
    },
    {
      "cell_type": "code",
      "metadata": {
        "id": "wy3rEibq5Fyn",
        "colab": {
          "base_uri": "https://localhost:8080/"
        },
        "outputId": "d3bb1cd4-bd65-4a0d-afe7-968c014b278f"
      },
      "source": [
        "# creamos una columna con toda la informacion textual\n",
        "dataset['decision'] = dataset[list(aesis.keys())].agg(np.sum, axis=1)\n",
        "\n",
        "# Visualizando los valores\n",
        "dataset.decision.value_counts()"
      ],
      "execution_count": 149,
      "outputs": [
        {
          "output_type": "execute_result",
          "data": {
            "text/plain": [
              "0    6090\n",
              "1    3866\n",
              "2     434\n",
              "3      44\n",
              "Name: decision, dtype: int64"
            ]
          },
          "metadata": {},
          "execution_count": 149
        }
      ]
    },
    {
      "cell_type": "code",
      "metadata": {
        "id": "f31NiXIXiSLL"
      },
      "source": [
        "dataset.to_csv('/content/sample_data/dataset_aesi.csv')"
      ],
      "execution_count": 150,
      "outputs": []
    },
    {
      "cell_type": "code",
      "metadata": {
        "id": "_bk9cXLWSJVP"
      },
      "source": [
        "---"
      ],
      "execution_count": null,
      "outputs": []
    },
    {
      "cell_type": "code",
      "metadata": {
        "colab": {
          "base_uri": "https://localhost:8080/"
        },
        "id": "sz73F6gL-xX4",
        "outputId": "848bcc91-1bbf-4030-984d-2960bc83e6c3"
      },
      "source": [
        "## Ultima revision\n",
        "dataset.loc[dataset['decision'] > 0].shape"
      ],
      "execution_count": 152,
      "outputs": [
        {
          "output_type": "execute_result",
          "data": {
            "text/plain": [
              "(4344, 49)"
            ]
          },
          "metadata": {},
          "execution_count": 152
        }
      ]
    },
    {
      "cell_type": "markdown",
      "metadata": {
        "id": "5U6jJMnqHqeM"
      },
      "source": [
        "# **Otras**"
      ]
    },
    {
      "cell_type": "code",
      "metadata": {
        "id": "u-2IEz3nCPF6"
      },
      "source": [
        "sintomas_objetivo = ['vaccine-associated enhanced disease', 'multisystem inflammatory syndrome in children', 'acute respiratory distress syndrome',\n",
        "                     'acute cardiovascular injury', 'microangiopathy', 'heart failure', 'stress cardiomyopathy', 'coronary artery disease arrhythmia',\n",
        "                     'myocarditis', 'Coagulation disorder', 'thromboembolism', 'haemorrhage', 'Acute kidney injury', 'Generalized convulsion', \n",
        "                     'Acute liver injury', 'anosmia','ageusia', 'Chilblain', 'lesion', 'Single organ cutaneous vasculitis', 'Erythema multiforme', \n",
        "                     'Anaphylaxis', 'Acute aseptic arthritis', 'Meningoencephalitis', 'Acute disseminated encephalomyelitis', 'Thrombocytopenia'\n",
        "                     ]\n",
        "sintomas_objetivo = list(map(str.lower,sintomas_objetivo))\n",
        "sintomas_objetivo.sort()"
      ],
      "execution_count": null,
      "outputs": []
    },
    {
      "cell_type": "markdown",
      "metadata": {
        "id": "j_WxrLR_kXaj"
      },
      "source": [
        "# Notas previas"
      ]
    },
    {
      "cell_type": "markdown",
      "metadata": {
        "id": "S0NSPX1TkXUX"
      },
      "source": [
        "POSIBLES OBJETIVOS DEL TRABAJO DE INVESTIGACION:\n",
        "\n",
        "1. Personalizacion de las vacunas Moderna, Pfizer  y Johnson & Johnson pra reducir efectos adversos en perfiles especificos en pacientes. Este objetivo requeriria de un dataset de control con pacientes que no presentaron reacciones adversas a las vacunas.\n",
        "\n",
        "- Target: tipo de vacuna\n",
        "- Features: Datos de los pacientes (alergias, comorbolidades, edad, sexo, \n",
        "enfermedades cronicas y actuales (historia clinica), vacunas previas, sintomas post aplicacion, hospitalizacion y dias de hospitilizacion, discapacidades...)\n",
        "\n",
        "2. Series de tiempo frente antes y despues de la fecha de vacunacion.\n",
        "\n",
        "3. Predecir el sexo y/o rango de edad basado en los sintomas presetnados post aplicacion de las vacunas A. B.\n",
        "\n",
        "4. Predecir si el paciente requiere hospitalizacion basado en los sintomas que presenta al inocularse la vacuna por clusters (no supervisado).\n",
        "\n",
        "5. Predecir que sintomas puede presentar el paciente en base a su sexo y la vacuna inoculada."
      ]
    }
  ]
}